{
  "nbformat": 4,
  "nbformat_minor": 0,
  "metadata": {
    "colab": {
      "name": "Copy of ldaseq-example.ipynb",
      "provenance": [],
      "collapsed_sections": [],
      "authorship_tag": "ABX9TyN64K7iGfySyU9BIhMjOygH",
      "include_colab_link": true
    },
    "kernelspec": {
      "name": "python3",
      "display_name": "Python 3"
    }
  },
  "cells": [
    {
      "cell_type": "markdown",
      "metadata": {
        "id": "view-in-github",
        "colab_type": "text"
      },
      "source": [
        "<a href=\"https://colab.research.google.com/github/annie-lyu/word-embedding/blob/master/Copy_of_ldaseq_example.ipynb\" target=\"_parent\"><img src=\"https://colab.research.google.com/assets/colab-badge.svg\" alt=\"Open In Colab\"/></a>"
      ]
    },
    {
      "cell_type": "code",
      "metadata": {
        "id": "TKvcJ67COb5A",
        "colab_type": "code",
        "colab": {}
      },
      "source": [
        "from gensim import corpora\n",
        "from gensim.models import ldaseqmodel\n",
        "from gensim.corpora import Dictionary, bleicorpus\n",
        "import numpy\n",
        "from gensim.matutils import hellinger\n",
        "import nltk\n"
      ],
      "execution_count": 1,
      "outputs": []
    },
    {
      "cell_type": "code",
      "metadata": {
        "id": "65nEa0dWOwv1",
        "colab_type": "code",
        "colab": {
          "base_uri": "https://localhost:8080/",
          "height": 139
        },
        "outputId": "6f1d5a82-f77b-4cd8-aea9-e6fd5d29ae88"
      },
      "source": [
        "import glob\n",
        "from google.colab import drive\n",
        "drive.mount('/content/drive')\n",
        "##folder lists\n",
        "ls = !ls \"/content/drive/My Drive/words/sample\"\n",
        "ls = str(ls).strip(\"'[\")\n",
        "ls = ls.strip(\"]'\")\n",
        "entries = ls.split(\"\\\\t\")\n",
        "entries"
      ],
      "execution_count": 2,
      "outputs": [
        {
          "output_type": "stream",
          "text": [
            "Go to this URL in a browser: https://accounts.google.com/o/oauth2/auth?client_id=947318989803-6bn6qk8qdgf4n4g3pfee6491hc0brc4i.apps.googleusercontent.com&redirect_uri=urn%3aietf%3awg%3aoauth%3a2.0%3aoob&response_type=code&scope=email%20https%3a%2f%2fwww.googleapis.com%2fauth%2fdocs.test%20https%3a%2f%2fwww.googleapis.com%2fauth%2fdrive%20https%3a%2f%2fwww.googleapis.com%2fauth%2fdrive.photos.readonly%20https%3a%2f%2fwww.googleapis.com%2fauth%2fpeopleapi.readonly\n",
            "\n",
            "Enter your authorization code:\n",
            "··········\n",
            "Mounted at /content/drive\n"
          ],
          "name": "stdout"
        },
        {
          "output_type": "execute_result",
          "data": {
            "text/plain": [
              "['month1', 'month2', 'month3']"
            ]
          },
          "metadata": {
            "tags": []
          },
          "execution_count": 2
        }
      ]
    },
    {
      "cell_type": "code",
      "metadata": {
        "id": "mVSyq6jyNpzP",
        "colab_type": "code",
        "colab": {
          "base_uri": "https://localhost:8080/",
          "height": 1000
        },
        "outputId": "a7dcff8c-f61b-49ec-ea05-9e4378c91171"
      },
      "source": [
        "## preparation for text preprocessing\n",
        "from nltk.corpus import stopwords\n",
        "nltk.download('stopwords')\n",
        "stop_words = list(set(stopwords.words('english'))) + [\"us\", \"also\", \"said\", \"would\", \"could\", \"mr\", \"get\"]\n",
        "from nltk.stem import PorterStemmer\n",
        "ps = PorterStemmer()\n",
        "stop_words"
      ],
      "execution_count": 4,
      "outputs": [
        {
          "output_type": "stream",
          "text": [
            "[nltk_data] Downloading package stopwords to /root/nltk_data...\n",
            "[nltk_data]   Unzipping corpora/stopwords.zip.\n"
          ],
          "name": "stdout"
        },
        {
          "output_type": "execute_result",
          "data": {
            "text/plain": [
              "['my',\n",
              " 'his',\n",
              " 'again',\n",
              " 'yourself',\n",
              " 'doing',\n",
              " 'myself',\n",
              " 'why',\n",
              " 'we',\n",
              " 'just',\n",
              " 'hasn',\n",
              " 'theirs',\n",
              " 'shan',\n",
              " 'before',\n",
              " \"wasn't\",\n",
              " 'be',\n",
              " 'both',\n",
              " 've',\n",
              " 'no',\n",
              " 'me',\n",
              " 'then',\n",
              " 'aren',\n",
              " 'has',\n",
              " 'up',\n",
              " 'couldn',\n",
              " \"you'd\",\n",
              " 'not',\n",
              " 'ourselves',\n",
              " 'to',\n",
              " \"mustn't\",\n",
              " \"doesn't\",\n",
              " 'wasn',\n",
              " 'some',\n",
              " 'through',\n",
              " \"couldn't\",\n",
              " 'himself',\n",
              " 'it',\n",
              " 'of',\n",
              " 'ain',\n",
              " 'between',\n",
              " 'more',\n",
              " 'm',\n",
              " 'because',\n",
              " 'how',\n",
              " 'what',\n",
              " 'by',\n",
              " 'haven',\n",
              " 'them',\n",
              " \"hadn't\",\n",
              " \"she's\",\n",
              " 'she',\n",
              " 'herself',\n",
              " 'its',\n",
              " \"shan't\",\n",
              " 'once',\n",
              " 'too',\n",
              " 'themselves',\n",
              " 'here',\n",
              " 'i',\n",
              " 'won',\n",
              " \"didn't\",\n",
              " \"you're\",\n",
              " 'your',\n",
              " \"wouldn't\",\n",
              " 'were',\n",
              " 'if',\n",
              " 'or',\n",
              " 'under',\n",
              " \"haven't\",\n",
              " 'o',\n",
              " 'had',\n",
              " 'does',\n",
              " 'above',\n",
              " 'mightn',\n",
              " 'will',\n",
              " \"shouldn't\",\n",
              " 'doesn',\n",
              " 's',\n",
              " 'about',\n",
              " 'further',\n",
              " 'shouldn',\n",
              " 'while',\n",
              " \"that'll\",\n",
              " 'such',\n",
              " \"should've\",\n",
              " 'off',\n",
              " 'weren',\n",
              " 'only',\n",
              " \"needn't\",\n",
              " 're',\n",
              " 'each',\n",
              " 'below',\n",
              " \"it's\",\n",
              " 'own',\n",
              " 'didn',\n",
              " 'which',\n",
              " 'wouldn',\n",
              " 'our',\n",
              " 'was',\n",
              " 'have',\n",
              " 'll',\n",
              " 'should',\n",
              " 'few',\n",
              " 'those',\n",
              " 'against',\n",
              " 'and',\n",
              " 'at',\n",
              " 'him',\n",
              " 'hadn',\n",
              " 'ma',\n",
              " 'after',\n",
              " 'now',\n",
              " 'is',\n",
              " 'on',\n",
              " 'd',\n",
              " 'their',\n",
              " 'her',\n",
              " 'did',\n",
              " \"don't\",\n",
              " 'than',\n",
              " 'don',\n",
              " 'same',\n",
              " \"aren't\",\n",
              " \"you'll\",\n",
              " 'from',\n",
              " 't',\n",
              " 'for',\n",
              " 'y',\n",
              " \"hasn't\",\n",
              " 'where',\n",
              " 'this',\n",
              " 'isn',\n",
              " \"you've\",\n",
              " 'hers',\n",
              " 'nor',\n",
              " 'been',\n",
              " 'until',\n",
              " 'mustn',\n",
              " 'am',\n",
              " 'so',\n",
              " 'you',\n",
              " 'the',\n",
              " 'there',\n",
              " 'needn',\n",
              " 'into',\n",
              " 'with',\n",
              " 'yours',\n",
              " 'as',\n",
              " 'that',\n",
              " 'an',\n",
              " 'other',\n",
              " 'in',\n",
              " 'but',\n",
              " 'when',\n",
              " \"won't\",\n",
              " 'ours',\n",
              " 'very',\n",
              " 'these',\n",
              " 'itself',\n",
              " 'out',\n",
              " 'any',\n",
              " 'whom',\n",
              " 'who',\n",
              " 'a',\n",
              " 'down',\n",
              " 'having',\n",
              " \"isn't\",\n",
              " 'being',\n",
              " 'most',\n",
              " \"mightn't\",\n",
              " 'are',\n",
              " 'during',\n",
              " 'can',\n",
              " 'he',\n",
              " 'they',\n",
              " 'do',\n",
              " \"weren't\",\n",
              " 'over',\n",
              " 'all',\n",
              " 'yourselves',\n",
              " 'us',\n",
              " 'also',\n",
              " 'said',\n",
              " 'would',\n",
              " 'could',\n",
              " 'mr',\n",
              " 'get']"
            ]
          },
          "metadata": {
            "tags": []
          },
          "execution_count": 4
        }
      ]
    },
    {
      "cell_type": "code",
      "metadata": {
        "id": "nL-tSK0HCoU1",
        "colab_type": "code",
        "colab": {}
      },
      "source": [
        "import re\n",
        "def removePunctuation(text):\n",
        "    punctuation = '!,;:?\"\\'.-'\n",
        "    text = re.sub(r'[{}]+'.format(punctuation),'',text)\n",
        "    return text.strip().lower()\n",
        " "
      ],
      "execution_count": 5,
      "outputs": []
    },
    {
      "cell_type": "code",
      "metadata": {
        "id": "GkOPo5QszYab",
        "colab_type": "code",
        "colab": {
          "base_uri": "https://localhost:8080/",
          "height": 34
        },
        "outputId": "9db26e86-29d7-4192-8932-bed5d1d04290"
      },
      "source": [
        "#loading corpus and preprocessing\n",
        "\n",
        "corpus_list= []\n",
        "for entry in entries:\n",
        "    filepath = \"/\".join([\"/content/drive/My Drive/words/sample\", entry, \"*.txt\"])\n",
        "    data_files = glob.glob(filepath)\n",
        "    for data_file in data_files:\n",
        "      document = open(data_file,'r').read().lower()\n",
        "      text = [word for word in document.split()] \n",
        "      corpus = [removePunctuation(word) for word in text]\n",
        "      corpus = [word for word in corpus if not word in stop_words]\n",
        "      corpus_list += [corpus]\n",
        "len(corpus_list)\n",
        "\n",
        "\n",
        "\n"
      ],
      "execution_count": 6,
      "outputs": [
        {
          "output_type": "execute_result",
          "data": {
            "text/plain": [
              "1323"
            ]
          },
          "metadata": {
            "tags": []
          },
          "execution_count": 6
        }
      ]
    },
    {
      "cell_type": "code",
      "metadata": {
        "id": "-ZHJcb5SCZOo",
        "colab_type": "code",
        "colab": {}
      },
      "source": [
        ""
      ],
      "execution_count": null,
      "outputs": []
    },
    {
      "cell_type": "code",
      "metadata": {
        "id": "u-94iW0877qg",
        "colab_type": "code",
        "colab": {}
      },
      "source": [
        "#3 Merge corpus into one document\n",
        "with open(\"/content/drive/My Drive/words/sample/BleiCorpus.txt\", 'w') as File:\n",
        "  for corpus in corpus_list:\n",
        "    File.write(\" \".join(corpus)+ \"\\n\" )"
      ],
      "execution_count": 7,
      "outputs": []
    },
    {
      "cell_type": "code",
      "metadata": {
        "id": "9bnra6S4NoDJ",
        "colab_type": "code",
        "colab": {
          "base_uri": "https://localhost:8080/",
          "height": 71
        },
        "outputId": "cfbfd2c4-2f8c-45f4-cf26-cd84aa63bf4f"
      },
      "source": [
        "## establish dictionary \n",
        "dictionary = corpora.Dictionary(corpus_list)\n",
        "dictionary.save(\"/content/drive/My Drive/words/sample/word_dictionary\")\n",
        "\n",
        "\n",
        "## create vocabulary file\n",
        "class MyCorpus(object):\n",
        "    def __iter__(self):\n",
        "        for line in open(\"/content/drive/My Drive/words/sample/BleiCorpus.txt\"):\n",
        "            yield dictionary.doc2bow(line.lower().split())\n",
        "\n",
        "corpus_memory_friendly = MyCorpus()\n",
        "corpus = [vector for vector in corpus_memory_friendly]\n",
        "corpora.BleiCorpus.serialize('/content/drive/My Drive/words/sample/news_corpus', corpus)"
      ],
      "execution_count": 8,
      "outputs": [
        {
          "output_type": "stream",
          "text": [
            "/usr/local/lib/python3.6/dist-packages/smart_open/smart_open_lib.py:254: UserWarning: This function is deprecated, use smart_open.open instead. See the migration notes for details: https://github.com/RaRe-Technologies/smart_open/blob/master/README.rst#migrating-to-the-new-open-function\n",
            "  'See the migration notes for details: %s' % _MIGRATION_NOTES_URL\n"
          ],
          "name": "stderr"
        }
      ]
    },
    {
      "cell_type": "code",
      "metadata": {
        "id": "D23qtdyL4nBg",
        "colab_type": "code",
        "colab": {
          "base_uri": "https://localhost:8080/",
          "height": 71
        },
        "outputId": "06d5ad6f-a9de-4e25-8151-b401be68d5fa"
      },
      "source": [
        "## loading and setting\n",
        "try:\n",
        "  dictionary = Dictionary.load(\"/content/drive/My Drive/words/sample/word_dictionary\")\n",
        "except FileNotFoundError as e:\n",
        "  raise ValueError(\"SKIP: Please download the Corpus/news_dictionary dataset.\")\n",
        "\n",
        "corpus = bleicorpus.BleiCorpus(\"/content/drive/My Drive/words/sample/news_corpus\")\n",
        "\n",
        "time_slice = [438, 429, 456]\n"
      ],
      "execution_count": 9,
      "outputs": [
        {
          "output_type": "stream",
          "text": [
            "/usr/local/lib/python3.6/dist-packages/smart_open/smart_open_lib.py:254: UserWarning: This function is deprecated, use smart_open.open instead. See the migration notes for details: https://github.com/RaRe-Technologies/smart_open/blob/master/README.rst#migrating-to-the-new-open-function\n",
            "  'See the migration notes for details: %s' % _MIGRATION_NOTES_URL\n"
          ],
          "name": "stderr"
        }
      ]
    },
    {
      "cell_type": "code",
      "metadata": {
        "id": "4YolsXo6HdUT",
        "colab_type": "code",
        "colab": {
          "base_uri": "https://localhost:8080/",
          "height": 785
        },
        "outputId": "d171a098-f0e7-403c-fdc1-a8783da6cb15"
      },
      "source": [
        "ldaseq = ldaseqmodel.LdaSeqModel(corpus=corpus, id2word=dictionary, time_slice=time_slice, num_topics=5)"
      ],
      "execution_count": 10,
      "outputs": [
        {
          "output_type": "stream",
          "text": [
            "/usr/local/lib/python3.6/dist-packages/smart_open/smart_open_lib.py:254: UserWarning: This function is deprecated, use smart_open.open instead. See the migration notes for details: https://github.com/RaRe-Technologies/smart_open/blob/master/README.rst#migrating-to-the-new-open-function\n",
            "  'See the migration notes for details: %s' % _MIGRATION_NOTES_URL\n",
            "/usr/local/lib/python3.6/dist-packages/gensim/models/ldaseqmodel.py:290: RuntimeWarning: divide by zero encountered in double_scalars\n",
            "  convergence = np.fabs((bound - old_bound) / old_bound)\n",
            "/usr/local/lib/python3.6/dist-packages/smart_open/smart_open_lib.py:254: UserWarning: This function is deprecated, use smart_open.open instead. See the migration notes for details: https://github.com/RaRe-Technologies/smart_open/blob/master/README.rst#migrating-to-the-new-open-function\n",
            "  'See the migration notes for details: %s' % _MIGRATION_NOTES_URL\n",
            "/usr/local/lib/python3.6/dist-packages/smart_open/smart_open_lib.py:254: UserWarning: This function is deprecated, use smart_open.open instead. See the migration notes for details: https://github.com/RaRe-Technologies/smart_open/blob/master/README.rst#migrating-to-the-new-open-function\n",
            "  'See the migration notes for details: %s' % _MIGRATION_NOTES_URL\n",
            "/usr/local/lib/python3.6/dist-packages/smart_open/smart_open_lib.py:254: UserWarning: This function is deprecated, use smart_open.open instead. See the migration notes for details: https://github.com/RaRe-Technologies/smart_open/blob/master/README.rst#migrating-to-the-new-open-function\n",
            "  'See the migration notes for details: %s' % _MIGRATION_NOTES_URL\n",
            "/usr/local/lib/python3.6/dist-packages/smart_open/smart_open_lib.py:254: UserWarning: This function is deprecated, use smart_open.open instead. See the migration notes for details: https://github.com/RaRe-Technologies/smart_open/blob/master/README.rst#migrating-to-the-new-open-function\n",
            "  'See the migration notes for details: %s' % _MIGRATION_NOTES_URL\n",
            "/usr/local/lib/python3.6/dist-packages/smart_open/smart_open_lib.py:254: UserWarning: This function is deprecated, use smart_open.open instead. See the migration notes for details: https://github.com/RaRe-Technologies/smart_open/blob/master/README.rst#migrating-to-the-new-open-function\n",
            "  'See the migration notes for details: %s' % _MIGRATION_NOTES_URL\n",
            "/usr/local/lib/python3.6/dist-packages/smart_open/smart_open_lib.py:254: UserWarning: This function is deprecated, use smart_open.open instead. See the migration notes for details: https://github.com/RaRe-Technologies/smart_open/blob/master/README.rst#migrating-to-the-new-open-function\n",
            "  'See the migration notes for details: %s' % _MIGRATION_NOTES_URL\n",
            "/usr/local/lib/python3.6/dist-packages/smart_open/smart_open_lib.py:254: UserWarning: This function is deprecated, use smart_open.open instead. See the migration notes for details: https://github.com/RaRe-Technologies/smart_open/blob/master/README.rst#migrating-to-the-new-open-function\n",
            "  'See the migration notes for details: %s' % _MIGRATION_NOTES_URL\n",
            "/usr/local/lib/python3.6/dist-packages/smart_open/smart_open_lib.py:254: UserWarning: This function is deprecated, use smart_open.open instead. See the migration notes for details: https://github.com/RaRe-Technologies/smart_open/blob/master/README.rst#migrating-to-the-new-open-function\n",
            "  'See the migration notes for details: %s' % _MIGRATION_NOTES_URL\n",
            "/usr/local/lib/python3.6/dist-packages/smart_open/smart_open_lib.py:254: UserWarning: This function is deprecated, use smart_open.open instead. See the migration notes for details: https://github.com/RaRe-Technologies/smart_open/blob/master/README.rst#migrating-to-the-new-open-function\n",
            "  'See the migration notes for details: %s' % _MIGRATION_NOTES_URL\n",
            "/usr/local/lib/python3.6/dist-packages/smart_open/smart_open_lib.py:254: UserWarning: This function is deprecated, use smart_open.open instead. See the migration notes for details: https://github.com/RaRe-Technologies/smart_open/blob/master/README.rst#migrating-to-the-new-open-function\n",
            "  'See the migration notes for details: %s' % _MIGRATION_NOTES_URL\n",
            "/usr/local/lib/python3.6/dist-packages/smart_open/smart_open_lib.py:254: UserWarning: This function is deprecated, use smart_open.open instead. See the migration notes for details: https://github.com/RaRe-Technologies/smart_open/blob/master/README.rst#migrating-to-the-new-open-function\n",
            "  'See the migration notes for details: %s' % _MIGRATION_NOTES_URL\n",
            "/usr/local/lib/python3.6/dist-packages/smart_open/smart_open_lib.py:254: UserWarning: This function is deprecated, use smart_open.open instead. See the migration notes for details: https://github.com/RaRe-Technologies/smart_open/blob/master/README.rst#migrating-to-the-new-open-function\n",
            "  'See the migration notes for details: %s' % _MIGRATION_NOTES_URL\n",
            "/usr/local/lib/python3.6/dist-packages/smart_open/smart_open_lib.py:254: UserWarning: This function is deprecated, use smart_open.open instead. See the migration notes for details: https://github.com/RaRe-Technologies/smart_open/blob/master/README.rst#migrating-to-the-new-open-function\n",
            "  'See the migration notes for details: %s' % _MIGRATION_NOTES_URL\n",
            "/usr/local/lib/python3.6/dist-packages/smart_open/smart_open_lib.py:254: UserWarning: This function is deprecated, use smart_open.open instead. See the migration notes for details: https://github.com/RaRe-Technologies/smart_open/blob/master/README.rst#migrating-to-the-new-open-function\n",
            "  'See the migration notes for details: %s' % _MIGRATION_NOTES_URL\n",
            "/usr/local/lib/python3.6/dist-packages/smart_open/smart_open_lib.py:254: UserWarning: This function is deprecated, use smart_open.open instead. See the migration notes for details: https://github.com/RaRe-Technologies/smart_open/blob/master/README.rst#migrating-to-the-new-open-function\n",
            "  'See the migration notes for details: %s' % _MIGRATION_NOTES_URL\n",
            "/usr/local/lib/python3.6/dist-packages/smart_open/smart_open_lib.py:254: UserWarning: This function is deprecated, use smart_open.open instead. See the migration notes for details: https://github.com/RaRe-Technologies/smart_open/blob/master/README.rst#migrating-to-the-new-open-function\n",
            "  'See the migration notes for details: %s' % _MIGRATION_NOTES_URL\n",
            "/usr/local/lib/python3.6/dist-packages/smart_open/smart_open_lib.py:254: UserWarning: This function is deprecated, use smart_open.open instead. See the migration notes for details: https://github.com/RaRe-Technologies/smart_open/blob/master/README.rst#migrating-to-the-new-open-function\n",
            "  'See the migration notes for details: %s' % _MIGRATION_NOTES_URL\n",
            "/usr/local/lib/python3.6/dist-packages/smart_open/smart_open_lib.py:254: UserWarning: This function is deprecated, use smart_open.open instead. See the migration notes for details: https://github.com/RaRe-Technologies/smart_open/blob/master/README.rst#migrating-to-the-new-open-function\n",
            "  'See the migration notes for details: %s' % _MIGRATION_NOTES_URL\n",
            "/usr/local/lib/python3.6/dist-packages/smart_open/smart_open_lib.py:254: UserWarning: This function is deprecated, use smart_open.open instead. See the migration notes for details: https://github.com/RaRe-Technologies/smart_open/blob/master/README.rst#migrating-to-the-new-open-function\n",
            "  'See the migration notes for details: %s' % _MIGRATION_NOTES_URL\n",
            "/usr/local/lib/python3.6/dist-packages/smart_open/smart_open_lib.py:254: UserWarning: This function is deprecated, use smart_open.open instead. See the migration notes for details: https://github.com/RaRe-Technologies/smart_open/blob/master/README.rst#migrating-to-the-new-open-function\n",
            "  'See the migration notes for details: %s' % _MIGRATION_NOTES_URL\n"
          ],
          "name": "stderr"
        }
      ]
    },
    {
      "cell_type": "code",
      "metadata": {
        "id": "ifjJSW042MpK",
        "colab_type": "code",
        "colab": {
          "base_uri": "https://localhost:8080/",
          "height": 1000
        },
        "outputId": "335d2436-39ba-4ef7-8222-21c576551488"
      },
      "source": [
        "#Printing Topics\n",
        "ldaseq.print_topics(time=0)"
      ],
      "execution_count": 11,
      "outputs": [
        {
          "output_type": "execute_result",
          "data": {
            "text/plain": [
              "[[('government', 0.0077518676401744655),\n",
              "  ('people', 0.005293313245272779),\n",
              "  ('blair', 0.005236640507595509),\n",
              "  ('labour', 0.004819643466214471),\n",
              "  ('minister', 0.004724200408410364),\n",
              "  ('told', 0.004657834412033675),\n",
              "  ('election', 0.0043483923580335685),\n",
              "  ('new', 0.004260635530599429),\n",
              "  ('party', 0.003689315650413436),\n",
              "  ('public', 0.003467717516886381),\n",
              "  ('law', 0.0030782435682350042),\n",
              "  ('say', 0.00304215097900344),\n",
              "  ('prime', 0.0029509140164561015),\n",
              "  ('plans', 0.0027906805370540104),\n",
              "  ('bbc', 0.002702766371565767),\n",
              "  ('brown', 0.0026446549206230706),\n",
              "  ('howard', 0.002566866051136919),\n",
              "  ('one', 0.0025608636192713547),\n",
              "  ('secretary', 0.0025458626175785563),\n",
              "  ('says', 0.0025016468335880547)],\n",
              " [('best', 0.007663156767072553),\n",
              "  ('game', 0.004674252425227286),\n",
              "  ('club', 0.0043966175792488895),\n",
              "  ('one', 0.0041493942645512965),\n",
              "  ('chelsea', 0.003771068332726057),\n",
              "  ('last', 0.0035871085876081972),\n",
              "  ('players', 0.0035107848397751035),\n",
              "  ('united', 0.003496861366839839),\n",
              "  ('league', 0.0034402594527655128),\n",
              "  ('win', 0.0032829656014952526),\n",
              "  ('time', 0.0032577012757142717),\n",
              "  ('play', 0.0032524757074701826),\n",
              "  ('first', 0.0031483600781142965),\n",
              "  ('two', 0.0031138180934481012),\n",
              "  ('football', 0.0029520337239411433),\n",
              "  ('cup', 0.0028171100961015515),\n",
              "  ('arsenal', 0.0027684281205427297),\n",
              "  ('think', 0.0027383958053934575),\n",
              "  ('back', 0.0026971996600348184),\n",
              "  ('manager', 0.0026585321395364674)],\n",
              " [('people', 0.010263133397337644),\n",
              "  ('mobile', 0.005631732272964003),\n",
              "  ('users', 0.005508931584284121),\n",
              "  ('use', 0.005165044737626926),\n",
              "  ('net', 0.0051592906597469216),\n",
              "  ('software', 0.004805847098833384),\n",
              "  ('technology', 0.0044285699530840624),\n",
              "  ('new', 0.004428144915106746),\n",
              "  ('many', 0.004398333535801907),\n",
              "  ('one', 0.004393018053873864),\n",
              "  ('information', 0.004337601648365),\n",
              "  ('security', 0.003952133927277171),\n",
              "  ('service', 0.003749107934729437),\n",
              "  ('phone', 0.0035838485955093915),\n",
              "  ('used', 0.003573232560671904),\n",
              "  ('internet', 0.003503786984101983),\n",
              "  ('using', 0.003454932526012972),\n",
              "  ('computer', 0.003367804354325664),\n",
              "  ('system', 0.003367178711584792),\n",
              "  ('online', 0.0032381046911399837)],\n",
              " [('year', 0.008708436393872119),\n",
              "  ('market', 0.005580457312727646),\n",
              "  ('growth', 0.004866621831407628),\n",
              "  ('2004', 0.004552500369738314),\n",
              "  ('economy', 0.004336863079895013),\n",
              "  ('last', 0.004335241917693526),\n",
              "  ('new', 0.004231661791850639),\n",
              "  ('bank', 0.0037090335918037497),\n",
              "  ('economic', 0.0036688750072230557),\n",
              "  ('prices', 0.0036439658261143023),\n",
              "  ('oil', 0.003585810104687755),\n",
              "  ('sales', 0.003569382724443374),\n",
              "  ('years', 0.003550609989434594),\n",
              "  ('company', 0.003207680195141581),\n",
              "  ('shares', 0.002952576717989704),\n",
              "  ('rise', 0.002906146180976284),\n",
              "  ('however', 0.0027996090489649864),\n",
              "  ('may', 0.002788719895811748),\n",
              "  ('months', 0.00269061950777187),\n",
              "  ('firm', 0.002606687592633283)],\n",
              " [('film', 0.009225902404254081),\n",
              "  ('music', 0.006671583751481407),\n",
              "  ('show', 0.0060578056293588475),\n",
              "  ('new', 0.005571497596136977),\n",
              "  ('tv', 0.005520448900139649),\n",
              "  ('games', 0.005219429940412841),\n",
              "  ('one', 0.004788754144152362),\n",
              "  ('people', 0.004547759229226523),\n",
              "  ('uk', 0.004514885222874933),\n",
              "  ('first', 0.004163861210987592),\n",
              "  ('year', 0.004014497882162873),\n",
              "  ('years', 0.003799874859608128),\n",
              "  ('game', 0.003388949788436797),\n",
              "  ('bbc', 0.0033443065029098787),\n",
              "  ('video', 0.002876484368222198),\n",
              "  ('million', 0.0027644993055448448),\n",
              "  ('films', 0.0027427506320077863),\n",
              "  ('last', 0.002742535600164479),\n",
              "  ('world', 0.0027129766862690904),\n",
              "  ('time', 0.0026371017836659114)]]"
            ]
          },
          "metadata": {
            "tags": []
          },
          "execution_count": 11
        }
      ]
    },
    {
      "cell_type": "code",
      "metadata": {
        "id": "jzJ4sjGjgyZE",
        "colab_type": "code",
        "colab": {
          "base_uri": "https://localhost:8080/",
          "height": 1000
        },
        "outputId": "ceac3171-28af-427e-bf26-52be5bf2a14c"
      },
      "source": [
        "#Topic Evolution\n",
        "ldaseq.print_topic_times(topic=0)"
      ],
      "execution_count": 12,
      "outputs": [
        {
          "output_type": "execute_result",
          "data": {
            "text/plain": [
              "[[('government', 0.0077518676401744655),\n",
              "  ('people', 0.005293313245272779),\n",
              "  ('blair', 0.005236640507595509),\n",
              "  ('labour', 0.004819643466214471),\n",
              "  ('minister', 0.004724200408410364),\n",
              "  ('told', 0.004657834412033675),\n",
              "  ('election', 0.0043483923580335685),\n",
              "  ('new', 0.004260635530599429),\n",
              "  ('party', 0.003689315650413436),\n",
              "  ('public', 0.003467717516886381),\n",
              "  ('law', 0.0030782435682350042),\n",
              "  ('say', 0.00304215097900344),\n",
              "  ('prime', 0.0029509140164561015),\n",
              "  ('plans', 0.0027906805370540104),\n",
              "  ('bbc', 0.002702766371565767),\n",
              "  ('brown', 0.0026446549206230706),\n",
              "  ('howard', 0.002566866051136919),\n",
              "  ('one', 0.0025608636192713547),\n",
              "  ('secretary', 0.0025458626175785563),\n",
              "  ('says', 0.0025016468335880547)],\n",
              " [('government', 0.007767429116312318),\n",
              "  ('people', 0.005306095699855052),\n",
              "  ('blair', 0.005291314297397059),\n",
              "  ('labour', 0.004899091061481487),\n",
              "  ('told', 0.00484737070249035),\n",
              "  ('minister', 0.004768144768860615),\n",
              "  ('election', 0.004434796713351316),\n",
              "  ('new', 0.004308296421678714),\n",
              "  ('party', 0.003741651867362084),\n",
              "  ('public', 0.003468316538824563),\n",
              "  ('law', 0.0030793531431176275),\n",
              "  ('say', 0.0030357644205503322),\n",
              "  ('prime', 0.0029956306352596006),\n",
              "  ('brown', 0.0029411141070431073),\n",
              "  ('bbc', 0.0027265541545422804),\n",
              "  ('plans', 0.002664216604107304),\n",
              "  ('one', 0.002582572821595245),\n",
              "  ('howard', 0.002561238154993754),\n",
              "  ('secretary', 0.002533780344315406),\n",
              "  ('says', 0.002501804610951453)],\n",
              " [('government', 0.007787133992967378),\n",
              "  ('blair', 0.005355582270075462),\n",
              "  ('people', 0.005318307107709929),\n",
              "  ('labour', 0.005031117656955512),\n",
              "  ('minister', 0.004819048963693391),\n",
              "  ('told', 0.004772543710152614),\n",
              "  ('election', 0.004561476713038129),\n",
              "  ('new', 0.004373707392695322),\n",
              "  ('party', 0.003819466224726302),\n",
              "  ('brown', 0.0034893671190907795),\n",
              "  ('public', 0.00347484304758532),\n",
              "  ('law', 0.0030771655461524047),\n",
              "  ('prime', 0.003061763544410122),\n",
              "  ('say', 0.0030316308564745176),\n",
              "  ('bbc', 0.0027454387247446243),\n",
              "  ('plans', 0.002716411130542072),\n",
              "  ('lord', 0.002695336429613113),\n",
              "  ('one', 0.0026140342286894683),\n",
              "  ('howard', 0.0025577236374143175),\n",
              "  ('secretary', 0.002524012902460088)]]"
            ]
          },
          "metadata": {
            "tags": []
          },
          "execution_count": 12
        }
      ]
    },
    {
      "cell_type": "code",
      "metadata": {
        "id": "FC_meLDnhGQ6",
        "colab_type": "code",
        "colab": {
          "base_uri": "https://localhost:8080/",
          "height": 88
        },
        "outputId": "9fa8d899-70bb-4b78-efb4-cd7cfd025fa5"
      },
      "source": [
        "## word distribution in a specific document\n",
        "words = [dictionary[word_id] for word_id, count in corpus[558]]\n",
        "print (words)"
      ],
      "execution_count": 13,
      "outputs": [
        {
          "output_type": "stream",
          "text": [
            "['ahead', 'almost', 'back', 'current', 'sixth', 'three', 'including', 'last', 'one', 'took', 'top', 'two', 'uk', 'former', 'group', 'british', 'four', 'latest', 'six', 'five', 'seven', 'fears', 'single', 'number', 'like', 'moved', 'weeks', 'fell', 'tuesday', 'week', 'make', 'mark', 'rock', 'series', 'success', 'currently', 'eight', 'best', 'hopes', 'helped', '13', 'title', 'whose', 'act', 'cant', 'heart', 'return', 'awardwinning', '27', 'star', '20', 'follow', 'track', 'pushed', '18', 'athlete', 'birth', 'anniversary', '40', 'bomb', 'child', 'debut', 'never', 'places', 'spots', 'tourist', 'chart', 'sometimes', 'entered', 'spot', 'wayne', '37', 'westlife', 'soldiers', 'brian', 'ferdinand', 'keane', 'mcfadden', 'sisters', 'atomic', 'toy', 'tracks', 'franz', 'u2s', 'album', 'dismantle', 'keanes', 'selftitled', 'singles', 'elvis', 'eponymous', 'scissor', 'delta', 'goodrem', 'destinys', 'jailhouse', 'brits', 'tonight', '70th', 'capitalising', 'debuted', 'duet', 'eminems', 'lil', 'lonesome', 'occupying', 'presleys', 'reissues', 'rereleased', 'soldier', 'ti', 'wooden']\n"
          ],
          "name": "stdout"
        },
        {
          "output_type": "stream",
          "text": [
            "/usr/local/lib/python3.6/dist-packages/smart_open/smart_open_lib.py:254: UserWarning: This function is deprecated, use smart_open.open instead. See the migration notes for details: https://github.com/RaRe-Technologies/smart_open/blob/master/README.rst#migrating-to-the-new-open-function\n",
            "  'See the migration notes for details: %s' % _MIGRATION_NOTES_URL\n"
          ],
          "name": "stderr"
        }
      ]
    },
    {
      "cell_type": "code",
      "metadata": {
        "id": "Klj5xSciiWne",
        "colab_type": "code",
        "colab": {
          "base_uri": "https://localhost:8080/",
          "height": 51
        },
        "outputId": "8cbc7d09-d9de-4fd8-c67c-4896fb98e093"
      },
      "source": [
        "## A specific document's latent topic distribution\n",
        "doc = ldaseq.doc_topics(558)\n",
        "print(doc)"
      ],
      "execution_count": 14,
      "outputs": [
        {
          "output_type": "stream",
          "text": [
            "[5.98623167e-05 9.99760551e-01 5.98623167e-05 5.98623167e-05\n",
            " 5.98623167e-05]\n"
          ],
          "name": "stdout"
        }
      ]
    },
    {
      "cell_type": "code",
      "metadata": {
        "id": "8VEyQgVhiu8K",
        "colab_type": "code",
        "colab": {
          "base_uri": "https://localhost:8080/",
          "height": 34
        },
        "outputId": "fb96ec99-acc9-47d8-978c-5077805fc7f1"
      },
      "source": [
        "doc_football_1 = ['economy', 'bank', 'mobile', 'phone', 'markets', 'buy', 'football', 'united', 'giggs'] #make up a news about how football affect economy\n",
        "doc_football_1 = dictionary.doc2bow(doc_football_1)\n",
        "doc_football_1 = ldaseq[doc_football_1]\n",
        "print (doc_football_1)"
      ],
      "execution_count": 15,
      "outputs": [
        {
          "output_type": "stream",
          "text": [
            "[0.00110497 0.32257239 0.24546224 0.42975542 0.00110497]\n"
          ],
          "name": "stdout"
        }
      ]
    },
    {
      "cell_type": "code",
      "metadata": {
        "id": "DXkMBjiJkSCS",
        "colab_type": "code",
        "colab": {
          "base_uri": "https://localhost:8080/",
          "height": 34
        },
        "outputId": "4f594359-5267-4074-9d6b-7418d8189c87"
      },
      "source": [
        "## topic distance between documents (hellinger distance: measure similarity of two distribution)\n",
        "doc_football_2 = ['arsenal', 'fourth', 'wenger', 'oil', 'middle', 'east', 'sanction', 'fluctuation']\n",
        "doc_football_2 = dictionary.doc2bow(doc_football_2)\n",
        "doc_football_2 = ldaseq[doc_football_2]\n",
        "hellinger(doc_football_1, doc_football_2)"
      ],
      "execution_count": 16,
      "outputs": [
        {
          "output_type": "execute_result",
          "data": {
            "text/plain": [
              "0.33902096509479474"
            ]
          },
          "metadata": {
            "tags": []
          },
          "execution_count": 16
        }
      ]
    },
    {
      "cell_type": "code",
      "metadata": {
        "id": "8dmOwe4mlq2l",
        "colab_type": "code",
        "colab": {
          "base_uri": "https://localhost:8080/",
          "height": 1000
        },
        "outputId": "9a0ffc85-15ad-4746-fc66-d60887a60535"
      },
      "source": [
        "## changing rate of topic factors(words in topics)\n",
        "ldaseq.print_topic_times(1)\n",
        "\n",
        "##Note: the chain_variance parameter could affect the result"
      ],
      "execution_count": 17,
      "outputs": [
        {
          "output_type": "execute_result",
          "data": {
            "text/plain": [
              "[[('best', 0.007663156767072553),\n",
              "  ('game', 0.004674252425227286),\n",
              "  ('club', 0.0043966175792488895),\n",
              "  ('one', 0.0041493942645512965),\n",
              "  ('chelsea', 0.003771068332726057),\n",
              "  ('last', 0.0035871085876081972),\n",
              "  ('players', 0.0035107848397751035),\n",
              "  ('united', 0.003496861366839839),\n",
              "  ('league', 0.0034402594527655128),\n",
              "  ('win', 0.0032829656014952526),\n",
              "  ('time', 0.0032577012757142717),\n",
              "  ('play', 0.0032524757074701826),\n",
              "  ('first', 0.0031483600781142965),\n",
              "  ('two', 0.0031138180934481012),\n",
              "  ('football', 0.0029520337239411433),\n",
              "  ('cup', 0.0028171100961015515),\n",
              "  ('arsenal', 0.0027684281205427297),\n",
              "  ('think', 0.0027383958053934575),\n",
              "  ('back', 0.0026971996600348184),\n",
              "  ('manager', 0.0026585321395364674)],\n",
              " [('best', 0.006483138605830535),\n",
              "  ('game', 0.0049379465587473595),\n",
              "  ('club', 0.004386042399870985),\n",
              "  ('one', 0.004189401771861706),\n",
              "  ('chelsea', 0.0037755290137837746),\n",
              "  ('last', 0.003597317051696215),\n",
              "  ('players', 0.0035456148851905228),\n",
              "  ('united', 0.0033966911492481844),\n",
              "  ('league', 0.0033132198962290554),\n",
              "  ('win', 0.003294216537190019),\n",
              "  ('time', 0.0032646149364533397),\n",
              "  ('play', 0.0032546026632236063),\n",
              "  ('first', 0.003145976514362569),\n",
              "  ('two', 0.0031402883331699528),\n",
              "  ('football', 0.0029969086239386563),\n",
              "  ('arsenal', 0.0029895133486893513),\n",
              "  ('cup', 0.0027998189875296222),\n",
              "  ('think', 0.0027730052440793854),\n",
              "  ('manager', 0.0027093774902943626),\n",
              "  ('back', 0.0027079347177690256)],\n",
              " [('best', 0.006519772183044821),\n",
              "  ('game', 0.004521819211706607),\n",
              "  ('club', 0.004266658647161998),\n",
              "  ('one', 0.004231802443119912),\n",
              "  ('chelsea', 0.0037784695103097224),\n",
              "  ('last', 0.0036553016727212963),\n",
              "  ('united', 0.003593641260379287),\n",
              "  ('players', 0.0035811239814650575),\n",
              "  ('league', 0.003389946599544526),\n",
              "  ('win', 0.0033015623897229293),\n",
              "  ('time', 0.003261596849203899),\n",
              "  ('play', 0.0032562083626146137),\n",
              "  ('two', 0.003167635490856291),\n",
              "  ('first', 0.003150480322402077),\n",
              "  ('football', 0.0030404369956495707),\n",
              "  ('arsenal', 0.0029137691110916472),\n",
              "  ('think', 0.0028160287055334285),\n",
              "  ('cup', 0.0027873514536926923),\n",
              "  ('back', 0.002715261091044409),\n",
              "  ('band', 0.002672674093179433)]]"
            ]
          },
          "metadata": {
            "tags": []
          },
          "execution_count": 17
        }
      ]
    },
    {
      "cell_type": "code",
      "metadata": {
        "id": "7aWaBXzhwfrg",
        "colab_type": "code",
        "colab": {}
      },
      "source": [
        ""
      ],
      "execution_count": null,
      "outputs": []
    }
  ]
}