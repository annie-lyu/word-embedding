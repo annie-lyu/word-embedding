{
  "nbformat": 4,
  "nbformat_minor": 0,
  "metadata": {
    "colab": {
      "name": "Copy of ldaseq-example.ipynb",
      "provenance": [],
      "collapsed_sections": [],
      "authorship_tag": "ABX9TyNGk8R53S04kIuKBjm/9RIl",
      "include_colab_link": true
    },
    "kernelspec": {
      "name": "python3",
      "display_name": "Python 3"
    }
  },
  "cells": [
    {
      "cell_type": "markdown",
      "metadata": {
        "id": "view-in-github",
        "colab_type": "text"
      },
      "source": [
        "<a href=\"https://colab.research.google.com/github/annie-lyu/word-embedding/blob/master/Copy_of_ldaseq_example.ipynb\" target=\"_parent\"><img src=\"https://colab.research.google.com/assets/colab-badge.svg\" alt=\"Open In Colab\"/></a>"
      ]
    },
    {
      "cell_type": "code",
      "metadata": {
        "id": "TKvcJ67COb5A",
        "colab_type": "code",
        "colab": {}
      },
      "source": [
        "from gensim import corpora\n",
        "from gensim.models import ldaseqmodel\n",
        "from gensim.corpora import Dictionary, bleicorpus\n",
        "import numpy\n",
        "from gensim.matutils import hellinger\n",
        "import nltk\n"
      ],
      "execution_count": 1,
      "outputs": []
    },
    {
      "cell_type": "code",
      "metadata": {
        "id": "65nEa0dWOwv1",
        "colab_type": "code",
        "colab": {
          "base_uri": "https://localhost:8080/",
          "height": 139
        },
        "outputId": "5da82412-211f-4597-e5bb-31b5fd1c9cd7"
      },
      "source": [
        "import glob\n",
        "from google.colab import drive\n",
        "drive.mount('/content/drive')\n",
        "##folder lists\n",
        "ls = !ls \"/content/drive/My Drive/words/sample\"\n",
        "ls = str(ls).strip(\"'[\")\n",
        "ls = ls.strip(\"]'\")\n",
        "entries = ls.split(\"\\\\t\")\n",
        "entries"
      ],
      "execution_count": 2,
      "outputs": [
        {
          "output_type": "stream",
          "text": [
            "Go to this URL in a browser: https://accounts.google.com/o/oauth2/auth?client_id=947318989803-6bn6qk8qdgf4n4g3pfee6491hc0brc4i.apps.googleusercontent.com&redirect_uri=urn%3aietf%3awg%3aoauth%3a2.0%3aoob&response_type=code&scope=email%20https%3a%2f%2fwww.googleapis.com%2fauth%2fdocs.test%20https%3a%2f%2fwww.googleapis.com%2fauth%2fdrive%20https%3a%2f%2fwww.googleapis.com%2fauth%2fdrive.photos.readonly%20https%3a%2f%2fwww.googleapis.com%2fauth%2fpeopleapi.readonly\n",
            "\n",
            "Enter your authorization code:\n",
            "··········\n",
            "Mounted at /content/drive\n"
          ],
          "name": "stdout"
        },
        {
          "output_type": "execute_result",
          "data": {
            "text/plain": [
              "['month1', 'month2', 'month3']"
            ]
          },
          "metadata": {
            "tags": []
          },
          "execution_count": 2
        }
      ]
    },
    {
      "cell_type": "code",
      "metadata": {
        "id": "mVSyq6jyNpzP",
        "colab_type": "code",
        "colab": {
          "base_uri": "https://localhost:8080/",
          "height": 1000
        },
        "outputId": "2519f790-9d0e-4eb6-dbe4-e5f7356b2bf9"
      },
      "source": [
        "## preparation for text preprocessing\n",
        "from nltk.corpus import stopwords\n",
        "nltk.download('stopwords')\n",
        "stop_words = list(set(stopwords.words('english'))) + [\"us\", \"also\", \"said\", \"would\", \"could\", \"mr\", \"get\"]\n",
        "from nltk.stem import PorterStemmer\n",
        "ps = PorterStemmer()\n",
        "stop_words"
      ],
      "execution_count": 3,
      "outputs": [
        {
          "output_type": "stream",
          "text": [
            "[nltk_data] Downloading package stopwords to /root/nltk_data...\n",
            "[nltk_data]   Unzipping corpora/stopwords.zip.\n"
          ],
          "name": "stdout"
        },
        {
          "output_type": "execute_result",
          "data": {
            "text/plain": [
              "['him',\n",
              " 'mightn',\n",
              " \"should've\",\n",
              " 'some',\n",
              " 'because',\n",
              " 'each',\n",
              " 't',\n",
              " 'has',\n",
              " 'did',\n",
              " 'more',\n",
              " 'same',\n",
              " \"aren't\",\n",
              " 'ma',\n",
              " 'under',\n",
              " 'while',\n",
              " 'have',\n",
              " 'down',\n",
              " 'over',\n",
              " 'to',\n",
              " 're',\n",
              " 'wouldn',\n",
              " 'if',\n",
              " 'how',\n",
              " 'll',\n",
              " 'weren',\n",
              " 'only',\n",
              " \"you'll\",\n",
              " 'that',\n",
              " 'haven',\n",
              " 'there',\n",
              " 'o',\n",
              " 'doesn',\n",
              " 'yours',\n",
              " 'was',\n",
              " 'being',\n",
              " 'he',\n",
              " 'and',\n",
              " 'just',\n",
              " 'than',\n",
              " 'they',\n",
              " 'aren',\n",
              " 'isn',\n",
              " 'own',\n",
              " 'so',\n",
              " 'does',\n",
              " 'both',\n",
              " 'now',\n",
              " 'through',\n",
              " 'myself',\n",
              " 'doing',\n",
              " 'an',\n",
              " \"needn't\",\n",
              " 'hadn',\n",
              " \"it's\",\n",
              " 'before',\n",
              " \"won't\",\n",
              " 've',\n",
              " 'hasn',\n",
              " 'my',\n",
              " \"she's\",\n",
              " 'with',\n",
              " 'their',\n",
              " 'been',\n",
              " 'off',\n",
              " 'himself',\n",
              " 'theirs',\n",
              " 'these',\n",
              " 'between',\n",
              " 'yourselves',\n",
              " 'her',\n",
              " 'wasn',\n",
              " 'until',\n",
              " 'in',\n",
              " 'but',\n",
              " 'ain',\n",
              " \"weren't\",\n",
              " 'out',\n",
              " \"shouldn't\",\n",
              " 'into',\n",
              " 'up',\n",
              " \"hadn't\",\n",
              " 'such',\n",
              " 'it',\n",
              " 'when',\n",
              " 'm',\n",
              " 'as',\n",
              " 'y',\n",
              " 'this',\n",
              " \"shan't\",\n",
              " 'about',\n",
              " 'itself',\n",
              " 'are',\n",
              " 'where',\n",
              " 'd',\n",
              " 'be',\n",
              " \"wasn't\",\n",
              " 'above',\n",
              " 'most',\n",
              " 'had',\n",
              " 'whom',\n",
              " 'of',\n",
              " 'after',\n",
              " 'your',\n",
              " 'for',\n",
              " 'who',\n",
              " 'the',\n",
              " 'or',\n",
              " \"mightn't\",\n",
              " 'themselves',\n",
              " 'shouldn',\n",
              " 'its',\n",
              " 'which',\n",
              " 'me',\n",
              " 'shan',\n",
              " 'you',\n",
              " \"doesn't\",\n",
              " 'here',\n",
              " \"you'd\",\n",
              " 'by',\n",
              " 'once',\n",
              " 'all',\n",
              " 'didn',\n",
              " \"didn't\",\n",
              " \"haven't\",\n",
              " 'at',\n",
              " 'no',\n",
              " 'we',\n",
              " \"hasn't\",\n",
              " 'what',\n",
              " 'on',\n",
              " 'i',\n",
              " 'is',\n",
              " 'having',\n",
              " 'ours',\n",
              " \"don't\",\n",
              " 'will',\n",
              " \"mustn't\",\n",
              " 'couldn',\n",
              " \"you've\",\n",
              " 'a',\n",
              " 'nor',\n",
              " 'from',\n",
              " 'am',\n",
              " 'why',\n",
              " 'can',\n",
              " 'should',\n",
              " 'below',\n",
              " 'those',\n",
              " 'other',\n",
              " \"you're\",\n",
              " \"couldn't\",\n",
              " \"that'll\",\n",
              " 'his',\n",
              " 'any',\n",
              " 'not',\n",
              " 'don',\n",
              " 'yourself',\n",
              " 'hers',\n",
              " \"isn't\",\n",
              " 'very',\n",
              " \"wouldn't\",\n",
              " 'were',\n",
              " 'during',\n",
              " 'then',\n",
              " 'further',\n",
              " 'against',\n",
              " 'needn',\n",
              " 'won',\n",
              " 'ourselves',\n",
              " 'too',\n",
              " 'few',\n",
              " 'she',\n",
              " 'do',\n",
              " 'them',\n",
              " 'herself',\n",
              " 's',\n",
              " 'again',\n",
              " 'our',\n",
              " 'mustn',\n",
              " 'us',\n",
              " 'also',\n",
              " 'said',\n",
              " 'would',\n",
              " 'could',\n",
              " 'mr',\n",
              " 'get']"
            ]
          },
          "metadata": {
            "tags": []
          },
          "execution_count": 3
        }
      ]
    },
    {
      "cell_type": "code",
      "metadata": {
        "id": "nL-tSK0HCoU1",
        "colab_type": "code",
        "colab": {}
      },
      "source": [
        "import re\n",
        "def removePunctuation(text):\n",
        "    punctuation = '!,;:?\"\\'.-'\n",
        "    text = re.sub(r'[{}]+'.format(punctuation),'',text)\n",
        "    return text.strip().lower()\n",
        " "
      ],
      "execution_count": 4,
      "outputs": []
    },
    {
      "cell_type": "code",
      "metadata": {
        "id": "GkOPo5QszYab",
        "colab_type": "code",
        "colab": {
          "base_uri": "https://localhost:8080/",
          "height": 34
        },
        "outputId": "a26f10a9-a418-4e4b-fa86-34abdb51977d"
      },
      "source": [
        "#loading corpus and preprocessing\n",
        "\n",
        "corpus_list= []\n",
        "for entry in entries:\n",
        "    filepath = \"/\".join([\"/content/drive/My Drive/words/sample\", entry, \"*.txt\"])\n",
        "    data_files = glob.glob(filepath)\n",
        "    for data_file in data_files:\n",
        "      document = open(data_file,'r', errors='ignore').read().lower()\n",
        "      text = [word for word in document.split()] \n",
        "      corpus = [removePunctuation(word) for word in text]\n",
        "      corpus = [word for word in corpus if not word in stop_words]\n",
        "      corpus_list += [corpus]\n",
        "len(corpus_list)\n",
        "\n",
        "\n",
        "\n"
      ],
      "execution_count": 9,
      "outputs": [
        {
          "output_type": "execute_result",
          "data": {
            "text/plain": [
              "1324"
            ]
          },
          "metadata": {
            "tags": []
          },
          "execution_count": 9
        }
      ]
    },
    {
      "cell_type": "code",
      "metadata": {
        "id": "-ZHJcb5SCZOo",
        "colab_type": "code",
        "colab": {}
      },
      "source": [
        ""
      ],
      "execution_count": null,
      "outputs": []
    },
    {
      "cell_type": "code",
      "metadata": {
        "id": "u-94iW0877qg",
        "colab_type": "code",
        "colab": {}
      },
      "source": [
        "#3 Merge corpus into one document\n",
        "with open(\"/content/drive/My Drive/words/sample/BleiCorpus.txt\", 'w') as File:\n",
        "  for corpus in corpus_list:\n",
        "    File.write(\" \".join(corpus)+ \"\\n\" )"
      ],
      "execution_count": 10,
      "outputs": []
    },
    {
      "cell_type": "code",
      "metadata": {
        "id": "9bnra6S4NoDJ",
        "colab_type": "code",
        "colab": {
          "base_uri": "https://localhost:8080/",
          "height": 71
        },
        "outputId": "94c258f2-db55-4b72-bf2d-4e649c230678"
      },
      "source": [
        "## establish dictionary \n",
        "dictionary = corpora.Dictionary(corpus_list)\n",
        "dictionary.save(\"/content/drive/My Drive/words/sample/word_dictionary\")\n",
        "\n",
        "\n",
        "## create vocabulary file\n",
        "class MyCorpus(object):\n",
        "    def __iter__(self):\n",
        "        for line in open(\"/content/drive/My Drive/words/sample/BleiCorpus.txt\"):\n",
        "            yield dictionary.doc2bow(line.lower().split())\n",
        "\n",
        "corpus_memory_friendly = MyCorpus()\n",
        "corpus = [vector for vector in corpus_memory_friendly]\n",
        "corpora.BleiCorpus.serialize('/content/drive/My Drive/words/sample/news_corpus', corpus)"
      ],
      "execution_count": 12,
      "outputs": [
        {
          "output_type": "stream",
          "text": [
            "/usr/local/lib/python3.6/dist-packages/smart_open/smart_open_lib.py:254: UserWarning: This function is deprecated, use smart_open.open instead. See the migration notes for details: https://github.com/RaRe-Technologies/smart_open/blob/master/README.rst#migrating-to-the-new-open-function\n",
            "  'See the migration notes for details: %s' % _MIGRATION_NOTES_URL\n"
          ],
          "name": "stderr"
        }
      ]
    },
    {
      "cell_type": "code",
      "metadata": {
        "id": "D23qtdyL4nBg",
        "colab_type": "code",
        "colab": {
          "base_uri": "https://localhost:8080/",
          "height": 71
        },
        "outputId": "dfbd2e66-7e7a-40e3-ee3a-947cd1a0a0c3"
      },
      "source": [
        "## loading and setting\n",
        "try:\n",
        "  dictionary = Dictionary.load(\"/content/drive/My Drive/words/sample/word_dictionary\")\n",
        "except FileNotFoundError as e:\n",
        "  raise ValueError(\"SKIP: Please download the Corpus/news_dictionary dataset.\")\n",
        "\n",
        "corpus = bleicorpus.BleiCorpus(\"/content/drive/My Drive/words/sample/news_corpus\")\n",
        "\n",
        "time_slice = [438, 430, 456]\n"
      ],
      "execution_count": 13,
      "outputs": [
        {
          "output_type": "stream",
          "text": [
            "/usr/local/lib/python3.6/dist-packages/smart_open/smart_open_lib.py:254: UserWarning: This function is deprecated, use smart_open.open instead. See the migration notes for details: https://github.com/RaRe-Technologies/smart_open/blob/master/README.rst#migrating-to-the-new-open-function\n",
            "  'See the migration notes for details: %s' % _MIGRATION_NOTES_URL\n"
          ],
          "name": "stderr"
        }
      ]
    },
    {
      "cell_type": "code",
      "metadata": {
        "id": "4YolsXo6HdUT",
        "colab_type": "code",
        "colab": {
          "base_uri": "https://localhost:8080/",
          "height": 785
        },
        "outputId": "8e3d68df-81b2-4d6f-d6f5-7bbcac665d53"
      },
      "source": [
        "ldaseq = ldaseqmodel.LdaSeqModel(corpus=corpus, id2word=dictionary, time_slice=time_slice, num_topics=5)"
      ],
      "execution_count": 14,
      "outputs": [
        {
          "output_type": "stream",
          "text": [
            "/usr/local/lib/python3.6/dist-packages/smart_open/smart_open_lib.py:254: UserWarning: This function is deprecated, use smart_open.open instead. See the migration notes for details: https://github.com/RaRe-Technologies/smart_open/blob/master/README.rst#migrating-to-the-new-open-function\n",
            "  'See the migration notes for details: %s' % _MIGRATION_NOTES_URL\n",
            "/usr/local/lib/python3.6/dist-packages/gensim/models/ldaseqmodel.py:290: RuntimeWarning: divide by zero encountered in double_scalars\n",
            "  convergence = np.fabs((bound - old_bound) / old_bound)\n",
            "/usr/local/lib/python3.6/dist-packages/smart_open/smart_open_lib.py:254: UserWarning: This function is deprecated, use smart_open.open instead. See the migration notes for details: https://github.com/RaRe-Technologies/smart_open/blob/master/README.rst#migrating-to-the-new-open-function\n",
            "  'See the migration notes for details: %s' % _MIGRATION_NOTES_URL\n",
            "/usr/local/lib/python3.6/dist-packages/smart_open/smart_open_lib.py:254: UserWarning: This function is deprecated, use smart_open.open instead. See the migration notes for details: https://github.com/RaRe-Technologies/smart_open/blob/master/README.rst#migrating-to-the-new-open-function\n",
            "  'See the migration notes for details: %s' % _MIGRATION_NOTES_URL\n",
            "/usr/local/lib/python3.6/dist-packages/smart_open/smart_open_lib.py:254: UserWarning: This function is deprecated, use smart_open.open instead. See the migration notes for details: https://github.com/RaRe-Technologies/smart_open/blob/master/README.rst#migrating-to-the-new-open-function\n",
            "  'See the migration notes for details: %s' % _MIGRATION_NOTES_URL\n",
            "/usr/local/lib/python3.6/dist-packages/smart_open/smart_open_lib.py:254: UserWarning: This function is deprecated, use smart_open.open instead. See the migration notes for details: https://github.com/RaRe-Technologies/smart_open/blob/master/README.rst#migrating-to-the-new-open-function\n",
            "  'See the migration notes for details: %s' % _MIGRATION_NOTES_URL\n",
            "/usr/local/lib/python3.6/dist-packages/smart_open/smart_open_lib.py:254: UserWarning: This function is deprecated, use smart_open.open instead. See the migration notes for details: https://github.com/RaRe-Technologies/smart_open/blob/master/README.rst#migrating-to-the-new-open-function\n",
            "  'See the migration notes for details: %s' % _MIGRATION_NOTES_URL\n",
            "/usr/local/lib/python3.6/dist-packages/smart_open/smart_open_lib.py:254: UserWarning: This function is deprecated, use smart_open.open instead. See the migration notes for details: https://github.com/RaRe-Technologies/smart_open/blob/master/README.rst#migrating-to-the-new-open-function\n",
            "  'See the migration notes for details: %s' % _MIGRATION_NOTES_URL\n",
            "/usr/local/lib/python3.6/dist-packages/smart_open/smart_open_lib.py:254: UserWarning: This function is deprecated, use smart_open.open instead. See the migration notes for details: https://github.com/RaRe-Technologies/smart_open/blob/master/README.rst#migrating-to-the-new-open-function\n",
            "  'See the migration notes for details: %s' % _MIGRATION_NOTES_URL\n",
            "/usr/local/lib/python3.6/dist-packages/smart_open/smart_open_lib.py:254: UserWarning: This function is deprecated, use smart_open.open instead. See the migration notes for details: https://github.com/RaRe-Technologies/smart_open/blob/master/README.rst#migrating-to-the-new-open-function\n",
            "  'See the migration notes for details: %s' % _MIGRATION_NOTES_URL\n",
            "/usr/local/lib/python3.6/dist-packages/smart_open/smart_open_lib.py:254: UserWarning: This function is deprecated, use smart_open.open instead. See the migration notes for details: https://github.com/RaRe-Technologies/smart_open/blob/master/README.rst#migrating-to-the-new-open-function\n",
            "  'See the migration notes for details: %s' % _MIGRATION_NOTES_URL\n",
            "/usr/local/lib/python3.6/dist-packages/smart_open/smart_open_lib.py:254: UserWarning: This function is deprecated, use smart_open.open instead. See the migration notes for details: https://github.com/RaRe-Technologies/smart_open/blob/master/README.rst#migrating-to-the-new-open-function\n",
            "  'See the migration notes for details: %s' % _MIGRATION_NOTES_URL\n",
            "/usr/local/lib/python3.6/dist-packages/smart_open/smart_open_lib.py:254: UserWarning: This function is deprecated, use smart_open.open instead. See the migration notes for details: https://github.com/RaRe-Technologies/smart_open/blob/master/README.rst#migrating-to-the-new-open-function\n",
            "  'See the migration notes for details: %s' % _MIGRATION_NOTES_URL\n",
            "/usr/local/lib/python3.6/dist-packages/smart_open/smart_open_lib.py:254: UserWarning: This function is deprecated, use smart_open.open instead. See the migration notes for details: https://github.com/RaRe-Technologies/smart_open/blob/master/README.rst#migrating-to-the-new-open-function\n",
            "  'See the migration notes for details: %s' % _MIGRATION_NOTES_URL\n",
            "/usr/local/lib/python3.6/dist-packages/smart_open/smart_open_lib.py:254: UserWarning: This function is deprecated, use smart_open.open instead. See the migration notes for details: https://github.com/RaRe-Technologies/smart_open/blob/master/README.rst#migrating-to-the-new-open-function\n",
            "  'See the migration notes for details: %s' % _MIGRATION_NOTES_URL\n",
            "/usr/local/lib/python3.6/dist-packages/smart_open/smart_open_lib.py:254: UserWarning: This function is deprecated, use smart_open.open instead. See the migration notes for details: https://github.com/RaRe-Technologies/smart_open/blob/master/README.rst#migrating-to-the-new-open-function\n",
            "  'See the migration notes for details: %s' % _MIGRATION_NOTES_URL\n",
            "/usr/local/lib/python3.6/dist-packages/smart_open/smart_open_lib.py:254: UserWarning: This function is deprecated, use smart_open.open instead. See the migration notes for details: https://github.com/RaRe-Technologies/smart_open/blob/master/README.rst#migrating-to-the-new-open-function\n",
            "  'See the migration notes for details: %s' % _MIGRATION_NOTES_URL\n",
            "/usr/local/lib/python3.6/dist-packages/smart_open/smart_open_lib.py:254: UserWarning: This function is deprecated, use smart_open.open instead. See the migration notes for details: https://github.com/RaRe-Technologies/smart_open/blob/master/README.rst#migrating-to-the-new-open-function\n",
            "  'See the migration notes for details: %s' % _MIGRATION_NOTES_URL\n",
            "/usr/local/lib/python3.6/dist-packages/smart_open/smart_open_lib.py:254: UserWarning: This function is deprecated, use smart_open.open instead. See the migration notes for details: https://github.com/RaRe-Technologies/smart_open/blob/master/README.rst#migrating-to-the-new-open-function\n",
            "  'See the migration notes for details: %s' % _MIGRATION_NOTES_URL\n",
            "/usr/local/lib/python3.6/dist-packages/smart_open/smart_open_lib.py:254: UserWarning: This function is deprecated, use smart_open.open instead. See the migration notes for details: https://github.com/RaRe-Technologies/smart_open/blob/master/README.rst#migrating-to-the-new-open-function\n",
            "  'See the migration notes for details: %s' % _MIGRATION_NOTES_URL\n",
            "/usr/local/lib/python3.6/dist-packages/smart_open/smart_open_lib.py:254: UserWarning: This function is deprecated, use smart_open.open instead. See the migration notes for details: https://github.com/RaRe-Technologies/smart_open/blob/master/README.rst#migrating-to-the-new-open-function\n",
            "  'See the migration notes for details: %s' % _MIGRATION_NOTES_URL\n",
            "/usr/local/lib/python3.6/dist-packages/smart_open/smart_open_lib.py:254: UserWarning: This function is deprecated, use smart_open.open instead. See the migration notes for details: https://github.com/RaRe-Technologies/smart_open/blob/master/README.rst#migrating-to-the-new-open-function\n",
            "  'See the migration notes for details: %s' % _MIGRATION_NOTES_URL\n"
          ],
          "name": "stderr"
        }
      ]
    },
    {
      "cell_type": "code",
      "metadata": {
        "id": "ifjJSW042MpK",
        "colab_type": "code",
        "colab": {
          "base_uri": "https://localhost:8080/",
          "height": 1000
        },
        "outputId": "63b1815e-6014-41fc-aef5-1fe883e4bb9a"
      },
      "source": [
        "#Printing Topics\n",
        "ldaseq.print_topics(time=0)"
      ],
      "execution_count": 15,
      "outputs": [
        {
          "output_type": "execute_result",
          "data": {
            "text/plain": [
              "[[('people', 0.00874680075051746),\n",
              "  ('new', 0.004843613657542955),\n",
              "  ('one', 0.004695173880186267),\n",
              "  ('users', 0.004492421322513193),\n",
              "  ('use', 0.004324763984666068),\n",
              "  ('technology', 0.004168938080818997),\n",
              "  ('mobile', 0.0041139332500377025),\n",
              "  ('software', 0.00383462493467108),\n",
              "  ('games', 0.0034081757694272947),\n",
              "  ('uk', 0.003337472410174551),\n",
              "  ('many', 0.0031723099395692097),\n",
              "  ('used', 0.003151857299842342),\n",
              "  ('number', 0.0031305859608501845),\n",
              "  ('net', 0.003080740745045981),\n",
              "  ('online', 0.0029216809883559143),\n",
              "  ('computer', 0.002825443290322916),\n",
              "  ('phone', 0.0027995616757728737),\n",
              "  ('digital', 0.002752542740046923),\n",
              "  ('using', 0.0027441470230460427),\n",
              "  ('internet', 0.0026996748967806697)],\n",
              " [('year', 0.006422498840852814),\n",
              "  ('government', 0.004734466722997899),\n",
              "  ('new', 0.004461117912408718),\n",
              "  ('blair', 0.00421601194958282),\n",
              "  ('labour', 0.0037225322596352835),\n",
              "  ('election', 0.003710242104190938),\n",
              "  ('last', 0.0033647985143102008),\n",
              "  ('market', 0.003325824185144901),\n",
              "  ('growth', 0.0032055175836013783),\n",
              "  ('economy', 0.00312463670033896),\n",
              "  ('tax', 0.0030870979291680914),\n",
              "  ('minister', 0.0030629642334538336),\n",
              "  ('2004', 0.003007728188351138),\n",
              "  ('sales', 0.0028215113874487793),\n",
              "  ('economic', 0.002803639164053963),\n",
              "  ('years', 0.0027590766714613592),\n",
              "  ('brown', 0.0027457972770686834),\n",
              "  ('next', 0.0026200635147074452),\n",
              "  ('told', 0.0025734027317344714),\n",
              "  ('prices', 0.0025461328528753675)],\n",
              " [('people', 0.007041309667574297),\n",
              "  ('government', 0.006281691661659644),\n",
              "  ('law', 0.004229479314039827),\n",
              "  ('new', 0.0038279817918146996),\n",
              "  ('told', 0.0036084803744612227),\n",
              "  ('many', 0.0032604908919238017),\n",
              "  ('public', 0.0031585390054503695),\n",
              "  ('say', 0.0031428492379442707),\n",
              "  ('eu', 0.0029226628400902664),\n",
              "  ('one', 0.0027865553090257395),\n",
              "  ('rights', 0.0027736528528386688),\n",
              "  ('uk', 0.002664910274233331),\n",
              "  ('home', 0.0026433368220256173),\n",
              "  ('secretary', 0.002642121681883897),\n",
              "  ('ms', 0.0025932549972111315),\n",
              "  ('minister', 0.0025478162625796655),\n",
              "  ('says', 0.002502148977558389),\n",
              "  ('make', 0.002447971213269758),\n",
              "  ('system', 0.002396182116375517),\n",
              "  ('european', 0.002387290645744011)],\n",
              " [('game', 0.006617859015226027),\n",
              "  ('club', 0.005359340343239108),\n",
              "  ('players', 0.004859213208811522),\n",
              "  ('chelsea', 0.004838140653084144),\n",
              "  ('united', 0.0045289378676871975),\n",
              "  ('league', 0.004274906422073254),\n",
              "  ('win', 0.0042004099183103934),\n",
              "  ('play', 0.0037725351236565148),\n",
              "  ('football', 0.003751795209827116),\n",
              "  ('time', 0.003684403484339469),\n",
              "  ('arsenal', 0.003572412619211434),\n",
              "  ('first', 0.0035450390446434056),\n",
              "  ('cup', 0.0034930583543378644),\n",
              "  ('think', 0.0034505539718890305),\n",
              "  ('last', 0.0034086839129288666),\n",
              "  ('one', 0.0033685839635317714),\n",
              "  ('good', 0.0033670005713442967),\n",
              "  ('back', 0.0033647316614183794),\n",
              "  ('manager', 0.0032845219042724914),\n",
              "  ('two', 0.003167471274811529)],\n",
              " [('best', 0.010017908831902964),\n",
              "  ('film', 0.009105725733256515),\n",
              "  ('music', 0.007749991991990634),\n",
              "  ('show', 0.00618059864737245),\n",
              "  ('years', 0.006137870641227918),\n",
              "  ('new', 0.006064117428801074),\n",
              "  ('one', 0.005584043362774775),\n",
              "  ('awards', 0.004423527944526437),\n",
              "  ('award', 0.0041426039420935324),\n",
              "  ('band', 0.003895219352641956),\n",
              "  ('year', 0.003669932560256203),\n",
              "  ('last', 0.003575555539189325),\n",
              "  ('bbc', 0.0035226618483620714),\n",
              "  ('star', 0.0035193814026793567),\n",
              "  ('british', 0.0032358347844417324),\n",
              "  ('including', 0.0031484118028628906),\n",
              "  ('song', 0.003047498298030763),\n",
              "  ('first', 0.0030391138600767077),\n",
              "  ('director', 0.0029379991073810027),\n",
              "  ('two', 0.0027683713888347807)]]"
            ]
          },
          "metadata": {
            "tags": []
          },
          "execution_count": 15
        }
      ]
    },
    {
      "cell_type": "code",
      "metadata": {
        "id": "jzJ4sjGjgyZE",
        "colab_type": "code",
        "colab": {
          "base_uri": "https://localhost:8080/",
          "height": 1000
        },
        "outputId": "0a58a95c-5133-48d0-eef2-adaba7c6b3a8"
      },
      "source": [
        "#Topic Evolution\n",
        "ldaseq.print_topic_times(topic=0)"
      ],
      "execution_count": 16,
      "outputs": [
        {
          "output_type": "execute_result",
          "data": {
            "text/plain": [
              "[[('people', 0.00874680075051746),\n",
              "  ('new', 0.004843613657542955),\n",
              "  ('one', 0.004695173880186267),\n",
              "  ('users', 0.004492421322513193),\n",
              "  ('use', 0.004324763984666068),\n",
              "  ('technology', 0.004168938080818997),\n",
              "  ('mobile', 0.0041139332500377025),\n",
              "  ('software', 0.00383462493467108),\n",
              "  ('games', 0.0034081757694272947),\n",
              "  ('uk', 0.003337472410174551),\n",
              "  ('many', 0.0031723099395692097),\n",
              "  ('used', 0.003151857299842342),\n",
              "  ('number', 0.0031305859608501845),\n",
              "  ('net', 0.003080740745045981),\n",
              "  ('online', 0.0029216809883559143),\n",
              "  ('computer', 0.002825443290322916),\n",
              "  ('phone', 0.0027995616757728737),\n",
              "  ('digital', 0.002752542740046923),\n",
              "  ('using', 0.0027441470230460427),\n",
              "  ('internet', 0.0026996748967806697)],\n",
              " [('people', 0.00886964763441495),\n",
              "  ('new', 0.0048980166856164385),\n",
              "  ('one', 0.004740918900276454),\n",
              "  ('technology', 0.004256615158505419),\n",
              "  ('use', 0.003938903251519493),\n",
              "  ('users', 0.003847814662094136),\n",
              "  ('mobile', 0.0037116511141609995),\n",
              "  ('software', 0.0035848587783266594),\n",
              "  ('games', 0.003473998889660627),\n",
              "  ('uk', 0.0033795008100859325),\n",
              "  ('many', 0.0031884115433164057),\n",
              "  ('number', 0.0031613531320335646),\n",
              "  ('used', 0.003002498640116831),\n",
              "  ('net', 0.0029632628205767063),\n",
              "  ('online', 0.0029549061967758827),\n",
              "  ('phone', 0.0028462991341791106),\n",
              "  ('computer', 0.002791217932983811),\n",
              "  ('digital', 0.002697490382311539),\n",
              "  ('using', 0.0026304350779290156),\n",
              "  ('service', 0.0026153353108859675)],\n",
              " [('people', 0.008975854529135789),\n",
              "  ('new', 0.004927950960907645),\n",
              "  ('one', 0.004767352166416876),\n",
              "  ('technology', 0.00435127356534893),\n",
              "  ('mobile', 0.004151182231156463),\n",
              "  ('use', 0.004048219009744381),\n",
              "  ('users', 0.003907181771391555),\n",
              "  ('software', 0.0037308278078077247),\n",
              "  ('games', 0.003490984039996752),\n",
              "  ('uk', 0.0034027251880419493),\n",
              "  ('many', 0.003193275449110595),\n",
              "  ('number', 0.003175720509479722),\n",
              "  ('net', 0.0031312698818737814),\n",
              "  ('used', 0.0030179920428078265),\n",
              "  ('online', 0.002976559881286325),\n",
              "  ('phone', 0.002891245455347076),\n",
              "  ('computer', 0.002853368643515668),\n",
              "  ('digital', 0.002835953049425781),\n",
              "  ('internet', 0.0027019858069803745),\n",
              "  ('service', 0.002684744368281196)]]"
            ]
          },
          "metadata": {
            "tags": []
          },
          "execution_count": 16
        }
      ]
    },
    {
      "cell_type": "code",
      "metadata": {
        "id": "FC_meLDnhGQ6",
        "colab_type": "code",
        "colab": {
          "base_uri": "https://localhost:8080/",
          "height": 88
        },
        "outputId": "02820e5e-9012-47cf-9f68-9293a1cd4e18"
      },
      "source": [
        "## word distribution in a specific document\n",
        "words = [dictionary[word_id] for word_id, count in corpus[558]]\n",
        "print (words)"
      ],
      "execution_count": 20,
      "outputs": [
        {
          "output_type": "stream",
          "text": [
            "['back', 'despite', 'earlier', 'hit', 'many', 'next', 'year', 'one', 'ask', 'court', 'december', 'group', 'real', 'month', 'done', 'president', 'record', 'work', 'brown', 'due', '50', 'promote', 'david', 'members', 'staff', 'suffered', 'arrested', 'away', 'charged', 'held', 'magazine', 'man', 'achievement', 'whose', 'attempted', 'holding', 'charge', 'second', 'receive', 'table', 'stage', 'counter', 'security', '20', 'name', 'involved', 'signed', 'award', 'stable', 'dr', 'young', 'james', 'awards', 'performer', 'ceremony', 'happened', 'condition', 'violence', 'appeared', 'music', 'allegedly', 'front', 'angeles', 'los', 'santa', 'stabbed', 'assault', 'murder', 'buck', 'attack', 'lifetime', 'dragged', 'label', 'rapper', 'crowd', 'johnson', 'jimmy', 'collapsed', 'hospital', 'cents', 'lung', 'dre', 'punching', 'dres', 'approached', '1000strong', 'autograph', 'darnell', 'deadly', 'ensuing', 'gibbs', 'gunit', 'hip', 'hop', 'kenard', 'monica', 'scuffle', 'seated', 'sickening', 'stabbing', 'vibe', 'weapon']\n"
          ],
          "name": "stdout"
        },
        {
          "output_type": "stream",
          "text": [
            "/usr/local/lib/python3.6/dist-packages/smart_open/smart_open_lib.py:254: UserWarning: This function is deprecated, use smart_open.open instead. See the migration notes for details: https://github.com/RaRe-Technologies/smart_open/blob/master/README.rst#migrating-to-the-new-open-function\n",
            "  'See the migration notes for details: %s' % _MIGRATION_NOTES_URL\n"
          ],
          "name": "stderr"
        }
      ]
    },
    {
      "cell_type": "code",
      "metadata": {
        "id": "Klj5xSciiWne",
        "colab_type": "code",
        "colab": {
          "base_uri": "https://localhost:8080/",
          "height": 51
        },
        "outputId": "629ea06a-fb61-4d47-8fbf-ba9bc90304b8"
      },
      "source": [
        "## A specific document's latent topic distribution\n",
        "doc = ldaseq.doc_topics(558)\n",
        "print(doc)"
      ],
      "execution_count": 21,
      "outputs": [
        {
          "output_type": "stream",
          "text": [
            "[2.25117166e-01 4.63142551e-02 8.32986256e-05 2.51892169e-01\n",
            " 4.76593112e-01]\n"
          ],
          "name": "stdout"
        }
      ]
    },
    {
      "cell_type": "code",
      "metadata": {
        "id": "8VEyQgVhiu8K",
        "colab_type": "code",
        "colab": {
          "base_uri": "https://localhost:8080/",
          "height": 34
        },
        "outputId": "fc611fbb-9535-41e0-ba6b-73c40bb86bcf"
      },
      "source": [
        "doc_football_1 = ['economy', 'bank', 'mobile', 'phone', 'markets', 'buy', 'football', 'united', 'giggs'] #make up a news about how football affect economy\n",
        "doc_football_1 = dictionary.doc2bow(doc_football_1)\n",
        "doc_football_1 = ldaseq[doc_football_1]\n",
        "print (doc_football_1)"
      ],
      "execution_count": 22,
      "outputs": [
        {
          "output_type": "stream",
          "text": [
            "[0.2592062  0.40756043 0.00110497 0.33102343 0.00110497]\n"
          ],
          "name": "stdout"
        }
      ]
    },
    {
      "cell_type": "code",
      "metadata": {
        "id": "DXkMBjiJkSCS",
        "colab_type": "code",
        "colab": {
          "base_uri": "https://localhost:8080/",
          "height": 34
        },
        "outputId": "a545304f-df59-4ac5-cf0c-bcf66a7e5180"
      },
      "source": [
        "## topic distance between documents (hellinger distance: measure similarity of two distribution)\n",
        "doc_football_2 = ['arsenal', 'fourth', 'wenger', 'oil', 'middle', 'east', 'sanction', 'fluctuation']\n",
        "doc_football_2 = dictionary.doc2bow(doc_football_2)\n",
        "doc_football_2 = ldaseq[doc_football_2]\n",
        "hellinger(doc_football_1, doc_football_2)"
      ],
      "execution_count": 23,
      "outputs": [
        {
          "output_type": "execute_result",
          "data": {
            "text/plain": [
              "0.3475448204093096"
            ]
          },
          "metadata": {
            "tags": []
          },
          "execution_count": 23
        }
      ]
    },
    {
      "cell_type": "code",
      "metadata": {
        "id": "8dmOwe4mlq2l",
        "colab_type": "code",
        "colab": {
          "base_uri": "https://localhost:8080/",
          "height": 1000
        },
        "outputId": "b8f009b3-1ff4-420f-aeb7-aa76ba89929a"
      },
      "source": [
        "## changing rate of topic factors(words in topics)\n",
        "ldaseq.print_topic_times(1)\n",
        "\n",
        "##Note: the chain_variance parameter could affect the result"
      ],
      "execution_count": 24,
      "outputs": [
        {
          "output_type": "execute_result",
          "data": {
            "text/plain": [
              "[[('year', 0.006422498840852814),\n",
              "  ('government', 0.004734466722997899),\n",
              "  ('new', 0.004461117912408718),\n",
              "  ('blair', 0.00421601194958282),\n",
              "  ('labour', 0.0037225322596352835),\n",
              "  ('election', 0.003710242104190938),\n",
              "  ('last', 0.0033647985143102008),\n",
              "  ('market', 0.003325824185144901),\n",
              "  ('growth', 0.0032055175836013783),\n",
              "  ('economy', 0.00312463670033896),\n",
              "  ('tax', 0.0030870979291680914),\n",
              "  ('minister', 0.0030629642334538336),\n",
              "  ('2004', 0.003007728188351138),\n",
              "  ('sales', 0.0028215113874487793),\n",
              "  ('economic', 0.002803639164053963),\n",
              "  ('years', 0.0027590766714613592),\n",
              "  ('brown', 0.0027457972770686834),\n",
              "  ('next', 0.0026200635147074452),\n",
              "  ('told', 0.0025734027317344714),\n",
              "  ('prices', 0.0025461328528753675)],\n",
              " [('year', 0.006427926428040818),\n",
              "  ('government', 0.004741485327876983),\n",
              "  ('new', 0.004502122663777059),\n",
              "  ('blair', 0.004282773504749348),\n",
              "  ('labour', 0.003785514221338721),\n",
              "  ('election', 0.0037842324279770572),\n",
              "  ('last', 0.003372334646966216),\n",
              "  ('market', 0.0033548062223065886),\n",
              "  ('growth', 0.003200414731415426),\n",
              "  ('minister', 0.0031604296440587466),\n",
              "  ('tax', 0.0031434130727409993),\n",
              "  ('economy', 0.0031106599978186736),\n",
              "  ('2004', 0.0030168926842779192),\n",
              "  ('sales', 0.0028165721011474023),\n",
              "  ('economic', 0.002811964345784764),\n",
              "  ('brown', 0.002810320748818694),\n",
              "  ('years', 0.002776169000055266),\n",
              "  ('next', 0.0026428044319033233),\n",
              "  ('told', 0.0025961541257337887),\n",
              "  ('prices', 0.0025691892859313254)],\n",
              " [('year', 0.006417741470553487),\n",
              "  ('government', 0.004753038587737947),\n",
              "  ('new', 0.004550185580681061),\n",
              "  ('blair', 0.004368003201625975),\n",
              "  ('labour', 0.003899729706643276),\n",
              "  ('election', 0.003894217371369269),\n",
              "  ('market', 0.0033806499086749),\n",
              "  ('last', 0.003369691286114661),\n",
              "  ('minister', 0.003297197736771766),\n",
              "  ('tax', 0.003230708001233811),\n",
              "  ('growth', 0.0031832872916147522),\n",
              "  ('economy', 0.003094757114867144),\n",
              "  ('2004', 0.0030197312626711265),\n",
              "  ('brown', 0.0029126428242355353),\n",
              "  ('economic', 0.002815264887278606),\n",
              "  ('sales', 0.0027962974005999552),\n",
              "  ('years', 0.0027957426166955327),\n",
              "  ('next', 0.0026719487328737256),\n",
              "  ('told', 0.0026233034869405946),\n",
              "  ('prime', 0.0026215167003601847)]]"
            ]
          },
          "metadata": {
            "tags": []
          },
          "execution_count": 24
        }
      ]
    },
    {
      "cell_type": "code",
      "metadata": {
        "id": "7aWaBXzhwfrg",
        "colab_type": "code",
        "colab": {}
      },
      "source": [
        ""
      ],
      "execution_count": null,
      "outputs": []
    }
  ]
}