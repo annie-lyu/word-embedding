{
  "nbformat": 4,
  "nbformat_minor": 0,
  "metadata": {
    "colab": {
      "name": "doc2vec (with pretrained word embeddings) lowercase.ipynb",
      "provenance": [],
      "collapsed_sections": [],
      "authorship_tag": "ABX9TyNu7WmXsGcwVNqJtMHMSgwS",
      "include_colab_link": true
    },
    "kernelspec": {
      "name": "python3",
      "display_name": "Python 3"
    }
  },
  "cells": [
    {
      "cell_type": "markdown",
      "metadata": {
        "id": "view-in-github",
        "colab_type": "text"
      },
      "source": [
        "<a href=\"https://colab.research.google.com/github/annie-lyu/word-embedding/blob/master/doc2vec_(with_pretrained_word_embeddings)_lowercase.ipynb\" target=\"_parent\"><img src=\"https://colab.research.google.com/assets/colab-badge.svg\" alt=\"Open In Colab\"/></a>"
      ]
    },
    {
      "cell_type": "code",
      "metadata": {
        "id": "L9mPvVKaucPo",
        "colab_type": "code",
        "colab": {
          "base_uri": "https://localhost:8080/",
          "height": 122
        },
        "outputId": "42dcb589-189b-4f86-8515-184810a8dfd9"
      },
      "source": [
        "import glob\n",
        "from google.colab import drive\n",
        "drive.mount('/content/drive')"
      ],
      "execution_count": 1,
      "outputs": [
        {
          "output_type": "stream",
          "text": [
            "Go to this URL in a browser: https://accounts.google.com/o/oauth2/auth?client_id=947318989803-6bn6qk8qdgf4n4g3pfee6491hc0brc4i.apps.googleusercontent.com&redirect_uri=urn%3aietf%3awg%3aoauth%3a2.0%3aoob&scope=email%20https%3a%2f%2fwww.googleapis.com%2fauth%2fdocs.test%20https%3a%2f%2fwww.googleapis.com%2fauth%2fdrive%20https%3a%2f%2fwww.googleapis.com%2fauth%2fdrive.photos.readonly%20https%3a%2f%2fwww.googleapis.com%2fauth%2fpeopleapi.readonly&response_type=code\n",
            "\n",
            "Enter your authorization code:\n",
            "4/3wFURVovtk8vCl4EyYZUMH1XenwZBUgI1tQh5BLpM8kXUToX0AKRM2g\n",
            "Mounted at /content/drive\n"
          ],
          "name": "stdout"
        }
      ]
    },
    {
      "cell_type": "code",
      "metadata": {
        "id": "8UyJ_zurvxcl",
        "colab_type": "code",
        "colab": {}
      },
      "source": [
        "import gensim.models as g\n",
        "import logging\n",
        "from gensim.test.utils import common_texts\n",
        "from gensim.models.doc2vec import Doc2Vec, TaggedLineDocument, TaggedDocument"
      ],
      "execution_count": 2,
      "outputs": []
    },
    {
      "cell_type": "code",
      "metadata": {
        "id": "-LdgmPiC41IM",
        "colab_type": "code",
        "colab": {}
      },
      "source": [
        "##optimal hyperparameter setting found by Lau and Baldwin (2016) and confirmed by \n",
        "vector_size = 300\n",
        "window_size = 15\n",
        "min_count = 1\n",
        "sampling_threshold = 1e-5\n",
        "negative_size = 5\n",
        "train_epoch = 100\n",
        "dm = 0\n",
        "worker_count = 1 "
      ],
      "execution_count": 3,
      "outputs": []
    },
    {
      "cell_type": "code",
      "metadata": {
        "id": "xgUPxgrH5LgO",
        "colab_type": "code",
        "colab": {}
      },
      "source": [
        "pretrained_emb = \"/content/drive/My Drive/test/glove.6B.100d.txt\"\n",
        "saved_path = \"/content/drive/My Drive/test/model_6k_cor.bin\"\n",
        "logging.basicConfig(format='%(asctime)s : %(levelname)s : %(message)s', level=logging.INFO)"
      ],
      "execution_count": 4,
      "outputs": []
    },
    {
      "cell_type": "code",
      "metadata": {
        "id": "FFnzq61rXAU4",
        "colab_type": "code",
        "colab": {}
      },
      "source": [
        "import re\n",
        "def removePunctuation(text):\n",
        "    punctuation = '\\\\\\\\!,;:?\"\\'.-=^/|+-'\n",
        "    text = re.sub(r'[{}]+'.format(punctuation),'',text)\n",
        "    text = text.replace(\"\\n\", \"\")\n",
        "    return text"
      ],
      "execution_count": 5,
      "outputs": []
    },
    {
      "cell_type": "code",
      "metadata": {
        "id": "2JQEQVb5b6pa",
        "colab_type": "code",
        "colab": {
          "base_uri": "https://localhost:8080/",
          "height": 102
        },
        "outputId": "ae2cb3b5-eee9-4db2-edcb-425b2cf6074e"
      },
      "source": [
        "!pip install pyspellchecker\n",
        "from spellchecker import SpellChecker\n",
        "spell = SpellChecker()"
      ],
      "execution_count": 6,
      "outputs": [
        {
          "output_type": "stream",
          "text": [
            "Collecting pyspellchecker\n",
            "\u001b[?25l  Downloading https://files.pythonhosted.org/packages/f1/96/827c132397d0eb5731c1eda05dbfb019ede064ca8c7d0f329160ce0a4acd/pyspellchecker-0.5.5-py2.py3-none-any.whl (1.9MB)\n",
            "\u001b[K     |████████████████████████████████| 1.9MB 5.5MB/s \n",
            "\u001b[?25hInstalling collected packages: pyspellchecker\n",
            "Successfully installed pyspellchecker-0.5.5\n"
          ],
          "name": "stdout"
        }
      ]
    },
    {
      "cell_type": "code",
      "metadata": {
        "id": "_6uWWUKK3T3E",
        "colab_type": "code",
        "colab": {}
      },
      "source": [
        "[\n",
        " 'goddamnit',\n",
        " 'meadowdaaaaaaaaaaaaaaaleeeeee',\n",
        " 'seeping',\n",
        " 'waaaaariorss',\n",
        " 'lolog',\n",
        " 'vt',\n",
        " 'tew',\n",
        " 'churchgoer',\n",
        " 'lefsen',\n",
        " 'karmawhoring',\n",
        " 'mckinnon',\n",
        " 'toshing',\n",
        " 'huehuehue',\n",
        " 'meespeltt',\n",
        " 'rebate',\n",
        " 'ahem',\n",
        " 'iud',\n",
        " 'misdemeanor',\n",
        " 'swansea',\n",
        " 'duckish',\n",
        " 'madagascar',\n",
        " 'balder',\n",
        " 'yus',\n",
        " 'swag',\n",
        " 'debatable',\n",
        " 'ø',\n",
        " 'courty',\n",
        " 'hummel',\n",
        " 'bow',\n",
        " 'basket',\n",
        " 'roy',\n",
        " 'rectum',\n",
        " 'jerks',\n",
        " 'meteor',\n",
        " 'skosh',\n",
        " 'î',\n",
        " 'arr',\n",
        " 'goonies',\n",
        " 'halftime',\n",
        " 'woooooooooooooooooooooooooo',\n",
        " 'ð',\n",
        "  'da',\n",
        " 'pop',\n",
        " 'camp',\n",
        " 'boom',\n",
        " 'bam',\n",
        " 'bop',\n",
        " 'bout',\n",
        " 'ba',\n",
        " 'rotta',\n",
        " 'kalam',\n",
        " 'beep',\n",
        " 'æ',\n",
        " 'plotting', 'mccourt', 'catholic', 'overheads', 'crohn',\n",
        " 'ratio',\n",
        " 'conscripted',\n",
        " 'baker',\n",
        " 'japan',\n",
        " 'murderer',\n",
        " 'gg',\n",
        " 'tbp',\n",
        " 'pls',\n",
        " 'geffen',\n",
        " 'cries',\n",
        " 'easton',\n",
        " '\\x00',\n",
        " 'goodies',\n",
        " 'misdemeanour',\n",
        " 'stroke',\n",
        " 'conflicted',\n",
        " 'lollo',\n",
        " 'careful',\n",
        " 'sknsh',\n",
        " 'penis',\n",
        " 'infuriated', 'preach', '\\x00'\n",
        " 'toshiba',  'spirit', 'toshiba', 'acorn']"
      ],
      "execution_count": null,
      "outputs": []
    },
    {
      "cell_type": "code",
      "metadata": {
        "id": "ldqX17StXBOG",
        "colab_type": "code",
        "colab": {
          "base_uri": "https://localhost:8080/",
          "height": 51
        },
        "outputId": "a8651bd2-1bcc-4057-893e-9e29c1b8f546"
      },
      "source": [
        "import nltk\n",
        "with open(\"/content/drive/My Drive/test/reddit_6k.txt\",encoding='latin-1') as f:\n",
        "    data = f.read().replace('\"', \"\")\n",
        "nltk.download('stopwords')\n",
        "from nltk.corpus import stopwords\n",
        "stop_words = list(set(stopwords.words('english'))) +['whimpering','fabio','alps', 'initial', 'betters',  'casio', 'wild', 'power', 'haden', 'debatable', 'hummel', 'he/she', 'scooby', 'roflmao',\n",
        "                                                     'fees', 'carbonated', 'da', 'scrolls', 'swansea', 'acceptance', 'sieze', 'career', 'end', 'hug', 'permit','matters', 'iud','cann']\n",
        "\n",
        "text = data.split(\"\\n\")\n",
        "removed = []\n",
        "for corpus in text:\n",
        "  corpus = removePunctuation(corpus)\n",
        "  words = corpus.split(\" \") \n",
        "  words = [word for word in words if \"ù\" not in word]\n",
        "  words = [word for word in words if \"ï\" not in word]\n",
        "  words = [word for word in words if \"â\" not in word]\n",
        "  words = [word for word in words if \"ñ\" not in word]\n",
        "  words = [word for word in words if \"æ\" not in word]\n",
        "  words = [word for word in words if \"ã\" not in word]\n",
        "  words = [word for word in words if \"ð\" not in word]\n",
        "  words = [word for word in words if \"ÿ\" not in word]\n",
        "  words = [spell.correction(word) for word in words]\n",
        "  word = [word for word in words if word not in stop_words]\n",
        "  removed += [word]\n",
        "\n",
        "new_corpus = [\" \".join(words) for words in removed]\n",
        "new_data = \" \\n\".join(new_corpus)\n",
        "\n",
        "\n",
        "with open('/content/drive/My Drive/test/reddit_6k_utf8_rmstop.txt','w',encoding='utf8') as f:\n",
        "    f.write(new_data)\n",
        "\n",
        "docs = g.doc2vec.TaggedLineDocument('/content/drive/My Drive/test/reddit_6k_utf8_rmstop.txt')\n",
        "\n",
        "\n"
      ],
      "execution_count": 95,
      "outputs": [
        {
          "output_type": "stream",
          "text": [
            "[nltk_data] Downloading package stopwords to /root/nltk_data...\n",
            "[nltk_data]   Package stopwords is already up-to-date!\n"
          ],
          "name": "stdout"
        }
      ]
    },
    {
      "cell_type": "code",
      "metadata": {
        "id": "mpA5qXdQBUfO",
        "colab_type": "code",
        "colab": {}
      },
      "source": [
        ""
      ],
      "execution_count": null,
      "outputs": []
    },
    {
      "cell_type": "code",
      "metadata": {
        "id": "wHDlsFBg_v-9",
        "colab_type": "code",
        "colab": {
          "base_uri": "https://localhost:8080/",
          "height": 1000
        },
        "outputId": "41869f5d-47fe-4e74-bf17-9de3da2bccc4"
      },
      "source": [
        "\n",
        "model_6k_cor = g.Doc2Vec(docs, size=vector_size, window=window_size, min_count=min_count, sample=sampling_threshold, workers=worker_count, hs=0, dm=dm, negative=negative_size, dbow_words=1, dm_concat=1, pretrained_emb=pretrained_emb, iter=train_epoch)\n",
        "\n",
        "#save model\n",
        "model_6k_cor.save(saved_path)\n"
      ],
      "execution_count": 96,
      "outputs": [
        {
          "output_type": "stream",
          "text": [
            "/usr/local/lib/python3.6/dist-packages/gensim/models/doc2vec.py:566: UserWarning: The parameter `iter` is deprecated, will be removed in 4.0.0, use `epochs` instead.\n",
            "  warnings.warn(\"The parameter `iter` is deprecated, will be removed in 4.0.0, use `epochs` instead.\")\n",
            "/usr/local/lib/python3.6/dist-packages/gensim/models/doc2vec.py:570: UserWarning: The parameter `size` is deprecated, will be removed in 4.0.0, use `vector_size` instead.\n",
            "  warnings.warn(\"The parameter `size` is deprecated, will be removed in 4.0.0, use `vector_size` instead.\")\n",
            "2020-09-10 16:14:59,504 : INFO : collecting all words and their counts\n",
            "/usr/local/lib/python3.6/dist-packages/smart_open/smart_open_lib.py:254: UserWarning: This function is deprecated, use smart_open.open instead. See the migration notes for details: https://github.com/RaRe-Technologies/smart_open/blob/master/README.rst#migrating-to-the-new-open-function\n",
            "  'See the migration notes for details: %s' % _MIGRATION_NOTES_URL\n",
            "2020-09-10 16:14:59,507 : INFO : PROGRESS: at example #0, processed 0 words (0/s), 0 word types, 0 tags\n",
            "2020-09-10 16:14:59,547 : INFO : collected 9578 word types and 6000 unique tags from a corpus of 6000 examples and 45619 words\n",
            "2020-09-10 16:14:59,548 : INFO : Loading a fresh vocabulary\n",
            "2020-09-10 16:14:59,571 : INFO : effective_min_count=1 retains 9578 unique words (100% of original 9578, drops 0)\n",
            "2020-09-10 16:14:59,572 : INFO : effective_min_count=1 leaves 45619 word corpus (100% of original 45619, drops 0)\n",
            "2020-09-10 16:14:59,614 : INFO : deleting the raw counts dictionary of 9578 items\n",
            "2020-09-10 16:14:59,615 : INFO : sample=1e-05 downsamples 4421 most-common words\n",
            "2020-09-10 16:14:59,615 : INFO : downsampling leaves estimated 14558 word corpus (31.9% of prior 45619)\n",
            "2020-09-10 16:14:59,645 : INFO : estimated required memory for 9578 words and 300 dimensions: 34976200 bytes\n",
            "2020-09-10 16:14:59,646 : INFO : resetting layer weights\n",
            "2020-09-10 16:15:03,121 : INFO : training model with 1 workers on 9579 vocabulary and 300 features, using sg=1 hs=0 sample=1e-05 negative=5 window=15\n",
            "2020-09-10 16:15:03,581 : INFO : worker thread finished; awaiting finish of 0 more threads\n",
            "2020-09-10 16:15:03,582 : INFO : EPOCH - 1 : training on 45619 raw words (20544 effective words) took 0.5s, 45607 effective words/s\n",
            "2020-09-10 16:15:04,033 : INFO : worker thread finished; awaiting finish of 0 more threads\n",
            "2020-09-10 16:15:04,034 : INFO : EPOCH - 2 : training on 45619 raw words (20494 effective words) took 0.4s, 46181 effective words/s\n",
            "2020-09-10 16:15:04,472 : INFO : worker thread finished; awaiting finish of 0 more threads\n",
            "2020-09-10 16:15:04,473 : INFO : EPOCH - 3 : training on 45619 raw words (20637 effective words) took 0.4s, 47681 effective words/s\n",
            "2020-09-10 16:15:05,047 : INFO : worker thread finished; awaiting finish of 0 more threads\n",
            "2020-09-10 16:15:05,048 : INFO : EPOCH - 4 : training on 45619 raw words (20585 effective words) took 0.6s, 36156 effective words/s\n",
            "2020-09-10 16:15:05,496 : INFO : worker thread finished; awaiting finish of 0 more threads\n",
            "2020-09-10 16:15:05,497 : INFO : EPOCH - 5 : training on 45619 raw words (20465 effective words) took 0.4s, 46135 effective words/s\n",
            "2020-09-10 16:15:05,931 : INFO : worker thread finished; awaiting finish of 0 more threads\n",
            "2020-09-10 16:15:05,932 : INFO : EPOCH - 6 : training on 45619 raw words (20508 effective words) took 0.4s, 47884 effective words/s\n",
            "2020-09-10 16:15:06,374 : INFO : worker thread finished; awaiting finish of 0 more threads\n",
            "2020-09-10 16:15:06,375 : INFO : EPOCH - 7 : training on 45619 raw words (20721 effective words) took 0.4s, 47358 effective words/s\n",
            "2020-09-10 16:15:06,815 : INFO : worker thread finished; awaiting finish of 0 more threads\n",
            "2020-09-10 16:15:06,816 : INFO : EPOCH - 8 : training on 45619 raw words (20710 effective words) took 0.4s, 47483 effective words/s\n",
            "2020-09-10 16:15:07,352 : INFO : worker thread finished; awaiting finish of 0 more threads\n",
            "2020-09-10 16:15:07,353 : INFO : EPOCH - 9 : training on 45619 raw words (20478 effective words) took 0.5s, 38638 effective words/s\n",
            "2020-09-10 16:15:07,808 : INFO : worker thread finished; awaiting finish of 0 more threads\n",
            "2020-09-10 16:15:07,810 : INFO : EPOCH - 10 : training on 45619 raw words (20641 effective words) took 0.5s, 45602 effective words/s\n",
            "2020-09-10 16:15:08,249 : INFO : worker thread finished; awaiting finish of 0 more threads\n",
            "2020-09-10 16:15:08,250 : INFO : EPOCH - 11 : training on 45619 raw words (20708 effective words) took 0.4s, 47699 effective words/s\n",
            "2020-09-10 16:15:08,690 : INFO : worker thread finished; awaiting finish of 0 more threads\n",
            "2020-09-10 16:15:08,691 : INFO : EPOCH - 12 : training on 45619 raw words (20564 effective words) took 0.4s, 47242 effective words/s\n",
            "2020-09-10 16:15:09,136 : INFO : worker thread finished; awaiting finish of 0 more threads\n",
            "2020-09-10 16:15:09,137 : INFO : EPOCH - 13 : training on 45619 raw words (20509 effective words) took 0.4s, 46589 effective words/s\n",
            "2020-09-10 16:15:09,679 : INFO : worker thread finished; awaiting finish of 0 more threads\n",
            "2020-09-10 16:15:09,682 : INFO : EPOCH - 14 : training on 45619 raw words (20537 effective words) took 0.5s, 38116 effective words/s\n",
            "2020-09-10 16:15:10,131 : INFO : worker thread finished; awaiting finish of 0 more threads\n",
            "2020-09-10 16:15:10,132 : INFO : EPOCH - 15 : training on 45619 raw words (20653 effective words) took 0.4s, 46221 effective words/s\n",
            "2020-09-10 16:15:10,578 : INFO : worker thread finished; awaiting finish of 0 more threads\n",
            "2020-09-10 16:15:10,579 : INFO : EPOCH - 16 : training on 45619 raw words (20577 effective words) took 0.4s, 46649 effective words/s\n",
            "2020-09-10 16:15:11,026 : INFO : worker thread finished; awaiting finish of 0 more threads\n",
            "2020-09-10 16:15:11,028 : INFO : EPOCH - 17 : training on 45619 raw words (20525 effective words) took 0.4s, 46368 effective words/s\n",
            "2020-09-10 16:15:11,487 : INFO : worker thread finished; awaiting finish of 0 more threads\n",
            "2020-09-10 16:15:11,488 : INFO : EPOCH - 18 : training on 45619 raw words (20666 effective words) took 0.5s, 45295 effective words/s\n",
            "2020-09-10 16:15:12,031 : INFO : worker thread finished; awaiting finish of 0 more threads\n",
            "2020-09-10 16:15:12,032 : INFO : EPOCH - 19 : training on 45619 raw words (20651 effective words) took 0.5s, 38323 effective words/s\n",
            "2020-09-10 16:15:12,487 : INFO : worker thread finished; awaiting finish of 0 more threads\n",
            "2020-09-10 16:15:12,488 : INFO : EPOCH - 20 : training on 45619 raw words (20461 effective words) took 0.4s, 45577 effective words/s\n",
            "2020-09-10 16:15:12,922 : INFO : worker thread finished; awaiting finish of 0 more threads\n",
            "2020-09-10 16:15:12,923 : INFO : EPOCH - 21 : training on 45619 raw words (20354 effective words) took 0.4s, 47395 effective words/s\n",
            "2020-09-10 16:15:13,371 : INFO : worker thread finished; awaiting finish of 0 more threads\n",
            "2020-09-10 16:15:13,372 : INFO : EPOCH - 22 : training on 45619 raw words (20537 effective words) took 0.4s, 46438 effective words/s\n",
            "2020-09-10 16:15:13,831 : INFO : worker thread finished; awaiting finish of 0 more threads\n",
            "2020-09-10 16:15:13,832 : INFO : EPOCH - 23 : training on 45619 raw words (20588 effective words) took 0.5s, 45369 effective words/s\n",
            "2020-09-10 16:15:14,294 : INFO : worker thread finished; awaiting finish of 0 more threads\n",
            "2020-09-10 16:15:14,295 : INFO : EPOCH - 24 : training on 45619 raw words (20606 effective words) took 0.5s, 45143 effective words/s\n",
            "2020-09-10 16:15:14,834 : INFO : worker thread finished; awaiting finish of 0 more threads\n",
            "2020-09-10 16:15:14,835 : INFO : EPOCH - 25 : training on 45619 raw words (20607 effective words) took 0.5s, 38595 effective words/s\n",
            "2020-09-10 16:15:15,275 : INFO : worker thread finished; awaiting finish of 0 more threads\n",
            "2020-09-10 16:15:15,276 : INFO : EPOCH - 26 : training on 45619 raw words (20563 effective words) took 0.4s, 47374 effective words/s\n",
            "2020-09-10 16:15:15,721 : INFO : worker thread finished; awaiting finish of 0 more threads\n",
            "2020-09-10 16:15:15,722 : INFO : EPOCH - 27 : training on 45619 raw words (20560 effective words) took 0.4s, 46554 effective words/s\n",
            "2020-09-10 16:15:16,162 : INFO : worker thread finished; awaiting finish of 0 more threads\n",
            "2020-09-10 16:15:16,163 : INFO : EPOCH - 28 : training on 45619 raw words (20461 effective words) took 0.4s, 46960 effective words/s\n",
            "2020-09-10 16:15:16,608 : INFO : worker thread finished; awaiting finish of 0 more threads\n",
            "2020-09-10 16:15:16,609 : INFO : EPOCH - 29 : training on 45619 raw words (20594 effective words) took 0.4s, 46863 effective words/s\n",
            "2020-09-10 16:15:17,138 : INFO : worker thread finished; awaiting finish of 0 more threads\n",
            "2020-09-10 16:15:17,140 : INFO : EPOCH - 30 : training on 45619 raw words (20538 effective words) took 0.5s, 39160 effective words/s\n",
            "2020-09-10 16:15:17,580 : INFO : worker thread finished; awaiting finish of 0 more threads\n",
            "2020-09-10 16:15:17,582 : INFO : EPOCH - 31 : training on 45619 raw words (20560 effective words) took 0.4s, 47040 effective words/s\n",
            "2020-09-10 16:15:18,023 : INFO : worker thread finished; awaiting finish of 0 more threads\n",
            "2020-09-10 16:15:18,024 : INFO : EPOCH - 32 : training on 45619 raw words (20727 effective words) took 0.4s, 47515 effective words/s\n",
            "2020-09-10 16:15:18,465 : INFO : worker thread finished; awaiting finish of 0 more threads\n",
            "2020-09-10 16:15:18,467 : INFO : EPOCH - 33 : training on 45619 raw words (20485 effective words) took 0.4s, 46865 effective words/s\n",
            "2020-09-10 16:15:18,891 : INFO : worker thread finished; awaiting finish of 0 more threads\n",
            "2020-09-10 16:15:18,892 : INFO : EPOCH - 34 : training on 45619 raw words (20563 effective words) took 0.4s, 48646 effective words/s\n",
            "2020-09-10 16:15:19,433 : INFO : worker thread finished; awaiting finish of 0 more threads\n",
            "2020-09-10 16:15:19,434 : INFO : EPOCH - 35 : training on 45619 raw words (20516 effective words) took 0.5s, 38312 effective words/s\n",
            "2020-09-10 16:15:19,870 : INFO : worker thread finished; awaiting finish of 0 more threads\n",
            "2020-09-10 16:15:19,871 : INFO : EPOCH - 36 : training on 45619 raw words (20366 effective words) took 0.4s, 47325 effective words/s\n",
            "2020-09-10 16:15:20,324 : INFO : worker thread finished; awaiting finish of 0 more threads\n",
            "2020-09-10 16:15:20,325 : INFO : EPOCH - 37 : training on 45619 raw words (20714 effective words) took 0.4s, 46213 effective words/s\n",
            "2020-09-10 16:15:20,752 : INFO : worker thread finished; awaiting finish of 0 more threads\n",
            "2020-09-10 16:15:20,753 : INFO : EPOCH - 38 : training on 45619 raw words (20530 effective words) took 0.4s, 48428 effective words/s\n",
            "2020-09-10 16:15:21,203 : INFO : worker thread finished; awaiting finish of 0 more threads\n",
            "2020-09-10 16:15:21,204 : INFO : EPOCH - 39 : training on 45619 raw words (20558 effective words) took 0.4s, 46185 effective words/s\n",
            "2020-09-10 16:15:21,629 : INFO : worker thread finished; awaiting finish of 0 more threads\n",
            "2020-09-10 16:15:21,630 : INFO : EPOCH - 40 : training on 45619 raw words (20534 effective words) took 0.4s, 48802 effective words/s\n",
            "2020-09-10 16:15:22,168 : INFO : worker thread finished; awaiting finish of 0 more threads\n",
            "2020-09-10 16:15:22,170 : INFO : EPOCH - 41 : training on 45619 raw words (20578 effective words) took 0.5s, 38543 effective words/s\n",
            "2020-09-10 16:15:22,617 : INFO : worker thread finished; awaiting finish of 0 more threads\n",
            "2020-09-10 16:15:22,617 : INFO : EPOCH - 42 : training on 45619 raw words (20394 effective words) took 0.4s, 46014 effective words/s\n",
            "2020-09-10 16:15:23,049 : INFO : worker thread finished; awaiting finish of 0 more threads\n",
            "2020-09-10 16:15:23,052 : INFO : EPOCH - 43 : training on 45619 raw words (20625 effective words) took 0.4s, 48067 effective words/s\n",
            "2020-09-10 16:15:23,482 : INFO : worker thread finished; awaiting finish of 0 more threads\n",
            "2020-09-10 16:15:23,482 : INFO : EPOCH - 44 : training on 45619 raw words (20520 effective words) took 0.4s, 48240 effective words/s\n",
            "2020-09-10 16:15:23,917 : INFO : worker thread finished; awaiting finish of 0 more threads\n",
            "2020-09-10 16:15:23,918 : INFO : EPOCH - 45 : training on 45619 raw words (20600 effective words) took 0.4s, 48054 effective words/s\n",
            "2020-09-10 16:15:24,447 : INFO : worker thread finished; awaiting finish of 0 more threads\n",
            "2020-09-10 16:15:24,448 : INFO : EPOCH - 46 : training on 45619 raw words (20466 effective words) took 0.5s, 39046 effective words/s\n",
            "2020-09-10 16:15:24,887 : INFO : worker thread finished; awaiting finish of 0 more threads\n",
            "2020-09-10 16:15:24,888 : INFO : EPOCH - 47 : training on 45619 raw words (20528 effective words) took 0.4s, 47198 effective words/s\n",
            "2020-09-10 16:15:25,348 : INFO : worker thread finished; awaiting finish of 0 more threads\n",
            "2020-09-10 16:15:25,349 : INFO : EPOCH - 48 : training on 45619 raw words (20510 effective words) took 0.5s, 45011 effective words/s\n",
            "2020-09-10 16:15:25,786 : INFO : worker thread finished; awaiting finish of 0 more threads\n",
            "2020-09-10 16:15:25,790 : INFO : EPOCH - 49 : training on 45619 raw words (20514 effective words) took 0.4s, 47257 effective words/s\n",
            "2020-09-10 16:15:26,230 : INFO : worker thread finished; awaiting finish of 0 more threads\n",
            "2020-09-10 16:15:26,231 : INFO : EPOCH - 50 : training on 45619 raw words (20575 effective words) took 0.4s, 47217 effective words/s\n",
            "2020-09-10 16:15:26,748 : INFO : worker thread finished; awaiting finish of 0 more threads\n",
            "2020-09-10 16:15:26,749 : INFO : EPOCH - 51 : training on 45619 raw words (20599 effective words) took 0.5s, 40068 effective words/s\n",
            "2020-09-10 16:15:27,192 : INFO : worker thread finished; awaiting finish of 0 more threads\n",
            "2020-09-10 16:15:27,193 : INFO : EPOCH - 52 : training on 45619 raw words (20567 effective words) took 0.4s, 46984 effective words/s\n",
            "2020-09-10 16:15:27,623 : INFO : worker thread finished; awaiting finish of 0 more threads\n",
            "2020-09-10 16:15:27,624 : INFO : EPOCH - 53 : training on 45619 raw words (20713 effective words) took 0.4s, 48707 effective words/s\n",
            "2020-09-10 16:15:28,063 : INFO : worker thread finished; awaiting finish of 0 more threads\n",
            "2020-09-10 16:15:28,066 : INFO : EPOCH - 54 : training on 45619 raw words (20634 effective words) took 0.4s, 47197 effective words/s\n",
            "2020-09-10 16:15:28,528 : INFO : worker thread finished; awaiting finish of 0 more threads\n",
            "2020-09-10 16:15:28,529 : INFO : EPOCH - 55 : training on 45619 raw words (20607 effective words) took 0.5s, 44894 effective words/s\n",
            "2020-09-10 16:15:28,978 : INFO : worker thread finished; awaiting finish of 0 more threads\n",
            "2020-09-10 16:15:28,979 : INFO : EPOCH - 56 : training on 45619 raw words (20556 effective words) took 0.4s, 46303 effective words/s\n",
            "2020-09-10 16:15:29,513 : INFO : worker thread finished; awaiting finish of 0 more threads\n",
            "2020-09-10 16:15:29,514 : INFO : EPOCH - 57 : training on 45619 raw words (20581 effective words) took 0.5s, 38995 effective words/s\n",
            "2020-09-10 16:15:29,950 : INFO : worker thread finished; awaiting finish of 0 more threads\n",
            "2020-09-10 16:15:29,951 : INFO : EPOCH - 58 : training on 45619 raw words (20414 effective words) took 0.4s, 47323 effective words/s\n",
            "2020-09-10 16:15:30,407 : INFO : worker thread finished; awaiting finish of 0 more threads\n",
            "2020-09-10 16:15:30,408 : INFO : EPOCH - 59 : training on 45619 raw words (20707 effective words) took 0.5s, 45990 effective words/s\n",
            "2020-09-10 16:15:30,838 : INFO : worker thread finished; awaiting finish of 0 more threads\n",
            "2020-09-10 16:15:30,839 : INFO : EPOCH - 60 : training on 45619 raw words (20604 effective words) took 0.4s, 48426 effective words/s\n",
            "2020-09-10 16:15:31,295 : INFO : worker thread finished; awaiting finish of 0 more threads\n",
            "2020-09-10 16:15:31,296 : INFO : EPOCH - 61 : training on 45619 raw words (20517 effective words) took 0.5s, 45541 effective words/s\n",
            "2020-09-10 16:15:31,814 : INFO : worker thread finished; awaiting finish of 0 more threads\n",
            "2020-09-10 16:15:31,815 : INFO : EPOCH - 62 : training on 45619 raw words (20564 effective words) took 0.5s, 40092 effective words/s\n",
            "2020-09-10 16:15:32,259 : INFO : worker thread finished; awaiting finish of 0 more threads\n",
            "2020-09-10 16:15:32,260 : INFO : EPOCH - 63 : training on 45619 raw words (20540 effective words) took 0.4s, 46723 effective words/s\n",
            "2020-09-10 16:15:32,686 : INFO : worker thread finished; awaiting finish of 0 more threads\n",
            "2020-09-10 16:15:32,687 : INFO : EPOCH - 64 : training on 45619 raw words (20523 effective words) took 0.4s, 48727 effective words/s\n",
            "2020-09-10 16:15:33,130 : INFO : worker thread finished; awaiting finish of 0 more threads\n",
            "2020-09-10 16:15:33,131 : INFO : EPOCH - 65 : training on 45619 raw words (20511 effective words) took 0.4s, 46949 effective words/s\n",
            "2020-09-10 16:15:33,580 : INFO : worker thread finished; awaiting finish of 0 more threads\n",
            "2020-09-10 16:15:33,581 : INFO : EPOCH - 66 : training on 45619 raw words (20630 effective words) took 0.4s, 46473 effective words/s\n",
            "2020-09-10 16:15:34,115 : INFO : worker thread finished; awaiting finish of 0 more threads\n",
            "2020-09-10 16:15:34,116 : INFO : EPOCH - 67 : training on 45619 raw words (20474 effective words) took 0.5s, 38672 effective words/s\n",
            "2020-09-10 16:15:34,579 : INFO : worker thread finished; awaiting finish of 0 more threads\n",
            "2020-09-10 16:15:34,580 : INFO : EPOCH - 68 : training on 45619 raw words (20699 effective words) took 0.5s, 44865 effective words/s\n",
            "2020-09-10 16:15:35,012 : INFO : worker thread finished; awaiting finish of 0 more threads\n",
            "2020-09-10 16:15:35,013 : INFO : EPOCH - 69 : training on 45619 raw words (20439 effective words) took 0.4s, 47921 effective words/s\n",
            "2020-09-10 16:15:35,459 : INFO : worker thread finished; awaiting finish of 0 more threads\n",
            "2020-09-10 16:15:35,460 : INFO : EPOCH - 70 : training on 45619 raw words (20573 effective words) took 0.4s, 46742 effective words/s\n",
            "2020-09-10 16:15:35,887 : INFO : worker thread finished; awaiting finish of 0 more threads\n",
            "2020-09-10 16:15:35,888 : INFO : EPOCH - 71 : training on 45619 raw words (20433 effective words) took 0.4s, 48503 effective words/s\n",
            "2020-09-10 16:15:36,335 : INFO : worker thread finished; awaiting finish of 0 more threads\n",
            "2020-09-10 16:15:36,336 : INFO : EPOCH - 72 : training on 45619 raw words (20759 effective words) took 0.4s, 47027 effective words/s\n",
            "2020-09-10 16:15:36,859 : INFO : worker thread finished; awaiting finish of 0 more threads\n",
            "2020-09-10 16:15:36,860 : INFO : EPOCH - 73 : training on 45619 raw words (20591 effective words) took 0.5s, 39814 effective words/s\n",
            "2020-09-10 16:15:37,324 : INFO : worker thread finished; awaiting finish of 0 more threads\n",
            "2020-09-10 16:15:37,325 : INFO : EPOCH - 74 : training on 45619 raw words (20494 effective words) took 0.5s, 44727 effective words/s\n",
            "2020-09-10 16:15:37,763 : INFO : worker thread finished; awaiting finish of 0 more threads\n",
            "2020-09-10 16:15:37,764 : INFO : EPOCH - 75 : training on 45619 raw words (20546 effective words) took 0.4s, 47449 effective words/s\n",
            "2020-09-10 16:15:38,197 : INFO : worker thread finished; awaiting finish of 0 more threads\n",
            "2020-09-10 16:15:38,200 : INFO : EPOCH - 76 : training on 45619 raw words (20566 effective words) took 0.4s, 47877 effective words/s\n",
            "2020-09-10 16:15:38,620 : INFO : worker thread finished; awaiting finish of 0 more threads\n",
            "2020-09-10 16:15:38,621 : INFO : EPOCH - 77 : training on 45619 raw words (20436 effective words) took 0.4s, 48972 effective words/s\n",
            "2020-09-10 16:15:39,160 : INFO : worker thread finished; awaiting finish of 0 more threads\n",
            "2020-09-10 16:15:39,161 : INFO : EPOCH - 78 : training on 45619 raw words (20622 effective words) took 0.5s, 38721 effective words/s\n",
            "2020-09-10 16:15:39,602 : INFO : worker thread finished; awaiting finish of 0 more threads\n",
            "2020-09-10 16:15:39,603 : INFO : EPOCH - 79 : training on 45619 raw words (20574 effective words) took 0.4s, 47244 effective words/s\n",
            "2020-09-10 16:15:40,067 : INFO : worker thread finished; awaiting finish of 0 more threads\n",
            "2020-09-10 16:15:40,068 : INFO : EPOCH - 80 : training on 45619 raw words (20551 effective words) took 0.5s, 44790 effective words/s\n",
            "2020-09-10 16:15:40,517 : INFO : worker thread finished; awaiting finish of 0 more threads\n",
            "2020-09-10 16:15:40,518 : INFO : EPOCH - 81 : training on 45619 raw words (20619 effective words) took 0.4s, 46274 effective words/s\n",
            "2020-09-10 16:15:40,954 : INFO : worker thread finished; awaiting finish of 0 more threads\n",
            "2020-09-10 16:15:40,955 : INFO : EPOCH - 82 : training on 45619 raw words (20480 effective words) took 0.4s, 47419 effective words/s\n",
            "2020-09-10 16:15:41,500 : INFO : worker thread finished; awaiting finish of 0 more threads\n",
            "2020-09-10 16:15:41,501 : INFO : EPOCH - 83 : training on 45619 raw words (20597 effective words) took 0.5s, 38212 effective words/s\n",
            "2020-09-10 16:15:41,945 : INFO : worker thread finished; awaiting finish of 0 more threads\n",
            "2020-09-10 16:15:41,946 : INFO : EPOCH - 84 : training on 45619 raw words (20611 effective words) took 0.4s, 47262 effective words/s\n",
            "2020-09-10 16:15:42,402 : INFO : worker thread finished; awaiting finish of 0 more threads\n",
            "2020-09-10 16:15:42,403 : INFO : EPOCH - 85 : training on 45619 raw words (20470 effective words) took 0.5s, 45250 effective words/s\n",
            "2020-09-10 16:15:42,857 : INFO : worker thread finished; awaiting finish of 0 more threads\n",
            "2020-09-10 16:15:42,858 : INFO : EPOCH - 86 : training on 45619 raw words (20467 effective words) took 0.4s, 45689 effective words/s\n",
            "2020-09-10 16:15:43,313 : INFO : worker thread finished; awaiting finish of 0 more threads\n",
            "2020-09-10 16:15:43,314 : INFO : EPOCH - 87 : training on 45619 raw words (20692 effective words) took 0.5s, 45917 effective words/s\n",
            "2020-09-10 16:15:43,773 : INFO : worker thread finished; awaiting finish of 0 more threads\n",
            "2020-09-10 16:15:43,773 : INFO : EPOCH - 88 : training on 45619 raw words (20575 effective words) took 0.5s, 45348 effective words/s\n",
            "2020-09-10 16:15:44,313 : INFO : worker thread finished; awaiting finish of 0 more threads\n",
            "2020-09-10 16:15:44,314 : INFO : EPOCH - 89 : training on 45619 raw words (20679 effective words) took 0.5s, 38727 effective words/s\n",
            "2020-09-10 16:15:44,768 : INFO : worker thread finished; awaiting finish of 0 more threads\n",
            "2020-09-10 16:15:44,769 : INFO : EPOCH - 90 : training on 45619 raw words (20449 effective words) took 0.4s, 45591 effective words/s\n",
            "2020-09-10 16:15:45,227 : INFO : worker thread finished; awaiting finish of 0 more threads\n",
            "2020-09-10 16:15:45,228 : INFO : EPOCH - 91 : training on 45619 raw words (20659 effective words) took 0.5s, 45671 effective words/s\n",
            "2020-09-10 16:15:45,662 : INFO : worker thread finished; awaiting finish of 0 more threads\n",
            "2020-09-10 16:15:45,665 : INFO : EPOCH - 92 : training on 45619 raw words (20741 effective words) took 0.4s, 48204 effective words/s\n",
            "2020-09-10 16:15:46,113 : INFO : worker thread finished; awaiting finish of 0 more threads\n",
            "2020-09-10 16:15:46,114 : INFO : EPOCH - 93 : training on 45619 raw words (20567 effective words) took 0.4s, 46234 effective words/s\n",
            "2020-09-10 16:15:46,639 : INFO : worker thread finished; awaiting finish of 0 more threads\n",
            "2020-09-10 16:15:46,640 : INFO : EPOCH - 94 : training on 45619 raw words (20489 effective words) took 0.5s, 39544 effective words/s\n",
            "2020-09-10 16:15:47,079 : INFO : worker thread finished; awaiting finish of 0 more threads\n",
            "2020-09-10 16:15:47,080 : INFO : EPOCH - 95 : training on 45619 raw words (20494 effective words) took 0.4s, 47140 effective words/s\n",
            "2020-09-10 16:15:47,528 : INFO : worker thread finished; awaiting finish of 0 more threads\n",
            "2020-09-10 16:15:47,528 : INFO : EPOCH - 96 : training on 45619 raw words (20565 effective words) took 0.4s, 46514 effective words/s\n",
            "2020-09-10 16:15:47,963 : INFO : worker thread finished; awaiting finish of 0 more threads\n",
            "2020-09-10 16:15:47,964 : INFO : EPOCH - 97 : training on 45619 raw words (20697 effective words) took 0.4s, 48067 effective words/s\n",
            "2020-09-10 16:15:48,411 : INFO : worker thread finished; awaiting finish of 0 more threads\n",
            "2020-09-10 16:15:48,412 : INFO : EPOCH - 98 : training on 45619 raw words (20548 effective words) took 0.4s, 46567 effective words/s\n",
            "2020-09-10 16:15:48,935 : INFO : worker thread finished; awaiting finish of 0 more threads\n",
            "2020-09-10 16:15:48,936 : INFO : EPOCH - 99 : training on 45619 raw words (20437 effective words) took 0.5s, 39544 effective words/s\n",
            "2020-09-10 16:15:49,379 : INFO : worker thread finished; awaiting finish of 0 more threads\n",
            "2020-09-10 16:15:49,380 : INFO : EPOCH - 100 : training on 45619 raw words (20747 effective words) took 0.4s, 47561 effective words/s\n",
            "2020-09-10 16:15:49,382 : INFO : training on a 4561900 raw words (2056512 effective words) took 46.3s, 44456 effective words/s\n",
            "2020-09-10 16:15:49,387 : INFO : saving Doc2Vec object under /content/drive/My Drive/test/model_6k_cor.bin, separately None\n",
            "2020-09-10 16:15:49,896 : INFO : saved /content/drive/My Drive/test/model_6k_cor.bin\n"
          ],
          "name": "stderr"
        }
      ]
    },
    {
      "cell_type": "code",
      "metadata": {
        "id": "0hdGnxhTAJPx",
        "colab_type": "code",
        "colab": {
          "base_uri": "https://localhost:8080/",
          "height": 88
        },
        "outputId": "d231ca83-dc94-46b3-9081-a0c6327b6ffa"
      },
      "source": [
        "    outp1 = \"reddit_6k_cor_wv\"\n",
        "    outp2 = \"reddit_6k_cor_pv\"\n",
        "    outp3 = \"reddit_6k_cor_output\"\n",
        "    model_6k_cor.wv.save_word2vec_format(outp3) "
      ],
      "execution_count": 97,
      "outputs": [
        {
          "output_type": "stream",
          "text": [
            "2020-09-10 16:15:49,908 : INFO : storing 9579x300 projection weights into reddit_6k_cor_output\n",
            "/usr/local/lib/python3.6/dist-packages/smart_open/smart_open_lib.py:254: UserWarning: This function is deprecated, use smart_open.open instead. See the migration notes for details: https://github.com/RaRe-Technologies/smart_open/blob/master/README.rst#migrating-to-the-new-open-function\n",
            "  'See the migration notes for details: %s' % _MIGRATION_NOTES_URL\n"
          ],
          "name": "stderr"
        }
      ]
    },
    {
      "cell_type": "code",
      "metadata": {
        "id": "NnsyHnpJBZIw",
        "colab_type": "code",
        "colab": {}
      },
      "source": [
        "#model = g.doc2vec.Doc2Vec.load(\"/content/drive/My Drive/test/model.bin\")"
      ],
      "execution_count": null,
      "outputs": []
    },
    {
      "cell_type": "code",
      "metadata": {
        "id": "qz8kkC1do_53",
        "colab_type": "code",
        "colab": {
          "base_uri": "https://localhost:8080/",
          "height": 85
        },
        "outputId": "72e2bc5c-0628-47c4-fcd9-61f6395ccccf"
      },
      "source": [
        "#normalise vectors\n",
        "import numpy as np\n",
        "sum_of_rows = model_6k_cor.wv.syn0.sum(axis=1)\n",
        "normalized = model_6k_cor.wv.syn0 / sum_of_rows[:, np.newaxis]\n",
        "#normalized = np.delete(normalized,[829, 10172], 0)\n"
      ],
      "execution_count": 98,
      "outputs": [
        {
          "output_type": "stream",
          "text": [
            "/usr/local/lib/python3.6/dist-packages/ipykernel_launcher.py:3: DeprecationWarning: Call to deprecated `syn0` (Attribute will be removed in 4.0.0, use self.wv.vectors instead).\n",
            "  This is separate from the ipykernel package so we can avoid doing imports until\n",
            "/usr/local/lib/python3.6/dist-packages/ipykernel_launcher.py:4: DeprecationWarning: Call to deprecated `syn0` (Attribute will be removed in 4.0.0, use self.wv.vectors instead).\n",
            "  after removing the cwd from sys.path.\n"
          ],
          "name": "stderr"
        }
      ]
    },
    {
      "cell_type": "code",
      "metadata": {
        "id": "aIiA99y-PdqX",
        "colab_type": "code",
        "colab": {
          "base_uri": "https://localhost:8080/",
          "height": 612
        },
        "outputId": "a1ad4260-c0dc-457e-a7e8-de82cc3b729d"
      },
      "source": [
        "##clustering with pyclustering\n",
        "!pip3 install pyclustering\n",
        "from pyclustering.cluster.kmeans import kmeans, kmeans_visualizer\n",
        "from pyclustering.cluster.center_initializer import kmeans_plusplus_initializer\n",
        "from pyclustering.samples.definitions import FCPS_SAMPLES\n",
        "from pyclustering.utils import read_sample\n",
        "from pyclustering.utils.metric import distance_metric, type_metric\n",
        "\n",
        "\n",
        "# Prepare initial centers using K-Means++ method.\n",
        "initial_centers = kmeans_plusplus_initializer(normalized, 25).initialize()\n",
        " \n",
        "# Create instance of K-Means algorithm with prepared centers.\n",
        "kmeans_instance = kmeans(normalized, initial_centers)\n",
        "\n",
        "# Run cluster analysis and obtain results.\n",
        "kmeans_instance.process()\n",
        "clusters = kmeans_instance.get_clusters()\n",
        "final_centers = kmeans_instance.get_centers()\n",
        "\n",
        "# Visualize obtained results\n",
        "#cluster_visualizer.show_clusters(model.wv.syn0, clusters, final_centers)\n",
        "[len(i) for i in clusters]"
      ],
      "execution_count": 93,
      "outputs": [
        {
          "output_type": "stream",
          "text": [
            "Requirement already satisfied: pyclustering in /usr/local/lib/python3.6/dist-packages (0.10.0.1)\n",
            "Requirement already satisfied: numpy in /usr/local/lib/python3.6/dist-packages (from pyclustering) (1.18.5)\n",
            "Requirement already satisfied: matplotlib in /usr/local/lib/python3.6/dist-packages (from pyclustering) (3.2.2)\n",
            "Requirement already satisfied: Pillow in /usr/local/lib/python3.6/dist-packages (from pyclustering) (7.0.0)\n",
            "Requirement already satisfied: scipy in /usr/local/lib/python3.6/dist-packages (from pyclustering) (1.4.1)\n",
            "Requirement already satisfied: cycler>=0.10 in /usr/local/lib/python3.6/dist-packages (from matplotlib->pyclustering) (0.10.0)\n",
            "Requirement already satisfied: kiwisolver>=1.0.1 in /usr/local/lib/python3.6/dist-packages (from matplotlib->pyclustering) (1.2.0)\n",
            "Requirement already satisfied: python-dateutil>=2.1 in /usr/local/lib/python3.6/dist-packages (from matplotlib->pyclustering) (2.8.1)\n",
            "Requirement already satisfied: pyparsing!=2.0.4,!=2.1.2,!=2.1.6,>=2.0.1 in /usr/local/lib/python3.6/dist-packages (from matplotlib->pyclustering) (2.4.7)\n",
            "Requirement already satisfied: six in /usr/local/lib/python3.6/dist-packages (from cycler>=0.10->matplotlib->pyclustering) (1.15.0)\n"
          ],
          "name": "stdout"
        },
        {
          "output_type": "execute_result",
          "data": {
            "text/plain": [
              "[2473,\n",
              " 1,\n",
              " 1,\n",
              " 1,\n",
              " 2025,\n",
              " 1,\n",
              " 1,\n",
              " 1,\n",
              " 1,\n",
              " 1,\n",
              " 63,\n",
              " 31,\n",
              " 10,\n",
              " 3,\n",
              " 1,\n",
              " 3931,\n",
              " 1,\n",
              " 232,\n",
              " 699,\n",
              " 1,\n",
              " 98,\n",
              " 4,\n",
              " 1,\n",
              " 1,\n",
              " 1]"
            ]
          },
          "metadata": {
            "tags": []
          },
          "execution_count": 93
        }
      ]
    },
    {
      "cell_type": "code",
      "metadata": {
        "id": "MZS8KAk7E8GZ",
        "colab_type": "code",
        "colab": {
          "base_uri": "https://localhost:8080/",
          "height": 34
        },
        "outputId": "6e6dcf26-dd2f-4ad5-b984-893edf9d2423"
      },
      "source": [
        "clusters[5]"
      ],
      "execution_count": null,
      "outputs": [
        {
          "output_type": "execute_result",
          "data": {
            "text/plain": [
              "[27, 187, 301, 370, 413, 848, 2357, 5353, 5354]"
            ]
          },
          "metadata": {
            "tags": []
          },
          "execution_count": 113
        }
      ]
    },
    {
      "cell_type": "code",
      "metadata": {
        "id": "CsJJyn7c9XJQ",
        "colab_type": "code",
        "colab": {
          "base_uri": "https://localhost:8080/",
          "height": 35
        },
        "outputId": "f23adfc7-076a-45e7-80e1-ed60da595f87"
      },
      "source": [
        "model_6k_cor.wv.index2word[48]"
      ],
      "execution_count": null,
      "outputs": [
        {
          "output_type": "execute_result",
          "data": {
            "application/vnd.google.colaboratory.intrinsic+json": {
              "type": "string"
            },
            "text/plain": [
              "'shit'"
            ]
          },
          "metadata": {
            "tags": []
          },
          "execution_count": 128
        }
      ]
    },
    {
      "cell_type": "code",
      "metadata": {
        "id": "xJ-C0Vp26gBD",
        "colab_type": "code",
        "colab": {
          "base_uri": "https://localhost:8080/",
          "height": 255
        },
        "outputId": "616d4e60-4d7d-481e-9410-1b9d14265a15"
      },
      "source": [
        "[model_6k_cor.wv.index2word[i] for cluster in clusters for i in cluster if len(cluster) == 1]"
      ],
      "execution_count": 99,
      "outputs": [
        {
          "output_type": "execute_result",
          "data": {
            "text/plain": [
              "['fingerprinting',\n",
              " 'minute',\n",
              " 'fault',\n",
              " 'underhuman',\n",
              " 'transfer',\n",
              " 'martyrdom',\n",
              " 'owners',\n",
              " 'mystere',\n",
              " 'zqszj',\n",
              " 'twenties',\n",
              " 'del',\n",
              " 'edison',\n",
              " 'fame',\n",
              " 'dated']"
            ]
          },
          "metadata": {
            "tags": []
          },
          "execution_count": 99
        }
      ]
    },
    {
      "cell_type": "code",
      "metadata": {
        "id": "SGZDuvXgAnCf",
        "colab_type": "code",
        "colab": {
          "base_uri": "https://localhost:8080/",
          "height": 34
        },
        "outputId": "d916ac9f-930f-4d64-dc04-67f237d1e57e"
      },
      "source": [
        "[model_6k_cor.wv.index2word[i] for i in clusters[]]"
      ],
      "execution_count": null,
      "outputs": [
        {
          "output_type": "execute_result",
          "data": {
            "text/plain": [
              "['http', 'com', 'www', 'watch', 'nl', 'impure', 'v', 'couture']"
            ]
          },
          "metadata": {
            "tags": []
          },
          "execution_count": 244
        }
      ]
    },
    {
      "cell_type": "code",
      "metadata": {
        "id": "wZX9IvZVr_8b",
        "colab_type": "code",
        "colab": {
          "base_uri": "https://localhost:8080/",
          "height": 35
        },
        "outputId": "5445243c-9f6b-42ca-966c-eac512f18cee"
      },
      "source": [
        "\n",
        "model_6k_rm.wv.index2word[829]\n",
        "model_6k_rm.wv.index2word[10172]"
      ],
      "execution_count": null,
      "outputs": [
        {
          "output_type": "execute_result",
          "data": {
            "application/vnd.google.colaboratory.intrinsic+json": {
              "type": "string"
            },
            "text/plain": [
              "'foraging'"
            ]
          },
          "metadata": {
            "tags": []
          },
          "execution_count": 26
        }
      ]
    },
    {
      "cell_type": "code",
      "metadata": {
        "id": "vWX22MZGFOsx",
        "colab_type": "code",
        "colab": {
          "base_uri": "https://localhost:8080/",
          "height": 351
        },
        "outputId": "70688b97-7183-4d6b-9605-874fcf1fa5f7"
      },
      "source": [
        "import numpy\n",
        "import numpy as np\n",
        "import gensim\n",
        "from sklearn.cluster import KMeans\n",
        "from sklearn.decomposition import PCA\n",
        "from gensim.models import Doc2Vec\n",
        "\n",
        "\n",
        "pca = PCA(n_components=2).fit(normalized)\n",
        "datapoint = pca.transform(normalized)\n",
        "import matplotlib.pyplot as plt\n",
        "%matplotlib inline\n",
        "plt.figure\n",
        "label1 = [\"gray\", \"orange\", \"deepskyblue\", \"crimson\", \"cornflowerblue\", \n",
        "          \"mediumseagreen\", \"gold\"]\n",
        "\n",
        "col = [0]* len(normalized)\n",
        "for i in range(len(clusters)-1):\n",
        "  cl = clusters[i]\n",
        "  for j in cl:\n",
        "    col[j] = i\n",
        "\n",
        "color = [label1[i] for i in col]\n",
        "\n",
        "plt.scatter(datapoint[:, 0], datapoint[:, 1],  c=color)\n",
        "centroids = final_centers\n",
        "centroidpoint = pca.transform(centroids)\n",
        "plt.scatter(centroidpoint[:, 0], centroidpoint[:, 1], marker=\"^\", s=150, c=\"#000000\")\n",
        "plt.show()\n"
      ],
      "execution_count": null,
      "outputs": [
        {
          "output_type": "error",
          "ename": "IndexError",
          "evalue": "ignored",
          "traceback": [
            "\u001b[0;31m---------------------------------------------------------------------------\u001b[0m",
            "\u001b[0;31mIndexError\u001b[0m                                Traceback (most recent call last)",
            "\u001b[0;32m<ipython-input-57-8312314b2961>\u001b[0m in \u001b[0;36m<module>\u001b[0;34m()\u001b[0m\n\u001b[1;32m     21\u001b[0m     \u001b[0mcol\u001b[0m\u001b[0;34m[\u001b[0m\u001b[0mj\u001b[0m\u001b[0;34m]\u001b[0m \u001b[0;34m=\u001b[0m \u001b[0mi\u001b[0m\u001b[0;34m\u001b[0m\u001b[0;34m\u001b[0m\u001b[0m\n\u001b[1;32m     22\u001b[0m \u001b[0;34m\u001b[0m\u001b[0m\n\u001b[0;32m---> 23\u001b[0;31m \u001b[0mcolor\u001b[0m \u001b[0;34m=\u001b[0m \u001b[0;34m[\u001b[0m\u001b[0mlabel1\u001b[0m\u001b[0;34m[\u001b[0m\u001b[0mi\u001b[0m\u001b[0;34m]\u001b[0m \u001b[0;32mfor\u001b[0m \u001b[0mi\u001b[0m \u001b[0;32min\u001b[0m \u001b[0mcol\u001b[0m\u001b[0;34m]\u001b[0m\u001b[0;34m\u001b[0m\u001b[0;34m\u001b[0m\u001b[0m\n\u001b[0m\u001b[1;32m     24\u001b[0m \u001b[0;34m\u001b[0m\u001b[0m\n\u001b[1;32m     25\u001b[0m \u001b[0mplt\u001b[0m\u001b[0;34m.\u001b[0m\u001b[0mscatter\u001b[0m\u001b[0;34m(\u001b[0m\u001b[0mdatapoint\u001b[0m\u001b[0;34m[\u001b[0m\u001b[0;34m:\u001b[0m\u001b[0;34m,\u001b[0m \u001b[0;36m0\u001b[0m\u001b[0;34m]\u001b[0m\u001b[0;34m,\u001b[0m \u001b[0mdatapoint\u001b[0m\u001b[0;34m[\u001b[0m\u001b[0;34m:\u001b[0m\u001b[0;34m,\u001b[0m \u001b[0;36m1\u001b[0m\u001b[0;34m]\u001b[0m\u001b[0;34m,\u001b[0m  \u001b[0mc\u001b[0m\u001b[0;34m=\u001b[0m\u001b[0mcolor\u001b[0m\u001b[0;34m)\u001b[0m\u001b[0;34m\u001b[0m\u001b[0;34m\u001b[0m\u001b[0m\n",
            "\u001b[0;32m<ipython-input-57-8312314b2961>\u001b[0m in \u001b[0;36m<listcomp>\u001b[0;34m(.0)\u001b[0m\n\u001b[1;32m     21\u001b[0m     \u001b[0mcol\u001b[0m\u001b[0;34m[\u001b[0m\u001b[0mj\u001b[0m\u001b[0;34m]\u001b[0m \u001b[0;34m=\u001b[0m \u001b[0mi\u001b[0m\u001b[0;34m\u001b[0m\u001b[0;34m\u001b[0m\u001b[0m\n\u001b[1;32m     22\u001b[0m \u001b[0;34m\u001b[0m\u001b[0m\n\u001b[0;32m---> 23\u001b[0;31m \u001b[0mcolor\u001b[0m \u001b[0;34m=\u001b[0m \u001b[0;34m[\u001b[0m\u001b[0mlabel1\u001b[0m\u001b[0;34m[\u001b[0m\u001b[0mi\u001b[0m\u001b[0;34m]\u001b[0m \u001b[0;32mfor\u001b[0m \u001b[0mi\u001b[0m \u001b[0;32min\u001b[0m \u001b[0mcol\u001b[0m\u001b[0;34m]\u001b[0m\u001b[0;34m\u001b[0m\u001b[0;34m\u001b[0m\u001b[0m\n\u001b[0m\u001b[1;32m     24\u001b[0m \u001b[0;34m\u001b[0m\u001b[0m\n\u001b[1;32m     25\u001b[0m \u001b[0mplt\u001b[0m\u001b[0;34m.\u001b[0m\u001b[0mscatter\u001b[0m\u001b[0;34m(\u001b[0m\u001b[0mdatapoint\u001b[0m\u001b[0;34m[\u001b[0m\u001b[0;34m:\u001b[0m\u001b[0;34m,\u001b[0m \u001b[0;36m0\u001b[0m\u001b[0;34m]\u001b[0m\u001b[0;34m,\u001b[0m \u001b[0mdatapoint\u001b[0m\u001b[0;34m[\u001b[0m\u001b[0;34m:\u001b[0m\u001b[0;34m,\u001b[0m \u001b[0;36m1\u001b[0m\u001b[0;34m]\u001b[0m\u001b[0;34m,\u001b[0m  \u001b[0mc\u001b[0m\u001b[0;34m=\u001b[0m\u001b[0mcolor\u001b[0m\u001b[0;34m)\u001b[0m\u001b[0;34m\u001b[0m\u001b[0;34m\u001b[0m\u001b[0m\n",
            "\u001b[0;31mIndexError\u001b[0m: list index out of range"
          ]
        }
      ]
    },
    {
      "cell_type": "code",
      "metadata": {
        "id": "duw956mxB1oO",
        "colab_type": "code",
        "colab": {}
      },
      "source": [
        "FCPS_SAMPLES.SAMPLE_TWO_DIAMONDS"
      ],
      "execution_count": null,
      "outputs": []
    },
    {
      "cell_type": "code",
      "metadata": {
        "id": "JDyB7_2sB0En",
        "colab_type": "code",
        "colab": {
          "base_uri": "https://localhost:8080/",
          "height": 469
        },
        "outputId": "6cb304d8-57c4-45bf-f887-7f76ff628517"
      },
      "source": [
        "#evaluation with silhouette\n",
        "from sklearn.metrics import silhouette_samples, silhouette_score\n",
        "import matplotlib.pyplot as plt\n",
        "import matplotlib.cm as cm\n",
        "import numpy as np\n",
        "\n",
        "# Create a subplot with 1 row and 2 columns\n",
        "fig, (ax1, ax2) = plt.subplots(1, 2)\n",
        "fig.set_size_inches(18, 7)\n",
        "\n",
        "# The 1st subplot is the silhouette plot\n",
        "ax1.set_xlim([-1, 1])\n",
        "# The (n_clusters+1)*10 is for inserting blank space between silhouette\n",
        "# plots of individual clusters, to demarcate them clearly.\n",
        "ax1.set_ylim([0, len(clusters) + (10 + 1) * 10])\n",
        "\n",
        "# The silhouette_score gives the average value for all the samples.\n",
        "# This gives a perspective into the density and separation of the formed\n",
        "# clusters\n",
        "silhouette_avg = silhouette_score(normalized, metric = \"euclidean\", labels = col)\n",
        "print(\"For n_clusters =\", col,\n",
        "          \"The average silhouette_score is :\", silhouette_avg)\n",
        "\n",
        "# Compute the silhouette scores for each sample\n",
        "sample_silhouette_values = silhouette_samples(normalized, metric = \"euclidean\", labels =col)\n"
      ],
      "execution_count": null,
      "outputs": [
        {
          "output_type": "stream",
          "text": [
            "For n_clusters = [0, 0, 0, 0, 0, 0, 0, 0, 0, 0, 0, 0, 0, 0, 0, 0, 0, 0, 9, 0, 0, 0, 0, 0, 0, 0, 0, 19, 0, 0, 0, 0, 9, 0, 0, 0, 0, 0, 0, 0, 9, 0, 0, 0, 0, 9, 0, 0, 0, 9, 0, 0, 0, 0, 0, 0, 0, 0, 9, 0, 9, 0, 0, 0, 9, 0, 0, 0, 0, 0, 9, 0, 0, 0, 0, 0, 0, 9, 0, 0, 9, 0, 0, 0, 0, 0, 0, 0, 9, 9, 0, 0, 0, 0, 0, 0, 0, 0, 0, 0, 0, 0, 9, 0, 0, 0, 9, 0, 0, 0, 0, 0, 0, 9, 0, 0, 0, 0, 0, 0, 0, 0, 0, 9, 9, 0, 0, 0, 0, 9, 0, 22, 9, 0, 0, 0, 9, 0, 0, 0, 0, 0, 0, 9, 0, 0, 0, 9, 0, 0, 9, 9, 0, 9, 0, 0, 0, 9, 0, 0, 9, 0, 9, 0, 0, 0, 0, 9, 0, 0, 0, 0, 0, 0, 9, 0, 0, 0, 9, 0, 0, 0, 0, 0, 0, 0, 0, 17, 0, 0, 0, 0, 0, 0, 9, 0, 0, 0, 0, 0, 0, 9, 0, 0, 0, 9, 0, 9, 0, 0, 0, 0, 0, 0, 0, 0, 22, 0, 0, 9, 0, 9, 0, 0, 0, 9, 0, 0, 0, 9, 0, 0, 0, 0, 0, 0, 0, 0, 0, 9, 9, 0, 0, 0, 9, 9, 0, 0, 9, 0, 0, 0, 9, 0, 0, 0, 9, 0, 0, 0, 9, 0, 9, 0, 0, 0, 0, 0, 0, 0, 0, 0, 0, 0, 0, 0, 9, 0, 9, 0, 0, 0, 17, 9, 0, 0, 0, 0, 9, 9, 0, 9, 0, 9, 0, 0, 0, 0, 0, 0, 0, 17, 0, 0, 0, 0, 0, 9, 9, 0, 0, 0, 0, 9, 0, 0, 9, 0, 9, 0, 0, 9, 0, 9, 0, 0, 0, 0, 0, 19, 0, 0, 0, 9, 0, 0, 0, 0, 0, 0, 9, 0, 0, 0, 0, 9, 9, 19, 0, 0, 0, 0, 0, 0, 0, 9, 0, 9, 0, 9, 0, 0, 0, 0, 0, 0, 0, 0, 0, 0, 0, 9, 9, 0, 0, 9, 0, 0, 0, 0, 0, 0, 9, 0, 0, 9, 0, 0, 0, 0, 0, 0, 0, 0, 0, 9, 0, 0, 0, 9, 0, 0, 0, 0, 0, 0, 0, 9, 0, 9, 0, 9, 9, 19, 0, 0, 0, 0, 0, 0, 0, 0, 0, 9, 9, 0, 0, 0, 0, 0, 0, 0, 0, 9, 0, 0, 0, 0, 0, 9, 9, 0, 0, 9, 9, 9, 0, 0, 0, 0, 9, 0, 0, 9, 0, 0, 0, 0, 0, 0, 0, 0, 9, 0, 0, 0, 9, 9, 0, 0, 9, 9, 9, 0, 0, 9, 0, 0, 0, 0, 0, 0, 9, 0, 0, 9, 0, 9, 0, 0, 0, 9, 9, 0, 0, 0, 0, 0, 0, 0, 0, 0, 0, 9, 0, 0, 0, 9, 0, 0, 0, 0, 9, 0, 0, 0, 9, 0, 9, 0, 0, 0, 9, 0, 0, 9, 0, 0, 0, 0, 0, 9, 9, 0, 0, 0, 0, 0, 0, 9, 0, 9, 0, 0, 0, 0, 0, 0, 0, 9, 0, 9, 0, 0, 0, 9, 0, 9, 0, 9, 9, 9, 9, 9, 9, 0, 0, 0, 0, 0, 0, 0, 0, 0, 9, 0, 0, 9, 9, 0, 9, 0, 0, 0, 0, 9, 0, 0, 0, 0, 0, 0, 0, 9, 9, 0, 0, 0, 0, 0, 9, 0, 0, 0, 9, 0, 0, 0, 0, 9, 0, 0, 0, 9, 0, 0, 0, 0, 0, 9, 9, 0, 0, 9, 9, 0, 0, 0, 9, 0, 9, 0, 0, 0, 0, 0, 0, 0, 0, 9, 9, 0, 0, 0, 0, 22, 9, 0, 0, 9, 0, 0, 9, 9, 0, 0, 0, 0, 0, 0, 0, 0, 0, 0, 0, 0, 0, 0, 9, 0, 9, 9, 0, 9, 0, 0, 9, 9, 0, 9, 9, 0, 0, 0, 0, 0, 22, 0, 0, 0, 0, 0, 0, 0, 9, 0, 9, 9, 9, 9, 0, 9, 9, 0, 0, 9, 9, 9, 0, 9, 0, 0, 0, 0, 0, 0, 0, 0, 9, 9, 0, 0, 9, 0, 0, 0, 9, 9, 0, 0, 9, 9, 9, 9, 0, 0, 9, 9, 0, 9, 9, 0, 0, 9, 0, 0, 9, 0, 0, 0, 0, 0, 9, 0, 0, 9, 9, 0, 0, 9, 0, 22, 0, 9, 9, 0, 9, 0, 0, 9, 9, 0, 9, 0, 0, 0, 0, 0, 0, 0, 0, 9, 0, 0, 0, 0, 9, 9, 9, 0, 0, 22, 0, 0, 0, 0, 0, 0, 0, 0, 0, 0, 0, 9, 0, 0, 9, 0, 0, 9, 9, 0, 9, 0, 0, 9, 9, 9, 0, 0, 0, 9, 0, 0, 0, 0, 0, 9, 0, 0, 0, 0, 9, 0, 0, 9, 0, 0, 9, 9, 0, 22, 0, 0, 0, 0, 0, 0, 0, 17, 0, 0, 9, 0, 0, 0, 0, 0, 9, 0, 0, 0, 0, 0, 9, 0, 0, 9, 0, 9, 0, 9, 0, 9, 0, 0, 0, 0, 0, 0, 0, 9, 0, 9, 0, 0, 0, 0, 0, 0, 0, 9, 0, 0, 0, 0, 0, 0, 9, 0, 0, 0, 0, 0, 0, 0, 0, 9, 0, 9, 9, 9, 0, 9, 9, 0, 0, 9, 0, 0, 0, 0, 0, 9, 0, 0, 9, 9, 0, 9, 0, 0, 0, 0, 0, 0, 0, 0, 9, 0, 0, 0, 0, 0, 0, 9, 0, 0, 0, 0, 0, 0, 0, 0, 0, 0, 10, 0, 0, 0, 0, 0, 9, 9, 9, 9, 0, 9, 0, 0, 9, 0, 0, 0, 0, 9, 9, 0, 0, 0, 0, 0, 0, 0, 0, 9, 0, 9, 9, 0, 0, 0, 0, 0, 0, 0, 0, 9, 0, 9, 0, 0, 9, 0, 0, 0, 0, 0, 9, 9, 9, 0, 9, 9, 9, 9, 0, 0, 0, 9, 9, 9, 9, 9, 0, 0, 0, 9, 0, 0, 9, 9, 0, 0, 0, 0, 9, 0, 9, 9, 0, 9, 0, 0, 0, 9, 0, 0, 0, 0, 9, 9, 0, 9, 0, 0, 0, 0, 0, 9, 0, 9, 0, 0, 9, 0, 0, 9, 0, 0, 0, 9, 0, 0, 0, 0, 0, 0, 0, 0, 0, 0, 0, 9, 9, 9, 9, 0, 0, 0, 0, 0, 9, 0, 0, 0, 0, 9, 9, 0, 0, 0, 0, 0, 9, 0, 9, 0, 0, 0, 0, 0, 0, 9, 9, 0, 0, 0, 0, 9, 9, 0, 22, 0, 0, 0, 0, 0, 0, 0, 0, 0, 0, 0, 0, 9, 0, 0, 0, 9, 0, 0, 0, 9, 0, 0, 0, 9, 0, 9, 0, 0, 0, 0, 0, 9, 0, 0, 0, 9, 0, 0, 9, 0, 0, 0, 0, 0, 0, 0, 0, 0, 0, 0, 9, 9, 9, 0, 9, 0, 0, 0, 0, 0, 9, 0, 0, 0, 0, 0, 0, 0, 0, 0, 0, 0, 0, 0, 0, 0, 0, 0, 9, 0, 0, 9, 0, 0, 9, 9, 22, 0, 9, 0, 9, 9, 0, 9, 9, 9, 0, 0, 0, 9, 0, 0, 0, 0, 0, 0, 9, 12, 0, 0, 0, 0, 9, 0, 9, 0, 0, 9, 0, 0, 0, 9, 0, 0, 0, 0, 0, 9, 0, 0, 9, 0, 0, 0, 0, 0, 0, 9, 9, 0, 0, 0, 0, 0, 9, 0, 9, 0, 0, 0, 0, 0, 9, 0, 9, 0, 0, 22, 0, 9, 0, 0, 0, 0, 0, 0, 9, 0, 0, 0, 9, 0, 0, 0, 0, 0, 9, 0, 0, 0, 0, 0, 0, 9, 0, 9, 0, 9, 9, 9, 9, 0, 9, 0, 9, 0, 0, 0, 9, 0, 0, 0, 0, 0, 0, 9, 12, 0, 0, 0, 0, 0, 0, 0, 0, 9, 0, 0, 9, 0, 0, 0, 0, 0, 0, 0, 0, 9, 9, 9, 22, 9, 0, 0, 9, 0, 0, 0, 0, 9, 0, 0, 0, 9, 9, 9, 0, 9, 0, 9, 9, 0, 0, 9, 9, 0, 9, 0, 0, 0, 0, 0, 0, 9, 9, 0, 0, 0, 0, 9, 0, 0, 0, 0, 0, 0, 9, 0, 0, 0, 9, 0, 0, 9, 0, 9, 9, 9, 0, 9, 9, 9, 9, 0, 0, 0, 0, 0, 9, 9, 0, 9, 0, 0, 0, 9, 0, 0, 0, 0, 0, 0, 9, 0, 0, 9, 0, 9, 9, 0, 0, 0, 9, 0, 0, 0, 0, 9, 9, 0, 9, 9, 0, 0, 9, 9, 9, 0, 9, 0, 0, 0, 9, 0, 9, 9, 9, 9, 9, 9, 0, 0, 0, 0, 0, 0, 0, 0, 0, 9, 0, 0, 0, 0, 0, 0, 9, 0, 9, 9, 0, 0, 9, 0, 0, 9, 0, 0, 0, 0, 0, 9, 0, 0, 0, 9, 0, 0, 9, 0, 9, 0, 0, 0, 0, 9, 0, 0, 0, 0, 0, 9, 9, 0, 0, 0, 0, 9, 0, 0, 9, 0, 9, 0, 0, 0, 9, 0, 9, 0, 9, 9, 0, 9, 9, 0, 0, 0, 9, 0, 0, 0, 0, 0, 0, 0, 0, 0, 0, 0, 0, 0, 9, 9, 0, 0, 9, 0, 0, 0, 0, 0, 0, 0, 0, 0, 0, 9, 0, 0, 0, 9, 9, 9, 0, 0, 9, 9, 0, 0, 9, 0, 0, 9, 0, 0, 9, 0, 0, 0, 0, 0, 9, 0, 0, 9, 0, 9, 9, 9, 0, 9, 0, 0, 0, 9, 0, 0, 0, 9, 0, 9, 9, 0, 0, 0, 9, 0, 0, 9, 9, 0, 9, 0, 0, 0, 0, 9, 0, 0, 9, 0, 0, 9, 9, 0, 9, 0, 0, 0, 0, 9, 9, 0, 0, 0, 0, 0, 0, 0, 9, 9, 0, 0, 0, 0, 0, 9, 9, 0, 0, 0, 0, 9, 9, 0, 0, 9, 9, 9, 0, 0, 0, 0, 0, 0, 9, 0, 9, 0, 0, 0, 9, 0, 0, 0, 0, 0, 0, 0, 0, 9, 0, 0, 0, 0, 0, 9, 0, 0, 0, 0, 9, 9, 0, 9, 22, 9, 9, 0, 22, 9, 9, 0, 0, 9, 9, 0, 9, 0, 0, 0, 0, 9, 0, 0, 0, 0, 9, 9, 9, 0, 0, 0, 0, 0, 0, 0, 0, 0, 9, 9, 9, 0, 0, 0, 0, 0, 0, 0, 0, 9, 9, 9, 0, 0, 0, 0, 0, 9, 0, 0, 9, 0, 9, 9, 9, 0, 0, 9, 0, 0, 0, 0, 0, 0, 0, 0, 0, 0, 0, 0, 0, 0, 0, 0, 0, 0, 0, 9, 9, 0, 0, 0, 0, 0, 0, 9, 9, 0, 9, 0, 0, 0, 9, 9, 0, 0, 0, 9, 9, 0, 0, 0, 0, 9, 0, 0, 0, 9, 0, 9, 0, 0, 0, 0, 0, 0, 0, 0, 9, 9, 0, 9, 9, 0, 0, 9, 9, 0, 0, 0, 0, 0, 0, 9, 9, 0, 0, 0, 9, 9, 0, 0, 0, 22, 9, 0, 0, 9, 0, 0, 0, 0, 0, 9, 9, 0, 9, 9, 0, 9, 0, 9, 0, 0, 0, 0, 9, 0, 0, 0, 0, 9, 0, 0, 0, 0, 0, 9, 0, 0, 0, 0, 0, 0, 0, 0, 0, 9, 0, 0, 0, 0, 0, 9, 0, 0, 0, 0, 0, 0, 0, 0, 9, 9, 0, 0, 0, 0, 0, 9, 0, 9, 9, 0, 0, 9, 9, 0, 0, 9, 0, 0, 0, 9, 0, 0, 0, 0, 0, 0, 0, 0, 0, 9, 9, 0, 9, 0, 0, 9, 9, 9, 0, 0, 0, 0, 0, 9, 9, 0, 9, 0, 0, 0, 9, 0, 9, 9, 9, 9, 9, 0, 0, 0, 0, 0, 0, 9, 0, 9, 9, 0, 0, 0, 0, 0, 0, 9, 9, 9, 0, 9, 0, 0, 0, 9, 0, 0, 9, 0, 0, 9, 9, 9, 0, 0, 9, 9, 0, 9, 0, 9, 0, 0, 0, 9, 0, 0, 0, 0, 0, 9, 0, 9, 0, 0, 0, 9, 0, 0, 9, 0, 0, 0, 9, 0, 9, 0, 0, 0, 9, 0, 9, 0, 9, 0, 0, 0, 0, 0, 0, 0, 0, 0, 9, 0, 0, 0, 9, 9, 0, 9, 0, 0, 0, 9, 9, 0, 9, 22, 0, 9, 9, 0, 0, 0, 0, 0, 0, 0, 0, 0, 0, 0, 0, 0, 0, 9, 0, 0, 9, 0, 9, 0, 9, 0, 9, 0, 0, 0, 9, 0, 0, 9, 9, 0, 0, 0, 0, 0, 0, 0, 0, 0, 0, 0, 9, 0, 0, 0, 0, 9, 0, 0, 9, 0, 9, 0, 0, 0, 0, 0, 0, 0, 0, 0, 0, 0, 0, 0, 9, 9, 0, 0, 9, 0, 9, 0, 0, 0, 9, 0, 0, 9, 0, 0, 0, 3, 9, 9, 0, 9, 9, 0, 0, 0, 0, 9, 0, 0, 0, 9, 0, 0, 0, 9, 9, 0, 9, 9, 0, 0, 0, 0, 0, 9, 9, 9, 9, 0, 0, 0, 0, 0, 0, 0, 9, 0, 0, 9, 0, 0, 0, 0, 0, 0, 0, 9, 0, 0, 0, 0, 0, 0, 0, 0, 0, 0, 9, 0, 0, 0, 0, 9, 9, 9, 0, 0, 0, 0, 0, 0, 0, 0, 0, 0, 0, 9, 9, 0, 0, 0, 0, 9, 0, 9, 0, 0, 19, 0, 0, 9, 9, 0, 9, 0, 0, 0, 0, 9, 9, 0, 0, 0, 0, 0, 9, 9, 0, 0, 0, 9, 9, 0, 0, 0, 0, 9, 0, 0, 0, 0, 0, 0, 0, 0, 0, 0, 0, 0, 0, 0, 0, 0, 0, 0, 0, 9, 0, 0, 0, 0, 22, 0, 0, 0, 0, 0, 0, 9, 0, 0, 9, 0, 0, 0, 9, 0, 0, 0, 0, 0, 0, 0, 9, 9, 0, 0, 9, 9, 0, 0, 0, 0, 0, 0, 0, 0, 9, 0, 0, 0, 9, 0, 19, 0, 0, 0, 0, 0, 0, 0, 0, 0, 0, 9, 0, 0, 0, 9, 0, 9, 0, 0, 0, 0, 9, 0, 0, 0, 0, 0, 0, 9, 9, 9, 0, 9, 22, 0, 9, 0, 0, 0, 0, 0, 9, 0, 0, 0, 0, 0, 0, 0, 0, 0, 9, 9, 9, 0, 0, 0, 0, 0, 0, 0, 0, 0, 0, 0, 0, 0, 0, 0, 0, 0, 0, 9, 0, 0, 0, 0, 0, 0, 0, 0, 9, 9, 0, 9, 9, 9, 0, 9, 22, 0, 0, 0, 0, 0, 9, 0, 9, 0, 0, 0, 0, 0, 9, 0, 9, 9, 0, 0, 9, 9, 0, 0, 0, 0, 9, 0, 0, 0, 9, 0, 0, 0, 10, 9, 22, 0, 0, 9, 0, 0, 9, 9, 9, 9, 0, 0, 0, 9, 0, 0, 0, 0, 0, 0, 0, 0, 9, 0, 9, 0, 0, 0, 0, 0, 9, 0, 0, 9, 0, 0, 9, 0, 9, 0, 9, 0, 0, 9, 0, 0, 0, 0, 0, 0, 9, 9, 0, 0, 9, 9, 0, 0, 0, 0, 9, 9, 0, 9, 0, 0, 0, 9, 0, 0, 0, 0, 0, 0, 9, 9, 9, 0, 9, 0, 0, 22, 0, 0, 0, 0, 1, 0, 0, 0, 0, 0, 0, 0, 0, 0, 0, 0, 9, 0, 0, 9, 0, 9, 9, 0, 0, 9, 0, 0, 0, 0, 9, 9, 0, 0, 9, 0, 0, 0, 0, 0, 0, 0, 0, 0, 9, 9, 0, 0, 0, 0, 0, 0, 0, 0, 9, 9, 0, 0, 9, 0, 0, 0, 0, 9, 0, 0, 0, 9, 0, 0, 0, 0, 0, 0, 0, 0, 0, 9, 0, 0, 0, 9, 0, 0, 0, 0, 9, 0, 9, 0, 0, 0, 9, 9, 0, 9, 9, 0, 0, 0, 0, 0, 9, 0, 0, 0, 0, 0, 9, 0, 0, 0, 0, 0, 0, 0, 9, 0, 0, 0, 9, 0, 0, 0, 9, 0, 0, 0, 0, 0, 0, 0, 9, 9, 0, 9, 9, 0, 0, 0, 0, 0, 0, 9, 0, 9, 0, 0, 0, 0, 0, 0, 0, 0, 0, 0, 9, 9, 9, 0, 0, 9, 9, 0, 0, 0, 0, 9, 0, 0, 9, 0, 0, 0, 0, 9, 0, 9, 9, 0, 0, 0, 9, 0, 0, 0, 0, 0, 0, 0, 0, 9, 0, 0, 0, 0, 9, 0, 0, 9, 0, 0, 0, 0, 0, 0, 9, 9, 0, 9, 0, 9, 0, 0, 0, 0, 0, 9, 9, 0, 0, 0, 9, 0, 9, 10, 0, 9, 0, 0, 0, 0, 0, 0, 0, 0, 0, 0, 0, 0, 0, 0, 0, 0, 0, 9, 0, 0, 9, 0, 9, 9, 9, 0, 0, 9, 0, 0, 0, 9, 9, 0, 0, 0, 0, 0, 0, 0, 0, 0, 0, 0, 0, 0, 0, 0, 0, 9, 0, 9, 22, 0, 0, 9, 0, 0, 0, 9, 0, 0, 0, 0, 9, 0, 0, 0, 0, 0, 0, 9, 0, 0, 9, 0, 0, 0, 9, 0, 9, 0, 15, 15, 0, 0, 0, 9, 0, 0, 9, 9, 9, 0, 9, 9, 9, 0, 0, 0, 0, 9, 9, 0, 9, 0, 0, 0, 9, 0, 0, 9, 0, 0, 9, 0, 0, 0, 9, 0, 0, 0, 0, 0, 9, 0, 9, 0, 0, 0, 9, 0, 9, 0, 9, 9, 9, 0, 0, 0, 0, 9, 0, 0, 0, 0, 0, 0, 0, 0, 0, 22, 0, 9, 9, 0, 0, 0, 0, 0, 0, 9, 9, 0, 0, 0, 0, 0, 0, 0, 0, 0, 9, 9, 9, 0, 9, 9, 0, 0, 0, 9, 9, 0, 9, 9, 9, 0, 0, 9, 0, 0, 0, 0, 0, 9, 9, 0, 9, 0, 0, 0, 0, 0, 0, 0, 0, 9, 9, 0, 0, 9, 9, 9, 0, 0, 0, 9, 0, 0, 0, 0, 0, 0, 0, 0, 0, 0, 0, 0, 9, 0, 9, 0, 0, 0, 0, 9, 9, 0, 0, 0, 9, 9, 0, 0, 0, 9, 0, 9, 0, 9, 0, 0, 0, 9, 0, 0, 0, 0, 0, 0, 0, 9, 0, 9, 9, 0, 0, 0, 9, 9, 9, 9, 9, 0, 0, 9, 9, 0, 9, 9, 9, 0, 0, 0, 0, 0, 0, 0, 0, 0, 0, 9, 0, 0, 0, 0, 9, 0, 0, 9, 0, 0, 0, 0, 0, 0, 9, 9, 9, 0, 9, 0, 0, 0, 9, 9, 0, 0, 0, 0, 0, 0, 9, 9, 0, 0, 0, 0, 0, 0, 0, 9, 0, 0, 0, 22, 0, 9, 9, 0, 0, 0, 0, 0, 0, 0, 0, 0, 0, 9, 9, 0, 0, 0, 0, 9, 0, 0, 0, 9, 0, 0, 0, 9, 9, 9, 0, 9, 9, 0, 0, 0, 0, 0, 20, 9, 22, 0, 0, 0, 0, 0, 0, 9, 0, 9, 0, 0, 0, 0, 22, 22, 9, 0, 0, 0, 0, 0, 0, 0, 0, 0, 0, 0, 0, 0, 0, 0, 0, 0, 0, 9, 0, 0, 9, 9, 9, 0, 9, 0, 9, 0, 9, 0, 9, 9, 0, 9, 0, 9, 0, 9, 0, 0, 0, 0, 0, 0, 9, 9, 0, 0, 22, 0, 0, 0, 9, 0, 0, 0, 0, 0, 9, 9, 0, 0, 0, 0, 0, 0, 0, 0, 0, 0, 0, 0, 9, 0, 0, 0, 0, 9, 9, 9, 0, 9, 0, 0, 9, 0, 9, 0, 0, 9, 0, 0, 0, 0, 0, 0, 0, 0, 0, 0, 0, 0, 0, 22, 7, 0, 0, 0, 0, 0, 9, 9, 0, 0, 0, 9, 9, 0, 0, 0, 9, 0, 0, 9, 9, 9, 0, 0, 0, 9, 0, 0, 9, 0, 0, 0, 0, 0, 0, 0, 0, 0, 0, 0, 9, 9, 0, 9, 9, 9, 9, 0, 0, 0, 0, 0, 0, 0, 0, 0, 0, 0, 0, 0, 0, 9, 9, 9, 9, 22, 9, 0, 9, 0, 0, 0, 0, 0, 0, 0, 0, 0, 0, 0, 9, 0, 0, 0, 0, 0, 0, 0, 9, 0, 9, 0, 9, 0, 0, 0, 0, 0, 9, 0, 0, 0, 9, 0, 0, 19, 19, 19, 0, 0, 0, 0, 4, 10, 0, 0, 0, 0, 9, 9, 0, 0, 0, 0, 0, 0, 0, 0, 0, 0, 0, 0, 0, 0, 0, 0, 0, 9, 0, 0, 0, 0, 0, 0, 0, 9, 0, 0, 0, 9, 9, 0, 0, 9, 9, 0, 22, 16, 9, 0, 0, 9, 0, 0, 0, 0, 0, 0, 0, 9, 0, 9, 0, 0, 9, 0, 0, 0, 0, 0, 9, 9, 9, 0, 0, 0, 0, 9, 0, 0, 0, 0, 0, 0, 0, 9, 9, 9, 9, 9, 0, 9, 0, 0, 0, 0, 0, 0, 0, 0, 9, 0, 9, 0, 9, 0, 0, 9, 9, 0, 0, 9, 0, 0, 9, 9, 0, 0, 9, 0, 0, 0, 0, 0, 9, 9, 9, 0, 0, 0, 9, 0, 9, 9, 0, 0, 0, 0, 9, 9, 0, 9, 0, 9, 0, 0, 0, 0, 0, 0, 0, 0, 0, 0, 0, 0, 9, 0, 9, 0, 9, 9, 0, 0, 0, 0, 0, 0, 0, 0, 0, 0, 0, 0, 0, 0, 0, 0, 0, 9, 9, 9, 9, 0, 0, 0, 0, 0, 9, 0, 0, 0, 0, 0, 0, 0, 0, 0, 0, 0, 0, 9, 9, 9, 0, 0, 0, 0, 0, 0, 0, 0, 9, 0, 0, 9, 0, 0, 0, 0, 0, 0, 0, 0, 9, 0, 0, 0, 0, 0, 0, 9, 0, 9, 9, 9, 0, 0, 0, 9, 9, 0, 0, 9, 0, 0, 0, 0, 0, 0, 9, 0, 0, 0, 0, 0, 0, 9, 0, 9, 0, 0, 0, 0, 0, 0, 9, 9, 9, 0, 22, 0, 0, 9, 0, 22, 9, 9, 9, 0, 9, 0, 0, 9, 0, 9, 0, 9, 0, 0, 9, 0, 0, 0, 9, 9, 9, 0, 0, 0, 0, 0, 0, 0, 0, 0, 0, 0, 0, 0, 0, 0, 0, 9, 9, 0, 9, 9, 0, 9, 0, 0, 0, 9, 0, 0, 0, 0, 0, 9, 0, 9, 9, 0, 0, 9, 0, 9, 0, 9, 9, 0, 0, 0, 0, 0, 0, 0, 9, 0, 0, 0, 0, 0, 0, 0, 0, 9, 9, 9, 0, 9, 0, 0, 0, 0, 9, 0, 9, 9, 0, 0, 9, 0, 9, 0, 0, 0, 0, 9, 9, 9, 0, 0, 0, 0, 0, 0, 9, 0, 0, 0, 0, 0, 0, 9, 0, 0, 0, 0, 9, 0, 0, 0, 22, 9, 9, 0, 0, 0, 9, 9, 0, 0, 0, 0, 0, 9, 0, 9, 9, 0, 9, 9, 0, 9, 0, 0, 0, 0, 0, 0, 9, 9, 9, 9, 0, 0, 0, 0, 0, 9, 0, 9, 0, 0, 0, 9, 0, 0, 0, 0, 0, 9, 17, 17, 7, 0, 9, 9, 9, 0, 0, 9, 0, 0, 0, 0, 9, 0, 0, 0, 0, 0, 0, 0, 0, 9, 9, 9, 0, 0, 0, 0, 0, 9, 0, 0, 0, 9, 9, 0, 0, 0, 9, 0, 0, 0, 0, 0, 0, 0, 0, 0, 0, 0, 0, 9, 9, 0, 0, 9, 0, 9, 0, 0, 0, 0, 0, 9, 0, 9, 0, 0, 9, 0, 0, 0, 0, 9, 9, 0, 9, 9, 0, 0, 0, 0, 9, 9, 9, 0, 0, 9, 0, 0, 0, 9, 0, 0, 0, 0, 0, 9, 0, 9, 0, 0, 0, 0, 0, 0, 0, 0, 0, 0, 0, 12, 0, 9, 9, 0, 0, 0, 0, 0, 0, 0, 0, 0, 0, 9, 0, 0, 0, 0, 0, 0, 0, 0, 0, 9, 0, 0, 0, 9, 9, 9, 9, 9, 9, 0, 0, 0, 0, 0, 0, 9, 9, 9, 0, 0, 0, 19, 9, 9, 0, 0, 0, 0, 0, 0, 0, 0, 0, 0, 0, 0, 9, 0, 0, 0, 0, 9, 0, 9, 0, 9, 9, 9, 9, 9, 9, 9, 9, 0, 0, 0, 9, 0, 0, 9, 9, 9, 0, 0, 0, 0, 9, 0, 0, 0, 0, 0, 0, 9, 0, 9, 9, 0, 9, 0, 0, 0, 0, 9, 0, 0, 0, 9, 0, 9, 9, 0, 0, 0, 0, 0, 0, 9, 9, 0, 0, 0, 0, 0, 0, 0, 0, 9, 9, 9, 9, 9, 0, 0, 0, 0, 9, 0, 9, 0, 9, 0, 0, 0, 0, 0, 0, 9, 0, 0, 0, 0, 0, 0, 0, 0, 0, 0, 0, 9, 9, 0, 0, 0, 0, 0, 0, 0, 9, 0, 9, 9, 9, 0, 9, 0, 0, 9, 9, 9, 0, 0, 9, 9, 0, 0, 9, 9, 9, 0, 0, 0, 9, 0, 0, 0, 9, 9, 9, 9, 0, 0, 0, 0, 0, 0, 0, 0, 0, 0, 9, 9, 9, 0, 0, 0, 0, 0, 0, 9, 0, 0, 9, 0, 9, 9, 0, 0, 0, 0, 0, 0, 9, 0, 0, 0, 0, 0, 0, 9, 0, 0, 0, 0, 9, 0, 0, 9, 0, 0, 0, 0, 9, 0, 0, 0, 0, 9, 0, 9, 0, 0, 9, 9, 9, 9, 0, 0, 9, 0, 0, 0, 9, 9, 0, 0, 0, 0, 0, 0, 0, 0, 9, 0, 0, 0, 9, 9, 0, 9, 0, 0, 0, 9, 0, 0, 0, 0, 0, 0, 9, 9, 0, 9, 0, 0, 0, 9, 0, 0, 0, 0, 0, 0, 0, 0, 0, 0, 0, 0, 0, 0, 0, 23, 0, 0, 0, 9, 9, 0, 0, 9, 9, 0, 0, 9, 0, 0, 9, 0, 9, 0, 9, 0, 0, 0, 9, 0, 0, 0, 0, 0, 0, 0, 0, 0, 0, 0, 9, 0, 0, 9, 0, 0, 9, 0, 9, 9, 0, 9, 0, 9, 0, 0, 0, 9, 0, 0, 0, 9, 0, 9, 0, 0, 0, 9, 0, 0, 0, 14, 0, 0, 0, 0, 9, 0, 0, 0, 0, 0, 9, 0, 0, 0, 0, 0, 0, 0, 9, 0, 0, 9, 0, 9, 0, 0, 9, 9, 0, 9, 0, 0, 0, 0, 0, 0, 22, 0, 0, 0, 0, 0, 0, 0, 9, 0, 0, 9, 0, 0, 0, 9, 9, 0, 9, 22, 19, 0, 9, 0, 9, 9, 0, 0, 0, 0, 0, 0, 0, 9, 9, 0, 0, 0, 0, 0, 0, 0, 0, 0, 0, 0, 9, 9, 0, 0, 0, 0, 0, 0, 0, 0, 0, 0, 9, 0, 0, 0, 0, 0, 0, 0, 9, 9, 0, 0, 0, 9, 0, 9, 0, 0, 0, 9, 9, 0, 0, 0, 9, 9, 9, 9, 0, 0, 0, 9, 0, 9, 9, 0, 0, 0, 0, 0, 0, 0, 0, 0, 9, 9, 0, 0, 0, 0, 0, 0, 9, 9, 9, 9, 0, 0, 0, 9, 0, 0, 0, 0, 0, 0, 0, 0, 0, 19, 9, 0, 0, 0, 0, 0, 9, 9, 9, 9, 9, 0, 0, 9, 9, 9, 19, 0, 0, 9, 0, 9, 0, 9, 0, 0, 0, 0, 0, 0, 0, 0, 0, 0, 0, 0, 0, 23, 22, 0, 0, 0, 9, 0, 0, 0, 0, 0, 9, 9, 0, 0, 9, 9, 9, 9, 9, 9, 0, 0, 0, 0, 0, 0, 0, 0, 0, 0, 0, 0, 0, 9, 0, 0, 0, 0, 0, 0, 0, 0, 9, 0, 9, 9, 13, 9, 9, 9, 9, 9, 0, 0, 0, 0, 0, 0, 0, 0, 0, 0, 9, 0, 0, 0, 0, 0, 0, 0, 0, 0, 0, 0, 0, 9, 0, 0, 0, 0, 0, 0, 0, 0, 9, 9, 0, 0, 0, 0, 0, 0, 0, 0, 9, 9, 0, 0, 0, 0, 0, 0, 0, 0, 0, 9, 9, 0, 0, 0, 9, 0, 0, 0, 0, 0, 0, 0, 19, 0, 0, 0, 9, 9, 0, 0, 0, 0, 9, 0, 9, 9, 0, 9, 0, 0, 9, 0, 0, 0, 0, 0, 0, 0, 0, 9, 0, 0, 0, 0, 0, 0, 0, 0, 9, 9, 0, 0, 0, 9, 9, 0, 0, 9, 9, 0, 0, 0, 0, 0, 9, 9, 9, 9, 9, 9, 0, 9, 0, 0, 0, 0, 9, 0, 9, 0, 0, 0, 0, 0, 0, 0, 0, 0, 0, 0, 9, 0, 0, 0, 0, 0, 0, 0, 0, 0, 0, 0, 9, 0, 0, 0, 0, 0, 0, 0, 0, 0, 0, 0, 9, 0, 0, 0, 9, 9, 9, 9, 9, 0, 0, 0, 10, 10, 9, 0, 9, 0, 0, 0, 0, 0, 0, 0, 0, 9, 0, 0, 0, 0, 0, 9, 0, 0, 0, 0, 0, 0, 0, 0, 0, 0, 0, 0, 0, 0, 0, 0, 0, 0, 0, 0, 0, 0, 19, 9, 0, 0, 22, 22, 0, 9, 0, 0, 9, 9, 19, 0, 0, 0, 0, 0, 9, 0, 0, 9, 9, 9, 0, 0, 9, 0, 22, 22, 22, 0, 0, 0, 0, 0, 0, 0, 0, 0, 0, 0, 0, 0, 0, 0, 0, 0, 0, 0, 0, 0, 0, 0, 0, 0, 0, 0, 0, 9, 9, 9, 9, 0, 0, 0, 0, 0, 0, 0, 0, 0, 0, 0, 0, 0, 0, 0, 0, 0, 0, 0, 0, 9, 9, 19, 0, 0, 0, 0, 0, 9, 0, 0, 9, 9, 0, 0, 9, 9, 0, 0, 0, 9, 9, 0, 9, 0, 0, 0, 0, 9, 0, 0, 0, 9, 0, 9, 9, 9, 9, 0, 9, 0, 0, 0, 0, 0, 0, 0, 0, 0, 0, 0, 0, 0, 0, 0, 0, 0, 9, 0, 0, 0, 0, 0, 0, 0, 0, 0, 0, 0, 0, 0, 0, 0, 0, 0, 9, 0, 0, 0, 0, 0, 0, 0, 9, 0, 9, 0, 0, 0, 9, 0, 0, 0, 0, 0, 0, 0, 0, 9, 0, 9, 0, 0, 9, 0, 0, 9, 9, 0, 0, 0, 0, 0, 0, 0, 0, 0, 0, 0, 0, 0, 0, 0, 0, 0, 0, 0, 0, 0, 9, 0, 0, 9, 0, 0, 0, 0, 0, 0, 0, 0, 0, 0, 0, 0, 9, 0, 0, 0, 0, 0, 0, 9, 0, 0, 9, 0, 0, 0, 9, 9, 9, 0, 0, 0, 9, 0, 9, 9, 0, 9, 9, 9, 0, 0, 9, 0, 0, 0, 0, 0, 0, 9, 0, 0, 0, 0, 0, 0, 0, 0, 0, 0, 0, 0, 0, 0, 0, 0, 9, 9, 9, 9, 22, 0, 0, 0, 0, 0, 0, 9, 0, 9, 9, 0, 0, 0, 0, 0, 0, 9, 9, 9, 0, 0, 0, 0, 0, 0, 9, 0, 9, 9, 0, 0, 0, 0, 9, 9, 0, 0, 0, 0, 0, 0, 9, 0, 0, 0, 9, 9, 0, 0, 0, 0, 0, 19, 0, 0, 0, 0, 0, 0, 0, 0, 0, 0, 9, 9, 9, 9, 9, 9, 0, 0, 0, 0, 0, 9, 0, 0, 0, 0, 0, 0, 0, 0, 0, 0, 0, 0, 0, 0, 0, 9, 9, 0, 0, 0, 0, 0, 0, 9, 9, 0, 0, 0, 0, 0, 0, 0, 0, 0, 9, 0, 0, 0, 0, 0, 0, 0, 0, 0, 19, 9, 0, 9, 0, 9, 9, 9, 9, 0, 0, 0, 0, 0, 0, 9, 9, 9, 9, 0, 0, 0, 0, 0, 0, 19, 0, 0, 0, 0, 9, 0, 0, 0, 0, 0, 0, 0, 0, 0, 0, 0, 0, 0, 0, 9, 0, 0, 9, 9, 9, 0, 0, 0, 0, 0, 0, 0, 6, 0, 0, 0, 9, 9, 0, 0, 0, 0, 0, 0, 9, 0, 0, 9, 0, 0, 0, 0, 9, 9, 9, 9, 0, 0, 0, 0, 0, 0, 0, 0, 0, 0, 0, 0, 0, 0, 9, 0, 0, 0, 0, 0, 0, 0, 0, 0, 0, 0, 0, 0, 9, 9, 0, 0, 19, 19, 19, 19, 19, 19, 19, 19, 19, 19, 19, 19, 19, 0, 0, 0, 0, 0, 0, 9, 0, 0, 0, 0, 0, 0, 0, 0, 0, 9, 9, 0, 9, 9, 0, 9, 0, 0, 0, 0, 0, 9, 0, 0, 0, 0, 0, 0, 0, 0, 0, 0, 0, 0, 0, 0, 0, 0, 0, 0, 0, 0, 0, 0, 9, 9, 0, 0, 0, 9, 0, 9, 0, 0, 0, 0, 0, 0, 0, 0, 0, 0, 0, 0, 9, 0, 0, 0, 0, 0, 0, 0, 0, 0, 9, 0, 0, 0, 10, 9, 9, 0, 0, 0, 0, 9, 9, 0, 0, 9, 9, 0, 0, 0, 0, 0, 0, 0, 0, 0, 0, 0, 9, 9, 9, 9, 0, 0, 9, 9, 9, 9, 0, 9, 0, 0, 0, 0, 0, 0, 0, 0, 9, 0, 9, 0, 0, 0, 0, 9, 9, 9, 9, 9, 0, 0, 9, 0, 0, 0, 0, 0, 0, 19, 0, 0, 0, 0, 9, 0, 0, 0, 0, 9, 0, 0, 0, 0, 9, 0, 0, 9, 0, 0, 9, 0, 9, 0, 0, 0, 9, 9, 9, 0, 0, 0, 9, 9, 0, 0, 0, 0, 0, 0, 0, 0, 9, 0, 0, 0, 0, 0, 0, 0, 0, 0, 9, 9, 9, 9, 9, 0, 0, 0, 0, 0, 0, 9, 0, 9, 0, 0, 9, 9, 0, 9, 0, 9, 0, 9, 0, 9, 9, 9, 0, 0, 0, 0, 0, 9, 9, 9, 0, 0, 0, 0, 0, 0, 0, 0, 9, 0, 9, 9, 9, 0, 0, 0, 9, 0, 0, 0, 0, 0, 0, 0, 0, 0, 0, 0, 0, 0, 0, 0, 0, 0, 0, 0, 0, 0, 9, 9, 9, 0, 0, 9, 0, 0, 0, 0, 0, 0, 0, 0, 9, 0, 0, 0, 9, 9, 0, 0, 9, 0, 0, 0, 0, 0, 0, 0, 0, 0, 0, 0, 0, 0, 0, 0, 0, 0, 0, 19, 0, 11, 0, 19, 0, 9, 0, 0, 0, 0, 0, 0, 9, 9, 9, 9, 9, 0, 0, 0, 0, 0, 0, 0, 0, 0, 0, 0, 0, 0, 9, 0, 0, 0, 9, 0, 0, 0, 0, 0, 0, 9, 0, 0, 9, 9, 0, 0, 0, 0, 0, 0, 0, 0, 0, 9, 0, 9, 9, 0, 0, 9, 0, 0, 0, 19, 0, 9, 9, 9, 9, 9, 0, 9, 9, 0, 0, 0, 0, 0, 9, 9, 9, 0, 0, 9, 0, 0, 0, 0, 0, 0, 9, 0, 9, 0, 0, 0, 0, 9, 0, 0, 9, 0, 9, 9, 0, 9, 9, 0, 0, 0, 0, 0, 9, 0, 0, 9, 0, 0, 0, 9, 0, 0, 0, 0, 0, 0, 0, 0, 0, 0, 0, 0, 0, 0, 0, 0, 19, 0, 0, 0, 0, 0, 0, 0, 0, 0, 0, 22, 9, 9, 9, 9, 0, 0, 0, 0, 0, 9, 9, 0, 9, 0, 0, 0, 0, 0, 0, 0, 0, 0, 0, 9, 9, 9, 0, 0, 0, 0, 0, 0, 0, 0, 9, 0, 0, 9, 9, 9, 9, 9, 19, 0, 0, 0, 0, 0, 0, 0, 0, 0, 0, 9, 9, 0, 0, 9, 9, 0, 0, 9, 9, 0, 0, 0, 0, 0, 0, 0, 0, 0, 19, 9, 0, 0, 0, 0, 0, 0, 0, 0, 0, 0, 0, 0, 9, 9, 0, 0, 0, 0, 0, 0, 0, 9, 0, 0, 0, 0, 0, 9, 0, 9, 0, 0, 0, 0, 0, 0, 0, 0, 0, 0, 8, 0, 0, 0, 0, 0, 0, 0, 0, 0, 0, 0, 0, 0, 0, 0, 0, 0, 9, 9, 9, 0, 0, 0, 0, 0, 0, 0, 0, 0, 22, 22, 9, 0, 9, 9, 9, 0, 0, 0, 0, 9, 9, 0, 0, 0, 0, 0, 9, 0, 0, 0, 9, 9, 9, 0, 0, 0, 0, 0, 9, 9, 0, 0, 0, 0, 9, 0, 0, 0, 0, 0, 9, 0, 0, 0, 0, 0, 0, 0, 0, 0, 0, 0, 0, 0, 0, 0, 0, 0, 9, 0, 0, 0, 9, 0, 0, 0, 9, 0, 0, 0, 0, 9, 0, 0, 19, 9, 0, 0, 0, 0, 9, 0, 0, 0, 0, 0, 0, 0, 0, 0, 0, 0, 0, 0, 0, 0, 0, 0, 0, 0, 0, 0, 0, 9, 0, 0, 0, 0, 0, 0, 0, 0, 0, 0, 0, 0, 9, 0, 0, 9, 0, 0, 0, 9, 0, 0, 0, 0, 0, 0, 0, 9, 9, 0, 0, 0, 9, 9, 0, 0, 0, 0, 0, 0, 19, 9, 9, 0, 9, 9, 0, 9, 9, 0, 0, 0, 0, 0, 9, 0, 0, 0, 0, 0, 0, 0, 0, 0, 0, 9, 9, 0, 0, 9, 0, 0, 0, 0, 0, 0, 0, 0, 0, 9, 0, 0, 0, 0, 0, 0, 0, 0, 0, 0, 0, 0, 0, 9, 9, 9, 0, 0, 0, 0, 0, 0, 9, 0, 0, 0, 0, 0, 0, 0, 19, 0, 0, 0, 0, 19, 0, 0, 0, 9, 9, 9, 0, 0, 0, 9, 0, 9, 0, 9, 9, 9, 0, 0, 0, 0, 0, 0, 0, 0, 0, 0, 9, 0, 9, 0, 0, 0, 9, 9, 0, 0, 0, 0, 0, 0, 0, 9, 9, 0, 0, 0, 0, 0, 0, 9, 0, 0, 0, 9, 9, 0, 0, 9, 0, 0, 0, 0, 9, 9, 9, 9, 0, 9, 0, 0, 0, 0, 0, 0, 0, 0, 0, 0, 0, 0, 0, 0, 0, 9, 9, 0, 9, 0, 0, 0, 0, 9, 9, 9, 0, 9, 9, 9, 9, 0, 0, 9, 9, 0, 0, 0, 0, 9, 0, 0, 9, 9, 0, 0, 0, 0, 0, 9, 9, 0, 9, 22, 9, 0, 0, 0, 0, 0, 0, 0, 0, 0, 0, 0, 9, 0, 0, 0, 9, 9, 0, 0, 9, 0, 9, 9, 9, 9, 0, 0, 9, 0, 0, 0, 0, 0, 0, 0, 0, 0, 0, 0, 9, 9, 9, 9, 9, 0, 0, 9, 0, 0, 9, 9, 0, 0, 0, 0, 0, 9, 19, 9, 0, 0, 9, 9, 9, 0, 0, 9, 0, 9, 0, 0, 9, 0, 0, 0, 0, 0, 0, 0, 0, 0, 9, 0, 9, 0, 9, 9, 0, 0, 0, 0, 0, 9, 0, 0, 0, 9, 9, 9, 9, 0, 0, 0, 0, 0, 9, 0, 0, 0, 0, 0, 9, 0, 0, 0, 0, 0, 9, 0, 0, 0, 0, 0, 0, 0, 9, 0, 0, 0, 0, 0, 0, 0, 0, 9, 0, 9, 0, 0, 0, 0, 0, 9, 9, 9, 9, 0, 0, 0, 0, 9, 9, 0, 0, 0, 9, 0, 0, 19, 9, 9, 0, 0, 0, 0, 0, 0, 0, 0, 0, 0, 0, 0, 9, 0, 0, 0, 0, 21, 2, 0, 0, 0, 0, 0, 9, 9, 9, 9, 0, 0, 19, 0, 0, 0, 0, 0, 0, 0, 0, 0, 0, 9, 0, 9, 0, 0, 0, 0, 0, 0, 0, 9, 9, 0, 9, 0, 0, 0, 0, 0, 0, 0, 9, 9, 0, 9, 9, 0, 9, 9, 9, 9, 9, 9, 9, 9, 9, 9, 9, 9, 9, 9, 9, 9, 9, 0, 0, 0, 0, 0, 0, 9, 0, 0, 0, 0, 0, 0, 0, 0, 0, 0, 0, 9, 0, 0, 9, 0, 0, 9, 0, 9, 0, 0, 0, 0, 0, 0, 9, 0, 0, 0, 0, 0, 0, 0, 0, 0, 0, 19, 9, 9, 0, 9, 0, 0, 0, 0, 0, 9, 9, 0, 0, 9, 9, 9, 0, 0, 9, 0, 9, 9, 9, 9, 0, 0, 0, 0, 0, 0, 0, 0, 0, 0, 0, 0, 0, 0, 0, 0, 9, 0, 9, 9, 0, 0, 0, 0, 9, 0, 0, 0, 0, 0, 0, 0, 0, 0, 0, 9, 9, 0, 19, 9, 0, 9, 0, 0, 0, 0, 0, 0, 0, 0, 0, 0, 0, 0, 0, 0, 0, 0, 9, 9, 9, 0, 9, 0, 0, 9, 0, 0, 0, 0, 0, 0, 0, 9, 9, 0, 0, 0, 0, 9, 0, 0, 0, 0, 9, 9, 9, 0, 9, 9, 9, 0, 0, 0, 0, 0, 0, 0, 0, 0, 9, 9, 0, 9, 0, 9, 9, 0, 9, 9, 9, 9, 9, 0, 0, 0, 0, 9, 0, 9, 9, 9, 0, 0, 9, 0, 19, 0, 0, 0, 0, 0, 9, 9, 9, 0, 9, 0, 9, 9, 9, 0, 0, 0, 0, 0, 0, 0, 9, 9, 0, 9, 9, 0, 0, 9, 0, 0, 0, 0, 0, 0, 0, 0, 9, 0, 0, 0, 0, 9, 9, 0, 9, 0, 0, 0, 9, 9, 0, 0, 0, 0, 9, 0, 9, 9, 0, 0, 0, 0, 9, 0, 0, 0, 0, 9, 0, 0, 0, 0, 9, 9, 9, 0, 9, 0, 9, 0, 0, 9, 9, 0, 0, 0, 0, 0, 0, 0, 0, 0, 0, 0, 0, 0, 9, 9, 9, 0, 0, 0, 0, 0, 0, 0, 0, 0, 9, 9, 9, 0, 9, 9, 0, 9, 0, 0, 0, 9, 0, 9, 9, 0, 0, 0, 0, 9, 9, 0, 0, 9, 0, 0, 0, 9, 0, 0, 0, 0, 0, 0, 0, 9, 0, 0, 0, 0, 0, 0, 0, 0, 0, 9, 0, 0, 0, 0, 0, 0, 9, 9, 0, 0, 0, 0, 0, 0, 0, 9, 0, 0, 0, 0, 0, 9, 9, 0, 0, 0, 0, 9, 0, 0, 9, 9, 9, 0, 0, 0, 0, 9, 9, 9, 9, 0, 0, 0, 0, 0, 9, 0, 0, 0, 0, 9, 0, 9, 9, 9, 9, 9, 0, 0, 0, 0, 0, 9, 9, 0, 0, 9, 9, 9, 0, 0, 9, 9, 0, 9, 0, 0, 19, 19, 19, 0, 0, 0, 0, 0, 0, 0, 0, 0, 0, 0, 0, 0, 0, 0, 0, 0, 0, 0, 0, 0, 0, 0, 0, 0, 0, 0, 0, 0, 0, 9, 0, 0, 0, 0, 0, 0, 0, 0, 19, 0, 0, 0, 0, 9, 9, 9, 0, 0, 0, 0, 0, 9, 9, 9, 0, 9, 0, 0, 0, 9, 19, 0, 0, 0, 0, 9, 0, 0, 0, 0, 0, 0, 0, 0, 0, 9, 0, 0, 0, 0, 0, 9, 9, 9, 9, 9, 9, 9, 9, 9, 0, 0, 0, 0, 0, 9, 0, 0, 0, 0, 0, 0, 0, 0, 0, 0, 0, 0, 0, 9, 0, 0, 0, 0, 9, 0, 9, 0, 9, 0, 9, 9, 9, 9, 9, 9, 9, 9, 9, 0, 0, 0, 0, 0, 0, 0, 9, 9, 0, 0, 0, 0, 0, 0, 0, 0, 0, 0, 0, 0, 0, 9, 0, 0, 0, 9, 9, 9, 9, 0, 0, 0, 0, 9, 0, 9, 9, 0, 0, 19, 0, 0, 0, 0, 0, 0, 0, 0, 0, 9, 0, 0, 9, 0, 0, 0, 9, 9, 0, 0, 0, 0, 0, 0, 0, 0, 0, 9, 0, 0, 0, 0, 0, 0, 0, 0, 9, 0, 0, 9, 0, 19, 0, 0, 0, 0, 9, 0, 0, 0, 9, 0, 9, 0, 0, 9, 9, 9, 0, 0, 0, 19, 0, 0, 9, 0, 0, 0, 9, 0, 0, 0, 0, 0, 9, 9, 0, 0, 0, 0, 0, 0, 0, 0, 9, 9, 0, 9, 0, 0, 0, 9, 9, 0, 9, 9, 9, 0, 0, 0, 0, 0, 0, 9, 0, 0, 9, 0, 0, 0, 0, 0, 0, 0, 0, 9, 9, 0, 0, 0, 0, 0, 0, 0, 0, 9, 0, 0, 9, 9, 0, 0, 0, 0, 0, 0, 0, 0, 0, 9, 0, 0, 0, 0, 19, 0, 0, 0, 0, 9, 0, 0, 0, 0, 0, 0, 0, 0, 0, 0, 0, 0, 0, 0, 0, 9, 0, 0, 0, 0, 0, 0, 9, 9, 0, 0, 9, 9, 0, 9, 9, 0, 0, 0, 0, 0, 0, 0, 0, 0, 0, 9, 0, 0, 0, 0, 0, 0, 0, 9, 0, 0, 0, 0, 0, 0, 9, 0, 0, 0, 0, 0, 0, 0, 0, 0, 0, 0, 0, 9, 0, 9, 9, 9, 0, 0, 0, 9, 0, 19, 0, 0, 0, 0, 0, 0, 0, 0, 9, 0, 0, 0, 0, 9, 0, 0, 0, 0, 0, 0, 0, 0, 0, 0, 0, 0, 0, 0, 9, 0, 0, 0, 0, 0, 0, 0, 0, 9, 0, 9, 0, 0, 0, 9, 9, 9, 12, 12, 12, 0, 0, 0, 0, 0, 0, 9, 0, 0, 0, 0, 0, 9, 0, 9, 0, 0, 0, 0, 0, 0, 0, 0, 0, 0, 0, 9, 0, 0, 9, 9, 0, 0, 0, 0, 0, 0, 0, 0, 0, 9, 0, 9, 0, 0, 0, 0, 0, 0, 0, 0, 9, 0, 0, 0, 22, 22, 22, 22, 22, 9, 0, 0, 0, 0, 0, 0, 0, 0, 0, 0, 0, 0, 9, 0, 0, 0, 0, 0, 0, 0, 0, 0, 0, 0, 0, 9, 0, 0, 0, 0, 9, 0, 0, 9, 0, 0, 9, 0, 9, 9, 9, 9, 9, 9, 0, 0, 0, 0, 0, 0, 0, 0, 9, 0, 0, 0, 0, 9, 0, 0, 0, 0, 0, 9, 9, 0, 0, 0, 0, 0, 0, 0, 0, 0, 0, 0, 0, 0, 0, 9, 9, 0, 0, 9, 9, 0, 0, 0, 0, 19, 0, 0, 9, 0, 0, 0, 0, 9, 9, 9, 0, 0, 0, 0, 0, 0, 0, 0, 0, 9, 0, 0, 0, 0, 0, 0, 0, 9, 9, 0, 9, 9, 0, 0, 0, 0, 0, 0, 0, 9, 9, 0, 9, 0, 0, 0, 0, 0, 0, 0, 9, 9, 9, 9, 9, 19, 0, 0, 0, 0, 0, 0, 0, 0, 0, 0, 0, 0, 0, 0, 0, 9, 9, 0, 9, 9, 0, 0, 0, 0, 9, 9, 9, 0, 0, 0, 0, 0, 0, 0, 0, 0, 0, 0, 0, 0, 0, 0, 0, 0, 0, 0, 0, 0, 0, 0, 0, 0, 0, 0, 0, 0, 0, 9, 9, 0, 0, 0, 0, 9, 0, 0, 0, 0, 0, 0, 9, 0, 0, 0, 9, 0, 0, 0, 0, 0, 9, 0, 9, 9, 0, 9, 9, 9, 9, 0, 0, 0, 0, 0, 0, 0, 9, 0, 9, 9, 9, 9, 0, 0, 0, 0, 0, 9, 0, 0, 0, 0, 0, 0, 0, 0, 0, 0, 0, 0, 9, 0, 0, 0, 9, 0, 0, 0, 9, 0, 0, 0, 0, 0, 0, 0, 0, 0, 0, 0, 9, 0, 0, 0, 0, 0, 0, 0, 9, 0, 0, 9, 0, 0, 0, 0, 0, 0, 0, 0, 0, 0, 0, 19, 0, 0, 0, 0, 0, 0, 0, 0, 0, 0, 0, 0, 0, 0, 0, 0, 9, 9, 9, 9, 0, 0, 9, 9, 0, 0, 0, 0, 9, 0, 0, 0, 0, 0, 0, 9, 0, 0, 0, 9, 9, 9, 0, 0, 0, 0, 0, 9, 9, 9, 9, 0, 0, 0, 0, 0, 0, 0, 0, 0, 0, 0, 9, 9, 9, 9, 0, 0, 0, 0, 0, 0, 0, 0, 0, 0, 0, 0, 0, 9, 0, 0, 9, 9, 9, 0, 9, 0, 9, 0, 9, 0, 0, 0, 0, 0, 0, 0, 0, 0, 0, 0, 0, 0, 0, 0, 9, 9, 0, 0, 0, 0, 0, 0, 0, 0, 0, 0, 0, 0, 0, 0, 9, 9, 0, 0, 9, 9, 9, 0, 9, 9, 0, 0, 0, 0, 0, 9, 9, 0, 0, 0, 0, 0, 0, 0, 0, 0, 0, 0, 9, 0, 0, 0, 0, 0, 0, 0, 0, 9, 9, 9, 9, 0, 0, 9, 9, 9, 9, 0, 9, 0, 0, 0, 0, 0, 0, 0, 0, 0, 0, 0, 0, 0, 0, 0, 0, 0, 0, 0, 0, 0, 0, 0, 9, 0, 0, 0, 0, 9, 9, 0, 0, 0, 9, 9, 0, 22, 22, 22, 10, 22, 0, 0, 0, 0, 0, 0, 0, 0, 0, 0, 0, 0, 0, 0, 0, 0, 0, 9, 0, 0, 0, 0, 9, 9, 0, 0, 0, 9, 0, 0, 0, 0, 9, 9, 9, 0, 0, 0, 0, 9, 0, 9, 0, 0, 0, 0, 0, 0, 0, 0, 0, 0, 0, 0, 0, 9, 0, 0, 0, 9, 0, 0, 0, 0, 0, 0, 0, 0, 0, 0, 0, 0, 0, 0, 0, 0, 0, 0, 9, 9, 0, 0, 0, 0, 0, 0, 0, 0, 0, 9, 9, 9, 9, 9, 0, 0, 0, 9, 9, 0, 0, 9, 9, 9, 9, 9, 9, 0, 0, 0, 0, 0, 0, 0, 0, 0, 0, 0, 0, 9, 9, 9, 9, 9, 9, 9, 0, 9, 0, 0, 0, 0, 0, 9, 9, 9, 0, 0, 9, 0, 0, 0, 0, 0, 9, 9, 9, 9, 9, 9, 19, 0, 0, 0, 0, 0, 0, 9, 9, 0, 9, 9, 9, 9, 9, 9, 9, 0, 9, 9, 9, 0, 0, 0, 0, 0, 9, 0, 0, 0, 0, 9, 0, 0, 0, 0, 0, 9, 0, 0, 9, 9, 0, 0, 0, 0, 0, 0, 0, 0, 0, 0, 0, 0, 9, 0, 9, 9, 9, 9, 9, 0, 9, 0, 0, 0, 0, 0, 0, 0, 9, 9, 9, 9, 9, 9, 9, 9, 0, 0, 0, 0, 0, 0, 0, 0, 0, 0, 0, 0, 0, 0, 0, 0, 9, 9, 0, 0, 9, 9, 0, 0, 0, 0, 0, 0, 0, 0, 9, 0, 0, 0, 0, 0, 0, 0, 0, 0, 0, 0, 9, 0, 0, 0, 9, 9, 19, 0, 0, 0, 0, 0, 0, 9, 0, 0, 0, 0, 0, 0, 0, 0, 9, 9, 9, 9, 0, 0, 0, 0, 0, 0, 0, 0, 0, 9, 9, 0, 9, 0, 0, 9, 0, 0, 0, 0, 0, 0, 0, 0, 9, 9, 0, 0, 0, 0, 0, 0, 0, 9, 0, 9, 9, 0, 0, 0, 0, 0, 9, 0, 9, 9, 9, 9, 0, 9, 9, 0, 0, 9, 0, 9, 0, 9, 9, 9, 0, 0, 0, 9, 9, 9, 0, 0, 0, 0, 0, 0, 9, 9, 9, 0, 0, 0, 0, 9, 9, 9, 9, 0, 0, 9, 0, 0, 9, 9, 9, 0, 0, 0, 0, 9, 9, 0, 0, 0, 9, 9, 9, 9, 9, 9, 0, 0, 0, 0, 0, 0, 0, 0, 0, 0, 0, 0, 9, 0, 0, 0, 0, 0, 0, 0, 0, 0, 0, 0, 9, 0, 0, 0, 0, 0, 0, 0, 9, 9, 0, 0, 0, 0, 9, 0, 0, 0, 0, 0, 0, 0, 0, 9, 0, 0, 0, 0, 0, 9, 9, 0, 0, 9, 9, 0, 0, 0, 0, 0, 0, 0, 0, 0, 0, 0, 0, 9, 0, 9, 0, 0, 0, 9, 0, 0, 0, 0, 9, 9, 0, 0, 0, 0, 0, 9, 0, 9, 0, 0, 0, 9, 9, 9, 9, 0, 0, 0, 0, 0, 0, 0, 0, 0, 0, 0, 9, 0, 0, 0, 0, 9, 9, 9, 9, 9, 9, 9, 0, 9, 0, 9, 0, 0, 0, 0, 0, 9, 0, 0, 0, 0, 0, 0, 9, 9, 9, 9, 9, 0, 0, 0, 0, 0, 0, 0, 9, 9, 9, 0, 0, 0, 0, 9, 9, 9, 9, 9, 0, 0, 9, 0, 0, 0, 0, 0, 0, 0, 0, 0, 0, 0, 0, 0, 9, 0, 0, 0, 9, 0, 0, 0, 0, 0, 9, 0, 0, 9, 0, 0, 9, 0, 9, 9, 9, 9, 9, 0, 0, 0, 0, 0, 0, 0, 0, 0, 0, 0, 0, 0, 9, 9, 0, 0, 9, 9, 9, 0, 0, 9, 9, 0, 0, 0, 0, 0, 0, 9, 9, 0, 0, 0, 0, 0, 9, 0, 9, 9, 0, 0, 0, 0, 0, 0, 0, 0, 0, 9, 0, 0, 0, 0, 0, 0, 0, 0, 0, 9, 0, 0, 0, 9, 9, 0, 0, 0, 0, 0, 9, 0, 0, 0, 9, 0, 0, 0, 9, 9, 9, 9, 9, 0, 0, 0, 0, 9, 0, 9, 22, 0, 0, 0, 0, 0, 9, 0, 0, 9, 0, 0, 0, 0, 0, 0, 0, 9, 0, 9, 9, 0, 0, 0, 0, 0, 19, 9, 0, 0, 0, 0, 9, 9, 0, 0, 0, 0, 0, 0, 0, 0, 0, 0, 0, 0, 0, 0, 0, 9, 9, 0, 0, 0, 0, 0, 0, 0, 0, 0, 0, 0, 9, 9, 9, 0, 9, 0, 0, 9, 9, 9, 0, 0, 9, 0, 0, 0, 9, 9, 9, 0, 9, 9, 9, 9, 9, 9, 9, 0, 0, 0, 0, 0, 0, 0, 0, 0, 0, 0, 0, 0, 0, 0, 0, 0, 0, 0, 0, 0, 23, 18, 5, 23, 0, 0, 0, 0, 9, 9, 9, 0, 0, 0, 0, 9, 9, 9, 9, 9, 19, 0, 0, 0, 0, 0, 0, 0, 0, 0, 0, 0, 0, 0, 0, 0, 0, 0, 0, 9, 0, 0, 0, 9, 9, 9, 9, 9, 0, 0, 0, 0, 0, 0, 9, 0, 0, 0, 0, 0, 0, 9, 0, 0, 0, 0, 19, 0, 19, 0, 9, 9, 0, 0, 19, 0, 9, 9, 9, 0, 0, 9, 0, 0, 19, 0, 0, 0, 0, 0, 9, 0, 0, 0, 0, 0, 0, 0, 9, 9, 0, 0, 0, 0, 0, 0, 0, 0, 0, 0, 0, 0, 9, 0, 0, 0, 0, 0, 9, 0, 9, 0, 0, 0, 9, 0, 0, 0, 9, 0, 0, 9, 9, 0, 9, 0, 0, 9, 0, 0, 0, 9, 0, 0, 0, 0, 0, 0, 0, 0, 0, 0, 0, 0, 9, 0, 0, 0, 9, 9, 9, 9, 9, 9, 0, 9, 9, 9, 0, 0, 0, 0, 0, 0, 0, 0, 0, 0, 0, 0, 0, 0, 0, 0, 0, 0, 0, 0, 0, 0, 0, 0, 9, 9, 0, 9, 0, 0, 0, 9, 9, 9, 0, 9, 0, 0, 0, 0, 0, 9, 0, 9, 0, 0, 9, 9, 9, 9, 9, 0, 0, 0, 0, 9, 22, 22, 22, 22, 0, 0, 9, 0, 0, 0, 0, 0, 0, 0, 0, 9, 0, 0, 0, 0, 0, 0, 0, 0, 0, 0, 0, 0, 0, 0, 0, 0, 9, 0, 0, 0, 0, 0, 0, 0, 0, 9, 9, 9, 0, 0, 0, 0, 0, 0, 9, 0, 0, 0, 9, 0, 0, 0, 0, 9, 22, 22, 0, 9, 0, 0, 9, 9, 0, 0, 9, 0, 0, 0, 0, 19, 0, 0, 0, 0, 0, 0, 0, 0, 0, 0, 0, 0, 0, 0, 0, 9, 9, 9, 9, 0, 0, 0, 0, 0, 0, 0, 0, 0, 0, 19, 0, 9, 9, 9, 9, 9, 9, 0, 0, 0, 9, 9, 9, 0, 0, 0, 0, 0, 9, 0, 9, 0, 0, 22, 22, 22, 22, 9, 0, 0, 0, 9, 9, 0, 0, 0, 9, 0, 0, 0, 0, 9, 0, 0, 9, 0, 0, 0, 0, 0, 0, 0, 0, 0, 0, 0, 0, 0, 0, 0, 0, 9, 9, 0, 0, 0, 9, 0, 0, 9, 0, 22, 0, 0, 9, 9, 0, 9, 0, 0, 9, 0, 0, 9, 0, 0, 9, 0, 0, 0, 0, 0, 9, 9, 0, 9, 0, 0, 9, 0, 9, 9, 9, 0, 0, 0, 0, 0, 9, 9, 0, 0, 0, 0, 0, 0, 0, 0, 9, 0, 0, 0, 9, 0, 0, 0, 0, 0, 0, 0, 0, 0, 19, 9, 9, 9, 9, 0, 0, 0, 0, 0, 0, 9, 9, 0, 9, 0, 9, 9, 9, 9, 9, 0, 0, 0, 0, 9, 9, 0, 0, 9, 9, 0, 0, 0, 0, 0, 0, 0, 0, 9, 0, 0, 0, 0, 9, 0, 0, 0, 0, 0, 9, 9, 9, 0, 0, 0, 9, 0, 0, 9, 0, 9, 9, 9, 9, 9, 9, 0, 0, 9, 9, 0, 9, 0, 0, 9, 9, 0, 0, 9, 0, 9, 9, 9, 0, 0, 0, 0, 0, 9, 9, 0, 0, 9, 0, 0, 0, 0, 0, 0, 0, 9, 9, 9, 0, 0, 9, 9, 0, 0, 0, 0, 0, 0, 0, 9, 9, 0, 0, 0, 9, 0, 0, 0, 0, 0, 9, 0, 0, 0, 0, 0, 0, 9, 0, 0, 0, 0, 0, 0, 9, 9, 9, 9, 9, 9, 9, 0, 0, 0, 0, 0, 0, 0, 0, 0, 0, 0, 0, 0, 0, 0, 0, 0, 9, 9, 9, 9, 0, 9, 0, 0, 0, 0, 0, 0, 0, 0, 0, 0, 0, 0, 0, 0, 0, 0, 0, 0, 0, 0, 0, 9, 0, 0, 9, 9, 9, 9, 0, 0, 9, 9, 9, 0, 0, 9, 9, 9, 9, 9, 0, 9, 0, 0, 0, 0, 0, 0, 0, 0, 0, 0, 0, 9, 9, 9, 9, 0, 9, 9, 9, 0, 0, 0, 0, 0, 9, 9, 0, 0, 0, 0, 0, 0, 0, 0, 9, 9, 0, 0, 9, 0, 9, 9, 0, 0, 0, 0, 0, 0, 0, 9, 9, 0, 0, 9, 0, 9, 0, 0, 0, 0, 0, 0, 9, 9, 9, 9, 9, 9, 9, 0, 9, 0, 9, 0, 0, 0, 0, 9, 9, 9, 9, 0, 0, 0, 0, 0, 0, 9, 9, 0, 9, 0, 9, 0, 9, 9, 9, 9, 0, 0, 0, 0, 0, 0, 0, 0, 0, 0, 9, 9, 0, 9, 19, 9, 0, 0, 0, 0, 0, 0, 9, 9, 0, 0, 0, 0, 0, 9, 0, 0, 0, 0, 0, 0, 0, 0, 0, 0, 0, 0, 0, 9, 0, 0, 0, 0, 0, 0, 0, 0, 0, 0, 0, 9, 0, 9, 9, 9, 0, 0, 0, 0, 0, 0, 0, 0, 9, 9, 9, 9, 0, 0, 9, 0, 19] The average silhouette_score is : 0.43013847\n"
          ],
          "name": "stdout"
        },
        {
          "output_type": "display_data",
          "data": {
            "image/png": "[encoded data removed]",
            "text/plain": [
              "<Figure size 1296x504 with 2 Axes>"
            ]
          },
          "metadata": {
            "tags": [],
            "needs_background": "light"
          }
        }
      ]
    },
    {
      "cell_type": "code",
      "metadata": {
        "id": "BLT9thC-YIlb",
        "colab_type": "code",
        "colab": {
          "base_uri": "https://localhost:8080/",
          "height": 299
        },
        "outputId": "431652bb-4cc5-4aed-a015-f2e7aad30ae1"
      },
      "source": [
        "##clustering with sklearn package\n",
        "import numpy\n",
        "import numpy as np\n",
        "import gensim\n",
        "from sklearn.cluster import KMeans\n",
        "from sklearn.decomposition import PCA\n",
        "from gensim.models import Doc2Vec\n",
        "\n",
        "kmeans_model10 = KMeans(n_clusters=10, init='k-means++', max_iter=100) \n",
        "X10 = kmeans_model10.fit(normalized)\n",
        "label10=kmeans_model10.labels_.tolist()\n",
        "l10 = kmeans_model10.fit_predict(normalized)\n",
        "pca = PCA(n_components=2).fit(normalized)\n",
        "datapoint = pca.transform(normalized)\n",
        "\n",
        "counts10 = np.bincount(label10)\n",
        "print(\"Cluster sizes: \",counts10)\n",
        "import matplotlib.pyplot as plt\n",
        "%matplotlib inline\n",
        "plt.figure\n",
        "label1 = [\"gray\", \"orange\", \"deepskyblue\", \"crimson\", \"cornflowerblue\", \n",
        "          \"mediumseagreen\", \"gold\", \"salmon\", \"palegreen\", \"mediumslateblue\"]\n",
        "color10 = [label1[i] for i in label10]\n",
        "plt.scatter(datapoint[:, 0], datapoint[:, 1], c=color10)\n",
        "centroids10 = kmeans_model10.cluster_centers_\n",
        "centroidpoint10 = pca.transform(centroids10)\n",
        "#plt.scatter(centroidpoint[:, 0], centroidpoint[:, 1], marker=\"^\", s=150, c=\"#000000\")\n",
        "plt.show()\n",
        "plt.savefig('/content/drive/My Drive/test/reddit word cluster 10.png')"
      ],
      "execution_count": 114,
      "outputs": [
        {
          "output_type": "stream",
          "text": [
            "Cluster sizes:  [1683 2740   50  331   10   70    8  953 3728    6]\n"
          ],
          "name": "stdout"
        },
        {
          "output_type": "display_data",
          "data": {
            "image/png": "[encoded data removed]",
            "text/plain": [
              "<Figure size 432x288 with 1 Axes>"
            ]
          },
          "metadata": {
            "tags": [],
            "needs_background": "light"
          }
        },
        {
          "output_type": "display_data",
          "data": {
            "text/plain": [
              "<Figure size 432x288 with 0 Axes>"
            ]
          },
          "metadata": {
            "tags": []
          }
        }
      ]
    },
    {
      "cell_type": "code",
      "metadata": {
        "id": "2BJogt880kdj",
        "colab_type": "code",
        "colab": {}
      },
      "source": [
        ""
      ],
      "execution_count": null,
      "outputs": []
    },
    {
      "cell_type": "code",
      "metadata": {
        "id": "4bgHb88VE-3q",
        "colab_type": "code",
        "colab": {
          "base_uri": "https://localhost:8080/",
          "height": 34
        },
        "outputId": "4f4a87c7-faf5-40d2-996d-4d3e0c513c5a"
      },
      "source": [
        "##clustering with ntkl packages\n",
        "distance_mat10 = kmeans_model10.fit_transform(normalized)\n",
        "type(distance_mat)"
      ],
      "execution_count": 107,
      "outputs": [
        {
          "output_type": "execute_result",
          "data": {
            "text/plain": [
              "numpy.ndarray"
            ]
          },
          "metadata": {
            "tags": []
          },
          "execution_count": 107
        }
      ]
    },
    {
      "cell_type": "code",
      "metadata": {
        "id": "JFfRNjnDxKIN",
        "colab_type": "code",
        "colab": {
          "base_uri": "https://localhost:8080/",
          "height": 377
        },
        "outputId": "cec9c0fa-6562-4941-fa55-d5990134828d"
      },
      "source": [
        "for i in range(10):\n",
        "  if counts10[i] > 10:\n",
        "    ind = np.argsort(distance_mat10[:,i])[0:9]\n",
        "    w = [model_6k_cor.wv.index2word[j] for j in ind]\n",
        "    print(\"Top 10 words for cluster\", i, \":\", w)\n",
        "    if counts10[i] * 0.1 > 20:\n",
        "        ind20 = np.argsort(distance_mat10[:,i])[0:19]\n",
        "        w20 = [model_6k_cor.wv.index2word[k] for k in ind20]\n",
        "        print(\"Top 20 words for cluster\", i, \":\", w20)\n",
        "        if counts10[i] *0.1 > 25:\n",
        "            ind25 = np.argsort(distance_mat10[:,i])[0:24]\n",
        "            w25 = [model_6k_cor.wv.index2word[l] for l in ind25]\n",
        "            print(\"Top 25 words for cluster\", i, \":\", w25)\n",
        "  else:\n",
        "    w0 = [model_6k_cor.wv.index2word[m] for m in range(len(label10)) if label10[m] ==i]\n",
        "    print(\"words in cluster\", i, \":\", w0)"
      ],
      "execution_count": 109,
      "outputs": [
        {
          "output_type": "stream",
          "text": [
            "Top 10 words for cluster 0 : ['apps', 'karma', 'commenting', 'holders', 'ì\\x81à', 'articulate', 'bothersome', 'truthful', 'refreshing']\n",
            "Top 10 words for cluster 1 : ['apologies', 'shadowplay', 'leaning', 'tusk', 'indiana', 'outlet', 'pity', 'escorts', 'ucs']\n",
            "Top 20 words for cluster 1 : ['apologies', 'shadowplay', 'leaning', 'tusk', 'indiana', 'outlet', 'pity', 'escorts', 'ucs', 'celebrate', 'browse', 'underprivileged', 'underage', 'shown', 'rtv', 'progress', 'launches', 'refuse', 'passenger']\n",
            "Top 25 words for cluster 1 : ['apologies', 'shadowplay', 'leaning', 'tusk', 'indiana', 'outlet', 'pity', 'escorts', 'ucs', 'celebrate', 'browse', 'underprivileged', 'underage', 'shown', 'rtv', 'progress', 'launches', 'refuse', 'passenger', 'falls', 'ud', 'hall', 'permission', 'goaded']\n",
            "Top 10 words for cluster 2 : ['nit', 'dong', 'hangs', 'bulk', 'zimmer', 'legarrette', 'utilizing', 'eyed', 'innovation']\n",
            "Top 20 words for cluster 2 : ['nit', 'dong', 'hangs', 'bulk', 'zimmer', 'legarrette', 'utilizing', 'eyed', 'innovation', 'diego', 'sevenbase', 'deflated', 'ayers', 'frequently', 'baxter', 'handsome', 'tabloid', 'cosmetics', 'generation']\n",
            "Top 25 words for cluster 2 : ['nit', 'dong', 'hangs', 'bulk', 'zimmer', 'legarrette', 'utilizing', 'eyed', 'innovation', 'diego', 'sevenbase', 'deflated', 'ayers', 'frequently', 'baxter', 'handsome', 'tabloid', 'cosmetics', 'generation', 'bending', 'cheka', 'shawshank', 'billions', 'turf']\n",
            "words in cluster 3 : ['pop', 'camp', 'boom', 'bam', 'bop', 'bout', 'ba', 'botha', 'kaplan', 'beep']\n",
            "Top 10 words for cluster 4 : ['toshiba', 'spirit', 'gg', 'meadowdaaaaaaaaaaaaaaaleeeeee', 'lollo', 'waaaaariorss', 'seeping', 'misdemeanour', 'rebate']\n",
            "Top 20 words for cluster 4 : ['toshiba', 'spirit', 'gg', 'meadowdaaaaaaaaaaaaaaaleeeeee', 'lollo', 'waaaaariorss', 'seeping', 'misdemeanour', 'rebate', 'churchgoer', 'balder', 'arr', 'plotting', 'overheads', 'roy', 'mckinnon', 'tbp', 'swag', 'jerks']\n",
            "Top 25 words for cluster 4 : ['toshiba', 'spirit', 'gg', 'meadowdaaaaaaaaaaaaaaaleeeeee', 'lollo', 'waaaaariorss', 'seeping', 'misdemeanour', 'rebate', 'churchgoer', 'balder', 'arr', 'plotting', 'overheads', 'roy', 'mckinnon', 'tbp', 'swag', 'jerks', 'huehuehue', 'conscripted', '\\x00', 'ratio', 'mccourt']\n",
            "Top 10 words for cluster 5 : ['hindsight', 'unreasonably', 'showers', 'dumped', 'inception', 'traveller', 'daniel', 'mockingbird', 'tournaments']\n",
            "Top 20 words for cluster 5 : ['hindsight', 'unreasonably', 'showers', 'dumped', 'inception', 'traveller', 'daniel', 'mockingbird', 'tournaments', 'imagination', 'users', 'scrutinised', 'walled', 'days', 'comedies', 'buttons', 'failed', 'noncrapsteam', 'vme']\n",
            "Top 25 words for cluster 5 : ['hindsight', 'unreasonably', 'showers', 'dumped', 'inception', 'traveller', 'daniel', 'mockingbird', 'tournaments', 'imagination', 'users', 'scrutinised', 'walled', 'days', 'comedies', 'buttons', 'failed', 'noncrapsteam', 'vme', 'tilting', 'crashed', 'western', 'kybytaty', 'flare']\n",
            "words in cluster 6 : ['block', 'add-ons', 'molla', 'firebox', 'add-on', 'src']\n",
            "words in cluster 7 : ['whole', 'bikes', 'dj', 'amiss', 'es', 'jokey', 'redshift', 'globaloffensive', 'mccarthyism']\n",
            "Top 10 words for cluster 8 : ['molla', 'firebox', 'add-on', 'src', 'add-ons', 'block', 'plus', 'steps', 'org']\n",
            "Top 10 words for cluster 9 : ['beep', 'botha', 'kaplan', 'ba', 'bop', 'pop', 'bam', 'boom', 'camp']\n",
            "Top 20 words for cluster 9 : ['beep', 'botha', 'kaplan', 'ba', 'bop', 'pop', 'bam', 'boom', 'camp', 'bout', 'lollo', 'plotting', 'waaaaariorss', 'toshiba', 'jerks', 'rebate', 'spirit', 'gg', 'meadowdaaaaaaaaaaaaaaaleeeeee']\n",
            "Top 25 words for cluster 9 : ['beep', 'botha', 'kaplan', 'ba', 'bop', 'pop', 'bam', 'boom', 'camp', 'bout', 'lollo', 'plotting', 'waaaaariorss', 'toshiba', 'jerks', 'rebate', 'spirit', 'gg', 'meadowdaaaaaaaaaaaaaaaleeeeee', 'ratio', '\\x00', 'tbp', 'roy', 'tew']\n"
          ],
          "name": "stdout"
        }
      ]
    },
    {
      "cell_type": "code",
      "metadata": {
        "id": "UltSZBGi8xdX",
        "colab_type": "code",
        "colab": {
          "base_uri": "https://localhost:8080/",
          "height": 34
        },
        "outputId": "4fb2223f-0a50-4229-b014-34425052e297"
      },
      "source": [
        "kmeans_model5 = KMeans(n_clusters=5, init='k-means++', max_iter=100) \n",
        "X5 = kmeans_model5.fit(normalized)\n",
        "labels5=kmeans_model5.labels_.tolist()\n",
        "l5 = kmeans_model5.fit_predict(normalized)\n",
        "pca = PCA(n_components=2).fit(normalized)\n",
        "datapoint = pca.transform(normalized)\n",
        "\n",
        "counts5 = np.bincount(labels5)\n",
        "print(\"Cluster sizes: \",counts5)\n"
      ],
      "execution_count": 110,
      "outputs": [
        {
          "output_type": "stream",
          "text": [
            "Cluster sizes:  [4665   75  745   60 4034]\n"
          ],
          "name": "stdout"
        }
      ]
    },
    {
      "cell_type": "code",
      "metadata": {
        "id": "PU85g2oF0kFX",
        "colab_type": "code",
        "colab": {
          "base_uri": "https://localhost:8080/",
          "height": 282
        },
        "outputId": "4a769018-21b8-4584-cb3f-6c1ec11e4c8f"
      },
      "source": [
        "%matplotlib inline\n",
        "plt.figure\n",
        "label1 = [\"gray\", \"orange\", \"deepskyblue\", \"crimson\", \"cornflowerblue\", \n",
        "          \"mediumseagreen\", \"gold\", \"salmon\", \"palegreen\", \"mediumslateblue\"]\n",
        "color5 = [label1[i] for i in labels5]\n",
        "plt.scatter(datapoint[:, 0], datapoint[:, 1], c=color5)\n",
        "centroids5 = kmeans_model5.cluster_centers_\n",
        "centroidpoint5 = pca.transform(centroids5)\n",
        "#plt.scatter(centroidpoint[:, 0], centroidpoint[:, 1], marker=\"^\", s=150, c=\"#000000\")\n",
        "plt.show()\n",
        "plt.savefig('/content/drive/My Drive/test/reddit word cluster 5.png')"
      ],
      "execution_count": 115,
      "outputs": [
        {
          "output_type": "display_data",
          "data": {
            "image/png": "[encoded data removed]",
            "text/plain": [
              "<Figure size 432x288 with 1 Axes>"
            ]
          },
          "metadata": {
            "tags": [],
            "needs_background": "light"
          }
        },
        {
          "output_type": "display_data",
          "data": {
            "text/plain": [
              "<Figure size 432x288 with 0 Axes>"
            ]
          },
          "metadata": {
            "tags": []
          }
        }
      ]
    },
    {
      "cell_type": "code",
      "metadata": {
        "id": "2gPYGeXh2SoY",
        "colab_type": "code",
        "colab": {
          "base_uri": "https://localhost:8080/",
          "height": 224
        },
        "outputId": "58cdde21-559d-41c0-a612-92cd977babf7"
      },
      "source": [
        "distance_mat5 = kmeans_model5.fit_transform(normalized)\n",
        "\n",
        "for i in range(5):\n",
        "  if counts5[i] > 10:\n",
        "    ind = np.argsort(distance_mat5[:,i])[0:9]\n",
        "    w = [model_6k_cor.wv.index2word[j] for j in ind]\n",
        "    print(\"Top 10 words for cluster\", i, \":\", w)\n",
        "    if counts5[i] * 0.1 > 20:\n",
        "        ind20 = np.argsort(distance_mat5[:,i])[0:19]\n",
        "        w20 = [model_6k_cor.wv.index2word[k] for k in ind20]\n",
        "        print(\"Top 20 words for cluster\", i, \":\", w20)\n",
        "        if counts5[i] *0.1 > 25:\n",
        "            ind25 = np.argsort(distance_mat5[:,i])[0:24]\n",
        "            w25 = [model_6k_cor.wv.index2word[l] for l in ind25]\n",
        "            print(\"Top 25 words for cluster\", i, \":\", w25)\n",
        "  else:\n",
        "    w0 = [model_6k_cor.wv.index2word[m] for m in range(len(labels5)) if labels5[m] ==i]\n",
        "    print(\"words in cluster\", i, \":\", w0)"
      ],
      "execution_count": 113,
      "outputs": [
        {
          "output_type": "stream",
          "text": [
            "Top 10 words for cluster 0 : ['scriptkiddies', 'bosa', 'freaky', 'bean', 'bchzfwdcnya', 'fame', 'taxpayer', 'ethnic', 'demographics']\n",
            "Top 20 words for cluster 0 : ['scriptkiddies', 'bosa', 'freaky', 'bean', 'bchzfwdcnya', 'fame', 'taxpayer', 'ethnic', 'demographics', 'bailey', 'emulators', 'neutral', 'quotable', 'admits', 'shittyhdr', 'discs', 'laser', 'erased', 'calculators']\n",
            "Top 25 words for cluster 0 : ['scriptkiddies', 'bosa', 'freaky', 'bean', 'bchzfwdcnya', 'fame', 'taxpayer', 'ethnic', 'demographics', 'bailey', 'emulators', 'neutral', 'quotable', 'admits', 'shittyhdr', 'discs', 'laser', 'erased', 'calculators', 'category', 'wasted', 'souls', 'casts', 'bushed']\n",
            "Top 10 words for cluster 1 : ['adamant', 'uncomfortably', 'jeez', 'flake', 'footsteps', 'colts', 'groaned', 'escaped', 'hater']\n",
            "Top 10 words for cluster 2 : ['overpriced', 'graph', 'foreshore', 'earthquake', 'veggies', 'quakes', 'whatnot', 'calories', 'slight']\n",
            "Top 20 words for cluster 2 : ['overpriced', 'graph', 'foreshore', 'earthquake', 'veggies', 'quakes', 'whatnot', 'calories', 'slight', 'rascal', 'square', 'reps', 'federally', 'meat', 'morality', 'riding', 'indy', 'nights', 'repeat']\n",
            "Top 25 words for cluster 2 : ['overpriced', 'graph', 'foreshore', 'earthquake', 'veggies', 'quakes', 'whatnot', 'calories', 'slight', 'rascal', 'square', 'reps', 'federally', 'meat', 'morality', 'riding', 'indy', 'nights', 'repeat', 'repeatedly', 'lit', 'absent', 'incorrectly', 'communicates']\n",
            "Top 10 words for cluster 3 : ['toshiba', 'spirit', 'lollo', 'gg', 'meadowdaaaaaaaaaaaaaaaleeeeee', 'waaaaariorss', 'rebate', 'plotting', 'misdemeanour']\n",
            "Top 10 words for cluster 4 : ['shropshire', 'clone', 'spoilers', 'insight', 'battlefield', 'nerve', 'canal', 'pikemen', 'dyslexics']\n",
            "Top 20 words for cluster 4 : ['shropshire', 'clone', 'spoilers', 'insight', 'battlefield', 'nerve', 'canal', 'pikemen', 'dyslexics', 'justifiable', 'stones', 'ratsvetali', 'omar', 'fallon', 'believes', 'drawer', 'richard', 'personalities', 'emo']\n",
            "Top 25 words for cluster 4 : ['shropshire', 'clone', 'spoilers', 'insight', 'battlefield', 'nerve', 'canal', 'pikemen', 'dyslexics', 'justifiable', 'stones', 'ratsvetali', 'omar', 'fallon', 'believes', 'drawer', 'richard', 'personalities', 'emo', 'sticking', 'legibly', 'sonoma', 'rhymes', 'losers']\n"
          ],
          "name": "stdout"
        }
      ]
    }
  ]
}