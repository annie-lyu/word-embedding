{
  "nbformat": 4,
  "nbformat_minor": 0,
  "metadata": {
    "colab": {
      "name": "doc2vec (with pretrained word embeddings) lowercase.ipynb",
      "provenance": [],
      "collapsed_sections": [],
      "authorship_tag": "ABX9TyMZYFI0vxaVZYx7OYsQaga0",
      "include_colab_link": true
    },
    "kernelspec": {
      "name": "python3",
      "display_name": "Python 3"
    }
  },
  "cells": [
    {
      "cell_type": "markdown",
      "metadata": {
        "id": "view-in-github",
        "colab_type": "text"
      },
      "source": [
        "<a href=\"https://colab.research.google.com/github/annie-lyu/word-embedding/blob/master/doc2vec_(with_pretrained_word_embeddings)_lowercase.ipynb\" target=\"_parent\"><img src=\"https://colab.research.google.com/assets/colab-badge.svg\" alt=\"Open In Colab\"/></a>"
      ]
    },
    {
      "cell_type": "code",
      "metadata": {
        "id": "L9mPvVKaucPo",
        "colab_type": "code",
        "colab": {
          "base_uri": "https://localhost:8080/",
          "height": 122
        },
        "outputId": "ece7ac28-be79-488e-a9fd-4abceb1e9d43"
      },
      "source": [
        "import glob\n",
        "from google.colab import drive\n",
        "drive.mount('/content/drive')"
      ],
      "execution_count": 1,
      "outputs": [
        {
          "output_type": "stream",
          "text": [
            "Go to this URL in a browser: https://accounts.google.com/o/oauth2/auth?client_id=947318989803-6bn6qk8qdgf4n4g3pfee6491hc0brc4i.apps.googleusercontent.com&redirect_uri=urn%3aietf%3awg%3aoauth%3a2.0%3aoob&scope=email%20https%3a%2f%2fwww.googleapis.com%2fauth%2fdocs.test%20https%3a%2f%2fwww.googleapis.com%2fauth%2fdrive%20https%3a%2f%2fwww.googleapis.com%2fauth%2fdrive.photos.readonly%20https%3a%2f%2fwww.googleapis.com%2fauth%2fpeopleapi.readonly&response_type=code\n",
            "\n",
            "Enter your authorization code:\n",
            "··········\n",
            "Mounted at /content/drive\n"
          ],
          "name": "stdout"
        }
      ]
    },
    {
      "cell_type": "code",
      "metadata": {
        "id": "8UyJ_zurvxcl",
        "colab_type": "code",
        "colab": {}
      },
      "source": [
        "import gensim.models as g\n",
        "import logging\n",
        "from gensim.test.utils import common_texts\n",
        "from gensim.models.doc2vec import Doc2Vec, TaggedLineDocument, TaggedDocument"
      ],
      "execution_count": 2,
      "outputs": []
    },
    {
      "cell_type": "code",
      "metadata": {
        "id": "-LdgmPiC41IM",
        "colab_type": "code",
        "colab": {}
      },
      "source": [
        "##optimal hyperparameter setting found by Lau and Baldwin (2016) and confirmed by \n",
        "vector_size = 300\n",
        "window_size = 15\n",
        "min_count = 1\n",
        "sampling_threshold = 1e-5\n",
        "negative_size = 5\n",
        "train_epoch = 100\n",
        "dm = 0\n",
        "worker_count = 1 "
      ],
      "execution_count": 3,
      "outputs": []
    },
    {
      "cell_type": "code",
      "metadata": {
        "id": "xgUPxgrH5LgO",
        "colab_type": "code",
        "colab": {}
      },
      "source": [
        "pretrained_emb = \"/content/drive/My Drive/test/glove.6B.100d.txt\"\n",
        "saved_path = \"/content/drive/My Drive/test/model_6k_cor.bin\"\n",
        "logging.basicConfig(format='%(asctime)s : %(levelname)s : %(message)s', level=logging.INFO)"
      ],
      "execution_count": 4,
      "outputs": []
    },
    {
      "cell_type": "code",
      "metadata": {
        "id": "FFnzq61rXAU4",
        "colab_type": "code",
        "colab": {}
      },
      "source": [
        "import re\n",
        "def removePunctuation(text):\n",
        "    punctuation = '\\\\\\\\!,;:?\"\\'.-=^/|+-'\n",
        "    text = re.sub(r'[{}]+'.format(punctuation),'',text)\n",
        "    text = text.replace(\"\\n\", \"\")\n",
        "    return text"
      ],
      "execution_count": 5,
      "outputs": []
    },
    {
      "cell_type": "code",
      "metadata": {
        "id": "2JQEQVb5b6pa",
        "colab_type": "code",
        "colab": {
          "base_uri": "https://localhost:8080/",
          "height": 102
        },
        "outputId": "6c0d9670-c333-4d2e-9b99-e27852346634"
      },
      "source": [
        "!pip install pyspellchecker\n",
        "from spellchecker import SpellChecker\n",
        "spell = SpellChecker()"
      ],
      "execution_count": 6,
      "outputs": [
        {
          "output_type": "stream",
          "text": [
            "Collecting pyspellchecker\n",
            "\u001b[?25l  Downloading https://files.pythonhosted.org/packages/f1/96/827c132397d0eb5731c1eda05dbfb019ede064ca8c7d0f329160ce0a4acd/pyspellchecker-0.5.5-py2.py3-none-any.whl (1.9MB)\n",
            "\u001b[K     |████████████████████████████████| 1.9MB 4.7MB/s \n",
            "\u001b[?25hInstalling collected packages: pyspellchecker\n",
            "Successfully installed pyspellchecker-0.5.5\n"
          ],
          "name": "stdout"
        }
      ]
    },
    {
      "cell_type": "code",
      "metadata": {
        "id": "ldqX17StXBOG",
        "colab_type": "code",
        "colab": {
          "base_uri": "https://localhost:8080/",
          "height": 51
        },
        "outputId": "9c06f6cb-f6fb-43c9-9060-3826273c1ea9"
      },
      "source": [
        "import nltk\n",
        "with open(\"/content/drive/My Drive/test/reddit_6k.txt\",encoding='latin-1') as f:\n",
        "    data = f.read().replace('\"', \"\")\n",
        "nltk.download('stopwords')\n",
        "from nltk.corpus import stopwords\n",
        "stop_words = list(set(stopwords.words('english'))) + [\n",
        " 'goddamnit',\n",
        " 'meadowdaaaaaaaaaaaaaaaleeeeee',\n",
        " 'seeping',\n",
        " 'waaaaariorss',\n",
        " 'lolog',\n",
        " 'vt',\n",
        " 'tew',\n",
        " 'churchgoer',\n",
        " 'lefsen',\n",
        " 'karmawhoring',\n",
        " 'mckinnon',\n",
        " 'toshing',\n",
        " 'huehuehue',\n",
        " 'meespeltt',\n",
        " 'rebate',\n",
        " 'ahem',\n",
        " 'iud',\n",
        " 'misdemeanor',\n",
        " 'swansea',\n",
        " 'duckish',\n",
        " 'madagascar',\n",
        " 'balder',\n",
        " 'yus',\n",
        " 'swag',\n",
        " 'debatable',\n",
        " 'ø',\n",
        " 'courty',\n",
        " 'hummel',\n",
        " 'bow',\n",
        " 'basket',\n",
        " 'roy',\n",
        " 'rectum',\n",
        " 'jerks',\n",
        " 'meteor',\n",
        " 'skosh',\n",
        " 'î',\n",
        " 'arr',\n",
        " 'goonies',\n",
        " 'halftime',\n",
        " 'woooooooooooooooooooooooooo',\n",
        " 'ð',\n",
        "  'da',\n",
        " 'pop',\n",
        " 'camp',\n",
        " 'boom',\n",
        " 'bam',\n",
        " 'bop',\n",
        " 'bout',\n",
        " 'ba',\n",
        " 'rotta',\n",
        " 'kalam',\n",
        " 'beep',\n",
        " 'æ',\n",
        " 'plotting', 'mccourt', 'catholic', 'overheads', 'crohn',\n",
        " 'ratio',\n",
        " 'conscripted',\n",
        " 'baker',\n",
        " 'japan',\n",
        " 'murderer',\n",
        " 'gg',\n",
        " 'tbp',\n",
        " 'pls',\n",
        " 'geffen',\n",
        " 'cries',\n",
        " 'easton',\n",
        " '\\x00',\n",
        " 'goodies',\n",
        " 'misdemeanour',\n",
        " 'stroke',\n",
        " 'conflicted',\n",
        " 'lollo',\n",
        " 'careful',\n",
        " 'sknsh',\n",
        " 'penis',\n",
        " 'infuriated']\n",
        "\n",
        "text = data.split(\"\\n\")\n",
        "removed = []\n",
        "for corpus in text:\n",
        "  corpus = removePunctuation(corpus)\n",
        "  words = corpus.split(\" \") \n",
        "  words = [word for word in words if \"ù\" not in word]\n",
        "  words = [word for word in words if \"ï\" not in word]\n",
        "  words = [word for word in words if \"â\" not in word]\n",
        "  words = [word for word in words if \"ñ\" not in word]\n",
        "  words = [word for word in words if \"æ\" not in word]\n",
        "  words = [word for word in words if \"ã\" not in word]\n",
        "  words = [spell.correction(word) for word in words]\n",
        "  word = [word for word in words if word not in stop_words]\n",
        "  removed += [word]\n",
        "\n",
        "new_corpus = [\" \".join(words) for words in removed]\n",
        "new_data = \"\\n\".join(new_corpus)\n",
        "\n",
        "\n",
        "with open('/content/drive/My Drive/test/reddit_6k_utf8_rmstop.txt','w',encoding='utf8') as f:\n",
        "    f.write(new_data)\n",
        "\n",
        "docs = g.doc2vec.TaggedLineDocument('/content/drive/My Drive/test/reddit_6k_utf8_rmstop.txt')\n",
        "\n",
        "\n"
      ],
      "execution_count": 55,
      "outputs": [
        {
          "output_type": "stream",
          "text": [
            "[nltk_data] Downloading package stopwords to /root/nltk_data...\n",
            "[nltk_data]   Package stopwords is already up-to-date!\n"
          ],
          "name": "stdout"
        }
      ]
    },
    {
      "cell_type": "code",
      "metadata": {
        "id": "mpA5qXdQBUfO",
        "colab_type": "code",
        "colab": {}
      },
      "source": [
        ""
      ],
      "execution_count": null,
      "outputs": []
    },
    {
      "cell_type": "code",
      "metadata": {
        "id": "wHDlsFBg_v-9",
        "colab_type": "code",
        "colab": {
          "base_uri": "https://localhost:8080/",
          "height": 1000
        },
        "outputId": "8344609c-33c8-4eb4-f994-0abd11e10c96"
      },
      "source": [
        "\n",
        "model_6k_cor = g.Doc2Vec(docs, size=vector_size, window=window_size, min_count=min_count, sample=sampling_threshold, workers=worker_count, hs=0, dm=dm, negative=negative_size, dbow_words=1, dm_concat=1, pretrained_emb=pretrained_emb, iter=train_epoch)\n",
        "\n",
        "#save model\n",
        "model_6k_cor.save(saved_path)\n"
      ],
      "execution_count": 56,
      "outputs": [
        {
          "output_type": "stream",
          "text": [
            "/usr/local/lib/python3.6/dist-packages/gensim/models/doc2vec.py:566: UserWarning: The parameter `iter` is deprecated, will be removed in 4.0.0, use `epochs` instead.\n",
            "  warnings.warn(\"The parameter `iter` is deprecated, will be removed in 4.0.0, use `epochs` instead.\")\n",
            "/usr/local/lib/python3.6/dist-packages/gensim/models/doc2vec.py:570: UserWarning: The parameter `size` is deprecated, will be removed in 4.0.0, use `vector_size` instead.\n",
            "  warnings.warn(\"The parameter `size` is deprecated, will be removed in 4.0.0, use `vector_size` instead.\")\n",
            "2020-09-08 11:38:39,426 : INFO : collecting all words and their counts\n",
            "/usr/local/lib/python3.6/dist-packages/smart_open/smart_open_lib.py:254: UserWarning: This function is deprecated, use smart_open.open instead. See the migration notes for details: https://github.com/RaRe-Technologies/smart_open/blob/master/README.rst#migrating-to-the-new-open-function\n",
            "  'See the migration notes for details: %s' % _MIGRATION_NOTES_URL\n",
            "2020-09-08 11:38:39,430 : INFO : PROGRESS: at example #0, processed 0 words (0/s), 0 word types, 0 tags\n",
            "2020-09-08 11:38:39,473 : INFO : collected 9551 word types and 6000 unique tags from a corpus of 6000 examples and 45663 words\n",
            "2020-09-08 11:38:39,475 : INFO : Loading a fresh vocabulary\n",
            "2020-09-08 11:38:39,499 : INFO : effective_min_count=1 retains 9551 unique words (100% of original 9551, drops 0)\n",
            "2020-09-08 11:38:39,502 : INFO : effective_min_count=1 leaves 45663 word corpus (100% of original 45663, drops 0)\n",
            "2020-09-08 11:38:39,545 : INFO : deleting the raw counts dictionary of 9551 items\n",
            "2020-09-08 11:38:39,547 : INFO : sample=1e-05 downsamples 4431 most-common words\n",
            "2020-09-08 11:38:39,548 : INFO : downsampling leaves estimated 14547 word corpus (31.9% of prior 45663)\n",
            "2020-09-08 11:38:39,580 : INFO : estimated required memory for 9551 words and 300 dimensions: 34897900 bytes\n",
            "2020-09-08 11:38:39,581 : INFO : resetting layer weights\n",
            "2020-09-08 11:38:42,715 : INFO : training model with 1 workers on 9552 vocabulary and 300 features, using sg=1 hs=0 sample=1e-05 negative=5 window=15\n",
            "2020-09-08 11:38:43,167 : INFO : worker thread finished; awaiting finish of 0 more threads\n",
            "2020-09-08 11:38:43,168 : INFO : EPOCH - 1 : training on 45663 raw words (20457 effective words) took 0.4s, 45535 effective words/s\n",
            "2020-09-08 11:38:43,716 : INFO : worker thread finished; awaiting finish of 0 more threads\n",
            "2020-09-08 11:38:43,717 : INFO : EPOCH - 2 : training on 45663 raw words (20502 effective words) took 0.5s, 37812 effective words/s\n",
            "2020-09-08 11:38:44,168 : INFO : worker thread finished; awaiting finish of 0 more threads\n",
            "2020-09-08 11:38:44,169 : INFO : EPOCH - 3 : training on 45663 raw words (20571 effective words) took 0.4s, 45997 effective words/s\n",
            "2020-09-08 11:38:44,618 : INFO : worker thread finished; awaiting finish of 0 more threads\n",
            "2020-09-08 11:38:44,619 : INFO : EPOCH - 4 : training on 45663 raw words (20587 effective words) took 0.4s, 46498 effective words/s\n",
            "2020-09-08 11:38:45,075 : INFO : worker thread finished; awaiting finish of 0 more threads\n",
            "2020-09-08 11:38:45,076 : INFO : EPOCH - 5 : training on 45663 raw words (20652 effective words) took 0.4s, 46030 effective words/s\n",
            "2020-09-08 11:38:45,503 : INFO : worker thread finished; awaiting finish of 0 more threads\n",
            "2020-09-08 11:38:45,504 : INFO : EPOCH - 6 : training on 45663 raw words (20619 effective words) took 0.4s, 48880 effective words/s\n",
            "2020-09-08 11:38:46,025 : INFO : worker thread finished; awaiting finish of 0 more threads\n",
            "2020-09-08 11:38:46,026 : INFO : EPOCH - 7 : training on 45663 raw words (20685 effective words) took 0.5s, 40030 effective words/s\n",
            "2020-09-08 11:38:46,468 : INFO : worker thread finished; awaiting finish of 0 more threads\n",
            "2020-09-08 11:38:46,469 : INFO : EPOCH - 8 : training on 45663 raw words (20523 effective words) took 0.4s, 47625 effective words/s\n",
            "2020-09-08 11:38:46,895 : INFO : worker thread finished; awaiting finish of 0 more threads\n",
            "2020-09-08 11:38:46,896 : INFO : EPOCH - 9 : training on 45663 raw words (20602 effective words) took 0.4s, 49036 effective words/s\n",
            "2020-09-08 11:38:47,344 : INFO : worker thread finished; awaiting finish of 0 more threads\n",
            "2020-09-08 11:38:47,345 : INFO : EPOCH - 10 : training on 45663 raw words (20631 effective words) took 0.4s, 46607 effective words/s\n",
            "2020-09-08 11:38:47,771 : INFO : worker thread finished; awaiting finish of 0 more threads\n",
            "2020-09-08 11:38:47,772 : INFO : EPOCH - 11 : training on 45663 raw words (20641 effective words) took 0.4s, 48779 effective words/s\n",
            "2020-09-08 11:38:48,214 : INFO : worker thread finished; awaiting finish of 0 more threads\n",
            "2020-09-08 11:38:48,215 : INFO : EPOCH - 12 : training on 45663 raw words (20552 effective words) took 0.4s, 47140 effective words/s\n",
            "2020-09-08 11:38:48,750 : INFO : worker thread finished; awaiting finish of 0 more threads\n",
            "2020-09-08 11:38:48,751 : INFO : EPOCH - 13 : training on 45663 raw words (20452 effective words) took 0.5s, 38574 effective words/s\n",
            "2020-09-08 11:38:49,211 : INFO : worker thread finished; awaiting finish of 0 more threads\n",
            "2020-09-08 11:38:49,212 : INFO : EPOCH - 14 : training on 45663 raw words (20614 effective words) took 0.5s, 45297 effective words/s\n",
            "2020-09-08 11:38:49,644 : INFO : worker thread finished; awaiting finish of 0 more threads\n",
            "2020-09-08 11:38:49,644 : INFO : EPOCH - 15 : training on 45663 raw words (20629 effective words) took 0.4s, 48496 effective words/s\n",
            "2020-09-08 11:38:50,086 : INFO : worker thread finished; awaiting finish of 0 more threads\n",
            "2020-09-08 11:38:50,087 : INFO : EPOCH - 16 : training on 45663 raw words (20579 effective words) took 0.4s, 47046 effective words/s\n",
            "2020-09-08 11:38:50,525 : INFO : worker thread finished; awaiting finish of 0 more threads\n",
            "2020-09-08 11:38:50,526 : INFO : EPOCH - 17 : training on 45663 raw words (20581 effective words) took 0.4s, 47203 effective words/s\n",
            "2020-09-08 11:38:51,056 : INFO : worker thread finished; awaiting finish of 0 more threads\n",
            "2020-09-08 11:38:51,057 : INFO : EPOCH - 18 : training on 45663 raw words (20649 effective words) took 0.5s, 39370 effective words/s\n",
            "2020-09-08 11:38:51,502 : INFO : worker thread finished; awaiting finish of 0 more threads\n",
            "2020-09-08 11:38:51,503 : INFO : EPOCH - 19 : training on 45663 raw words (20522 effective words) took 0.4s, 46710 effective words/s\n",
            "2020-09-08 11:38:51,928 : INFO : worker thread finished; awaiting finish of 0 more threads\n",
            "2020-09-08 11:38:51,929 : INFO : EPOCH - 20 : training on 45663 raw words (20649 effective words) took 0.4s, 49219 effective words/s\n",
            "2020-09-08 11:38:52,367 : INFO : worker thread finished; awaiting finish of 0 more threads\n",
            "2020-09-08 11:38:52,368 : INFO : EPOCH - 21 : training on 45663 raw words (20453 effective words) took 0.4s, 47111 effective words/s\n",
            "2020-09-08 11:38:52,797 : INFO : worker thread finished; awaiting finish of 0 more threads\n",
            "2020-09-08 11:38:52,798 : INFO : EPOCH - 22 : training on 45663 raw words (20515 effective words) took 0.4s, 48210 effective words/s\n",
            "2020-09-08 11:38:53,249 : INFO : worker thread finished; awaiting finish of 0 more threads\n",
            "2020-09-08 11:38:53,250 : INFO : EPOCH - 23 : training on 45663 raw words (20596 effective words) took 0.4s, 46261 effective words/s\n",
            "2020-09-08 11:38:53,760 : INFO : worker thread finished; awaiting finish of 0 more threads\n",
            "2020-09-08 11:38:53,761 : INFO : EPOCH - 24 : training on 45663 raw words (20488 effective words) took 0.5s, 40589 effective words/s\n",
            "2020-09-08 11:38:54,224 : INFO : worker thread finished; awaiting finish of 0 more threads\n",
            "2020-09-08 11:38:54,225 : INFO : EPOCH - 25 : training on 45663 raw words (20421 effective words) took 0.5s, 44615 effective words/s\n",
            "2020-09-08 11:38:54,660 : INFO : worker thread finished; awaiting finish of 0 more threads\n",
            "2020-09-08 11:38:54,661 : INFO : EPOCH - 26 : training on 45663 raw words (20335 effective words) took 0.4s, 47359 effective words/s\n",
            "2020-09-08 11:38:55,097 : INFO : worker thread finished; awaiting finish of 0 more threads\n",
            "2020-09-08 11:38:55,098 : INFO : EPOCH - 27 : training on 45663 raw words (20484 effective words) took 0.4s, 47528 effective words/s\n",
            "2020-09-08 11:38:55,549 : INFO : worker thread finished; awaiting finish of 0 more threads\n",
            "2020-09-08 11:38:55,550 : INFO : EPOCH - 28 : training on 45663 raw words (20575 effective words) took 0.4s, 46314 effective words/s\n",
            "2020-09-08 11:38:56,071 : INFO : worker thread finished; awaiting finish of 0 more threads\n",
            "2020-09-08 11:38:56,072 : INFO : EPOCH - 29 : training on 45663 raw words (20593 effective words) took 0.5s, 40003 effective words/s\n",
            "2020-09-08 11:38:56,509 : INFO : worker thread finished; awaiting finish of 0 more threads\n",
            "2020-09-08 11:38:56,510 : INFO : EPOCH - 30 : training on 45663 raw words (20520 effective words) took 0.4s, 47732 effective words/s\n",
            "2020-09-08 11:38:56,947 : INFO : worker thread finished; awaiting finish of 0 more threads\n",
            "2020-09-08 11:38:56,948 : INFO : EPOCH - 31 : training on 45663 raw words (20560 effective words) took 0.4s, 47383 effective words/s\n",
            "2020-09-08 11:38:57,409 : INFO : worker thread finished; awaiting finish of 0 more threads\n",
            "2020-09-08 11:38:57,410 : INFO : EPOCH - 32 : training on 45663 raw words (20614 effective words) took 0.5s, 45328 effective words/s\n",
            "2020-09-08 11:38:57,830 : INFO : worker thread finished; awaiting finish of 0 more threads\n",
            "2020-09-08 11:38:57,831 : INFO : EPOCH - 33 : training on 45663 raw words (20443 effective words) took 0.4s, 49153 effective words/s\n",
            "2020-09-08 11:38:58,359 : INFO : worker thread finished; awaiting finish of 0 more threads\n",
            "2020-09-08 11:38:58,360 : INFO : EPOCH - 34 : training on 45663 raw words (20503 effective words) took 0.5s, 39174 effective words/s\n",
            "2020-09-08 11:38:58,827 : INFO : worker thread finished; awaiting finish of 0 more threads\n",
            "2020-09-08 11:38:58,828 : INFO : EPOCH - 35 : training on 45663 raw words (20622 effective words) took 0.5s, 44609 effective words/s\n",
            "2020-09-08 11:38:59,285 : INFO : worker thread finished; awaiting finish of 0 more threads\n",
            "2020-09-08 11:38:59,286 : INFO : EPOCH - 36 : training on 45663 raw words (20497 effective words) took 0.5s, 45500 effective words/s\n",
            "2020-09-08 11:38:59,718 : INFO : worker thread finished; awaiting finish of 0 more threads\n",
            "2020-09-08 11:38:59,719 : INFO : EPOCH - 37 : training on 45663 raw words (20609 effective words) took 0.4s, 48331 effective words/s\n",
            "2020-09-08 11:39:00,157 : INFO : worker thread finished; awaiting finish of 0 more threads\n",
            "2020-09-08 11:39:00,158 : INFO : EPOCH - 38 : training on 45663 raw words (20592 effective words) took 0.4s, 47480 effective words/s\n",
            "2020-09-08 11:39:00,596 : INFO : worker thread finished; awaiting finish of 0 more threads\n",
            "2020-09-08 11:39:00,597 : INFO : EPOCH - 39 : training on 45663 raw words (20517 effective words) took 0.4s, 47521 effective words/s\n",
            "2020-09-08 11:39:01,131 : INFO : worker thread finished; awaiting finish of 0 more threads\n",
            "2020-09-08 11:39:01,132 : INFO : EPOCH - 40 : training on 45663 raw words (20491 effective words) took 0.5s, 38703 effective words/s\n",
            "2020-09-08 11:39:01,574 : INFO : worker thread finished; awaiting finish of 0 more threads\n",
            "2020-09-08 11:39:01,575 : INFO : EPOCH - 41 : training on 45663 raw words (20532 effective words) took 0.4s, 46968 effective words/s\n",
            "2020-09-08 11:39:02,001 : INFO : worker thread finished; awaiting finish of 0 more threads\n",
            "2020-09-08 11:39:02,007 : INFO : EPOCH - 42 : training on 45663 raw words (20603 effective words) took 0.4s, 48441 effective words/s\n",
            "2020-09-08 11:39:02,445 : INFO : worker thread finished; awaiting finish of 0 more threads\n",
            "2020-09-08 11:39:02,446 : INFO : EPOCH - 43 : training on 45663 raw words (20548 effective words) took 0.4s, 47406 effective words/s\n",
            "2020-09-08 11:39:02,880 : INFO : worker thread finished; awaiting finish of 0 more threads\n",
            "2020-09-08 11:39:02,881 : INFO : EPOCH - 44 : training on 45663 raw words (20579 effective words) took 0.4s, 48067 effective words/s\n",
            "2020-09-08 11:39:03,409 : INFO : worker thread finished; awaiting finish of 0 more threads\n",
            "2020-09-08 11:39:03,410 : INFO : EPOCH - 45 : training on 45663 raw words (20549 effective words) took 0.5s, 39350 effective words/s\n",
            "2020-09-08 11:39:03,840 : INFO : worker thread finished; awaiting finish of 0 more threads\n",
            "2020-09-08 11:39:03,841 : INFO : EPOCH - 46 : training on 45663 raw words (20608 effective words) took 0.4s, 48362 effective words/s\n",
            "2020-09-08 11:39:04,284 : INFO : worker thread finished; awaiting finish of 0 more threads\n",
            "2020-09-08 11:39:04,285 : INFO : EPOCH - 47 : training on 45663 raw words (20573 effective words) took 0.4s, 46768 effective words/s\n",
            "2020-09-08 11:39:04,720 : INFO : worker thread finished; awaiting finish of 0 more threads\n",
            "2020-09-08 11:39:04,721 : INFO : EPOCH - 48 : training on 45663 raw words (20423 effective words) took 0.4s, 47548 effective words/s\n",
            "2020-09-08 11:39:05,168 : INFO : worker thread finished; awaiting finish of 0 more threads\n",
            "2020-09-08 11:39:05,169 : INFO : EPOCH - 49 : training on 45663 raw words (20525 effective words) took 0.4s, 46564 effective words/s\n",
            "2020-09-08 11:39:05,694 : INFO : worker thread finished; awaiting finish of 0 more threads\n",
            "2020-09-08 11:39:05,695 : INFO : EPOCH - 50 : training on 45663 raw words (20584 effective words) took 0.5s, 39819 effective words/s\n",
            "2020-09-08 11:39:06,137 : INFO : worker thread finished; awaiting finish of 0 more threads\n",
            "2020-09-08 11:39:06,138 : INFO : EPOCH - 51 : training on 45663 raw words (20450 effective words) took 0.4s, 46795 effective words/s\n",
            "2020-09-08 11:39:06,582 : INFO : worker thread finished; awaiting finish of 0 more threads\n",
            "2020-09-08 11:39:06,583 : INFO : EPOCH - 52 : training on 45663 raw words (20670 effective words) took 0.4s, 47140 effective words/s\n",
            "2020-09-08 11:39:07,017 : INFO : worker thread finished; awaiting finish of 0 more threads\n",
            "2020-09-08 11:39:07,018 : INFO : EPOCH - 53 : training on 45663 raw words (20459 effective words) took 0.4s, 47294 effective words/s\n",
            "2020-09-08 11:39:07,481 : INFO : worker thread finished; awaiting finish of 0 more threads\n",
            "2020-09-08 11:39:07,483 : INFO : EPOCH - 54 : training on 45663 raw words (20804 effective words) took 0.5s, 45428 effective words/s\n",
            "2020-09-08 11:39:07,912 : INFO : worker thread finished; awaiting finish of 0 more threads\n",
            "2020-09-08 11:39:07,913 : INFO : EPOCH - 55 : training on 45663 raw words (20383 effective words) took 0.4s, 47860 effective words/s\n",
            "2020-09-08 11:39:08,442 : INFO : worker thread finished; awaiting finish of 0 more threads\n",
            "2020-09-08 11:39:08,443 : INFO : EPOCH - 56 : training on 45663 raw words (20523 effective words) took 0.5s, 39148 effective words/s\n",
            "2020-09-08 11:39:08,889 : INFO : worker thread finished; awaiting finish of 0 more threads\n",
            "2020-09-08 11:39:08,890 : INFO : EPOCH - 57 : training on 45663 raw words (20626 effective words) took 0.4s, 46624 effective words/s\n",
            "2020-09-08 11:39:09,379 : INFO : worker thread finished; awaiting finish of 0 more threads\n",
            "2020-09-08 11:39:09,380 : INFO : EPOCH - 58 : training on 45663 raw words (20569 effective words) took 0.5s, 42537 effective words/s\n",
            "2020-09-08 11:39:09,817 : INFO : worker thread finished; awaiting finish of 0 more threads\n",
            "2020-09-08 11:39:09,818 : INFO : EPOCH - 59 : training on 45663 raw words (20560 effective words) took 0.4s, 47652 effective words/s\n",
            "2020-09-08 11:39:10,252 : INFO : worker thread finished; awaiting finish of 0 more threads\n",
            "2020-09-08 11:39:10,252 : INFO : EPOCH - 60 : training on 45663 raw words (20558 effective words) took 0.4s, 47749 effective words/s\n",
            "2020-09-08 11:39:10,780 : INFO : worker thread finished; awaiting finish of 0 more threads\n",
            "2020-09-08 11:39:10,781 : INFO : EPOCH - 61 : training on 45663 raw words (20559 effective words) took 0.5s, 39232 effective words/s\n",
            "2020-09-08 11:39:11,243 : INFO : worker thread finished; awaiting finish of 0 more threads\n",
            "2020-09-08 11:39:11,244 : INFO : EPOCH - 62 : training on 45663 raw words (20646 effective words) took 0.5s, 45533 effective words/s\n",
            "2020-09-08 11:39:11,696 : INFO : worker thread finished; awaiting finish of 0 more threads\n",
            "2020-09-08 11:39:11,697 : INFO : EPOCH - 63 : training on 45663 raw words (20577 effective words) took 0.4s, 46028 effective words/s\n",
            "2020-09-08 11:39:12,144 : INFO : worker thread finished; awaiting finish of 0 more threads\n",
            "2020-09-08 11:39:12,144 : INFO : EPOCH - 64 : training on 45663 raw words (20504 effective words) took 0.4s, 46620 effective words/s\n",
            "2020-09-08 11:39:12,588 : INFO : worker thread finished; awaiting finish of 0 more threads\n",
            "2020-09-08 11:39:12,588 : INFO : EPOCH - 65 : training on 45663 raw words (20560 effective words) took 0.4s, 47085 effective words/s\n",
            "2020-09-08 11:39:13,118 : INFO : worker thread finished; awaiting finish of 0 more threads\n",
            "2020-09-08 11:39:13,119 : INFO : EPOCH - 66 : training on 45663 raw words (20592 effective words) took 0.5s, 39332 effective words/s\n",
            "2020-09-08 11:39:13,587 : INFO : worker thread finished; awaiting finish of 0 more threads\n",
            "2020-09-08 11:39:13,587 : INFO : EPOCH - 67 : training on 45663 raw words (20550 effective words) took 0.5s, 44427 effective words/s\n",
            "2020-09-08 11:39:14,020 : INFO : worker thread finished; awaiting finish of 0 more threads\n",
            "2020-09-08 11:39:14,021 : INFO : EPOCH - 68 : training on 45663 raw words (20531 effective words) took 0.4s, 48079 effective words/s\n",
            "2020-09-08 11:39:14,453 : INFO : worker thread finished; awaiting finish of 0 more threads\n",
            "2020-09-08 11:39:14,454 : INFO : EPOCH - 69 : training on 45663 raw words (20434 effective words) took 0.4s, 48303 effective words/s\n",
            "2020-09-08 11:39:14,893 : INFO : worker thread finished; awaiting finish of 0 more threads\n",
            "2020-09-08 11:39:14,894 : INFO : EPOCH - 70 : training on 45663 raw words (20546 effective words) took 0.4s, 47091 effective words/s\n",
            "2020-09-08 11:39:15,346 : INFO : worker thread finished; awaiting finish of 0 more threads\n",
            "2020-09-08 11:39:15,349 : INFO : EPOCH - 71 : training on 45663 raw words (20595 effective words) took 0.4s, 45931 effective words/s\n",
            "2020-09-08 11:39:15,885 : INFO : worker thread finished; awaiting finish of 0 more threads\n",
            "2020-09-08 11:39:15,886 : INFO : EPOCH - 72 : training on 45663 raw words (20525 effective words) took 0.5s, 38701 effective words/s\n",
            "2020-09-08 11:39:16,327 : INFO : worker thread finished; awaiting finish of 0 more threads\n",
            "2020-09-08 11:39:16,328 : INFO : EPOCH - 73 : training on 45663 raw words (20491 effective words) took 0.4s, 47013 effective words/s\n",
            "2020-09-08 11:39:16,764 : INFO : worker thread finished; awaiting finish of 0 more threads\n",
            "2020-09-08 11:39:16,765 : INFO : EPOCH - 74 : training on 45663 raw words (20489 effective words) took 0.4s, 47523 effective words/s\n",
            "2020-09-08 11:39:17,215 : INFO : worker thread finished; awaiting finish of 0 more threads\n",
            "2020-09-08 11:39:17,216 : INFO : EPOCH - 75 : training on 45663 raw words (20415 effective words) took 0.4s, 45874 effective words/s\n",
            "2020-09-08 11:39:17,656 : INFO : worker thread finished; awaiting finish of 0 more threads\n",
            "2020-09-08 11:39:17,657 : INFO : EPOCH - 76 : training on 45663 raw words (20455 effective words) took 0.4s, 47155 effective words/s\n",
            "2020-09-08 11:39:18,198 : INFO : worker thread finished; awaiting finish of 0 more threads\n",
            "2020-09-08 11:39:18,199 : INFO : EPOCH - 77 : training on 45663 raw words (20531 effective words) took 0.5s, 38234 effective words/s\n",
            "2020-09-08 11:39:18,629 : INFO : worker thread finished; awaiting finish of 0 more threads\n",
            "2020-09-08 11:39:18,630 : INFO : EPOCH - 78 : training on 45663 raw words (20613 effective words) took 0.4s, 48534 effective words/s\n",
            "2020-09-08 11:39:19,083 : INFO : worker thread finished; awaiting finish of 0 more threads\n",
            "2020-09-08 11:39:19,084 : INFO : EPOCH - 79 : training on 45663 raw words (20473 effective words) took 0.4s, 45682 effective words/s\n",
            "2020-09-08 11:39:19,550 : INFO : worker thread finished; awaiting finish of 0 more threads\n",
            "2020-09-08 11:39:19,551 : INFO : EPOCH - 80 : training on 45663 raw words (20428 effective words) took 0.5s, 44376 effective words/s\n",
            "2020-09-08 11:39:19,992 : INFO : worker thread finished; awaiting finish of 0 more threads\n",
            "2020-09-08 11:39:19,994 : INFO : EPOCH - 81 : training on 45663 raw words (20649 effective words) took 0.4s, 47140 effective words/s\n",
            "2020-09-08 11:39:20,444 : INFO : worker thread finished; awaiting finish of 0 more threads\n",
            "2020-09-08 11:39:20,445 : INFO : EPOCH - 82 : training on 45663 raw words (20578 effective words) took 0.4s, 46259 effective words/s\n",
            "2020-09-08 11:39:20,970 : INFO : worker thread finished; awaiting finish of 0 more threads\n",
            "2020-09-08 11:39:20,971 : INFO : EPOCH - 83 : training on 45663 raw words (20578 effective words) took 0.5s, 39556 effective words/s\n",
            "2020-09-08 11:39:21,457 : INFO : worker thread finished; awaiting finish of 0 more threads\n",
            "2020-09-08 11:39:21,458 : INFO : EPOCH - 84 : training on 45663 raw words (20445 effective words) took 0.5s, 42823 effective words/s\n",
            "2020-09-08 11:39:21,898 : INFO : worker thread finished; awaiting finish of 0 more threads\n",
            "2020-09-08 11:39:21,899 : INFO : EPOCH - 85 : training on 45663 raw words (20562 effective words) took 0.4s, 47353 effective words/s\n",
            "2020-09-08 11:39:22,338 : INFO : worker thread finished; awaiting finish of 0 more threads\n",
            "2020-09-08 11:39:22,340 : INFO : EPOCH - 86 : training on 45663 raw words (20552 effective words) took 0.4s, 47020 effective words/s\n",
            "2020-09-08 11:39:22,774 : INFO : worker thread finished; awaiting finish of 0 more threads\n",
            "2020-09-08 11:39:22,775 : INFO : EPOCH - 87 : training on 45663 raw words (20489 effective words) took 0.4s, 47684 effective words/s\n",
            "2020-09-08 11:39:23,318 : INFO : worker thread finished; awaiting finish of 0 more threads\n",
            "2020-09-08 11:39:23,319 : INFO : EPOCH - 88 : training on 45663 raw words (20508 effective words) took 0.5s, 37972 effective words/s\n",
            "2020-09-08 11:39:23,760 : INFO : worker thread finished; awaiting finish of 0 more threads\n",
            "2020-09-08 11:39:23,761 : INFO : EPOCH - 89 : training on 45663 raw words (20557 effective words) took 0.4s, 47191 effective words/s\n",
            "2020-09-08 11:39:24,216 : INFO : worker thread finished; awaiting finish of 0 more threads\n",
            "2020-09-08 11:39:24,217 : INFO : EPOCH - 90 : training on 45663 raw words (20552 effective words) took 0.4s, 45814 effective words/s\n",
            "2020-09-08 11:39:24,654 : INFO : worker thread finished; awaiting finish of 0 more threads\n",
            "2020-09-08 11:39:24,655 : INFO : EPOCH - 91 : training on 45663 raw words (20563 effective words) took 0.4s, 47466 effective words/s\n",
            "2020-09-08 11:39:25,104 : INFO : worker thread finished; awaiting finish of 0 more threads\n",
            "2020-09-08 11:39:25,106 : INFO : EPOCH - 92 : training on 45663 raw words (20659 effective words) took 0.4s, 46544 effective words/s\n",
            "2020-09-08 11:39:25,615 : INFO : worker thread finished; awaiting finish of 0 more threads\n",
            "2020-09-08 11:39:25,615 : INFO : EPOCH - 93 : training on 45663 raw words (20580 effective words) took 0.5s, 40893 effective words/s\n",
            "2020-09-08 11:39:26,049 : INFO : worker thread finished; awaiting finish of 0 more threads\n",
            "2020-09-08 11:39:26,050 : INFO : EPOCH - 94 : training on 45663 raw words (20518 effective words) took 0.4s, 47763 effective words/s\n",
            "2020-09-08 11:39:26,473 : INFO : worker thread finished; awaiting finish of 0 more threads\n",
            "2020-09-08 11:39:26,474 : INFO : EPOCH - 95 : training on 45663 raw words (20388 effective words) took 0.4s, 48784 effective words/s\n",
            "2020-09-08 11:39:26,925 : INFO : worker thread finished; awaiting finish of 0 more threads\n",
            "2020-09-08 11:39:26,926 : INFO : EPOCH - 96 : training on 45663 raw words (20551 effective words) took 0.4s, 46047 effective words/s\n",
            "2020-09-08 11:39:27,362 : INFO : worker thread finished; awaiting finish of 0 more threads\n",
            "2020-09-08 11:39:27,364 : INFO : EPOCH - 97 : training on 45663 raw words (20518 effective words) took 0.4s, 47710 effective words/s\n",
            "2020-09-08 11:39:27,800 : INFO : worker thread finished; awaiting finish of 0 more threads\n",
            "2020-09-08 11:39:27,800 : INFO : EPOCH - 98 : training on 45663 raw words (20641 effective words) took 0.4s, 47955 effective words/s\n",
            "2020-09-08 11:39:28,320 : INFO : worker thread finished; awaiting finish of 0 more threads\n",
            "2020-09-08 11:39:28,321 : INFO : EPOCH - 99 : training on 45663 raw words (20361 effective words) took 0.5s, 39660 effective words/s\n",
            "2020-09-08 11:39:28,765 : INFO : worker thread finished; awaiting finish of 0 more threads\n",
            "2020-09-08 11:39:28,766 : INFO : EPOCH - 100 : training on 45663 raw words (20651 effective words) took 0.4s, 47105 effective words/s\n",
            "2020-09-08 11:39:28,770 : INFO : training on a 4566300 raw words (2054665 effective words) took 46.1s, 44614 effective words/s\n",
            "2020-09-08 11:39:28,774 : INFO : saving Doc2Vec object under /content/drive/My Drive/test/model_6k_cor.bin, separately None\n",
            "2020-09-08 11:39:29,202 : INFO : saved /content/drive/My Drive/test/model_6k_cor.bin\n"
          ],
          "name": "stderr"
        }
      ]
    },
    {
      "cell_type": "code",
      "metadata": {
        "id": "0hdGnxhTAJPx",
        "colab_type": "code",
        "colab": {
          "base_uri": "https://localhost:8080/",
          "height": 88
        },
        "outputId": "3ba07364-77dc-460f-d14f-b1af43747ac7"
      },
      "source": [
        "    outp1 = \"reddit_6k_cor_wv\"\n",
        "    outp2 = \"reddit_6k_cor_pv\"\n",
        "    outp3 = \"reddit_6k_cor_output\"\n",
        "    model_6k_cor.wv.save_word2vec_format(outp3) "
      ],
      "execution_count": 57,
      "outputs": [
        {
          "output_type": "stream",
          "text": [
            "2020-09-08 11:39:33,101 : INFO : storing 9552x300 projection weights into reddit_6k_cor_output\n",
            "/usr/local/lib/python3.6/dist-packages/smart_open/smart_open_lib.py:254: UserWarning: This function is deprecated, use smart_open.open instead. See the migration notes for details: https://github.com/RaRe-Technologies/smart_open/blob/master/README.rst#migrating-to-the-new-open-function\n",
            "  'See the migration notes for details: %s' % _MIGRATION_NOTES_URL\n"
          ],
          "name": "stderr"
        }
      ]
    },
    {
      "cell_type": "code",
      "metadata": {
        "id": "NnsyHnpJBZIw",
        "colab_type": "code",
        "colab": {}
      },
      "source": [
        "#model = g.doc2vec.Doc2Vec.load(\"/content/drive/My Drive/test/model.bin\")"
      ],
      "execution_count": null,
      "outputs": []
    },
    {
      "cell_type": "code",
      "metadata": {
        "id": "qz8kkC1do_53",
        "colab_type": "code",
        "colab": {
          "base_uri": "https://localhost:8080/",
          "height": 85
        },
        "outputId": "410c1bad-694d-44a8-c985-a261533c05ea"
      },
      "source": [
        "#normalise vectors\n",
        "import numpy as np\n",
        "sum_of_rows = model_6k_cor.wv.syn0.sum(axis=1)\n",
        "normalized = model_6k_cor.wv.syn0 / sum_of_rows[:, np.newaxis]\n",
        "#normalized = np.delete(normalized,[829, 10172], 0)\n"
      ],
      "execution_count": 58,
      "outputs": [
        {
          "output_type": "stream",
          "text": [
            "/usr/local/lib/python3.6/dist-packages/ipykernel_launcher.py:3: DeprecationWarning: Call to deprecated `syn0` (Attribute will be removed in 4.0.0, use self.wv.vectors instead).\n",
            "  This is separate from the ipykernel package so we can avoid doing imports until\n",
            "/usr/local/lib/python3.6/dist-packages/ipykernel_launcher.py:4: DeprecationWarning: Call to deprecated `syn0` (Attribute will be removed in 4.0.0, use self.wv.vectors instead).\n",
            "  after removing the cwd from sys.path.\n"
          ],
          "name": "stderr"
        }
      ]
    },
    {
      "cell_type": "code",
      "metadata": {
        "id": "aIiA99y-PdqX",
        "colab_type": "code",
        "colab": {
          "base_uri": "https://localhost:8080/",
          "height": 204
        },
        "outputId": "995d4fd1-8917-456d-fb99-0e36a1d2f61d"
      },
      "source": [
        "##clustering with pyclustering\n",
        "!pip3 install pyclustering\n",
        "from pyclustering.cluster.kmeans import kmeans, kmeans_visualizer\n",
        "from pyclustering.cluster.center_initializer import kmeans_plusplus_initializer\n",
        "from pyclustering.samples.definitions import FCPS_SAMPLES\n",
        "from pyclustering.utils import read_sample\n",
        "from pyclustering.utils.metric import distance_metric, type_metric\n",
        "\n",
        "\n",
        "# Prepare initial centers using K-Means++ method.\n",
        "initial_centers = kmeans_plusplus_initializer(normalized, 15).initialize()\n",
        " \n",
        "# Create instance of K-Means algorithm with prepared centers.\n",
        "kmeans_instance = kmeans(normalized, initial_centers)\n",
        "\n",
        "# Run cluster analysis and obtain results.\n",
        "kmeans_instance.process()\n",
        "clusters = kmeans_instance.get_clusters()\n",
        "final_centers = kmeans_instance.get_centers()\n",
        "\n",
        "# Visualize obtained results\n",
        "#cluster_visualizer.show_clusters(model.wv.syn0, clusters, final_centers)\n",
        "[len(i) for i in clusters]"
      ],
      "execution_count": 51,
      "outputs": [
        {
          "output_type": "stream",
          "text": [
            "Requirement already satisfied: pyclustering in /usr/local/lib/python3.6/dist-packages (0.10.0.1)\n",
            "Requirement already satisfied: numpy in /usr/local/lib/python3.6/dist-packages (from pyclustering) (1.18.5)\n",
            "Requirement already satisfied: Pillow in /usr/local/lib/python3.6/dist-packages (from pyclustering) (7.0.0)\n",
            "Requirement already satisfied: matplotlib in /usr/local/lib/python3.6/dist-packages (from pyclustering) (3.2.2)\n",
            "Requirement already satisfied: scipy in /usr/local/lib/python3.6/dist-packages (from pyclustering) (1.4.1)\n",
            "Requirement already satisfied: kiwisolver>=1.0.1 in /usr/local/lib/python3.6/dist-packages (from matplotlib->pyclustering) (1.2.0)\n",
            "Requirement already satisfied: python-dateutil>=2.1 in /usr/local/lib/python3.6/dist-packages (from matplotlib->pyclustering) (2.8.1)\n",
            "Requirement already satisfied: cycler>=0.10 in /usr/local/lib/python3.6/dist-packages (from matplotlib->pyclustering) (0.10.0)\n",
            "Requirement already satisfied: pyparsing!=2.0.4,!=2.1.2,!=2.1.6,>=2.0.1 in /usr/local/lib/python3.6/dist-packages (from matplotlib->pyclustering) (2.4.7)\n",
            "Requirement already satisfied: six>=1.5 in /usr/local/lib/python3.6/dist-packages (from python-dateutil>=2.1->matplotlib->pyclustering) (1.15.0)\n"
          ],
          "name": "stdout"
        },
        {
          "output_type": "execute_result",
          "data": {
            "text/plain": [
              "[1397, 27, 191, 1, 6, 13, 6, 2976, 9, 8, 16, 972, 3871, 8, 52]"
            ]
          },
          "metadata": {
            "tags": []
          },
          "execution_count": 51
        }
      ]
    },
    {
      "cell_type": "code",
      "metadata": {
        "id": "MZS8KAk7E8GZ",
        "colab_type": "code",
        "colab": {
          "base_uri": "https://localhost:8080/",
          "height": 34
        },
        "outputId": "6e6dcf26-dd2f-4ad5-b984-893edf9d2423"
      },
      "source": [
        "clusters[5]"
      ],
      "execution_count": 113,
      "outputs": [
        {
          "output_type": "execute_result",
          "data": {
            "text/plain": [
              "[27, 187, 301, 370, 413, 848, 2357, 5353, 5354]"
            ]
          },
          "metadata": {
            "tags": []
          },
          "execution_count": 113
        }
      ]
    },
    {
      "cell_type": "code",
      "metadata": {
        "id": "CsJJyn7c9XJQ",
        "colab_type": "code",
        "colab": {
          "base_uri": "https://localhost:8080/",
          "height": 35
        },
        "outputId": "f23adfc7-076a-45e7-80e1-ed60da595f87"
      },
      "source": [
        "model_6k_cor.wv.index2word[48]"
      ],
      "execution_count": 128,
      "outputs": [
        {
          "output_type": "execute_result",
          "data": {
            "application/vnd.google.colaboratory.intrinsic+json": {
              "type": "string"
            },
            "text/plain": [
              "'shit'"
            ]
          },
          "metadata": {
            "tags": []
          },
          "execution_count": 128
        }
      ]
    },
    {
      "cell_type": "code",
      "metadata": {
        "id": "xJ-C0Vp26gBD",
        "colab_type": "code",
        "colab": {
          "base_uri": "https://localhost:8080/",
          "height": 34
        },
        "outputId": "fde5dbdb-70de-44e8-802d-fcf51a8f9a73"
      },
      "source": [
        "[model_6k_cor.wv.index2word[i] for cluster in clusters for i in cluster if len(cluster) == 1]"
      ],
      "execution_count": 49,
      "outputs": [
        {
          "output_type": "execute_result",
          "data": {
            "text/plain": [
              "['infuriated']"
            ]
          },
          "metadata": {
            "tags": []
          },
          "execution_count": 49
        }
      ]
    },
    {
      "cell_type": "code",
      "metadata": {
        "id": "SGZDuvXgAnCf",
        "colab_type": "code",
        "colab": {
          "base_uri": "https://localhost:8080/",
          "height": 34
        },
        "outputId": "d916ac9f-930f-4d64-dc04-67f237d1e57e"
      },
      "source": [
        "[model_6k_cor.wv.index2word[i] for i in clusters[]]"
      ],
      "execution_count": 244,
      "outputs": [
        {
          "output_type": "execute_result",
          "data": {
            "text/plain": [
              "['http', 'com', 'www', 'watch', 'nl', 'impure', 'v', 'couture']"
            ]
          },
          "metadata": {
            "tags": []
          },
          "execution_count": 244
        }
      ]
    },
    {
      "cell_type": "code",
      "metadata": {
        "id": "wZX9IvZVr_8b",
        "colab_type": "code",
        "colab": {
          "base_uri": "https://localhost:8080/",
          "height": 35
        },
        "outputId": "5445243c-9f6b-42ca-966c-eac512f18cee"
      },
      "source": [
        "\n",
        "model_6k_rm.wv.index2word[829]\n",
        "model_6k_rm.wv.index2word[10172]"
      ],
      "execution_count": null,
      "outputs": [
        {
          "output_type": "execute_result",
          "data": {
            "application/vnd.google.colaboratory.intrinsic+json": {
              "type": "string"
            },
            "text/plain": [
              "'foraging'"
            ]
          },
          "metadata": {
            "tags": []
          },
          "execution_count": 26
        }
      ]
    },
    {
      "cell_type": "code",
      "metadata": {
        "id": "vWX22MZGFOsx",
        "colab_type": "code",
        "colab": {
          "base_uri": "https://localhost:8080/",
          "height": 351
        },
        "outputId": "70688b97-7183-4d6b-9605-874fcf1fa5f7"
      },
      "source": [
        "import numpy\n",
        "import numpy as np\n",
        "import gensim\n",
        "from sklearn.cluster import KMeans\n",
        "from sklearn.decomposition import PCA\n",
        "from gensim.models import Doc2Vec\n",
        "\n",
        "\n",
        "pca = PCA(n_components=2).fit(normalized)\n",
        "datapoint = pca.transform(normalized)\n",
        "import matplotlib.pyplot as plt\n",
        "%matplotlib inline\n",
        "plt.figure\n",
        "label1 = [\"gray\", \"orange\", \"deepskyblue\", \"crimson\", \"cornflowerblue\", \n",
        "          \"mediumseagreen\", \"gold\"]\n",
        "\n",
        "col = [0]* len(normalized)\n",
        "for i in range(len(clusters)-1):\n",
        "  cl = clusters[i]\n",
        "  for j in cl:\n",
        "    col[j] = i\n",
        "\n",
        "color = [label1[i] for i in col]\n",
        "\n",
        "plt.scatter(datapoint[:, 0], datapoint[:, 1],  c=color)\n",
        "centroids = final_centers\n",
        "centroidpoint = pca.transform(centroids)\n",
        "plt.scatter(centroidpoint[:, 0], centroidpoint[:, 1], marker=\"^\", s=150, c=\"#000000\")\n",
        "plt.show()\n"
      ],
      "execution_count": 57,
      "outputs": [
        {
          "output_type": "error",
          "ename": "IndexError",
          "evalue": "ignored",
          "traceback": [
            "\u001b[0;31m---------------------------------------------------------------------------\u001b[0m",
            "\u001b[0;31mIndexError\u001b[0m                                Traceback (most recent call last)",
            "\u001b[0;32m<ipython-input-57-8312314b2961>\u001b[0m in \u001b[0;36m<module>\u001b[0;34m()\u001b[0m\n\u001b[1;32m     21\u001b[0m     \u001b[0mcol\u001b[0m\u001b[0;34m[\u001b[0m\u001b[0mj\u001b[0m\u001b[0;34m]\u001b[0m \u001b[0;34m=\u001b[0m \u001b[0mi\u001b[0m\u001b[0;34m\u001b[0m\u001b[0;34m\u001b[0m\u001b[0m\n\u001b[1;32m     22\u001b[0m \u001b[0;34m\u001b[0m\u001b[0m\n\u001b[0;32m---> 23\u001b[0;31m \u001b[0mcolor\u001b[0m \u001b[0;34m=\u001b[0m \u001b[0;34m[\u001b[0m\u001b[0mlabel1\u001b[0m\u001b[0;34m[\u001b[0m\u001b[0mi\u001b[0m\u001b[0;34m]\u001b[0m \u001b[0;32mfor\u001b[0m \u001b[0mi\u001b[0m \u001b[0;32min\u001b[0m \u001b[0mcol\u001b[0m\u001b[0;34m]\u001b[0m\u001b[0;34m\u001b[0m\u001b[0;34m\u001b[0m\u001b[0m\n\u001b[0m\u001b[1;32m     24\u001b[0m \u001b[0;34m\u001b[0m\u001b[0m\n\u001b[1;32m     25\u001b[0m \u001b[0mplt\u001b[0m\u001b[0;34m.\u001b[0m\u001b[0mscatter\u001b[0m\u001b[0;34m(\u001b[0m\u001b[0mdatapoint\u001b[0m\u001b[0;34m[\u001b[0m\u001b[0;34m:\u001b[0m\u001b[0;34m,\u001b[0m \u001b[0;36m0\u001b[0m\u001b[0;34m]\u001b[0m\u001b[0;34m,\u001b[0m \u001b[0mdatapoint\u001b[0m\u001b[0;34m[\u001b[0m\u001b[0;34m:\u001b[0m\u001b[0;34m,\u001b[0m \u001b[0;36m1\u001b[0m\u001b[0;34m]\u001b[0m\u001b[0;34m,\u001b[0m  \u001b[0mc\u001b[0m\u001b[0;34m=\u001b[0m\u001b[0mcolor\u001b[0m\u001b[0;34m)\u001b[0m\u001b[0;34m\u001b[0m\u001b[0;34m\u001b[0m\u001b[0m\n",
            "\u001b[0;32m<ipython-input-57-8312314b2961>\u001b[0m in \u001b[0;36m<listcomp>\u001b[0;34m(.0)\u001b[0m\n\u001b[1;32m     21\u001b[0m     \u001b[0mcol\u001b[0m\u001b[0;34m[\u001b[0m\u001b[0mj\u001b[0m\u001b[0;34m]\u001b[0m \u001b[0;34m=\u001b[0m \u001b[0mi\u001b[0m\u001b[0;34m\u001b[0m\u001b[0;34m\u001b[0m\u001b[0m\n\u001b[1;32m     22\u001b[0m \u001b[0;34m\u001b[0m\u001b[0m\n\u001b[0;32m---> 23\u001b[0;31m \u001b[0mcolor\u001b[0m \u001b[0;34m=\u001b[0m \u001b[0;34m[\u001b[0m\u001b[0mlabel1\u001b[0m\u001b[0;34m[\u001b[0m\u001b[0mi\u001b[0m\u001b[0;34m]\u001b[0m \u001b[0;32mfor\u001b[0m \u001b[0mi\u001b[0m \u001b[0;32min\u001b[0m \u001b[0mcol\u001b[0m\u001b[0;34m]\u001b[0m\u001b[0;34m\u001b[0m\u001b[0;34m\u001b[0m\u001b[0m\n\u001b[0m\u001b[1;32m     24\u001b[0m \u001b[0;34m\u001b[0m\u001b[0m\n\u001b[1;32m     25\u001b[0m \u001b[0mplt\u001b[0m\u001b[0;34m.\u001b[0m\u001b[0mscatter\u001b[0m\u001b[0;34m(\u001b[0m\u001b[0mdatapoint\u001b[0m\u001b[0;34m[\u001b[0m\u001b[0;34m:\u001b[0m\u001b[0;34m,\u001b[0m \u001b[0;36m0\u001b[0m\u001b[0;34m]\u001b[0m\u001b[0;34m,\u001b[0m \u001b[0mdatapoint\u001b[0m\u001b[0;34m[\u001b[0m\u001b[0;34m:\u001b[0m\u001b[0;34m,\u001b[0m \u001b[0;36m1\u001b[0m\u001b[0;34m]\u001b[0m\u001b[0;34m,\u001b[0m  \u001b[0mc\u001b[0m\u001b[0;34m=\u001b[0m\u001b[0mcolor\u001b[0m\u001b[0;34m)\u001b[0m\u001b[0;34m\u001b[0m\u001b[0;34m\u001b[0m\u001b[0m\n",
            "\u001b[0;31mIndexError\u001b[0m: list index out of range"
          ]
        }
      ]
    },
    {
      "cell_type": "code",
      "metadata": {
        "id": "duw956mxB1oO",
        "colab_type": "code",
        "colab": {}
      },
      "source": [
        "FCPS_SAMPLES.SAMPLE_TWO_DIAMONDS"
      ],
      "execution_count": null,
      "outputs": []
    },
    {
      "cell_type": "code",
      "metadata": {
        "id": "JDyB7_2sB0En",
        "colab_type": "code",
        "colab": {
          "base_uri": "https://localhost:8080/",
          "height": 469
        },
        "outputId": "6cb304d8-57c4-45bf-f887-7f76ff628517"
      },
      "source": [
        "#evaluation with silhouette\n",
        "from sklearn.metrics import silhouette_samples, silhouette_score\n",
        "import matplotlib.pyplot as plt\n",
        "import matplotlib.cm as cm\n",
        "import numpy as np\n",
        "\n",
        "# Create a subplot with 1 row and 2 columns\n",
        "fig, (ax1, ax2) = plt.subplots(1, 2)\n",
        "fig.set_size_inches(18, 7)\n",
        "\n",
        "# The 1st subplot is the silhouette plot\n",
        "ax1.set_xlim([-1, 1])\n",
        "# The (n_clusters+1)*10 is for inserting blank space between silhouette\n",
        "# plots of individual clusters, to demarcate them clearly.\n",
        "ax1.set_ylim([0, len(clusters) + (10 + 1) * 10])\n",
        "\n",
        "# The silhouette_score gives the average value for all the samples.\n",
        "# This gives a perspective into the density and separation of the formed\n",
        "# clusters\n",
        "silhouette_avg = silhouette_score(normalized, metric = \"euclidean\", labels = col)\n",
        "print(\"For n_clusters =\", col,\n",
        "          \"The average silhouette_score is :\", silhouette_avg)\n",
        "\n",
        "# Compute the silhouette scores for each sample\n",
        "sample_silhouette_values = silhouette_samples(normalized, metric = \"euclidean\", labels =col)\n"
      ],
      "execution_count": 58,
      "outputs": [
        {
          "output_type": "stream",
          "text": [
            "For n_clusters = [0, 0, 0, 0, 0, 0, 0, 0, 0, 0, 0, 0, 0, 0, 0, 0, 0, 0, 9, 0, 0, 0, 0, 0, 0, 0, 0, 19, 0, 0, 0, 0, 9, 0, 0, 0, 0, 0, 0, 0, 9, 0, 0, 0, 0, 9, 0, 0, 0, 9, 0, 0, 0, 0, 0, 0, 0, 0, 9, 0, 9, 0, 0, 0, 9, 0, 0, 0, 0, 0, 9, 0, 0, 0, 0, 0, 0, 9, 0, 0, 9, 0, 0, 0, 0, 0, 0, 0, 9, 9, 0, 0, 0, 0, 0, 0, 0, 0, 0, 0, 0, 0, 9, 0, 0, 0, 9, 0, 0, 0, 0, 0, 0, 9, 0, 0, 0, 0, 0, 0, 0, 0, 0, 9, 9, 0, 0, 0, 0, 9, 0, 22, 9, 0, 0, 0, 9, 0, 0, 0, 0, 0, 0, 9, 0, 0, 0, 9, 0, 0, 9, 9, 0, 9, 0, 0, 0, 9, 0, 0, 9, 0, 9, 0, 0, 0, 0, 9, 0, 0, 0, 0, 0, 0, 9, 0, 0, 0, 9, 0, 0, 0, 0, 0, 0, 0, 0, 17, 0, 0, 0, 0, 0, 0, 9, 0, 0, 0, 0, 0, 0, 9, 0, 0, 0, 9, 0, 9, 0, 0, 0, 0, 0, 0, 0, 0, 22, 0, 0, 9, 0, 9, 0, 0, 0, 9, 0, 0, 0, 9, 0, 0, 0, 0, 0, 0, 0, 0, 0, 9, 9, 0, 0, 0, 9, 9, 0, 0, 9, 0, 0, 0, 9, 0, 0, 0, 9, 0, 0, 0, 9, 0, 9, 0, 0, 0, 0, 0, 0, 0, 0, 0, 0, 0, 0, 0, 9, 0, 9, 0, 0, 0, 17, 9, 0, 0, 0, 0, 9, 9, 0, 9, 0, 9, 0, 0, 0, 0, 0, 0, 0, 17, 0, 0, 0, 0, 0, 9, 9, 0, 0, 0, 0, 9, 0, 0, 9, 0, 9, 0, 0, 9, 0, 9, 0, 0, 0, 0, 0, 19, 0, 0, 0, 9, 0, 0, 0, 0, 0, 0, 9, 0, 0, 0, 0, 9, 9, 19, 0, 0, 0, 0, 0, 0, 0, 9, 0, 9, 0, 9, 0, 0, 0, 0, 0, 0, 0, 0, 0, 0, 0, 9, 9, 0, 0, 9, 0, 0, 0, 0, 0, 0, 9, 0, 0, 9, 0, 0, 0, 0, 0, 0, 0, 0, 0, 9, 0, 0, 0, 9, 0, 0, 0, 0, 0, 0, 0, 9, 0, 9, 0, 9, 9, 19, 0, 0, 0, 0, 0, 0, 0, 0, 0, 9, 9, 0, 0, 0, 0, 0, 0, 0, 0, 9, 0, 0, 0, 0, 0, 9, 9, 0, 0, 9, 9, 9, 0, 0, 0, 0, 9, 0, 0, 9, 0, 0, 0, 0, 0, 0, 0, 0, 9, 0, 0, 0, 9, 9, 0, 0, 9, 9, 9, 0, 0, 9, 0, 0, 0, 0, 0, 0, 9, 0, 0, 9, 0, 9, 0, 0, 0, 9, 9, 0, 0, 0, 0, 0, 0, 0, 0, 0, 0, 9, 0, 0, 0, 9, 0, 0, 0, 0, 9, 0, 0, 0, 9, 0, 9, 0, 0, 0, 9, 0, 0, 9, 0, 0, 0, 0, 0, 9, 9, 0, 0, 0, 0, 0, 0, 9, 0, 9, 0, 0, 0, 0, 0, 0, 0, 9, 0, 9, 0, 0, 0, 9, 0, 9, 0, 9, 9, 9, 9, 9, 9, 0, 0, 0, 0, 0, 0, 0, 0, 0, 9, 0, 0, 9, 9, 0, 9, 0, 0, 0, 0, 9, 0, 0, 0, 0, 0, 0, 0, 9, 9, 0, 0, 0, 0, 0, 9, 0, 0, 0, 9, 0, 0, 0, 0, 9, 0, 0, 0, 9, 0, 0, 0, 0, 0, 9, 9, 0, 0, 9, 9, 0, 0, 0, 9, 0, 9, 0, 0, 0, 0, 0, 0, 0, 0, 9, 9, 0, 0, 0, 0, 22, 9, 0, 0, 9, 0, 0, 9, 9, 0, 0, 0, 0, 0, 0, 0, 0, 0, 0, 0, 0, 0, 0, 9, 0, 9, 9, 0, 9, 0, 0, 9, 9, 0, 9, 9, 0, 0, 0, 0, 0, 22, 0, 0, 0, 0, 0, 0, 0, 9, 0, 9, 9, 9, 9, 0, 9, 9, 0, 0, 9, 9, 9, 0, 9, 0, 0, 0, 0, 0, 0, 0, 0, 9, 9, 0, 0, 9, 0, 0, 0, 9, 9, 0, 0, 9, 9, 9, 9, 0, 0, 9, 9, 0, 9, 9, 0, 0, 9, 0, 0, 9, 0, 0, 0, 0, 0, 9, 0, 0, 9, 9, 0, 0, 9, 0, 22, 0, 9, 9, 0, 9, 0, 0, 9, 9, 0, 9, 0, 0, 0, 0, 0, 0, 0, 0, 9, 0, 0, 0, 0, 9, 9, 9, 0, 0, 22, 0, 0, 0, 0, 0, 0, 0, 0, 0, 0, 0, 9, 0, 0, 9, 0, 0, 9, 9, 0, 9, 0, 0, 9, 9, 9, 0, 0, 0, 9, 0, 0, 0, 0, 0, 9, 0, 0, 0, 0, 9, 0, 0, 9, 0, 0, 9, 9, 0, 22, 0, 0, 0, 0, 0, 0, 0, 17, 0, 0, 9, 0, 0, 0, 0, 0, 9, 0, 0, 0, 0, 0, 9, 0, 0, 9, 0, 9, 0, 9, 0, 9, 0, 0, 0, 0, 0, 0, 0, 9, 0, 9, 0, 0, 0, 0, 0, 0, 0, 9, 0, 0, 0, 0, 0, 0, 9, 0, 0, 0, 0, 0, 0, 0, 0, 9, 0, 9, 9, 9, 0, 9, 9, 0, 0, 9, 0, 0, 0, 0, 0, 9, 0, 0, 9, 9, 0, 9, 0, 0, 0, 0, 0, 0, 0, 0, 9, 0, 0, 0, 0, 0, 0, 9, 0, 0, 0, 0, 0, 0, 0, 0, 0, 0, 10, 0, 0, 0, 0, 0, 9, 9, 9, 9, 0, 9, 0, 0, 9, 0, 0, 0, 0, 9, 9, 0, 0, 0, 0, 0, 0, 0, 0, 9, 0, 9, 9, 0, 0, 0, 0, 0, 0, 0, 0, 9, 0, 9, 0, 0, 9, 0, 0, 0, 0, 0, 9, 9, 9, 0, 9, 9, 9, 9, 0, 0, 0, 9, 9, 9, 9, 9, 0, 0, 0, 9, 0, 0, 9, 9, 0, 0, 0, 0, 9, 0, 9, 9, 0, 9, 0, 0, 0, 9, 0, 0, 0, 0, 9, 9, 0, 9, 0, 0, 0, 0, 0, 9, 0, 9, 0, 0, 9, 0, 0, 9, 0, 0, 0, 9, 0, 0, 0, 0, 0, 0, 0, 0, 0, 0, 0, 9, 9, 9, 9, 0, 0, 0, 0, 0, 9, 0, 0, 0, 0, 9, 9, 0, 0, 0, 0, 0, 9, 0, 9, 0, 0, 0, 0, 0, 0, 9, 9, 0, 0, 0, 0, 9, 9, 0, 22, 0, 0, 0, 0, 0, 0, 0, 0, 0, 0, 0, 0, 9, 0, 0, 0, 9, 0, 0, 0, 9, 0, 0, 0, 9, 0, 9, 0, 0, 0, 0, 0, 9, 0, 0, 0, 9, 0, 0, 9, 0, 0, 0, 0, 0, 0, 0, 0, 0, 0, 0, 9, 9, 9, 0, 9, 0, 0, 0, 0, 0, 9, 0, 0, 0, 0, 0, 0, 0, 0, 0, 0, 0, 0, 0, 0, 0, 0, 0, 9, 0, 0, 9, 0, 0, 9, 9, 22, 0, 9, 0, 9, 9, 0, 9, 9, 9, 0, 0, 0, 9, 0, 0, 0, 0, 0, 0, 9, 12, 0, 0, 0, 0, 9, 0, 9, 0, 0, 9, 0, 0, 0, 9, 0, 0, 0, 0, 0, 9, 0, 0, 9, 0, 0, 0, 0, 0, 0, 9, 9, 0, 0, 0, 0, 0, 9, 0, 9, 0, 0, 0, 0, 0, 9, 0, 9, 0, 0, 22, 0, 9, 0, 0, 0, 0, 0, 0, 9, 0, 0, 0, 9, 0, 0, 0, 0, 0, 9, 0, 0, 0, 0, 0, 0, 9, 0, 9, 0, 9, 9, 9, 9, 0, 9, 0, 9, 0, 0, 0, 9, 0, 0, 0, 0, 0, 0, 9, 12, 0, 0, 0, 0, 0, 0, 0, 0, 9, 0, 0, 9, 0, 0, 0, 0, 0, 0, 0, 0, 9, 9, 9, 22, 9, 0, 0, 9, 0, 0, 0, 0, 9, 0, 0, 0, 9, 9, 9, 0, 9, 0, 9, 9, 0, 0, 9, 9, 0, 9, 0, 0, 0, 0, 0, 0, 9, 9, 0, 0, 0, 0, 9, 0, 0, 0, 0, 0, 0, 9, 0, 0, 0, 9, 0, 0, 9, 0, 9, 9, 9, 0, 9, 9, 9, 9, 0, 0, 0, 0, 0, 9, 9, 0, 9, 0, 0, 0, 9, 0, 0, 0, 0, 0, 0, 9, 0, 0, 9, 0, 9, 9, 0, 0, 0, 9, 0, 0, 0, 0, 9, 9, 0, 9, 9, 0, 0, 9, 9, 9, 0, 9, 0, 0, 0, 9, 0, 9, 9, 9, 9, 9, 9, 0, 0, 0, 0, 0, 0, 0, 0, 0, 9, 0, 0, 0, 0, 0, 0, 9, 0, 9, 9, 0, 0, 9, 0, 0, 9, 0, 0, 0, 0, 0, 9, 0, 0, 0, 9, 0, 0, 9, 0, 9, 0, 0, 0, 0, 9, 0, 0, 0, 0, 0, 9, 9, 0, 0, 0, 0, 9, 0, 0, 9, 0, 9, 0, 0, 0, 9, 0, 9, 0, 9, 9, 0, 9, 9, 0, 0, 0, 9, 0, 0, 0, 0, 0, 0, 0, 0, 0, 0, 0, 0, 0, 9, 9, 0, 0, 9, 0, 0, 0, 0, 0, 0, 0, 0, 0, 0, 9, 0, 0, 0, 9, 9, 9, 0, 0, 9, 9, 0, 0, 9, 0, 0, 9, 0, 0, 9, 0, 0, 0, 0, 0, 9, 0, 0, 9, 0, 9, 9, 9, 0, 9, 0, 0, 0, 9, 0, 0, 0, 9, 0, 9, 9, 0, 0, 0, 9, 0, 0, 9, 9, 0, 9, 0, 0, 0, 0, 9, 0, 0, 9, 0, 0, 9, 9, 0, 9, 0, 0, 0, 0, 9, 9, 0, 0, 0, 0, 0, 0, 0, 9, 9, 0, 0, 0, 0, 0, 9, 9, 0, 0, 0, 0, 9, 9, 0, 0, 9, 9, 9, 0, 0, 0, 0, 0, 0, 9, 0, 9, 0, 0, 0, 9, 0, 0, 0, 0, 0, 0, 0, 0, 9, 0, 0, 0, 0, 0, 9, 0, 0, 0, 0, 9, 9, 0, 9, 22, 9, 9, 0, 22, 9, 9, 0, 0, 9, 9, 0, 9, 0, 0, 0, 0, 9, 0, 0, 0, 0, 9, 9, 9, 0, 0, 0, 0, 0, 0, 0, 0, 0, 9, 9, 9, 0, 0, 0, 0, 0, 0, 0, 0, 9, 9, 9, 0, 0, 0, 0, 0, 9, 0, 0, 9, 0, 9, 9, 9, 0, 0, 9, 0, 0, 0, 0, 0, 0, 0, 0, 0, 0, 0, 0, 0, 0, 0, 0, 0, 0, 0, 9, 9, 0, 0, 0, 0, 0, 0, 9, 9, 0, 9, 0, 0, 0, 9, 9, 0, 0, 0, 9, 9, 0, 0, 0, 0, 9, 0, 0, 0, 9, 0, 9, 0, 0, 0, 0, 0, 0, 0, 0, 9, 9, 0, 9, 9, 0, 0, 9, 9, 0, 0, 0, 0, 0, 0, 9, 9, 0, 0, 0, 9, 9, 0, 0, 0, 22, 9, 0, 0, 9, 0, 0, 0, 0, 0, 9, 9, 0, 9, 9, 0, 9, 0, 9, 0, 0, 0, 0, 9, 0, 0, 0, 0, 9, 0, 0, 0, 0, 0, 9, 0, 0, 0, 0, 0, 0, 0, 0, 0, 9, 0, 0, 0, 0, 0, 9, 0, 0, 0, 0, 0, 0, 0, 0, 9, 9, 0, 0, 0, 0, 0, 9, 0, 9, 9, 0, 0, 9, 9, 0, 0, 9, 0, 0, 0, 9, 0, 0, 0, 0, 0, 0, 0, 0, 0, 9, 9, 0, 9, 0, 0, 9, 9, 9, 0, 0, 0, 0, 0, 9, 9, 0, 9, 0, 0, 0, 9, 0, 9, 9, 9, 9, 9, 0, 0, 0, 0, 0, 0, 9, 0, 9, 9, 0, 0, 0, 0, 0, 0, 9, 9, 9, 0, 9, 0, 0, 0, 9, 0, 0, 9, 0, 0, 9, 9, 9, 0, 0, 9, 9, 0, 9, 0, 9, 0, 0, 0, 9, 0, 0, 0, 0, 0, 9, 0, 9, 0, 0, 0, 9, 0, 0, 9, 0, 0, 0, 9, 0, 9, 0, 0, 0, 9, 0, 9, 0, 9, 0, 0, 0, 0, 0, 0, 0, 0, 0, 9, 0, 0, 0, 9, 9, 0, 9, 0, 0, 0, 9, 9, 0, 9, 22, 0, 9, 9, 0, 0, 0, 0, 0, 0, 0, 0, 0, 0, 0, 0, 0, 0, 9, 0, 0, 9, 0, 9, 0, 9, 0, 9, 0, 0, 0, 9, 0, 0, 9, 9, 0, 0, 0, 0, 0, 0, 0, 0, 0, 0, 0, 9, 0, 0, 0, 0, 9, 0, 0, 9, 0, 9, 0, 0, 0, 0, 0, 0, 0, 0, 0, 0, 0, 0, 0, 9, 9, 0, 0, 9, 0, 9, 0, 0, 0, 9, 0, 0, 9, 0, 0, 0, 3, 9, 9, 0, 9, 9, 0, 0, 0, 0, 9, 0, 0, 0, 9, 0, 0, 0, 9, 9, 0, 9, 9, 0, 0, 0, 0, 0, 9, 9, 9, 9, 0, 0, 0, 0, 0, 0, 0, 9, 0, 0, 9, 0, 0, 0, 0, 0, 0, 0, 9, 0, 0, 0, 0, 0, 0, 0, 0, 0, 0, 9, 0, 0, 0, 0, 9, 9, 9, 0, 0, 0, 0, 0, 0, 0, 0, 0, 0, 0, 9, 9, 0, 0, 0, 0, 9, 0, 9, 0, 0, 19, 0, 0, 9, 9, 0, 9, 0, 0, 0, 0, 9, 9, 0, 0, 0, 0, 0, 9, 9, 0, 0, 0, 9, 9, 0, 0, 0, 0, 9, 0, 0, 0, 0, 0, 0, 0, 0, 0, 0, 0, 0, 0, 0, 0, 0, 0, 0, 0, 9, 0, 0, 0, 0, 22, 0, 0, 0, 0, 0, 0, 9, 0, 0, 9, 0, 0, 0, 9, 0, 0, 0, 0, 0, 0, 0, 9, 9, 0, 0, 9, 9, 0, 0, 0, 0, 0, 0, 0, 0, 9, 0, 0, 0, 9, 0, 19, 0, 0, 0, 0, 0, 0, 0, 0, 0, 0, 9, 0, 0, 0, 9, 0, 9, 0, 0, 0, 0, 9, 0, 0, 0, 0, 0, 0, 9, 9, 9, 0, 9, 22, 0, 9, 0, 0, 0, 0, 0, 9, 0, 0, 0, 0, 0, 0, 0, 0, 0, 9, 9, 9, 0, 0, 0, 0, 0, 0, 0, 0, 0, 0, 0, 0, 0, 0, 0, 0, 0, 0, 9, 0, 0, 0, 0, 0, 0, 0, 0, 9, 9, 0, 9, 9, 9, 0, 9, 22, 0, 0, 0, 0, 0, 9, 0, 9, 0, 0, 0, 0, 0, 9, 0, 9, 9, 0, 0, 9, 9, 0, 0, 0, 0, 9, 0, 0, 0, 9, 0, 0, 0, 10, 9, 22, 0, 0, 9, 0, 0, 9, 9, 9, 9, 0, 0, 0, 9, 0, 0, 0, 0, 0, 0, 0, 0, 9, 0, 9, 0, 0, 0, 0, 0, 9, 0, 0, 9, 0, 0, 9, 0, 9, 0, 9, 0, 0, 9, 0, 0, 0, 0, 0, 0, 9, 9, 0, 0, 9, 9, 0, 0, 0, 0, 9, 9, 0, 9, 0, 0, 0, 9, 0, 0, 0, 0, 0, 0, 9, 9, 9, 0, 9, 0, 0, 22, 0, 0, 0, 0, 1, 0, 0, 0, 0, 0, 0, 0, 0, 0, 0, 0, 9, 0, 0, 9, 0, 9, 9, 0, 0, 9, 0, 0, 0, 0, 9, 9, 0, 0, 9, 0, 0, 0, 0, 0, 0, 0, 0, 0, 9, 9, 0, 0, 0, 0, 0, 0, 0, 0, 9, 9, 0, 0, 9, 0, 0, 0, 0, 9, 0, 0, 0, 9, 0, 0, 0, 0, 0, 0, 0, 0, 0, 9, 0, 0, 0, 9, 0, 0, 0, 0, 9, 0, 9, 0, 0, 0, 9, 9, 0, 9, 9, 0, 0, 0, 0, 0, 9, 0, 0, 0, 0, 0, 9, 0, 0, 0, 0, 0, 0, 0, 9, 0, 0, 0, 9, 0, 0, 0, 9, 0, 0, 0, 0, 0, 0, 0, 9, 9, 0, 9, 9, 0, 0, 0, 0, 0, 0, 9, 0, 9, 0, 0, 0, 0, 0, 0, 0, 0, 0, 0, 9, 9, 9, 0, 0, 9, 9, 0, 0, 0, 0, 9, 0, 0, 9, 0, 0, 0, 0, 9, 0, 9, 9, 0, 0, 0, 9, 0, 0, 0, 0, 0, 0, 0, 0, 9, 0, 0, 0, 0, 9, 0, 0, 9, 0, 0, 0, 0, 0, 0, 9, 9, 0, 9, 0, 9, 0, 0, 0, 0, 0, 9, 9, 0, 0, 0, 9, 0, 9, 10, 0, 9, 0, 0, 0, 0, 0, 0, 0, 0, 0, 0, 0, 0, 0, 0, 0, 0, 0, 9, 0, 0, 9, 0, 9, 9, 9, 0, 0, 9, 0, 0, 0, 9, 9, 0, 0, 0, 0, 0, 0, 0, 0, 0, 0, 0, 0, 0, 0, 0, 0, 9, 0, 9, 22, 0, 0, 9, 0, 0, 0, 9, 0, 0, 0, 0, 9, 0, 0, 0, 0, 0, 0, 9, 0, 0, 9, 0, 0, 0, 9, 0, 9, 0, 15, 15, 0, 0, 0, 9, 0, 0, 9, 9, 9, 0, 9, 9, 9, 0, 0, 0, 0, 9, 9, 0, 9, 0, 0, 0, 9, 0, 0, 9, 0, 0, 9, 0, 0, 0, 9, 0, 0, 0, 0, 0, 9, 0, 9, 0, 0, 0, 9, 0, 9, 0, 9, 9, 9, 0, 0, 0, 0, 9, 0, 0, 0, 0, 0, 0, 0, 0, 0, 22, 0, 9, 9, 0, 0, 0, 0, 0, 0, 9, 9, 0, 0, 0, 0, 0, 0, 0, 0, 0, 9, 9, 9, 0, 9, 9, 0, 0, 0, 9, 9, 0, 9, 9, 9, 0, 0, 9, 0, 0, 0, 0, 0, 9, 9, 0, 9, 0, 0, 0, 0, 0, 0, 0, 0, 9, 9, 0, 0, 9, 9, 9, 0, 0, 0, 9, 0, 0, 0, 0, 0, 0, 0, 0, 0, 0, 0, 0, 9, 0, 9, 0, 0, 0, 0, 9, 9, 0, 0, 0, 9, 9, 0, 0, 0, 9, 0, 9, 0, 9, 0, 0, 0, 9, 0, 0, 0, 0, 0, 0, 0, 9, 0, 9, 9, 0, 0, 0, 9, 9, 9, 9, 9, 0, 0, 9, 9, 0, 9, 9, 9, 0, 0, 0, 0, 0, 0, 0, 0, 0, 0, 9, 0, 0, 0, 0, 9, 0, 0, 9, 0, 0, 0, 0, 0, 0, 9, 9, 9, 0, 9, 0, 0, 0, 9, 9, 0, 0, 0, 0, 0, 0, 9, 9, 0, 0, 0, 0, 0, 0, 0, 9, 0, 0, 0, 22, 0, 9, 9, 0, 0, 0, 0, 0, 0, 0, 0, 0, 0, 9, 9, 0, 0, 0, 0, 9, 0, 0, 0, 9, 0, 0, 0, 9, 9, 9, 0, 9, 9, 0, 0, 0, 0, 0, 20, 9, 22, 0, 0, 0, 0, 0, 0, 9, 0, 9, 0, 0, 0, 0, 22, 22, 9, 0, 0, 0, 0, 0, 0, 0, 0, 0, 0, 0, 0, 0, 0, 0, 0, 0, 0, 9, 0, 0, 9, 9, 9, 0, 9, 0, 9, 0, 9, 0, 9, 9, 0, 9, 0, 9, 0, 9, 0, 0, 0, 0, 0, 0, 9, 9, 0, 0, 22, 0, 0, 0, 9, 0, 0, 0, 0, 0, 9, 9, 0, 0, 0, 0, 0, 0, 0, 0, 0, 0, 0, 0, 9, 0, 0, 0, 0, 9, 9, 9, 0, 9, 0, 0, 9, 0, 9, 0, 0, 9, 0, 0, 0, 0, 0, 0, 0, 0, 0, 0, 0, 0, 0, 22, 7, 0, 0, 0, 0, 0, 9, 9, 0, 0, 0, 9, 9, 0, 0, 0, 9, 0, 0, 9, 9, 9, 0, 0, 0, 9, 0, 0, 9, 0, 0, 0, 0, 0, 0, 0, 0, 0, 0, 0, 9, 9, 0, 9, 9, 9, 9, 0, 0, 0, 0, 0, 0, 0, 0, 0, 0, 0, 0, 0, 0, 9, 9, 9, 9, 22, 9, 0, 9, 0, 0, 0, 0, 0, 0, 0, 0, 0, 0, 0, 9, 0, 0, 0, 0, 0, 0, 0, 9, 0, 9, 0, 9, 0, 0, 0, 0, 0, 9, 0, 0, 0, 9, 0, 0, 19, 19, 19, 0, 0, 0, 0, 4, 10, 0, 0, 0, 0, 9, 9, 0, 0, 0, 0, 0, 0, 0, 0, 0, 0, 0, 0, 0, 0, 0, 0, 0, 9, 0, 0, 0, 0, 0, 0, 0, 9, 0, 0, 0, 9, 9, 0, 0, 9, 9, 0, 22, 16, 9, 0, 0, 9, 0, 0, 0, 0, 0, 0, 0, 9, 0, 9, 0, 0, 9, 0, 0, 0, 0, 0, 9, 9, 9, 0, 0, 0, 0, 9, 0, 0, 0, 0, 0, 0, 0, 9, 9, 9, 9, 9, 0, 9, 0, 0, 0, 0, 0, 0, 0, 0, 9, 0, 9, 0, 9, 0, 0, 9, 9, 0, 0, 9, 0, 0, 9, 9, 0, 0, 9, 0, 0, 0, 0, 0, 9, 9, 9, 0, 0, 0, 9, 0, 9, 9, 0, 0, 0, 0, 9, 9, 0, 9, 0, 9, 0, 0, 0, 0, 0, 0, 0, 0, 0, 0, 0, 0, 9, 0, 9, 0, 9, 9, 0, 0, 0, 0, 0, 0, 0, 0, 0, 0, 0, 0, 0, 0, 0, 0, 0, 9, 9, 9, 9, 0, 0, 0, 0, 0, 9, 0, 0, 0, 0, 0, 0, 0, 0, 0, 0, 0, 0, 9, 9, 9, 0, 0, 0, 0, 0, 0, 0, 0, 9, 0, 0, 9, 0, 0, 0, 0, 0, 0, 0, 0, 9, 0, 0, 0, 0, 0, 0, 9, 0, 9, 9, 9, 0, 0, 0, 9, 9, 0, 0, 9, 0, 0, 0, 0, 0, 0, 9, 0, 0, 0, 0, 0, 0, 9, 0, 9, 0, 0, 0, 0, 0, 0, 9, 9, 9, 0, 22, 0, 0, 9, 0, 22, 9, 9, 9, 0, 9, 0, 0, 9, 0, 9, 0, 9, 0, 0, 9, 0, 0, 0, 9, 9, 9, 0, 0, 0, 0, 0, 0, 0, 0, 0, 0, 0, 0, 0, 0, 0, 0, 9, 9, 0, 9, 9, 0, 9, 0, 0, 0, 9, 0, 0, 0, 0, 0, 9, 0, 9, 9, 0, 0, 9, 0, 9, 0, 9, 9, 0, 0, 0, 0, 0, 0, 0, 9, 0, 0, 0, 0, 0, 0, 0, 0, 9, 9, 9, 0, 9, 0, 0, 0, 0, 9, 0, 9, 9, 0, 0, 9, 0, 9, 0, 0, 0, 0, 9, 9, 9, 0, 0, 0, 0, 0, 0, 9, 0, 0, 0, 0, 0, 0, 9, 0, 0, 0, 0, 9, 0, 0, 0, 22, 9, 9, 0, 0, 0, 9, 9, 0, 0, 0, 0, 0, 9, 0, 9, 9, 0, 9, 9, 0, 9, 0, 0, 0, 0, 0, 0, 9, 9, 9, 9, 0, 0, 0, 0, 0, 9, 0, 9, 0, 0, 0, 9, 0, 0, 0, 0, 0, 9, 17, 17, 7, 0, 9, 9, 9, 0, 0, 9, 0, 0, 0, 0, 9, 0, 0, 0, 0, 0, 0, 0, 0, 9, 9, 9, 0, 0, 0, 0, 0, 9, 0, 0, 0, 9, 9, 0, 0, 0, 9, 0, 0, 0, 0, 0, 0, 0, 0, 0, 0, 0, 0, 9, 9, 0, 0, 9, 0, 9, 0, 0, 0, 0, 0, 9, 0, 9, 0, 0, 9, 0, 0, 0, 0, 9, 9, 0, 9, 9, 0, 0, 0, 0, 9, 9, 9, 0, 0, 9, 0, 0, 0, 9, 0, 0, 0, 0, 0, 9, 0, 9, 0, 0, 0, 0, 0, 0, 0, 0, 0, 0, 0, 12, 0, 9, 9, 0, 0, 0, 0, 0, 0, 0, 0, 0, 0, 9, 0, 0, 0, 0, 0, 0, 0, 0, 0, 9, 0, 0, 0, 9, 9, 9, 9, 9, 9, 0, 0, 0, 0, 0, 0, 9, 9, 9, 0, 0, 0, 19, 9, 9, 0, 0, 0, 0, 0, 0, 0, 0, 0, 0, 0, 0, 9, 0, 0, 0, 0, 9, 0, 9, 0, 9, 9, 9, 9, 9, 9, 9, 9, 0, 0, 0, 9, 0, 0, 9, 9, 9, 0, 0, 0, 0, 9, 0, 0, 0, 0, 0, 0, 9, 0, 9, 9, 0, 9, 0, 0, 0, 0, 9, 0, 0, 0, 9, 0, 9, 9, 0, 0, 0, 0, 0, 0, 9, 9, 0, 0, 0, 0, 0, 0, 0, 0, 9, 9, 9, 9, 9, 0, 0, 0, 0, 9, 0, 9, 0, 9, 0, 0, 0, 0, 0, 0, 9, 0, 0, 0, 0, 0, 0, 0, 0, 0, 0, 0, 9, 9, 0, 0, 0, 0, 0, 0, 0, 9, 0, 9, 9, 9, 0, 9, 0, 0, 9, 9, 9, 0, 0, 9, 9, 0, 0, 9, 9, 9, 0, 0, 0, 9, 0, 0, 0, 9, 9, 9, 9, 0, 0, 0, 0, 0, 0, 0, 0, 0, 0, 9, 9, 9, 0, 0, 0, 0, 0, 0, 9, 0, 0, 9, 0, 9, 9, 0, 0, 0, 0, 0, 0, 9, 0, 0, 0, 0, 0, 0, 9, 0, 0, 0, 0, 9, 0, 0, 9, 0, 0, 0, 0, 9, 0, 0, 0, 0, 9, 0, 9, 0, 0, 9, 9, 9, 9, 0, 0, 9, 0, 0, 0, 9, 9, 0, 0, 0, 0, 0, 0, 0, 0, 9, 0, 0, 0, 9, 9, 0, 9, 0, 0, 0, 9, 0, 0, 0, 0, 0, 0, 9, 9, 0, 9, 0, 0, 0, 9, 0, 0, 0, 0, 0, 0, 0, 0, 0, 0, 0, 0, 0, 0, 0, 23, 0, 0, 0, 9, 9, 0, 0, 9, 9, 0, 0, 9, 0, 0, 9, 0, 9, 0, 9, 0, 0, 0, 9, 0, 0, 0, 0, 0, 0, 0, 0, 0, 0, 0, 9, 0, 0, 9, 0, 0, 9, 0, 9, 9, 0, 9, 0, 9, 0, 0, 0, 9, 0, 0, 0, 9, 0, 9, 0, 0, 0, 9, 0, 0, 0, 14, 0, 0, 0, 0, 9, 0, 0, 0, 0, 0, 9, 0, 0, 0, 0, 0, 0, 0, 9, 0, 0, 9, 0, 9, 0, 0, 9, 9, 0, 9, 0, 0, 0, 0, 0, 0, 22, 0, 0, 0, 0, 0, 0, 0, 9, 0, 0, 9, 0, 0, 0, 9, 9, 0, 9, 22, 19, 0, 9, 0, 9, 9, 0, 0, 0, 0, 0, 0, 0, 9, 9, 0, 0, 0, 0, 0, 0, 0, 0, 0, 0, 0, 9, 9, 0, 0, 0, 0, 0, 0, 0, 0, 0, 0, 9, 0, 0, 0, 0, 0, 0, 0, 9, 9, 0, 0, 0, 9, 0, 9, 0, 0, 0, 9, 9, 0, 0, 0, 9, 9, 9, 9, 0, 0, 0, 9, 0, 9, 9, 0, 0, 0, 0, 0, 0, 0, 0, 0, 9, 9, 0, 0, 0, 0, 0, 0, 9, 9, 9, 9, 0, 0, 0, 9, 0, 0, 0, 0, 0, 0, 0, 0, 0, 19, 9, 0, 0, 0, 0, 0, 9, 9, 9, 9, 9, 0, 0, 9, 9, 9, 19, 0, 0, 9, 0, 9, 0, 9, 0, 0, 0, 0, 0, 0, 0, 0, 0, 0, 0, 0, 0, 23, 22, 0, 0, 0, 9, 0, 0, 0, 0, 0, 9, 9, 0, 0, 9, 9, 9, 9, 9, 9, 0, 0, 0, 0, 0, 0, 0, 0, 0, 0, 0, 0, 0, 9, 0, 0, 0, 0, 0, 0, 0, 0, 9, 0, 9, 9, 13, 9, 9, 9, 9, 9, 0, 0, 0, 0, 0, 0, 0, 0, 0, 0, 9, 0, 0, 0, 0, 0, 0, 0, 0, 0, 0, 0, 0, 9, 0, 0, 0, 0, 0, 0, 0, 0, 9, 9, 0, 0, 0, 0, 0, 0, 0, 0, 9, 9, 0, 0, 0, 0, 0, 0, 0, 0, 0, 9, 9, 0, 0, 0, 9, 0, 0, 0, 0, 0, 0, 0, 19, 0, 0, 0, 9, 9, 0, 0, 0, 0, 9, 0, 9, 9, 0, 9, 0, 0, 9, 0, 0, 0, 0, 0, 0, 0, 0, 9, 0, 0, 0, 0, 0, 0, 0, 0, 9, 9, 0, 0, 0, 9, 9, 0, 0, 9, 9, 0, 0, 0, 0, 0, 9, 9, 9, 9, 9, 9, 0, 9, 0, 0, 0, 0, 9, 0, 9, 0, 0, 0, 0, 0, 0, 0, 0, 0, 0, 0, 9, 0, 0, 0, 0, 0, 0, 0, 0, 0, 0, 0, 9, 0, 0, 0, 0, 0, 0, 0, 0, 0, 0, 0, 9, 0, 0, 0, 9, 9, 9, 9, 9, 0, 0, 0, 10, 10, 9, 0, 9, 0, 0, 0, 0, 0, 0, 0, 0, 9, 0, 0, 0, 0, 0, 9, 0, 0, 0, 0, 0, 0, 0, 0, 0, 0, 0, 0, 0, 0, 0, 0, 0, 0, 0, 0, 0, 0, 19, 9, 0, 0, 22, 22, 0, 9, 0, 0, 9, 9, 19, 0, 0, 0, 0, 0, 9, 0, 0, 9, 9, 9, 0, 0, 9, 0, 22, 22, 22, 0, 0, 0, 0, 0, 0, 0, 0, 0, 0, 0, 0, 0, 0, 0, 0, 0, 0, 0, 0, 0, 0, 0, 0, 0, 0, 0, 0, 9, 9, 9, 9, 0, 0, 0, 0, 0, 0, 0, 0, 0, 0, 0, 0, 0, 0, 0, 0, 0, 0, 0, 0, 9, 9, 19, 0, 0, 0, 0, 0, 9, 0, 0, 9, 9, 0, 0, 9, 9, 0, 0, 0, 9, 9, 0, 9, 0, 0, 0, 0, 9, 0, 0, 0, 9, 0, 9, 9, 9, 9, 0, 9, 0, 0, 0, 0, 0, 0, 0, 0, 0, 0, 0, 0, 0, 0, 0, 0, 0, 9, 0, 0, 0, 0, 0, 0, 0, 0, 0, 0, 0, 0, 0, 0, 0, 0, 0, 9, 0, 0, 0, 0, 0, 0, 0, 9, 0, 9, 0, 0, 0, 9, 0, 0, 0, 0, 0, 0, 0, 0, 9, 0, 9, 0, 0, 9, 0, 0, 9, 9, 0, 0, 0, 0, 0, 0, 0, 0, 0, 0, 0, 0, 0, 0, 0, 0, 0, 0, 0, 0, 0, 9, 0, 0, 9, 0, 0, 0, 0, 0, 0, 0, 0, 0, 0, 0, 0, 9, 0, 0, 0, 0, 0, 0, 9, 0, 0, 9, 0, 0, 0, 9, 9, 9, 0, 0, 0, 9, 0, 9, 9, 0, 9, 9, 9, 0, 0, 9, 0, 0, 0, 0, 0, 0, 9, 0, 0, 0, 0, 0, 0, 0, 0, 0, 0, 0, 0, 0, 0, 0, 0, 9, 9, 9, 9, 22, 0, 0, 0, 0, 0, 0, 9, 0, 9, 9, 0, 0, 0, 0, 0, 0, 9, 9, 9, 0, 0, 0, 0, 0, 0, 9, 0, 9, 9, 0, 0, 0, 0, 9, 9, 0, 0, 0, 0, 0, 0, 9, 0, 0, 0, 9, 9, 0, 0, 0, 0, 0, 19, 0, 0, 0, 0, 0, 0, 0, 0, 0, 0, 9, 9, 9, 9, 9, 9, 0, 0, 0, 0, 0, 9, 0, 0, 0, 0, 0, 0, 0, 0, 0, 0, 0, 0, 0, 0, 0, 9, 9, 0, 0, 0, 0, 0, 0, 9, 9, 0, 0, 0, 0, 0, 0, 0, 0, 0, 9, 0, 0, 0, 0, 0, 0, 0, 0, 0, 19, 9, 0, 9, 0, 9, 9, 9, 9, 0, 0, 0, 0, 0, 0, 9, 9, 9, 9, 0, 0, 0, 0, 0, 0, 19, 0, 0, 0, 0, 9, 0, 0, 0, 0, 0, 0, 0, 0, 0, 0, 0, 0, 0, 0, 9, 0, 0, 9, 9, 9, 0, 0, 0, 0, 0, 0, 0, 6, 0, 0, 0, 9, 9, 0, 0, 0, 0, 0, 0, 9, 0, 0, 9, 0, 0, 0, 0, 9, 9, 9, 9, 0, 0, 0, 0, 0, 0, 0, 0, 0, 0, 0, 0, 0, 0, 9, 0, 0, 0, 0, 0, 0, 0, 0, 0, 0, 0, 0, 0, 9, 9, 0, 0, 19, 19, 19, 19, 19, 19, 19, 19, 19, 19, 19, 19, 19, 0, 0, 0, 0, 0, 0, 9, 0, 0, 0, 0, 0, 0, 0, 0, 0, 9, 9, 0, 9, 9, 0, 9, 0, 0, 0, 0, 0, 9, 0, 0, 0, 0, 0, 0, 0, 0, 0, 0, 0, 0, 0, 0, 0, 0, 0, 0, 0, 0, 0, 0, 9, 9, 0, 0, 0, 9, 0, 9, 0, 0, 0, 0, 0, 0, 0, 0, 0, 0, 0, 0, 9, 0, 0, 0, 0, 0, 0, 0, 0, 0, 9, 0, 0, 0, 10, 9, 9, 0, 0, 0, 0, 9, 9, 0, 0, 9, 9, 0, 0, 0, 0, 0, 0, 0, 0, 0, 0, 0, 9, 9, 9, 9, 0, 0, 9, 9, 9, 9, 0, 9, 0, 0, 0, 0, 0, 0, 0, 0, 9, 0, 9, 0, 0, 0, 0, 9, 9, 9, 9, 9, 0, 0, 9, 0, 0, 0, 0, 0, 0, 19, 0, 0, 0, 0, 9, 0, 0, 0, 0, 9, 0, 0, 0, 0, 9, 0, 0, 9, 0, 0, 9, 0, 9, 0, 0, 0, 9, 9, 9, 0, 0, 0, 9, 9, 0, 0, 0, 0, 0, 0, 0, 0, 9, 0, 0, 0, 0, 0, 0, 0, 0, 0, 9, 9, 9, 9, 9, 0, 0, 0, 0, 0, 0, 9, 0, 9, 0, 0, 9, 9, 0, 9, 0, 9, 0, 9, 0, 9, 9, 9, 0, 0, 0, 0, 0, 9, 9, 9, 0, 0, 0, 0, 0, 0, 0, 0, 9, 0, 9, 9, 9, 0, 0, 0, 9, 0, 0, 0, 0, 0, 0, 0, 0, 0, 0, 0, 0, 0, 0, 0, 0, 0, 0, 0, 0, 0, 9, 9, 9, 0, 0, 9, 0, 0, 0, 0, 0, 0, 0, 0, 9, 0, 0, 0, 9, 9, 0, 0, 9, 0, 0, 0, 0, 0, 0, 0, 0, 0, 0, 0, 0, 0, 0, 0, 0, 0, 0, 19, 0, 11, 0, 19, 0, 9, 0, 0, 0, 0, 0, 0, 9, 9, 9, 9, 9, 0, 0, 0, 0, 0, 0, 0, 0, 0, 0, 0, 0, 0, 9, 0, 0, 0, 9, 0, 0, 0, 0, 0, 0, 9, 0, 0, 9, 9, 0, 0, 0, 0, 0, 0, 0, 0, 0, 9, 0, 9, 9, 0, 0, 9, 0, 0, 0, 19, 0, 9, 9, 9, 9, 9, 0, 9, 9, 0, 0, 0, 0, 0, 9, 9, 9, 0, 0, 9, 0, 0, 0, 0, 0, 0, 9, 0, 9, 0, 0, 0, 0, 9, 0, 0, 9, 0, 9, 9, 0, 9, 9, 0, 0, 0, 0, 0, 9, 0, 0, 9, 0, 0, 0, 9, 0, 0, 0, 0, 0, 0, 0, 0, 0, 0, 0, 0, 0, 0, 0, 0, 19, 0, 0, 0, 0, 0, 0, 0, 0, 0, 0, 22, 9, 9, 9, 9, 0, 0, 0, 0, 0, 9, 9, 0, 9, 0, 0, 0, 0, 0, 0, 0, 0, 0, 0, 9, 9, 9, 0, 0, 0, 0, 0, 0, 0, 0, 9, 0, 0, 9, 9, 9, 9, 9, 19, 0, 0, 0, 0, 0, 0, 0, 0, 0, 0, 9, 9, 0, 0, 9, 9, 0, 0, 9, 9, 0, 0, 0, 0, 0, 0, 0, 0, 0, 19, 9, 0, 0, 0, 0, 0, 0, 0, 0, 0, 0, 0, 0, 9, 9, 0, 0, 0, 0, 0, 0, 0, 9, 0, 0, 0, 0, 0, 9, 0, 9, 0, 0, 0, 0, 0, 0, 0, 0, 0, 0, 8, 0, 0, 0, 0, 0, 0, 0, 0, 0, 0, 0, 0, 0, 0, 0, 0, 0, 9, 9, 9, 0, 0, 0, 0, 0, 0, 0, 0, 0, 22, 22, 9, 0, 9, 9, 9, 0, 0, 0, 0, 9, 9, 0, 0, 0, 0, 0, 9, 0, 0, 0, 9, 9, 9, 0, 0, 0, 0, 0, 9, 9, 0, 0, 0, 0, 9, 0, 0, 0, 0, 0, 9, 0, 0, 0, 0, 0, 0, 0, 0, 0, 0, 0, 0, 0, 0, 0, 0, 0, 9, 0, 0, 0, 9, 0, 0, 0, 9, 0, 0, 0, 0, 9, 0, 0, 19, 9, 0, 0, 0, 0, 9, 0, 0, 0, 0, 0, 0, 0, 0, 0, 0, 0, 0, 0, 0, 0, 0, 0, 0, 0, 0, 0, 0, 9, 0, 0, 0, 0, 0, 0, 0, 0, 0, 0, 0, 0, 9, 0, 0, 9, 0, 0, 0, 9, 0, 0, 0, 0, 0, 0, 0, 9, 9, 0, 0, 0, 9, 9, 0, 0, 0, 0, 0, 0, 19, 9, 9, 0, 9, 9, 0, 9, 9, 0, 0, 0, 0, 0, 9, 0, 0, 0, 0, 0, 0, 0, 0, 0, 0, 9, 9, 0, 0, 9, 0, 0, 0, 0, 0, 0, 0, 0, 0, 9, 0, 0, 0, 0, 0, 0, 0, 0, 0, 0, 0, 0, 0, 9, 9, 9, 0, 0, 0, 0, 0, 0, 9, 0, 0, 0, 0, 0, 0, 0, 19, 0, 0, 0, 0, 19, 0, 0, 0, 9, 9, 9, 0, 0, 0, 9, 0, 9, 0, 9, 9, 9, 0, 0, 0, 0, 0, 0, 0, 0, 0, 0, 9, 0, 9, 0, 0, 0, 9, 9, 0, 0, 0, 0, 0, 0, 0, 9, 9, 0, 0, 0, 0, 0, 0, 9, 0, 0, 0, 9, 9, 0, 0, 9, 0, 0, 0, 0, 9, 9, 9, 9, 0, 9, 0, 0, 0, 0, 0, 0, 0, 0, 0, 0, 0, 0, 0, 0, 0, 9, 9, 0, 9, 0, 0, 0, 0, 9, 9, 9, 0, 9, 9, 9, 9, 0, 0, 9, 9, 0, 0, 0, 0, 9, 0, 0, 9, 9, 0, 0, 0, 0, 0, 9, 9, 0, 9, 22, 9, 0, 0, 0, 0, 0, 0, 0, 0, 0, 0, 0, 9, 0, 0, 0, 9, 9, 0, 0, 9, 0, 9, 9, 9, 9, 0, 0, 9, 0, 0, 0, 0, 0, 0, 0, 0, 0, 0, 0, 9, 9, 9, 9, 9, 0, 0, 9, 0, 0, 9, 9, 0, 0, 0, 0, 0, 9, 19, 9, 0, 0, 9, 9, 9, 0, 0, 9, 0, 9, 0, 0, 9, 0, 0, 0, 0, 0, 0, 0, 0, 0, 9, 0, 9, 0, 9, 9, 0, 0, 0, 0, 0, 9, 0, 0, 0, 9, 9, 9, 9, 0, 0, 0, 0, 0, 9, 0, 0, 0, 0, 0, 9, 0, 0, 0, 0, 0, 9, 0, 0, 0, 0, 0, 0, 0, 9, 0, 0, 0, 0, 0, 0, 0, 0, 9, 0, 9, 0, 0, 0, 0, 0, 9, 9, 9, 9, 0, 0, 0, 0, 9, 9, 0, 0, 0, 9, 0, 0, 19, 9, 9, 0, 0, 0, 0, 0, 0, 0, 0, 0, 0, 0, 0, 9, 0, 0, 0, 0, 21, 2, 0, 0, 0, 0, 0, 9, 9, 9, 9, 0, 0, 19, 0, 0, 0, 0, 0, 0, 0, 0, 0, 0, 9, 0, 9, 0, 0, 0, 0, 0, 0, 0, 9, 9, 0, 9, 0, 0, 0, 0, 0, 0, 0, 9, 9, 0, 9, 9, 0, 9, 9, 9, 9, 9, 9, 9, 9, 9, 9, 9, 9, 9, 9, 9, 9, 9, 0, 0, 0, 0, 0, 0, 9, 0, 0, 0, 0, 0, 0, 0, 0, 0, 0, 0, 9, 0, 0, 9, 0, 0, 9, 0, 9, 0, 0, 0, 0, 0, 0, 9, 0, 0, 0, 0, 0, 0, 0, 0, 0, 0, 19, 9, 9, 0, 9, 0, 0, 0, 0, 0, 9, 9, 0, 0, 9, 9, 9, 0, 0, 9, 0, 9, 9, 9, 9, 0, 0, 0, 0, 0, 0, 0, 0, 0, 0, 0, 0, 0, 0, 0, 0, 9, 0, 9, 9, 0, 0, 0, 0, 9, 0, 0, 0, 0, 0, 0, 0, 0, 0, 0, 9, 9, 0, 19, 9, 0, 9, 0, 0, 0, 0, 0, 0, 0, 0, 0, 0, 0, 0, 0, 0, 0, 0, 9, 9, 9, 0, 9, 0, 0, 9, 0, 0, 0, 0, 0, 0, 0, 9, 9, 0, 0, 0, 0, 9, 0, 0, 0, 0, 9, 9, 9, 0, 9, 9, 9, 0, 0, 0, 0, 0, 0, 0, 0, 0, 9, 9, 0, 9, 0, 9, 9, 0, 9, 9, 9, 9, 9, 0, 0, 0, 0, 9, 0, 9, 9, 9, 0, 0, 9, 0, 19, 0, 0, 0, 0, 0, 9, 9, 9, 0, 9, 0, 9, 9, 9, 0, 0, 0, 0, 0, 0, 0, 9, 9, 0, 9, 9, 0, 0, 9, 0, 0, 0, 0, 0, 0, 0, 0, 9, 0, 0, 0, 0, 9, 9, 0, 9, 0, 0, 0, 9, 9, 0, 0, 0, 0, 9, 0, 9, 9, 0, 0, 0, 0, 9, 0, 0, 0, 0, 9, 0, 0, 0, 0, 9, 9, 9, 0, 9, 0, 9, 0, 0, 9, 9, 0, 0, 0, 0, 0, 0, 0, 0, 0, 0, 0, 0, 0, 9, 9, 9, 0, 0, 0, 0, 0, 0, 0, 0, 0, 9, 9, 9, 0, 9, 9, 0, 9, 0, 0, 0, 9, 0, 9, 9, 0, 0, 0, 0, 9, 9, 0, 0, 9, 0, 0, 0, 9, 0, 0, 0, 0, 0, 0, 0, 9, 0, 0, 0, 0, 0, 0, 0, 0, 0, 9, 0, 0, 0, 0, 0, 0, 9, 9, 0, 0, 0, 0, 0, 0, 0, 9, 0, 0, 0, 0, 0, 9, 9, 0, 0, 0, 0, 9, 0, 0, 9, 9, 9, 0, 0, 0, 0, 9, 9, 9, 9, 0, 0, 0, 0, 0, 9, 0, 0, 0, 0, 9, 0, 9, 9, 9, 9, 9, 0, 0, 0, 0, 0, 9, 9, 0, 0, 9, 9, 9, 0, 0, 9, 9, 0, 9, 0, 0, 19, 19, 19, 0, 0, 0, 0, 0, 0, 0, 0, 0, 0, 0, 0, 0, 0, 0, 0, 0, 0, 0, 0, 0, 0, 0, 0, 0, 0, 0, 0, 0, 0, 9, 0, 0, 0, 0, 0, 0, 0, 0, 19, 0, 0, 0, 0, 9, 9, 9, 0, 0, 0, 0, 0, 9, 9, 9, 0, 9, 0, 0, 0, 9, 19, 0, 0, 0, 0, 9, 0, 0, 0, 0, 0, 0, 0, 0, 0, 9, 0, 0, 0, 0, 0, 9, 9, 9, 9, 9, 9, 9, 9, 9, 0, 0, 0, 0, 0, 9, 0, 0, 0, 0, 0, 0, 0, 0, 0, 0, 0, 0, 0, 9, 0, 0, 0, 0, 9, 0, 9, 0, 9, 0, 9, 9, 9, 9, 9, 9, 9, 9, 9, 0, 0, 0, 0, 0, 0, 0, 9, 9, 0, 0, 0, 0, 0, 0, 0, 0, 0, 0, 0, 0, 0, 9, 0, 0, 0, 9, 9, 9, 9, 0, 0, 0, 0, 9, 0, 9, 9, 0, 0, 19, 0, 0, 0, 0, 0, 0, 0, 0, 0, 9, 0, 0, 9, 0, 0, 0, 9, 9, 0, 0, 0, 0, 0, 0, 0, 0, 0, 9, 0, 0, 0, 0, 0, 0, 0, 0, 9, 0, 0, 9, 0, 19, 0, 0, 0, 0, 9, 0, 0, 0, 9, 0, 9, 0, 0, 9, 9, 9, 0, 0, 0, 19, 0, 0, 9, 0, 0, 0, 9, 0, 0, 0, 0, 0, 9, 9, 0, 0, 0, 0, 0, 0, 0, 0, 9, 9, 0, 9, 0, 0, 0, 9, 9, 0, 9, 9, 9, 0, 0, 0, 0, 0, 0, 9, 0, 0, 9, 0, 0, 0, 0, 0, 0, 0, 0, 9, 9, 0, 0, 0, 0, 0, 0, 0, 0, 9, 0, 0, 9, 9, 0, 0, 0, 0, 0, 0, 0, 0, 0, 9, 0, 0, 0, 0, 19, 0, 0, 0, 0, 9, 0, 0, 0, 0, 0, 0, 0, 0, 0, 0, 0, 0, 0, 0, 0, 9, 0, 0, 0, 0, 0, 0, 9, 9, 0, 0, 9, 9, 0, 9, 9, 0, 0, 0, 0, 0, 0, 0, 0, 0, 0, 9, 0, 0, 0, 0, 0, 0, 0, 9, 0, 0, 0, 0, 0, 0, 9, 0, 0, 0, 0, 0, 0, 0, 0, 0, 0, 0, 0, 9, 0, 9, 9, 9, 0, 0, 0, 9, 0, 19, 0, 0, 0, 0, 0, 0, 0, 0, 9, 0, 0, 0, 0, 9, 0, 0, 0, 0, 0, 0, 0, 0, 0, 0, 0, 0, 0, 0, 9, 0, 0, 0, 0, 0, 0, 0, 0, 9, 0, 9, 0, 0, 0, 9, 9, 9, 12, 12, 12, 0, 0, 0, 0, 0, 0, 9, 0, 0, 0, 0, 0, 9, 0, 9, 0, 0, 0, 0, 0, 0, 0, 0, 0, 0, 0, 9, 0, 0, 9, 9, 0, 0, 0, 0, 0, 0, 0, 0, 0, 9, 0, 9, 0, 0, 0, 0, 0, 0, 0, 0, 9, 0, 0, 0, 22, 22, 22, 22, 22, 9, 0, 0, 0, 0, 0, 0, 0, 0, 0, 0, 0, 0, 9, 0, 0, 0, 0, 0, 0, 0, 0, 0, 0, 0, 0, 9, 0, 0, 0, 0, 9, 0, 0, 9, 0, 0, 9, 0, 9, 9, 9, 9, 9, 9, 0, 0, 0, 0, 0, 0, 0, 0, 9, 0, 0, 0, 0, 9, 0, 0, 0, 0, 0, 9, 9, 0, 0, 0, 0, 0, 0, 0, 0, 0, 0, 0, 0, 0, 0, 9, 9, 0, 0, 9, 9, 0, 0, 0, 0, 19, 0, 0, 9, 0, 0, 0, 0, 9, 9, 9, 0, 0, 0, 0, 0, 0, 0, 0, 0, 9, 0, 0, 0, 0, 0, 0, 0, 9, 9, 0, 9, 9, 0, 0, 0, 0, 0, 0, 0, 9, 9, 0, 9, 0, 0, 0, 0, 0, 0, 0, 9, 9, 9, 9, 9, 19, 0, 0, 0, 0, 0, 0, 0, 0, 0, 0, 0, 0, 0, 0, 0, 9, 9, 0, 9, 9, 0, 0, 0, 0, 9, 9, 9, 0, 0, 0, 0, 0, 0, 0, 0, 0, 0, 0, 0, 0, 0, 0, 0, 0, 0, 0, 0, 0, 0, 0, 0, 0, 0, 0, 0, 0, 0, 9, 9, 0, 0, 0, 0, 9, 0, 0, 0, 0, 0, 0, 9, 0, 0, 0, 9, 0, 0, 0, 0, 0, 9, 0, 9, 9, 0, 9, 9, 9, 9, 0, 0, 0, 0, 0, 0, 0, 9, 0, 9, 9, 9, 9, 0, 0, 0, 0, 0, 9, 0, 0, 0, 0, 0, 0, 0, 0, 0, 0, 0, 0, 9, 0, 0, 0, 9, 0, 0, 0, 9, 0, 0, 0, 0, 0, 0, 0, 0, 0, 0, 0, 9, 0, 0, 0, 0, 0, 0, 0, 9, 0, 0, 9, 0, 0, 0, 0, 0, 0, 0, 0, 0, 0, 0, 19, 0, 0, 0, 0, 0, 0, 0, 0, 0, 0, 0, 0, 0, 0, 0, 0, 9, 9, 9, 9, 0, 0, 9, 9, 0, 0, 0, 0, 9, 0, 0, 0, 0, 0, 0, 9, 0, 0, 0, 9, 9, 9, 0, 0, 0, 0, 0, 9, 9, 9, 9, 0, 0, 0, 0, 0, 0, 0, 0, 0, 0, 0, 9, 9, 9, 9, 0, 0, 0, 0, 0, 0, 0, 0, 0, 0, 0, 0, 0, 9, 0, 0, 9, 9, 9, 0, 9, 0, 9, 0, 9, 0, 0, 0, 0, 0, 0, 0, 0, 0, 0, 0, 0, 0, 0, 0, 9, 9, 0, 0, 0, 0, 0, 0, 0, 0, 0, 0, 0, 0, 0, 0, 9, 9, 0, 0, 9, 9, 9, 0, 9, 9, 0, 0, 0, 0, 0, 9, 9, 0, 0, 0, 0, 0, 0, 0, 0, 0, 0, 0, 9, 0, 0, 0, 0, 0, 0, 0, 0, 9, 9, 9, 9, 0, 0, 9, 9, 9, 9, 0, 9, 0, 0, 0, 0, 0, 0, 0, 0, 0, 0, 0, 0, 0, 0, 0, 0, 0, 0, 0, 0, 0, 0, 0, 9, 0, 0, 0, 0, 9, 9, 0, 0, 0, 9, 9, 0, 22, 22, 22, 10, 22, 0, 0, 0, 0, 0, 0, 0, 0, 0, 0, 0, 0, 0, 0, 0, 0, 0, 9, 0, 0, 0, 0, 9, 9, 0, 0, 0, 9, 0, 0, 0, 0, 9, 9, 9, 0, 0, 0, 0, 9, 0, 9, 0, 0, 0, 0, 0, 0, 0, 0, 0, 0, 0, 0, 0, 9, 0, 0, 0, 9, 0, 0, 0, 0, 0, 0, 0, 0, 0, 0, 0, 0, 0, 0, 0, 0, 0, 0, 9, 9, 0, 0, 0, 0, 0, 0, 0, 0, 0, 9, 9, 9, 9, 9, 0, 0, 0, 9, 9, 0, 0, 9, 9, 9, 9, 9, 9, 0, 0, 0, 0, 0, 0, 0, 0, 0, 0, 0, 0, 9, 9, 9, 9, 9, 9, 9, 0, 9, 0, 0, 0, 0, 0, 9, 9, 9, 0, 0, 9, 0, 0, 0, 0, 0, 9, 9, 9, 9, 9, 9, 19, 0, 0, 0, 0, 0, 0, 9, 9, 0, 9, 9, 9, 9, 9, 9, 9, 0, 9, 9, 9, 0, 0, 0, 0, 0, 9, 0, 0, 0, 0, 9, 0, 0, 0, 0, 0, 9, 0, 0, 9, 9, 0, 0, 0, 0, 0, 0, 0, 0, 0, 0, 0, 0, 9, 0, 9, 9, 9, 9, 9, 0, 9, 0, 0, 0, 0, 0, 0, 0, 9, 9, 9, 9, 9, 9, 9, 9, 0, 0, 0, 0, 0, 0, 0, 0, 0, 0, 0, 0, 0, 0, 0, 0, 9, 9, 0, 0, 9, 9, 0, 0, 0, 0, 0, 0, 0, 0, 9, 0, 0, 0, 0, 0, 0, 0, 0, 0, 0, 0, 9, 0, 0, 0, 9, 9, 19, 0, 0, 0, 0, 0, 0, 9, 0, 0, 0, 0, 0, 0, 0, 0, 9, 9, 9, 9, 0, 0, 0, 0, 0, 0, 0, 0, 0, 9, 9, 0, 9, 0, 0, 9, 0, 0, 0, 0, 0, 0, 0, 0, 9, 9, 0, 0, 0, 0, 0, 0, 0, 9, 0, 9, 9, 0, 0, 0, 0, 0, 9, 0, 9, 9, 9, 9, 0, 9, 9, 0, 0, 9, 0, 9, 0, 9, 9, 9, 0, 0, 0, 9, 9, 9, 0, 0, 0, 0, 0, 0, 9, 9, 9, 0, 0, 0, 0, 9, 9, 9, 9, 0, 0, 9, 0, 0, 9, 9, 9, 0, 0, 0, 0, 9, 9, 0, 0, 0, 9, 9, 9, 9, 9, 9, 0, 0, 0, 0, 0, 0, 0, 0, 0, 0, 0, 0, 9, 0, 0, 0, 0, 0, 0, 0, 0, 0, 0, 0, 9, 0, 0, 0, 0, 0, 0, 0, 9, 9, 0, 0, 0, 0, 9, 0, 0, 0, 0, 0, 0, 0, 0, 9, 0, 0, 0, 0, 0, 9, 9, 0, 0, 9, 9, 0, 0, 0, 0, 0, 0, 0, 0, 0, 0, 0, 0, 9, 0, 9, 0, 0, 0, 9, 0, 0, 0, 0, 9, 9, 0, 0, 0, 0, 0, 9, 0, 9, 0, 0, 0, 9, 9, 9, 9, 0, 0, 0, 0, 0, 0, 0, 0, 0, 0, 0, 9, 0, 0, 0, 0, 9, 9, 9, 9, 9, 9, 9, 0, 9, 0, 9, 0, 0, 0, 0, 0, 9, 0, 0, 0, 0, 0, 0, 9, 9, 9, 9, 9, 0, 0, 0, 0, 0, 0, 0, 9, 9, 9, 0, 0, 0, 0, 9, 9, 9, 9, 9, 0, 0, 9, 0, 0, 0, 0, 0, 0, 0, 0, 0, 0, 0, 0, 0, 9, 0, 0, 0, 9, 0, 0, 0, 0, 0, 9, 0, 0, 9, 0, 0, 9, 0, 9, 9, 9, 9, 9, 0, 0, 0, 0, 0, 0, 0, 0, 0, 0, 0, 0, 0, 9, 9, 0, 0, 9, 9, 9, 0, 0, 9, 9, 0, 0, 0, 0, 0, 0, 9, 9, 0, 0, 0, 0, 0, 9, 0, 9, 9, 0, 0, 0, 0, 0, 0, 0, 0, 0, 9, 0, 0, 0, 0, 0, 0, 0, 0, 0, 9, 0, 0, 0, 9, 9, 0, 0, 0, 0, 0, 9, 0, 0, 0, 9, 0, 0, 0, 9, 9, 9, 9, 9, 0, 0, 0, 0, 9, 0, 9, 22, 0, 0, 0, 0, 0, 9, 0, 0, 9, 0, 0, 0, 0, 0, 0, 0, 9, 0, 9, 9, 0, 0, 0, 0, 0, 19, 9, 0, 0, 0, 0, 9, 9, 0, 0, 0, 0, 0, 0, 0, 0, 0, 0, 0, 0, 0, 0, 0, 9, 9, 0, 0, 0, 0, 0, 0, 0, 0, 0, 0, 0, 9, 9, 9, 0, 9, 0, 0, 9, 9, 9, 0, 0, 9, 0, 0, 0, 9, 9, 9, 0, 9, 9, 9, 9, 9, 9, 9, 0, 0, 0, 0, 0, 0, 0, 0, 0, 0, 0, 0, 0, 0, 0, 0, 0, 0, 0, 0, 0, 23, 18, 5, 23, 0, 0, 0, 0, 9, 9, 9, 0, 0, 0, 0, 9, 9, 9, 9, 9, 19, 0, 0, 0, 0, 0, 0, 0, 0, 0, 0, 0, 0, 0, 0, 0, 0, 0, 0, 9, 0, 0, 0, 9, 9, 9, 9, 9, 0, 0, 0, 0, 0, 0, 9, 0, 0, 0, 0, 0, 0, 9, 0, 0, 0, 0, 19, 0, 19, 0, 9, 9, 0, 0, 19, 0, 9, 9, 9, 0, 0, 9, 0, 0, 19, 0, 0, 0, 0, 0, 9, 0, 0, 0, 0, 0, 0, 0, 9, 9, 0, 0, 0, 0, 0, 0, 0, 0, 0, 0, 0, 0, 9, 0, 0, 0, 0, 0, 9, 0, 9, 0, 0, 0, 9, 0, 0, 0, 9, 0, 0, 9, 9, 0, 9, 0, 0, 9, 0, 0, 0, 9, 0, 0, 0, 0, 0, 0, 0, 0, 0, 0, 0, 0, 9, 0, 0, 0, 9, 9, 9, 9, 9, 9, 0, 9, 9, 9, 0, 0, 0, 0, 0, 0, 0, 0, 0, 0, 0, 0, 0, 0, 0, 0, 0, 0, 0, 0, 0, 0, 0, 0, 9, 9, 0, 9, 0, 0, 0, 9, 9, 9, 0, 9, 0, 0, 0, 0, 0, 9, 0, 9, 0, 0, 9, 9, 9, 9, 9, 0, 0, 0, 0, 9, 22, 22, 22, 22, 0, 0, 9, 0, 0, 0, 0, 0, 0, 0, 0, 9, 0, 0, 0, 0, 0, 0, 0, 0, 0, 0, 0, 0, 0, 0, 0, 0, 9, 0, 0, 0, 0, 0, 0, 0, 0, 9, 9, 9, 0, 0, 0, 0, 0, 0, 9, 0, 0, 0, 9, 0, 0, 0, 0, 9, 22, 22, 0, 9, 0, 0, 9, 9, 0, 0, 9, 0, 0, 0, 0, 19, 0, 0, 0, 0, 0, 0, 0, 0, 0, 0, 0, 0, 0, 0, 0, 9, 9, 9, 9, 0, 0, 0, 0, 0, 0, 0, 0, 0, 0, 19, 0, 9, 9, 9, 9, 9, 9, 0, 0, 0, 9, 9, 9, 0, 0, 0, 0, 0, 9, 0, 9, 0, 0, 22, 22, 22, 22, 9, 0, 0, 0, 9, 9, 0, 0, 0, 9, 0, 0, 0, 0, 9, 0, 0, 9, 0, 0, 0, 0, 0, 0, 0, 0, 0, 0, 0, 0, 0, 0, 0, 0, 9, 9, 0, 0, 0, 9, 0, 0, 9, 0, 22, 0, 0, 9, 9, 0, 9, 0, 0, 9, 0, 0, 9, 0, 0, 9, 0, 0, 0, 0, 0, 9, 9, 0, 9, 0, 0, 9, 0, 9, 9, 9, 0, 0, 0, 0, 0, 9, 9, 0, 0, 0, 0, 0, 0, 0, 0, 9, 0, 0, 0, 9, 0, 0, 0, 0, 0, 0, 0, 0, 0, 19, 9, 9, 9, 9, 0, 0, 0, 0, 0, 0, 9, 9, 0, 9, 0, 9, 9, 9, 9, 9, 0, 0, 0, 0, 9, 9, 0, 0, 9, 9, 0, 0, 0, 0, 0, 0, 0, 0, 9, 0, 0, 0, 0, 9, 0, 0, 0, 0, 0, 9, 9, 9, 0, 0, 0, 9, 0, 0, 9, 0, 9, 9, 9, 9, 9, 9, 0, 0, 9, 9, 0, 9, 0, 0, 9, 9, 0, 0, 9, 0, 9, 9, 9, 0, 0, 0, 0, 0, 9, 9, 0, 0, 9, 0, 0, 0, 0, 0, 0, 0, 9, 9, 9, 0, 0, 9, 9, 0, 0, 0, 0, 0, 0, 0, 9, 9, 0, 0, 0, 9, 0, 0, 0, 0, 0, 9, 0, 0, 0, 0, 0, 0, 9, 0, 0, 0, 0, 0, 0, 9, 9, 9, 9, 9, 9, 9, 0, 0, 0, 0, 0, 0, 0, 0, 0, 0, 0, 0, 0, 0, 0, 0, 0, 9, 9, 9, 9, 0, 9, 0, 0, 0, 0, 0, 0, 0, 0, 0, 0, 0, 0, 0, 0, 0, 0, 0, 0, 0, 0, 0, 9, 0, 0, 9, 9, 9, 9, 0, 0, 9, 9, 9, 0, 0, 9, 9, 9, 9, 9, 0, 9, 0, 0, 0, 0, 0, 0, 0, 0, 0, 0, 0, 9, 9, 9, 9, 0, 9, 9, 9, 0, 0, 0, 0, 0, 9, 9, 0, 0, 0, 0, 0, 0, 0, 0, 9, 9, 0, 0, 9, 0, 9, 9, 0, 0, 0, 0, 0, 0, 0, 9, 9, 0, 0, 9, 0, 9, 0, 0, 0, 0, 0, 0, 9, 9, 9, 9, 9, 9, 9, 0, 9, 0, 9, 0, 0, 0, 0, 9, 9, 9, 9, 0, 0, 0, 0, 0, 0, 9, 9, 0, 9, 0, 9, 0, 9, 9, 9, 9, 0, 0, 0, 0, 0, 0, 0, 0, 0, 0, 9, 9, 0, 9, 19, 9, 0, 0, 0, 0, 0, 0, 9, 9, 0, 0, 0, 0, 0, 9, 0, 0, 0, 0, 0, 0, 0, 0, 0, 0, 0, 0, 0, 9, 0, 0, 0, 0, 0, 0, 0, 0, 0, 0, 0, 9, 0, 9, 9, 9, 0, 0, 0, 0, 0, 0, 0, 0, 9, 9, 9, 9, 0, 0, 9, 0, 19] The average silhouette_score is : 0.43013847\n"
          ],
          "name": "stdout"
        },
        {
          "output_type": "display_data",
          "data": {
            "image/png": "[encoded data removed]",
            "text/plain": [
              "<Figure size 1296x504 with 2 Axes>"
            ]
          },
          "metadata": {
            "tags": [],
            "needs_background": "light"
          }
        }
      ]
    },
    {
      "cell_type": "code",
      "metadata": {
        "id": "BLT9thC-YIlb",
        "colab_type": "code",
        "colab": {
          "base_uri": "https://localhost:8080/",
          "height": 286
        },
        "outputId": "147631b0-caf3-4379-9732-8b22f47e6c20"
      },
      "source": [
        "##clustering with sklearn package\n",
        "import numpy\n",
        "import numpy as np\n",
        "import gensim\n",
        "from sklearn.cluster import KMeans\n",
        "from sklearn.decomposition import PCA\n",
        "from gensim.models import Doc2Vec\n",
        "\n",
        "kmeans_model = KMeans(n_clusters=10, init='k-means++', max_iter=100) \n",
        "X = kmeans_model.fit(normalized)\n",
        "labels=kmeans_model.labels_.tolist()\n",
        "l = kmeans_model.fit_predict(normalized)\n",
        "pca = PCA(n_components=2).fit(normalized)\n",
        "datapoint = pca.transform(normalized)\n",
        "\n",
        "counts = np.bincount(labels)\n",
        "print(\"Cluster sizes: \",counts)\n",
        "import matplotlib.pyplot as plt\n",
        "%matplotlib inline\n",
        "plt.figure\n",
        "label1 = [\"gray\", \"orange\", \"deepskyblue\", \"crimson\", \"cornflowerblue\", \n",
        "          \"mediumseagreen\", \"gold\", \"salmon\", \"palegreen\", \"mediumslateblue\"]\n",
        "color = [label1[i] for i in labels]\n",
        "plt.scatter(datapoint[:, 0], datapoint[:, 1], c=color)\n",
        "centroids = kmeans_model.cluster_centers_\n",
        "centroidpoint = pca.transform(centroids)\n",
        "#plt.scatter(centroidpoint[:, 0], centroidpoint[:, 1], marker=\"^\", s=150, c=\"#000000\")\n",
        "plt.show()"
      ],
      "execution_count": 73,
      "outputs": [
        {
          "output_type": "stream",
          "text": [
            "Cluster sizes:  [2560 2048    4  901   25    7   10 3298  523  176]\n"
          ],
          "name": "stdout"
        },
        {
          "output_type": "display_data",
          "data": {
            "image/png": "[encoded data removed]",
            "text/plain": [
              "<Figure size 432x288 with 1 Axes>"
            ]
          },
          "metadata": {
            "tags": [],
            "needs_background": "light"
          }
        }
      ]
    },
    {
      "cell_type": "code",
      "metadata": {
        "id": "4bgHb88VE-3q",
        "colab_type": "code",
        "colab": {
          "base_uri": "https://localhost:8080/",
          "height": 34
        },
        "outputId": "f20d8e15-f2f9-46ad-c84b-7fe32d4ab648"
      },
      "source": [
        "##clustering with ntkl packages\n",
        "distance_mat = kmeans_model.fit_transform(normalized)\n",
        "type(distance_mat)"
      ],
      "execution_count": 78,
      "outputs": [
        {
          "output_type": "execute_result",
          "data": {
            "text/plain": [
              "numpy.ndarray"
            ]
          },
          "metadata": {
            "tags": []
          },
          "execution_count": 78
        }
      ]
    },
    {
      "cell_type": "code",
      "metadata": {
        "id": "JFfRNjnDxKIN",
        "colab_type": "code",
        "colab": {
          "base_uri": "https://localhost:8080/",
          "height": 377
        },
        "outputId": "2deaaeaa-b0ca-4a7e-f0f8-99f3c2cbfc84"
      },
      "source": [
        "for i in range(10):\n",
        "  if counts[i] > 10:\n",
        "    ind = np.argsort(distance_mat[:,i])[0:9]\n",
        "    w = [model_6k_cor.wv.index2word[j] for j in ind]\n",
        "    print(\"Top 10 words for cluster\", i, \":\", w)\n",
        "    if counts[i] * 0.1 > 20:\n",
        "        ind20 = np.argsort(distance_mat[:,i])[0:19]\n",
        "        w20 = [model_6k_cor.wv.index2word[k] for k in ind20]\n",
        "        print(\"Top 20 words for cluster\", i, \":\", w20)\n",
        "        if counts[i] *0.1 > 25:\n",
        "            ind25 = np.argsort(distance_mat[:,i])[0:24]\n",
        "            w25 = [model_6k_cor.wv.index2word[l] for l in ind25]\n",
        "            print(\"Top 25 words for cluster\", i, \":\", w25)\n",
        "  else:\n",
        "    w0 = [model_6k_cor.wv.index2word[m] for m in range(len(labels)-1) if labels[m] ==i]\n",
        "    print(\"words in cluster\", i, \":\", w0)"
      ],
      "execution_count": 93,
      "outputs": [
        {
          "output_type": "stream",
          "text": [
            "Top 10 words for cluster 0 : ['ak', 'low', 'weber', 'nicolas', 'enhanced', 'remake', 'winding', 'reboot', 'tasting']\n",
            "Top 20 words for cluster 0 : ['ak', 'low', 'weber', 'nicolas', 'enhanced', 'remake', 'winding', 'reboot', 'tasting', 'brahma', 'produce', 'south', 'maintained', 'babs', 'shitty', 'static', 'fountains', 'badger', 'hdl']\n",
            "Top 25 words for cluster 0 : ['ak', 'low', 'weber', 'nicolas', 'enhanced', 'remake', 'winding', 'reboot', 'tasting', 'brahma', 'produce', 'south', 'maintained', 'babs', 'shitty', 'static', 'fountains', 'badger', 'hdl', 'buzzed', 'corsair', 'routinely', 'fletcher', 'consistency']\n",
            "Top 10 words for cluster 1 : ['movement', 'mwahahahahaha', 'versed', 'began', 'compressing', 'experts', 'gib', 'assistance', 'ducked']\n",
            "Top 20 words for cluster 1 : ['movement', 'mwahahahahaha', 'versed', 'began', 'compressing', 'experts', 'gib', 'assistance', 'ducked', 'philosophic', 'growl', 'confession', 'reordering', 'beaky', 'teddy', 'glorified', 'ireland', 'eggggggg', 'poem']\n",
            "Top 25 words for cluster 1 : ['movement', 'mwahahahahaha', 'versed', 'began', 'compressing', 'experts', 'gib', 'assistance', 'ducked', 'philosophic', 'growl', 'confession', 'reordering', 'beaky', 'teddy', 'glorified', 'ireland', 'eggggggg', 'poem', 'heartbeat', 'permission', 'slavs', 'heating', 'belong']\n",
            "words in cluster 2 : ['toshiba', 'preach', 'spirit']\n",
            "Top 10 words for cluster 3 : ['plus', 'footprint', 'lists', 'filter', 'siege', 'find', 'use', 'diogenes', 'compass']\n",
            "Top 20 words for cluster 3 : ['plus', 'footprint', 'lists', 'filter', 'siege', 'find', 'use', 'diogenes', 'compass', 'wikipedia', 'aaa', 'waco', 'havoc', 'us', 'moral', 'org', 'onion', 'extremes', 'cock']\n",
            "Top 25 words for cluster 3 : ['plus', 'footprint', 'lists', 'filter', 'siege', 'find', 'use', 'diogenes', 'compass', 'wikipedia', 'aaa', 'waco', 'havoc', 'us', 'moral', 'org', 'onion', 'extremes', 'cock', 'holder', 'loligaggin', 'butts', 'nuts', 'wink']\n",
            "Top 10 words for cluster 4 : ['biddy', 'doom', 'taxpayer', 'confronting', 'indeed', 'sustainable', 'sopranos', 'owes', 'indignant']\n",
            "words in cluster 5 : ['en', 'block', 'add-ons', 'molla', 'firebox', 'add-on', 'src']\n",
            "words in cluster 6 : ['vengeance', 'sr', 'dp', 'balm', 'ref', 'formerly', 'cmlgxmac', 'ie', 'udf', 'hipster']\n",
            "Top 10 words for cluster 7 : ['molla', 'firebox', 'add-on', 'src', 'block', 'add-ons', 'en', 'script', 'search']\n",
            "Top 20 words for cluster 7 : ['molla', 'firebox', 'add-on', 'src', 'block', 'add-ons', 'en', 'script', 'search', 'us', 'org', 'plus', 'siege', 'footprint', 'diogenes', 'find', 'lists', 'filter', 'compass']\n",
            "Top 25 words for cluster 7 : ['molla', 'firebox', 'add-on', 'src', 'block', 'add-ons', 'en', 'script', 'search', 'us', 'org', 'plus', 'siege', 'footprint', 'diogenes', 'find', 'lists', 'filter', 'compass', 'wikipedia', 'waco', 'use', 'knockdown', 'grind']\n",
            "Top 10 words for cluster 8 : ['comedy', 'gallery', 'patched', 'whats', 'idb', 'feature', 'lullabies', 'distinction', 'alarm']\n",
            "Top 20 words for cluster 8 : ['comedy', 'gallery', 'patched', 'whats', 'idb', 'feature', 'lullabies', 'distinction', 'alarm', 'detective', 'shitville', 'twin', 'correlated', 'centers', \"d'addario\", 'owe', 'units', 'lofts', 'bases']\n",
            "Top 25 words for cluster 8 : ['comedy', 'gallery', 'patched', 'whats', 'idb', 'feature', 'lullabies', 'distinction', 'alarm', 'detective', 'shitville', 'twin', 'correlated', 'centers', \"d'addario\", 'owe', 'units', 'lofts', 'bases', 'newly', 'weather', 'safesearch', 'elusive', 'retiring']\n",
            "Top 10 words for cluster 9 : ['andy', 'misogyny', 'rather', 'heat', 'fourth', 'inspection', 'prior', 'romantic', 'ant']\n"
          ],
          "name": "stdout"
        }
      ]
    }
  ]
}