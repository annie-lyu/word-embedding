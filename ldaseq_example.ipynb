{
  "nbformat": 4,
  "nbformat_minor": 0,
  "metadata": {
    "colab": {
      "name": "ldaseq-example.ipynb",
      "provenance": [],
      "authorship_tag": "ABX9TyPqMoInWLF+ZoADO73jPnCh",
      "include_colab_link": true
    },
    "kernelspec": {
      "name": "python3",
      "display_name": "Python 3"
    }
  },
  "cells": [
    {
      "cell_type": "markdown",
      "metadata": {
        "id": "view-in-github",
        "colab_type": "text"
      },
      "source": [
        "<a href=\"https://colab.research.google.com/github/annie-lyu/word-embedding/blob/master/ldaseq_example.ipynb\" target=\"_parent\"><img src=\"https://colab.research.google.com/assets/colab-badge.svg\" alt=\"Open In Colab\"/></a>"
      ]
    },
    {
      "cell_type": "code",
      "metadata": {
        "id": "TKvcJ67COb5A",
        "colab_type": "code",
        "colab": {}
      },
      "source": [
        "from gensim.models import ldaseqmodel\n",
        "from gensim.corpora import Dictionary, bleicorpus\n",
        "import numpy\n",
        "from gensim.matutils import hellinger\n",
        "import nltk\n"
      ],
      "execution_count": 49,
      "outputs": []
    },
    {
      "cell_type": "code",
      "metadata": {
        "id": "65nEa0dWOwv1",
        "colab_type": "code",
        "colab": {
          "base_uri": "https://localhost:8080/",
          "height": 71
        },
        "outputId": "2136aea1-a23b-40a6-fc16-f6632ee284d1"
      },
      "source": [
        "import glob\n",
        "from google.colab import drive\n",
        "drive.mount('/content/drive')\n",
        "##folder lists\n",
        "ls = !ls \"/content/drive/My Drive/words/sample\"\n",
        "ls = str(ls).strip(\"'[\")\n",
        "ls = ls.strip(\"]'\")\n",
        "entries = ls.split(\"\\\\t\")\n",
        "entries"
      ],
      "execution_count": 81,
      "outputs": [
        {
          "output_type": "stream",
          "text": [
            "Drive already mounted at /content/drive; to attempt to forcibly remount, call drive.mount(\"/content/drive\", force_remount=True).\n"
          ],
          "name": "stdout"
        },
        {
          "output_type": "execute_result",
          "data": {
            "text/plain": [
              "['month1', 'month2', 'month3']"
            ]
          },
          "metadata": {
            "tags": []
          },
          "execution_count": 81
        }
      ]
    },
    {
      "cell_type": "code",
      "metadata": {
        "id": "mVSyq6jyNpzP",
        "colab_type": "code",
        "colab": {
          "base_uri": "https://localhost:8080/",
          "height": 51
        },
        "outputId": "3ce5971e-c65c-4be5-8dbb-7e875ecdb52f"
      },
      "source": [
        "## preparation for text preprocessing\n",
        "nltk.download('stopwords')\n",
        "stop_words = set(stopwords.words('english'))\n",
        "from nltk.stem import PorterStemmer\n",
        "ps = PorterStemmer()"
      ],
      "execution_count": 91,
      "outputs": [
        {
          "output_type": "stream",
          "text": [
            "[nltk_data] Downloading package stopwords to /root/nltk_data...\n",
            "[nltk_data]   Package stopwords is already up-to-date!\n"
          ],
          "name": "stdout"
        }
      ]
    },
    {
      "cell_type": "code",
      "metadata": {
        "id": "GkOPo5QszYab",
        "colab_type": "code",
        "colab": {
          "base_uri": "https://localhost:8080/",
          "height": 34
        },
        "outputId": "fac41fbe-0891-4e69-9dc3-81fedc71f468"
      },
      "source": [
        "#loading corpus and preprocessing\n",
        "corpus_list= []\n",
        "for entry in entries:\n",
        "    filepath = \"/\".join([\"/content/drive/My Drive/words/sample\", entry, \"*.txt\"])\n",
        "    data_files = glob.glob(filepath)\n",
        "    for data_file in data_files:\n",
        "      text = open(data_file,'r').read().lower()\n",
        "      filtered = [word for word in text.split() if not word in stop_words] ##revome stop words\n",
        "      corpus = [ps.stem(word) for word in filtered] ##stem the word\n",
        "      corpus_list += [corpus]\n",
        "len(corpus_list)\n",
        "\n",
        "\n",
        "\n"
      ],
      "execution_count": 96,
      "outputs": [
        {
          "output_type": "execute_result",
          "data": {
            "text/plain": [
              "1323"
            ]
          },
          "metadata": {
            "tags": []
          },
          "execution_count": 96
        }
      ]
    },
    {
      "cell_type": "code",
      "metadata": {
        "id": "9bnra6S4NoDJ",
        "colab_type": "code",
        "colab": {
          "base_uri": "https://localhost:8080/",
          "height": 1000
        },
        "outputId": "360e20ee-4bad-47e8-9fdf-cd4c1945b6b8"
      },
      "source": [
        "## create dictionary for distinct words\n"
      ],
      "execution_count": 97,
      "outputs": [
        {
          "output_type": "execute_result",
          "data": {
            "text/plain": [
              "['pernod',\n",
              " 'takeov',\n",
              " 'talk',\n",
              " 'lift',\n",
              " 'domecq',\n",
              " 'share',\n",
              " 'uk',\n",
              " 'drink',\n",
              " 'food',\n",
              " 'firm',\n",
              " 'alli',\n",
              " 'domecq',\n",
              " 'risen',\n",
              " 'specul',\n",
              " 'could',\n",
              " 'target',\n",
              " 'takeov',\n",
              " \"france'\",\n",
              " 'pernod',\n",
              " 'ricard.',\n",
              " 'report',\n",
              " 'wall',\n",
              " 'street',\n",
              " 'journal',\n",
              " 'financi',\n",
              " 'time',\n",
              " 'suggest',\n",
              " 'french',\n",
              " 'spirit',\n",
              " 'firm',\n",
              " 'consid',\n",
              " 'bid,',\n",
              " 'yet',\n",
              " 'contact',\n",
              " 'target.',\n",
              " 'alli',\n",
              " 'domecq',\n",
              " 'share',\n",
              " 'london',\n",
              " 'rose',\n",
              " '4%',\n",
              " '1200',\n",
              " 'gmt,',\n",
              " 'pernod',\n",
              " 'share',\n",
              " 'pari',\n",
              " 'slip',\n",
              " '1.2%.',\n",
              " 'pernod',\n",
              " 'said',\n",
              " 'seek',\n",
              " 'acquisit',\n",
              " 'refus',\n",
              " 'comment',\n",
              " 'specifics.',\n",
              " \"pernod'\",\n",
              " 'last',\n",
              " 'major',\n",
              " 'purchas',\n",
              " 'third',\n",
              " 'us',\n",
              " 'giant',\n",
              " 'seagram',\n",
              " '2000,',\n",
              " 'move',\n",
              " 'propel',\n",
              " 'global',\n",
              " 'top',\n",
              " 'three',\n",
              " 'drink',\n",
              " 'firms.',\n",
              " 'two-third',\n",
              " 'seagram',\n",
              " 'bought',\n",
              " 'market',\n",
              " 'leader',\n",
              " 'diageo.',\n",
              " 'term',\n",
              " 'market',\n",
              " 'value,',\n",
              " 'pernod',\n",
              " '-',\n",
              " '7.5bn',\n",
              " 'euro',\n",
              " '($9.7bn)',\n",
              " '-',\n",
              " '9%',\n",
              " 'smaller',\n",
              " 'alli',\n",
              " 'domecq,',\n",
              " 'capitalis',\n",
              " '£5.7bn',\n",
              " '($10.7bn;',\n",
              " '8.2bn',\n",
              " 'euros).',\n",
              " 'last',\n",
              " 'year',\n",
              " 'pernod',\n",
              " 'tri',\n",
              " 'buy',\n",
              " 'glenmorangie,',\n",
              " 'one',\n",
              " \"scotland'\",\n",
              " 'premier',\n",
              " 'whiski',\n",
              " 'firms,',\n",
              " 'lost',\n",
              " 'luxuri',\n",
              " 'good',\n",
              " 'firm',\n",
              " 'lvmh.',\n",
              " 'pernod',\n",
              " 'home',\n",
              " 'brand',\n",
              " 'includ',\n",
              " 'chiva',\n",
              " 'regal',\n",
              " 'scotch',\n",
              " 'whisky,',\n",
              " 'havana',\n",
              " 'club',\n",
              " 'rum',\n",
              " \"jacob'\",\n",
              " 'creek',\n",
              " 'wine.',\n",
              " 'alli',\n",
              " \"domecq'\",\n",
              " 'big',\n",
              " 'name',\n",
              " 'includ',\n",
              " 'malibu',\n",
              " 'rum,',\n",
              " 'courvoisi',\n",
              " 'brandy,',\n",
              " 'stolichnaya',\n",
              " 'vodka',\n",
              " \"ballantine'\",\n",
              " 'whiski',\n",
              " '-',\n",
              " 'well',\n",
              " 'snack',\n",
              " 'food',\n",
              " 'chain',\n",
              " \"dunkin'\",\n",
              " 'donut',\n",
              " 'baskin-robbin',\n",
              " 'ice',\n",
              " 'cream.',\n",
              " 'wsj',\n",
              " 'said',\n",
              " 'two',\n",
              " 'ripe',\n",
              " 'consolidation,',\n",
              " 'dealt',\n",
              " 'problemat',\n",
              " 'part',\n",
              " 'portfolio.',\n",
              " 'pernod',\n",
              " 'reduc',\n",
              " 'debt',\n",
              " 'took',\n",
              " 'fund',\n",
              " 'seagram',\n",
              " 'purchas',\n",
              " '1.8bn',\n",
              " 'euros,',\n",
              " 'alli',\n",
              " 'improv',\n",
              " 'perform',\n",
              " 'fast-food',\n",
              " 'chains.']"
            ]
          },
          "metadata": {
            "tags": []
          },
          "execution_count": 97
        }
      ]
    },
    {
      "cell_type": "code",
      "metadata": {
        "id": "D23qtdyL4nBg",
        "colab_type": "code",
        "colab": {
          "base_uri": "https://localhost:8080/",
          "height": 51
        },
        "outputId": "6608e4a0-244f-4210-d457-25dc908167ab"
      },
      "source": [
        "\n"
      ],
      "execution_count": 55,
      "outputs": [
        {
          "output_type": "execute_result",
          "data": {
            "text/plain": [
              "[['Books', 'are', 'on', 'the', 'table.'],\n",
              " ['Machine', 'Learning', 'is', 'cool!']]"
            ]
          },
          "metadata": {
            "tags": []
          },
          "execution_count": 55
        }
      ]
    },
    {
      "cell_type": "code",
      "metadata": {
        "id": "4YolsXo6HdUT",
        "colab_type": "code",
        "colab": {
          "base_uri": "https://localhost:8080/",
          "height": 34
        },
        "outputId": "f49f7bc8-1b53-4924-a0fc-b766362cced2"
      },
      "source": [
        "\n"
      ],
      "execution_count": 86,
      "outputs": [
        {
          "output_type": "execute_result",
          "data": {
            "text/plain": [
              "312228"
            ]
          },
          "metadata": {
            "tags": []
          },
          "execution_count": 86
        }
      ]
    },
    {
      "cell_type": "code",
      "metadata": {
        "id": "wBoT5odc3xGy",
        "colab_type": "code",
        "colab": {
          "base_uri": "https://localhost:8080/",
          "height": 1000
        },
        "outputId": "93a059f9-38ca-48da-d489-a0625a7f0438"
      },
      "source": [
        "data_file = \"/content/drive/My Drive/words/sample/month1/business002.txt\"\n",
        "text = open(data_file,'r').read().lower()\n",
        "f =  [word for word in text.split() if not word in stop_words]\n",
        "s = [ps.stem(word) for word in f ]\n",
        "s\n",
        "\n"
      ],
      "execution_count": 94,
      "outputs": [
        {
          "output_type": "execute_result",
          "data": {
            "text/plain": [
              "['dollar',\n",
              " 'gain',\n",
              " 'greenspan',\n",
              " 'speech',\n",
              " 'dollar',\n",
              " 'hit',\n",
              " 'highest',\n",
              " 'level',\n",
              " 'euro',\n",
              " 'almost',\n",
              " 'three',\n",
              " 'month',\n",
              " 'feder',\n",
              " 'reserv',\n",
              " 'head',\n",
              " 'said',\n",
              " 'us',\n",
              " 'trade',\n",
              " 'deficit',\n",
              " 'set',\n",
              " 'stabilise.',\n",
              " 'alan',\n",
              " 'greenspan',\n",
              " 'highlight',\n",
              " 'us',\n",
              " \"government'\",\n",
              " 'willing',\n",
              " 'curb',\n",
              " 'spend',\n",
              " 'rise',\n",
              " 'household',\n",
              " 'save',\n",
              " 'factor',\n",
              " 'may',\n",
              " 'help',\n",
              " 'reduc',\n",
              " 'it.',\n",
              " 'late',\n",
              " 'trade',\n",
              " 'new',\n",
              " 'york,',\n",
              " 'dollar',\n",
              " 'reach',\n",
              " '$1.2871',\n",
              " 'euro,',\n",
              " '$1.2974',\n",
              " 'thursday.',\n",
              " 'market',\n",
              " 'concern',\n",
              " 'deficit',\n",
              " 'hit',\n",
              " 'greenback',\n",
              " 'recent',\n",
              " 'months.',\n",
              " 'friday,',\n",
              " 'feder',\n",
              " 'reserv',\n",
              " 'chairman',\n",
              " 'mr',\n",
              " \"greenspan'\",\n",
              " 'speech',\n",
              " 'london',\n",
              " 'ahead',\n",
              " 'meet',\n",
              " 'g7',\n",
              " 'financ',\n",
              " 'minist',\n",
              " 'sent',\n",
              " 'dollar',\n",
              " 'higher',\n",
              " 'earlier',\n",
              " 'tumbl',\n",
              " 'back',\n",
              " 'worse-than-expect',\n",
              " 'us',\n",
              " 'job',\n",
              " 'data.',\n",
              " '\"i',\n",
              " 'think',\n",
              " \"chairman'\",\n",
              " 'take',\n",
              " 'much',\n",
              " 'sanguin',\n",
              " 'view',\n",
              " 'current',\n",
              " 'account',\n",
              " 'deficit',\n",
              " \"he'\",\n",
              " 'taken',\n",
              " 'time,\"',\n",
              " 'said',\n",
              " 'robert',\n",
              " 'sinche,',\n",
              " 'head',\n",
              " 'currenc',\n",
              " 'strategi',\n",
              " 'bank',\n",
              " 'america',\n",
              " 'new',\n",
              " 'york.',\n",
              " '\"he\\'',\n",
              " 'take',\n",
              " 'longer-term',\n",
              " 'view,',\n",
              " 'lay',\n",
              " 'set',\n",
              " 'condit',\n",
              " 'current',\n",
              " 'account',\n",
              " 'deficit',\n",
              " 'improv',\n",
              " 'year',\n",
              " 'next.\"',\n",
              " 'worri',\n",
              " 'deficit',\n",
              " 'concern',\n",
              " 'china',\n",
              " 'do,',\n",
              " 'however,',\n",
              " 'remain.',\n",
              " \"china'\",\n",
              " 'currenc',\n",
              " 'remain',\n",
              " 'peg',\n",
              " 'dollar',\n",
              " 'us',\n",
              " \"currency'\",\n",
              " 'sharp',\n",
              " 'fall',\n",
              " 'recent',\n",
              " 'month',\n",
              " 'therefor',\n",
              " 'made',\n",
              " 'chines',\n",
              " 'export',\n",
              " 'price',\n",
              " 'highli',\n",
              " 'competitive.',\n",
              " 'call',\n",
              " 'shift',\n",
              " \"beijing'\",\n",
              " 'polici',\n",
              " 'fallen',\n",
              " 'deaf',\n",
              " 'ears,',\n",
              " 'despit',\n",
              " 'recent',\n",
              " 'comment',\n",
              " 'major',\n",
              " 'chines',\n",
              " 'newspap',\n",
              " '\"time',\n",
              " 'ripe\"',\n",
              " 'loosen',\n",
              " 'peg.',\n",
              " 'g7',\n",
              " 'meet',\n",
              " 'thought',\n",
              " 'unlik',\n",
              " 'produc',\n",
              " 'meaning',\n",
              " 'movement',\n",
              " 'chines',\n",
              " 'policy.',\n",
              " 'meantime,',\n",
              " 'us',\n",
              " 'feder',\n",
              " \"reserve'\",\n",
              " 'decis',\n",
              " '2',\n",
              " 'februari',\n",
              " 'boost',\n",
              " 'interest',\n",
              " 'rate',\n",
              " 'quarter',\n",
              " 'point',\n",
              " '-',\n",
              " 'sixth',\n",
              " 'move',\n",
              " 'mani',\n",
              " 'month',\n",
              " '-',\n",
              " 'open',\n",
              " 'differenti',\n",
              " 'european',\n",
              " 'rates.',\n",
              " 'half-point',\n",
              " 'window,',\n",
              " 'believe,',\n",
              " 'could',\n",
              " 'enough',\n",
              " 'keep',\n",
              " 'us',\n",
              " 'asset',\n",
              " 'look',\n",
              " 'attractive,',\n",
              " 'could',\n",
              " 'help',\n",
              " 'prop',\n",
              " 'dollar.',\n",
              " 'recent',\n",
              " 'fall',\n",
              " 'partli',\n",
              " 'result',\n",
              " 'big',\n",
              " 'budget',\n",
              " 'deficits,',\n",
              " 'well',\n",
              " \"us'\",\n",
              " 'yawn',\n",
              " 'current',\n",
              " 'account',\n",
              " 'gap,',\n",
              " 'need',\n",
              " 'fund',\n",
              " 'buy',\n",
              " 'us',\n",
              " 'bond',\n",
              " 'asset',\n",
              " 'foreign',\n",
              " 'firm',\n",
              " 'governments.',\n",
              " 'white',\n",
              " 'hous',\n",
              " 'announc',\n",
              " 'budget',\n",
              " 'monday,',\n",
              " 'mani',\n",
              " 'comment',\n",
              " 'believ',\n",
              " 'deficit',\n",
              " 'remain',\n",
              " 'close',\n",
              " 'half',\n",
              " 'trillion',\n",
              " 'dollars.']"
            ]
          },
          "metadata": {
            "tags": []
          },
          "execution_count": 94
        }
      ]
    },
    {
      "cell_type": "code",
      "metadata": {
        "id": "ifjJSW042MpK",
        "colab_type": "code",
        "colab": {}
      },
      "source": [
        ""
      ],
      "execution_count": null,
      "outputs": []
    }
  ]
}