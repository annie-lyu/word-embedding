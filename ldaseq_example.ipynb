{
  "nbformat": 4,
  "nbformat_minor": 0,
  "metadata": {
    "colab": {
      "name": "ldaseq-example.ipynb",
      "provenance": [],
      "authorship_tag": "ABX9TyN/0pWMfmfQN89nA3zfGwAq",
      "include_colab_link": true
    },
    "kernelspec": {
      "name": "python3",
      "display_name": "Python 3"
    }
  },
  "cells": [
    {
      "cell_type": "markdown",
      "metadata": {
        "id": "view-in-github",
        "colab_type": "text"
      },
      "source": [
        "<a href=\"https://colab.research.google.com/github/annie-lyu/word-embedding/blob/master/ldaseq_example.ipynb\" target=\"_parent\"><img src=\"https://colab.research.google.com/assets/colab-badge.svg\" alt=\"Open In Colab\"/></a>"
      ]
    },
    {
      "cell_type": "code",
      "metadata": {
        "id": "TKvcJ67COb5A",
        "colab_type": "code",
        "colab": {}
      },
      "source": [
        "from gensim import corpora\n",
        "from gensim.models import ldaseqmodel\n",
        "from gensim.corpora import Dictionary, bleicorpus\n",
        "import numpy\n",
        "from gensim.matutils import hellinger\n",
        "import nltk\n"
      ],
      "execution_count": 10,
      "outputs": []
    },
    {
      "cell_type": "code",
      "metadata": {
        "id": "65nEa0dWOwv1",
        "colab_type": "code",
        "colab": {
          "base_uri": "https://localhost:8080/",
          "height": 51
        },
        "outputId": "eed0175e-5d02-45bf-f458-a45b98406dfe"
      },
      "source": [
        "import glob\n",
        "from google.colab import drive\n",
        "drive.mount('/content/drive')\n",
        "##folder lists\n",
        "ls = !ls \"/content/drive/My Drive/words/sample\"\n",
        "ls = str(ls).strip(\"'[\")\n",
        "ls = ls.strip(\"]'\")\n",
        "entries = ls.split(\"\\\\t\")\n",
        "entries"
      ],
      "execution_count": 11,
      "outputs": [
        {
          "output_type": "stream",
          "text": [
            "Drive already mounted at /content/drive; to attempt to forcibly remount, call drive.mount(\"/content/drive\", force_remount=True).\n"
          ],
          "name": "stdout"
        },
        {
          "output_type": "execute_result",
          "data": {
            "text/plain": [
              "['month1', 'month2', 'month3']"
            ]
          },
          "metadata": {
            "tags": []
          },
          "execution_count": 11
        }
      ]
    },
    {
      "cell_type": "code",
      "metadata": {
        "id": "mVSyq6jyNpzP",
        "colab_type": "code",
        "colab": {}
      },
      "source": [
        "## preparation for text preprocessing\n",
        "from nltk.corpus import stopwords\n",
        "stop_words = set(stopwords.words('english'))\n",
        "from nltk.stem import PorterStemmer\n",
        "ps = PorterStemmer()"
      ],
      "execution_count": 12,
      "outputs": []
    },
    {
      "cell_type": "code",
      "metadata": {
        "id": "GkOPo5QszYab",
        "colab_type": "code",
        "colab": {
          "base_uri": "https://localhost:8080/",
          "height": 34
        },
        "outputId": "6f363724-8d22-4fd5-d0bc-4b2988bf2ddf"
      },
      "source": [
        "#loading corpus and preprocessing\n",
        "corpus_list= []\n",
        "for entry in entries:\n",
        "    filepath = \"/\".join([\"/content/drive/My Drive/words/sample\", entry, \"*.txt\"])\n",
        "    data_files = glob.glob(filepath)\n",
        "    for data_file in data_files:\n",
        "      text = open(data_file,'r').read().lower()\n",
        "      corpus = [word for word in text.split() if not word in stop_words] ##revome stop words \n",
        "      corpus_list += [corpus]\n",
        "len(corpus_list)\n",
        "\n",
        "\n",
        "\n"
      ],
      "execution_count": 13,
      "outputs": [
        {
          "output_type": "execute_result",
          "data": {
            "text/plain": [
              "1323"
            ]
          },
          "metadata": {
            "tags": []
          },
          "execution_count": 13
        }
      ]
    },
    {
      "cell_type": "code",
      "metadata": {
        "id": "u-94iW0877qg",
        "colab_type": "code",
        "colab": {}
      },
      "source": [
        "#3 Merge corpus into one document\n",
        "with open(\"/content/drive/My Drive/words/sample/BleiCorpus.txt\", 'w') as File:\n",
        "  for corpus in corpus_list:\n",
        "    File.write(\" \".join(corpus)+ \"\\n\" )"
      ],
      "execution_count": 14,
      "outputs": []
    },
    {
      "cell_type": "code",
      "metadata": {
        "id": "9bnra6S4NoDJ",
        "colab_type": "code",
        "colab": {
          "base_uri": "https://localhost:8080/",
          "height": 71
        },
        "outputId": "2886c85b-5125-4f59-a2ce-7d3aed6b9214"
      },
      "source": [
        "## establish dictionary \n",
        "dictionary = corpora.Dictionary(corpus_list)\n",
        "dictionary.save(\"/content/drive/My Drive/words/sample/word_dictionary\")\n",
        "\n",
        "## create vocabulary file\n",
        "class MyCorpus(object):\n",
        "    def __iter__(self):\n",
        "        for line in open(\"/content/drive/My Drive/words/sample/BleiCorpus.txt\"):\n",
        "            yield dictionary.doc2bow(line.lower().split())\n",
        "\n",
        "corpus_memory_friendly = MyCorpus()\n",
        "corpus = [vector for vector in corpus_memory_friendly]\n",
        "corpora.BleiCorpus.serialize('/content/drive/My Drive/words/sample/news_corpus', corpus)"
      ],
      "execution_count": 15,
      "outputs": [
        {
          "output_type": "stream",
          "text": [
            "/usr/local/lib/python3.6/dist-packages/smart_open/smart_open_lib.py:254: UserWarning: This function is deprecated, use smart_open.open instead. See the migration notes for details: https://github.com/RaRe-Technologies/smart_open/blob/master/README.rst#migrating-to-the-new-open-function\n",
            "  'See the migration notes for details: %s' % _MIGRATION_NOTES_URL\n"
          ],
          "name": "stderr"
        }
      ]
    },
    {
      "cell_type": "code",
      "metadata": {
        "id": "D23qtdyL4nBg",
        "colab_type": "code",
        "colab": {
          "base_uri": "https://localhost:8080/",
          "height": 71
        },
        "outputId": "acdddbba-3e63-48e3-9689-54de06430d4a"
      },
      "source": [
        "## loading and setting\n",
        "try:\n",
        "  dictionary = Dictionary.load(\"/content/drive/My Drive/words/sample/word_dictionary\")\n",
        "except FileNotFoundError as e:\n",
        "  raise ValueError(\"SKIP: Please download the Corpus/news_dictionary dataset.\")\n",
        "\n",
        "corpus = bleicorpus.BleiCorpus(\"/content/drive/My Drive/words/sample/news_corpus\")\n",
        "\n",
        "time_slice = [438, 429, 456]\n"
      ],
      "execution_count": 16,
      "outputs": [
        {
          "output_type": "stream",
          "text": [
            "/usr/local/lib/python3.6/dist-packages/smart_open/smart_open_lib.py:254: UserWarning: This function is deprecated, use smart_open.open instead. See the migration notes for details: https://github.com/RaRe-Technologies/smart_open/blob/master/README.rst#migrating-to-the-new-open-function\n",
            "  'See the migration notes for details: %s' % _MIGRATION_NOTES_URL\n"
          ],
          "name": "stderr"
        }
      ]
    },
    {
      "cell_type": "code",
      "metadata": {
        "id": "4YolsXo6HdUT",
        "colab_type": "code",
        "colab": {
          "base_uri": "https://localhost:8080/",
          "height": 34
        },
        "outputId": "f49f7bc8-1b53-4924-a0fc-b766362cced2"
      },
      "source": [
        "ldaseq = ldaseqmodel.LdaSeqModel(corpus=corpus, id2word=dictionary, time_slice=time_slice, num_topics=5)"
      ],
      "execution_count": null,
      "outputs": [
        {
          "output_type": "execute_result",
          "data": {
            "text/plain": [
              "312228"
            ]
          },
          "metadata": {
            "tags": []
          },
          "execution_count": 86
        }
      ]
    },
    {
      "cell_type": "code",
      "metadata": {
        "id": "ifjJSW042MpK",
        "colab_type": "code",
        "colab": {}
      },
      "source": [
        ""
      ],
      "execution_count": null,
      "outputs": []
    }
  ]
}