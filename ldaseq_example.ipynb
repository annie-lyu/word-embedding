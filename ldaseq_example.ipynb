{
  "nbformat": 4,
  "nbformat_minor": 0,
  "metadata": {
    "colab": {
      "name": "ldaseq-example.ipynb",
      "provenance": [],
      "authorship_tag": "ABX9TyNbQpoDNYzlt2cw78xK+KBf",
      "include_colab_link": true
    },
    "kernelspec": {
      "name": "python3",
      "display_name": "Python 3"
    }
  },
  "cells": [
    {
      "cell_type": "markdown",
      "metadata": {
        "id": "view-in-github",
        "colab_type": "text"
      },
      "source": [
        "<a href=\"https://colab.research.google.com/github/annie-lyu/word-embedding/blob/master/ldaseq_example.ipynb\" target=\"_parent\"><img src=\"https://colab.research.google.com/assets/colab-badge.svg\" alt=\"Open In Colab\"/></a>"
      ]
    },
    {
      "cell_type": "code",
      "metadata": {
        "id": "TKvcJ67COb5A",
        "colab_type": "code",
        "colab": {}
      },
      "source": [
        "from gensim import corpora\n",
        "from gensim.models import ldaseqmodel\n",
        "from gensim.corpora import Dictionary, bleicorpus\n",
        "import numpy\n",
        "from gensim.matutils import hellinger\n",
        "import nltk\n"
      ],
      "execution_count": 74,
      "outputs": []
    },
    {
      "cell_type": "code",
      "metadata": {
        "id": "65nEa0dWOwv1",
        "colab_type": "code",
        "colab": {
          "base_uri": "https://localhost:8080/",
          "height": 139
        },
        "outputId": "ee2558bc-cc9a-4a58-8fb2-39c6c71808cc"
      },
      "source": [
        "import glob\n",
        "from google.colab import drive\n",
        "drive.mount('/content/drive')\n",
        "##folder lists\n",
        "ls = !ls \"/content/drive/My Drive/words/sample\"\n",
        "ls = str(ls).strip(\"'[\")\n",
        "ls = ls.strip(\"]'\")\n",
        "entries = ls.split(\"\\\\t\")\n",
        "entries"
      ],
      "execution_count": 2,
      "outputs": [
        {
          "output_type": "stream",
          "text": [
            "Go to this URL in a browser: https://accounts.google.com/o/oauth2/auth?client_id=947318989803-6bn6qk8qdgf4n4g3pfee6491hc0brc4i.apps.googleusercontent.com&redirect_uri=urn%3aietf%3awg%3aoauth%3a2.0%3aoob&response_type=code&scope=email%20https%3a%2f%2fwww.googleapis.com%2fauth%2fdocs.test%20https%3a%2f%2fwww.googleapis.com%2fauth%2fdrive%20https%3a%2f%2fwww.googleapis.com%2fauth%2fdrive.photos.readonly%20https%3a%2f%2fwww.googleapis.com%2fauth%2fpeopleapi.readonly\n",
            "\n",
            "Enter your authorization code:\n",
            "··········\n",
            "Mounted at /content/drive\n"
          ],
          "name": "stdout"
        },
        {
          "output_type": "execute_result",
          "data": {
            "text/plain": [
              "['month1', 'month2', 'month3']"
            ]
          },
          "metadata": {
            "tags": []
          },
          "execution_count": 2
        }
      ]
    },
    {
      "cell_type": "code",
      "metadata": {
        "id": "mVSyq6jyNpzP",
        "colab_type": "code",
        "colab": {}
      },
      "source": [
        "## preparation for text preprocessing\n",
        "from nltk.corpus import stopwords\n",
        "stop_words = set(stopwords.words('english'))\n",
        "from nltk.stem import PorterStemmer\n",
        "ps = PorterStemmer()"
      ],
      "execution_count": 4,
      "outputs": []
    },
    {
      "cell_type": "code",
      "metadata": {
        "id": "GkOPo5QszYab",
        "colab_type": "code",
        "colab": {
          "base_uri": "https://localhost:8080/",
          "height": 34
        },
        "outputId": "b4904bda-a0e3-4217-f640-61d3f063a5e7"
      },
      "source": [
        "#loading corpus and preprocessing\n",
        "corpus_list= []\n",
        "for entry in entries:\n",
        "    filepath = \"/\".join([\"/content/drive/My Drive/words/sample\", entry, \"*.txt\"])\n",
        "    data_files = glob.glob(filepath)\n",
        "    for data_file in data_files:\n",
        "      text = open(data_file,'r').read().lower()\n",
        "      filtered = [word for word in text.split() if not word in stop_words] ##revome stop words \n",
        "      corpus_list += [corpus]\n",
        "len(corpus_list)\n",
        "\n",
        "\n",
        "\n"
      ],
      "execution_count": 69,
      "outputs": [
        {
          "output_type": "execute_result",
          "data": {
            "text/plain": [
              "1323"
            ]
          },
          "metadata": {
            "tags": []
          },
          "execution_count": 69
        }
      ]
    },
    {
      "cell_type": "code",
      "metadata": {
        "id": "u-94iW0877qg",
        "colab_type": "code",
        "colab": {}
      },
      "source": [
        "#3 Merge corpus into one document\n",
        "with open(\"/content/drive/My Drive/words/sample/BleiCorpus.txt\", 'w') as File:\n",
        "  for corpus in corpus_list:\n",
        "    File.write(\" \".join(corpus)+ \"\\n\" )"
      ],
      "execution_count": 83,
      "outputs": []
    },
    {
      "cell_type": "code",
      "metadata": {
        "id": "9bnra6S4NoDJ",
        "colab_type": "code",
        "colab": {
          "base_uri": "https://localhost:8080/",
          "height": 71
        },
        "outputId": "fd6f3968-831a-4f76-ac51-b051c635b46a"
      },
      "source": [
        "## establish dictionary \n",
        "dictionary = corpora.Dictionary(corpus_list)\n",
        "dictionary.save(\"/content/drive/My Drive/words/sample/word_dictionary\")\n",
        "\n",
        "## create vocabulary file\n",
        "class MyCorpus(object):\n",
        "    def __iter__(self):\n",
        "        for line in open(\"/content/drive/My Drive/words/sample/BleiCorpus.txt\"):\n",
        "            yield dictionary.doc2bow(line.lower().split())\n",
        "\n",
        "corpus_memory_friendly = MyCorpus()\n",
        "corpus = [vector for vector in corpus_memory_friendly]\n",
        "corpora.BleiCorpus.serialize('/content/drive/My Drive/words/sample/news_corpus', corpus)"
      ],
      "execution_count": 89,
      "outputs": [
        {
          "output_type": "stream",
          "text": [
            "/usr/local/lib/python3.6/dist-packages/smart_open/smart_open_lib.py:254: UserWarning: This function is deprecated, use smart_open.open instead. See the migration notes for details: https://github.com/RaRe-Technologies/smart_open/blob/master/README.rst#migrating-to-the-new-open-function\n",
            "  'See the migration notes for details: %s' % _MIGRATION_NOTES_URL\n"
          ],
          "name": "stderr"
        }
      ]
    },
    {
      "cell_type": "code",
      "metadata": {
        "id": "D23qtdyL4nBg",
        "colab_type": "code",
        "colab": {
          "base_uri": "https://localhost:8080/",
          "height": 71
        },
        "outputId": "ca85597b-e3b6-4e39-8a08-fb40c3c6b53f"
      },
      "source": [
        "## loading and setting\n",
        "try:\n",
        "  dictionary = Dictionary.load(\"/content/drive/My Drive/words/sample/word_dictionary\")\n",
        "except FileNotFoundError as e:\n",
        "  raise ValueError(\"SKIP: Please download the Corpus/news_dictionary dataset.\")\n",
        "\n",
        "corpus = bleicorpus.BleiCorpus(\"/content/drive/My Drive/words/sample/news_corpus\")\n",
        "\n",
        "time_slice = [438, 429, 456]\n"
      ],
      "execution_count": 90,
      "outputs": [
        {
          "output_type": "stream",
          "text": [
            "/usr/local/lib/python3.6/dist-packages/smart_open/smart_open_lib.py:254: UserWarning: This function is deprecated, use smart_open.open instead. See the migration notes for details: https://github.com/RaRe-Technologies/smart_open/blob/master/README.rst#migrating-to-the-new-open-function\n",
            "  'See the migration notes for details: %s' % _MIGRATION_NOTES_URL\n"
          ],
          "name": "stderr"
        }
      ]
    },
    {
      "cell_type": "code",
      "metadata": {
        "id": "4YolsXo6HdUT",
        "colab_type": "code",
        "colab": {
          "base_uri": "https://localhost:8080/",
          "height": 34
        },
        "outputId": "f49f7bc8-1b53-4924-a0fc-b766362cced2"
      },
      "source": [
        ""
      ],
      "execution_count": null,
      "outputs": [
        {
          "output_type": "execute_result",
          "data": {
            "text/plain": [
              "312228"
            ]
          },
          "metadata": {
            "tags": []
          },
          "execution_count": 86
        }
      ]
    },
    {
      "cell_type": "code",
      "metadata": {
        "id": "wBoT5odc3xGy",
        "colab_type": "code",
        "colab": {
          "base_uri": "https://localhost:8080/",
          "height": 1000
        },
        "outputId": "93a059f9-38ca-48da-d489-a0625a7f0438"
      },
      "source": [
        "data_file = \"/content/drive/My Drive/words/sample/month1/business002.txt\"\n",
        "text = open(data_file,'r').read().lower()\n",
        "f =  [word for word in text.split() if not word in stop_words]\n",
        "s = [ps.stem(word) for word in f ]\n",
        "s\n",
        "\n"
      ],
      "execution_count": null,
      "outputs": [
        {
          "output_type": "execute_result",
          "data": {
            "text/plain": [
              "['dollar',\n",
              " 'gain',\n",
              " 'greenspan',\n",
              " 'speech',\n",
              " 'dollar',\n",
              " 'hit',\n",
              " 'highest',\n",
              " 'level',\n",
              " 'euro',\n",
              " 'almost',\n",
              " 'three',\n",
              " 'month',\n",
              " 'feder',\n",
              " 'reserv',\n",
              " 'head',\n",
              " 'said',\n",
              " 'us',\n",
              " 'trade',\n",
              " 'deficit',\n",
              " 'set',\n",
              " 'stabilise.',\n",
              " 'alan',\n",
              " 'greenspan',\n",
              " 'highlight',\n",
              " 'us',\n",
              " \"government'\",\n",
              " 'willing',\n",
              " 'curb',\n",
              " 'spend',\n",
              " 'rise',\n",
              " 'household',\n",
              " 'save',\n",
              " 'factor',\n",
              " 'may',\n",
              " 'help',\n",
              " 'reduc',\n",
              " 'it.',\n",
              " 'late',\n",
              " 'trade',\n",
              " 'new',\n",
              " 'york,',\n",
              " 'dollar',\n",
              " 'reach',\n",
              " '$1.2871',\n",
              " 'euro,',\n",
              " '$1.2974',\n",
              " 'thursday.',\n",
              " 'market',\n",
              " 'concern',\n",
              " 'deficit',\n",
              " 'hit',\n",
              " 'greenback',\n",
              " 'recent',\n",
              " 'months.',\n",
              " 'friday,',\n",
              " 'feder',\n",
              " 'reserv',\n",
              " 'chairman',\n",
              " 'mr',\n",
              " \"greenspan'\",\n",
              " 'speech',\n",
              " 'london',\n",
              " 'ahead',\n",
              " 'meet',\n",
              " 'g7',\n",
              " 'financ',\n",
              " 'minist',\n",
              " 'sent',\n",
              " 'dollar',\n",
              " 'higher',\n",
              " 'earlier',\n",
              " 'tumbl',\n",
              " 'back',\n",
              " 'worse-than-expect',\n",
              " 'us',\n",
              " 'job',\n",
              " 'data.',\n",
              " '\"i',\n",
              " 'think',\n",
              " \"chairman'\",\n",
              " 'take',\n",
              " 'much',\n",
              " 'sanguin',\n",
              " 'view',\n",
              " 'current',\n",
              " 'account',\n",
              " 'deficit',\n",
              " \"he'\",\n",
              " 'taken',\n",
              " 'time,\"',\n",
              " 'said',\n",
              " 'robert',\n",
              " 'sinche,',\n",
              " 'head',\n",
              " 'currenc',\n",
              " 'strategi',\n",
              " 'bank',\n",
              " 'america',\n",
              " 'new',\n",
              " 'york.',\n",
              " '\"he\\'',\n",
              " 'take',\n",
              " 'longer-term',\n",
              " 'view,',\n",
              " 'lay',\n",
              " 'set',\n",
              " 'condit',\n",
              " 'current',\n",
              " 'account',\n",
              " 'deficit',\n",
              " 'improv',\n",
              " 'year',\n",
              " 'next.\"',\n",
              " 'worri',\n",
              " 'deficit',\n",
              " 'concern',\n",
              " 'china',\n",
              " 'do,',\n",
              " 'however,',\n",
              " 'remain.',\n",
              " \"china'\",\n",
              " 'currenc',\n",
              " 'remain',\n",
              " 'peg',\n",
              " 'dollar',\n",
              " 'us',\n",
              " \"currency'\",\n",
              " 'sharp',\n",
              " 'fall',\n",
              " 'recent',\n",
              " 'month',\n",
              " 'therefor',\n",
              " 'made',\n",
              " 'chines',\n",
              " 'export',\n",
              " 'price',\n",
              " 'highli',\n",
              " 'competitive.',\n",
              " 'call',\n",
              " 'shift',\n",
              " \"beijing'\",\n",
              " 'polici',\n",
              " 'fallen',\n",
              " 'deaf',\n",
              " 'ears,',\n",
              " 'despit',\n",
              " 'recent',\n",
              " 'comment',\n",
              " 'major',\n",
              " 'chines',\n",
              " 'newspap',\n",
              " '\"time',\n",
              " 'ripe\"',\n",
              " 'loosen',\n",
              " 'peg.',\n",
              " 'g7',\n",
              " 'meet',\n",
              " 'thought',\n",
              " 'unlik',\n",
              " 'produc',\n",
              " 'meaning',\n",
              " 'movement',\n",
              " 'chines',\n",
              " 'policy.',\n",
              " 'meantime,',\n",
              " 'us',\n",
              " 'feder',\n",
              " \"reserve'\",\n",
              " 'decis',\n",
              " '2',\n",
              " 'februari',\n",
              " 'boost',\n",
              " 'interest',\n",
              " 'rate',\n",
              " 'quarter',\n",
              " 'point',\n",
              " '-',\n",
              " 'sixth',\n",
              " 'move',\n",
              " 'mani',\n",
              " 'month',\n",
              " '-',\n",
              " 'open',\n",
              " 'differenti',\n",
              " 'european',\n",
              " 'rates.',\n",
              " 'half-point',\n",
              " 'window,',\n",
              " 'believe,',\n",
              " 'could',\n",
              " 'enough',\n",
              " 'keep',\n",
              " 'us',\n",
              " 'asset',\n",
              " 'look',\n",
              " 'attractive,',\n",
              " 'could',\n",
              " 'help',\n",
              " 'prop',\n",
              " 'dollar.',\n",
              " 'recent',\n",
              " 'fall',\n",
              " 'partli',\n",
              " 'result',\n",
              " 'big',\n",
              " 'budget',\n",
              " 'deficits,',\n",
              " 'well',\n",
              " \"us'\",\n",
              " 'yawn',\n",
              " 'current',\n",
              " 'account',\n",
              " 'gap,',\n",
              " 'need',\n",
              " 'fund',\n",
              " 'buy',\n",
              " 'us',\n",
              " 'bond',\n",
              " 'asset',\n",
              " 'foreign',\n",
              " 'firm',\n",
              " 'governments.',\n",
              " 'white',\n",
              " 'hous',\n",
              " 'announc',\n",
              " 'budget',\n",
              " 'monday,',\n",
              " 'mani',\n",
              " 'comment',\n",
              " 'believ',\n",
              " 'deficit',\n",
              " 'remain',\n",
              " 'close',\n",
              " 'half',\n",
              " 'trillion',\n",
              " 'dollars.']"
            ]
          },
          "metadata": {
            "tags": []
          },
          "execution_count": 94
        }
      ]
    },
    {
      "cell_type": "code",
      "metadata": {
        "id": "ifjJSW042MpK",
        "colab_type": "code",
        "colab": {}
      },
      "source": [
        ""
      ],
      "execution_count": null,
      "outputs": []
    }
  ]
}